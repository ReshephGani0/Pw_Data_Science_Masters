{
 "cells": [
  {
   "cell_type": "markdown",
   "id": "bd42f79d-a3be-4274-9b52-e8c6afdd9d9f",
   "metadata": {},
   "source": [
    "# Assignment no.1\n",
    "## 29th jan Assignment\n",
    "\n"
   ]
  },
  {
   "cell_type": "code",
   "execution_count": null,
   "id": "161754e5-bafb-4389-80eb-2943550d441a",
   "metadata": {},
   "outputs": [],
   "source": []
  },
  {
   "cell_type": "markdown",
   "id": "2c9cd8ca-5be6-45a7-a6cc-670a004e8b71",
   "metadata": {
    "tags": []
   },
   "source": [
    "##### Question 1) Who developed Python Programming Language?\n",
    "\n",
    "- It was created by Guido van Rossum and first released in the year 1991."
   ]
  },
  {
   "cell_type": "code",
   "execution_count": null,
   "id": "0bf83494-59c0-450e-8e90-5737d938aacd",
   "metadata": {},
   "outputs": [],
   "source": []
  },
  {
   "cell_type": "markdown",
   "id": "8d977ea2-22fb-4148-96e2-dd74725f7df2",
   "metadata": {
    "tags": []
   },
   "source": [
    "##### Question 2) Which type of Progamming does Python support?\n",
    "\n",
    "* Python is an-  \n",
    "> * interpreted, \n",
    "> * object-oriented, \n",
    "> * high-level programming language with dynamic semantics. \n",
    "\n",
    "* Python's simple, easy to learn syntax emphasizes on code readability with the use of whitespaces and therefore reduces the cost of program maintenance.\n",
    "\n",
    "* Python supports modules and packages, which encourages program modularity and code reuse.\n",
    "\n",
    "* Python is a great general-purpose programming language on its own, but with the help of a few popular libraries (numpy, scipy, matplotlib) it becomes a powerful environment for scientific computing."
   ]
  },
  {
   "cell_type": "code",
   "execution_count": null,
   "id": "4ef6cc1f-b32b-4c6c-b993-62126b80f133",
   "metadata": {},
   "outputs": [],
   "source": []
  },
  {
   "cell_type": "markdown",
   "id": "3817c89c-3937-45d0-812e-1cb48bfbfb14",
   "metadata": {
    "tags": []
   },
   "source": [
    "##### Question 3)  Is Python case sensitive when dealing with identifiers?\n",
    "\n",
    "- Yes python is case sensitive when dealing with identifiers"
   ]
  },
  {
   "cell_type": "code",
   "execution_count": null,
   "id": "dbe0a26e-aff1-4caa-bb6c-42628b5897d1",
   "metadata": {},
   "outputs": [],
   "source": []
  },
  {
   "cell_type": "markdown",
   "id": "f8247da9-8125-425b-9412-e68ef7340eb5",
   "metadata": {
    "tags": []
   },
   "source": [
    "##### Question 4) What is the correct extension of the Python file?\n",
    " \n",
    ">* .py"
   ]
  },
  {
   "cell_type": "code",
   "execution_count": null,
   "id": "8a937fd3-4353-4277-b572-9b29e30b25d8",
   "metadata": {},
   "outputs": [],
   "source": []
  },
  {
   "cell_type": "markdown",
   "id": "5d26c987-ed47-4be6-8b54-4fe694e3e5ab",
   "metadata": {
    "tags": []
   },
   "source": [
    "##### Question 5) Is Python code compiled or interpreted?\n",
    " \n",
    ">* Python is both, first code get compiled and then .pyc file get interpreted."
   ]
  },
  {
   "cell_type": "code",
   "execution_count": null,
   "id": "691814bb-3106-412a-acf8-dbda1b5443fc",
   "metadata": {},
   "outputs": [],
   "source": []
  },
  {
   "cell_type": "markdown",
   "id": "ba1a2535-5206-4129-b724-f218a78be248",
   "metadata": {
    "tags": []
   },
   "source": [
    "##### Question 6) Name a few blocks of code used to define in Python language?\n",
    " \n",
    ">* Indentation is used to define a block of code in python. \n",
    ">* indentation is done with whitespace. All statements with the same right-hand distance belong to the same code block. If a block needs to be more nested, it is indented to the right.\n",
    "\n",
    "### example:\n",
    "\n",
    "\n"
   ]
  },
  {
   "cell_type": "code",
   "execution_count": 25,
   "id": "2e55ffa1-f42e-420f-b78f-6e3fb7b8b785",
   "metadata": {},
   "outputs": [
    {
     "name": "stdin",
     "output_type": "stream",
     "text": [
      "enter how many numbers you want to check even and odd 3\n",
      "enter the number 2\n",
      "enter the number 5\n",
      "enter the number 4\n"
     ]
    },
    {
     "name": "stdout",
     "output_type": "stream",
     "text": [
      "2 is even\n",
      "5 is odd\n",
      "4 is even\n"
     ]
    }
   ],
   "source": [
    "# program to find even and odd number\n",
    "n=int(input(\"enter how many numbers you want to check even and odd\"))\n",
    "num=[]\n",
    "\n",
    "for x in range(n):\n",
    "    y=int(input(\"enter the number\"))\n",
    "    num.append(y)\n",
    "    \n",
    "for i in num:\n",
    "    if int(i)%2==0:\n",
    "        print(f'{i} is even')\n",
    "    else:\n",
    "        print(\"{} is odd\".format(i))\n"
   ]
  },
  {
   "cell_type": "markdown",
   "id": "359513ca-7415-4ea8-b7c6-e5a8b1c21bdf",
   "metadata": {},
   "source": [
    "- In Python, defining a block of code becomes easy because of the concept of indentation.\n",
    "- In Python, each line of code block must be indented by the same amount of whitespace."
   ]
  },
  {
   "cell_type": "code",
   "execution_count": null,
   "id": "f5d4acbb-bfbd-47f8-bd8e-94aee8c742b3",
   "metadata": {},
   "outputs": [],
   "source": []
  },
  {
   "cell_type": "markdown",
   "id": "05c0da1f-0acf-4456-aad5-278630f2f29c",
   "metadata": {
    "tags": []
   },
   "source": [
    "##### Question 7) State a character used to give single-line comments in Python?\n",
    "\n",
    ">* '#' (hash character or symbol)\n",
    "- In python we use # at start to make a single-line comment"
   ]
  },
  {
   "cell_type": "code",
   "execution_count": null,
   "id": "d3233772-1885-44fe-ae59-566f0cd6128f",
   "metadata": {},
   "outputs": [],
   "source": []
  },
  {
   "cell_type": "markdown",
   "id": "d3ed138e-dc01-4702-832c-882021f9fbf2",
   "metadata": {
    "tags": []
   },
   "source": [
    "##### Question 8) Mention functions which can help us to find the version of python that we are currently working on?\n",
    " \n",
    ">* sys.version\n",
    ">* python_version()"
   ]
  },
  {
   "cell_type": "code",
   "execution_count": 40,
   "id": "3b325d0f-2d08-453d-b930-9e1ba1715f31",
   "metadata": {},
   "outputs": [
    {
     "name": "stdout",
     "output_type": "stream",
     "text": [
      "3.10.8 | packaged by conda-forge | (main, Nov 22 2022, 08:26:04) [GCC 10.4.0]\n"
     ]
    },
    {
     "data": {
      "text/plain": [
       "'3.10.8'"
      ]
     },
     "execution_count": 40,
     "metadata": {},
     "output_type": "execute_result"
    }
   ],
   "source": [
    "import sys\n",
    "print(sys.version)\n",
    "\n",
    "from platform import python_version\n",
    "python_version()"
   ]
  },
  {
   "cell_type": "code",
   "execution_count": null,
   "id": "168ee7ed-517d-4255-bac3-78020b31f9a7",
   "metadata": {},
   "outputs": [],
   "source": []
  },
  {
   "cell_type": "markdown",
   "id": "a7996922-4078-4c76-b42c-88e3033be0c0",
   "metadata": {
    "tags": []
   },
   "source": [
    "##### Question 9) Python supports the creation of anonymous functions at runtime, using a construct called?\n",
    " \n",
    ">* lambda"
   ]
  },
  {
   "cell_type": "code",
   "execution_count": null,
   "id": "b58425dc-6597-47ec-9529-29581ac22487",
   "metadata": {},
   "outputs": [],
   "source": []
  },
  {
   "cell_type": "markdown",
   "id": "2044b006-257e-4714-a081-9660205c69fc",
   "metadata": {
    "tags": []
   },
   "source": [
    "##### Question 10) what does pip stand for python?\n",
    " \n",
    ">* PIP is a recursive acronym for “Preferred Installer Program” or PIP Installs Packages\n",
    "- PIP is a package manager for Python packages, or modules if you like.\n",
    "- It allows you to install and manage packages that aren't part of the Python standard library."
   ]
  },
  {
   "cell_type": "code",
   "execution_count": null,
   "id": "c31da02f-11cb-4c08-b417-c1c47fcaef1a",
   "metadata": {},
   "outputs": [],
   "source": []
  },
  {
   "cell_type": "markdown",
   "id": "422262c2-feec-49f9-b994-001c9333779a",
   "metadata": {
    "tags": []
   },
   "source": [
    "##### Question 11) Mention a few built-in functions in python?\n",
    " \n",
    ">* print( ),  range( ),  len( )\n",
    ">* for( ),  while( ),  all( )\n",
    ">* list( ),  int( ),  string(),  dir( )\n",
    ">* input( ),  id( ),  max( ),  min( ),  split( ),  strip( ),  partition( )"
   ]
  },
  {
   "cell_type": "code",
   "execution_count": null,
   "id": "036f1214-eee6-4028-9bde-453391bb58ab",
   "metadata": {},
   "outputs": [],
   "source": []
  },
  {
   "cell_type": "markdown",
   "id": "01e17e85-f9a5-4e48-8e89-1c8c5d92b508",
   "metadata": {
    "tags": []
   },
   "source": [
    "##### Question 12) what is the maximum possible length of an identifier in Python?\n",
    " \n",
    ">*  When writing or using identifiers in Python, it has a maximum of 79 characters."
   ]
  },
  {
   "cell_type": "code",
   "execution_count": null,
   "id": "5e2350a3-3f5b-436a-ac0f-b814632c60a1",
   "metadata": {},
   "outputs": [],
   "source": []
  },
  {
   "cell_type": "markdown",
   "id": "b7dabdb3-f6df-435d-a696-981be747a681",
   "metadata": {
    "tags": []
   },
   "source": [
    "##### Question 13) what are the benefits of using python?\n",
    " \n",
    ">* Ease of Comprehension. One of the top benefits of Python is that it is easy to learn and fun to use.\n",
    ">* Python is Extensible.\n",
    ">* Python Libraries\n",
    ">* Used in Many Industries.\n",
    "- Desktop applications\n",
    "- Mobile applications\n",
    "- Video games, including text-based, 2D side-scrollers, and 3D\n",
    "- Database-driven software\n",
    "- Web apps and cloud-based apps\n",
    "- Operating Systems\n",
    "- Programming languages\n",
    "- Web frameworks\n",
    "- Enterprise applications\n",
    "- Business and finance applications\n",
    "- Graphical User Interface (GUI) based software\n",
    "- Data science and data analyst apps"
   ]
  },
  {
   "cell_type": "code",
   "execution_count": null,
   "id": "2005bfc2-0268-4b5a-9140-1559e859666b",
   "metadata": {},
   "outputs": [],
   "source": []
  },
  {
   "cell_type": "markdown",
   "id": "ed98140a-5662-4810-830f-baf59006a1a7",
   "metadata": {
    "tags": []
   },
   "source": [
    "##### Question 14) How is memory managed in python?\n",
    " \n",
    ">*  Python uses the dynamic memory allocation which is managed by the Heap data structure. Memory Heap holds the objects and other data structures that will be used in the program. Python memory manager manages the allocation or de-allocation of the heap memory space through the API functions."
   ]
  },
  {
   "cell_type": "code",
   "execution_count": null,
   "id": "51778ae5-0588-415c-ad4c-c1a2ebd455ec",
   "metadata": {},
   "outputs": [],
   "source": []
  },
  {
   "cell_type": "markdown",
   "id": "790774e5-bb02-4b37-ab31-a3eb3d11c92e",
   "metadata": {
    "tags": []
   },
   "source": [
    "##### Question 15) How to install Python on Windows and set path variables?\n",
    " \n",
    "###### Go to this link' https://www.python.org/downloads/ '\n",
    ">* Step 1: Select Version of Python to Install.\n",
    ">* Step 2: Download Python Executable Installer.\n",
    ">* Step 3: Run Executable Installer.\n",
    " - after installation has been completed\n",
    ">* Step 4: Add Python Path to Environment Variables (Optional)\n",
    "\n",
    "- Right click on My Computer ->Properties ->Advanced System setting ->Environment Variable ->\n",
    "New Variable name write path and in Variable value copy path up to C://Python(i.e., path where Python is installed). Click Ok ->Ok.\n",
    "\n"
   ]
  },
  {
   "cell_type": "code",
   "execution_count": null,
   "id": "c5dab230-0fbd-4b86-bc42-a0e3b33df16b",
   "metadata": {},
   "outputs": [],
   "source": []
  },
  {
   "cell_type": "markdown",
   "id": "364e433d-fc02-4fea-bc13-7708b9f56d99",
   "metadata": {
    "tags": []
   },
   "source": [
    "##### Question 16) Is indentation required in python?\n",
    " \n",
    ">* Yes, indentation is core and important part of python programming language\n"
   ]
  },
  {
   "cell_type": "code",
   "execution_count": null,
   "id": "be8a5b51-93a5-44e1-86d6-ac9df7af2b93",
   "metadata": {},
   "outputs": [],
   "source": []
  }
 ],
 "metadata": {
  "kernelspec": {
   "display_name": "Python 3 (ipykernel)",
   "language": "python",
   "name": "python3"
  },
  "language_info": {
   "codemirror_mode": {
    "name": "ipython",
    "version": 3
   },
   "file_extension": ".py",
   "mimetype": "text/x-python",
   "name": "python",
   "nbconvert_exporter": "python",
   "pygments_lexer": "ipython3",
   "version": "3.10.8"
  }
 },
 "nbformat": 4,
 "nbformat_minor": 5
}
