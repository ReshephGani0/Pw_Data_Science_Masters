{
 "cells": [
  {
   "cell_type": "markdown",
   "id": "f707fc69-0d0b-4998-bc85-10b96cff8f89",
   "metadata": {},
   "source": [
    "# Assignment no.2\n",
    "## 30th jan Assignment\n",
    "\n"
   ]
  },
  {
   "cell_type": "code",
   "execution_count": null,
   "id": "c7a24c60-a3f4-4324-b7d3-5ecbf8612672",
   "metadata": {},
   "outputs": [],
   "source": []
  },
  {
   "cell_type": "markdown",
   "id": "a5ae0879-63ba-4be8-b576-36eb1a36de43",
   "metadata": {},
   "source": [
    "#### 1) Write a program to accept percentage from the user and display the grade according to the following\n",
    "\n",
    "- Marks______________________Grade\n",
    "- '>90'_________________________A\n",
    "- '>80' and '<=90' ____________B\n",
    "- '>=60' and '<=80'___________C\n",
    "- below '60' ___________________D"
   ]
  },
  {
   "cell_type": "code",
   "execution_count": 34,
   "id": "b5164a80-85ea-49b5-877c-86aeef49c527",
   "metadata": {},
   "outputs": [
    {
     "name": "stdin",
     "output_type": "stream",
     "text": [
      "enter your percentage 50\n"
     ]
    },
    {
     "name": "stdout",
     "output_type": "stream",
     "text": [
      "Your Grade is D\n"
     ]
    }
   ],
   "source": [
    "per= int(input(\"enter your percentage\"))\n",
    "\n",
    "if per>90 and per<=100:\n",
    "    print(\"Your Grade is A\")\n",
    "    \n",
    "elif per>80 and per<=90:\n",
    "    print(\"Your Grade is B\")\n",
    "\n",
    "elif per>=60 and per<=80:\n",
    "    print(\"Your Grade is C\")\n",
    "\n",
    "elif per<60 and per>0:\n",
    "    print(\"Your Grade is D\")\n",
    "    \n",
    "else:\n",
    "    print(\"Enter number between 1 to 100\")"
   ]
  },
  {
   "cell_type": "code",
   "execution_count": null,
   "id": "01c12574-5e1e-48cb-9ce7-a6e8d3ccd241",
   "metadata": {},
   "outputs": [],
   "source": []
  },
  {
   "cell_type": "markdown",
   "id": "e39488fe-da7c-40eb-9510-4f10baece26e",
   "metadata": {},
   "source": [
    "#### 2) Write a program to accept the cost price of a bike and display the road tax to be paid according to the following criteria\n",
    "\n",
    "- Tax_________________________Cos Price(in Rs)\n",
    "- '15%'_________________________'>100000'\n",
    "- '10%' ________________________'>50000 and <= 100000'\n",
    "- '5%'_________________________ '<=50000'"
   ]
  },
  {
   "cell_type": "code",
   "execution_count": 16,
   "id": "4c50d6f9-48fd-478b-ab9c-0b6ae8ed309e",
   "metadata": {},
   "outputs": [
    {
     "name": "stdin",
     "output_type": "stream",
     "text": [
      "Enter bike cost price 100100\n"
     ]
    },
    {
     "name": "stdout",
     "output_type": "stream",
     "text": [
      "Bike cost : 100100 rs. \n",
      "Your Road Tax is 15% : 15015.0 rs.\n"
     ]
    }
   ],
   "source": [
    "price= int(input(\"Enter bike cost price\"))\n",
    "\n",
    "if price>100000:\n",
    "    tax=price*0.15\n",
    "    print(f\"Bike cost : {price} rs. \\nYour Road Tax is 15% : {tax} rs.\")\n",
    "    \n",
    "elif price>50000 and price<=100000:\n",
    "    tax=price*0.10\n",
    "    print(f\"Bike cost : {price} rs. \\nYour Road Tax is 10% : {tax} rs.\")    \n",
    "elif price>0 and price<=50000:\n",
    "    tax=price*0.05\n",
    "    print(f\"Bike cost : {price} rs. \\nYour Road Tax is 5% : {tax} rs.\") #\\nTotal amount :{price+tax} rs.\")\n",
    "    \n",
    "else :\n",
    "    print(\"Please enter valid input\")"
   ]
  },
  {
   "cell_type": "code",
   "execution_count": null,
   "id": "d01f9058-f482-464d-9cdb-ec86ced4b417",
   "metadata": {},
   "outputs": [],
   "source": []
  },
  {
   "cell_type": "markdown",
   "id": "495c35bb-65fa-45dc-ad04-96e655dfcdcc",
   "metadata": {},
   "source": [
    "#### 3) Accept any city from the user and display monuments of that city\n",
    "- City_______________________Monument\n",
    "- Delhi_______________________Red Fort\n",
    "- Agra_______________________Taj Mahal\n",
    "- Jaipur _____________________Jal mahal"
   ]
  },
  {
   "cell_type": "code",
   "execution_count": 35,
   "id": "950aaf9d-a0d7-4a0c-a83c-d6d19d1b6392",
   "metadata": {},
   "outputs": [
    {
     "name": "stdout",
     "output_type": "stream",
     "text": [
      "Delhi\n",
      "Agra\n",
      "Jaipur\n"
     ]
    },
    {
     "name": "stdin",
     "output_type": "stream",
     "text": [
      "\n",
      "Enter given city name form list delhi\n"
     ]
    },
    {
     "name": "stdout",
     "output_type": "stream",
     "text": [
      "\n",
      "The famous monument of city Delhi is : Red Fort\n"
     ]
    }
   ],
   "source": [
    "city_monum= {\"Delhi\":\"Red Fort\", \"Agra\":\"Taj Mahal\", \"Jaipur\":\"Jal Mahal\"}\n",
    "\n",
    "city_list=list(city_monum.keys())\n",
    "\n",
    "i=0\n",
    "\n",
    "for i in city_list:\n",
    "    print(i)\n",
    "    \n",
    "city_name=str(input(\"\\nEnter given city name form list\").capitalize())\n",
    "\n",
    "if city_name in city_list:\n",
    "    print(\"\\nThe famous monument of city {} is : {}\".format(city_name,city_monum[city_name]))\n",
    "else:\n",
    "    print(\"please write name from given city list\")\n",
    "          "
   ]
  },
  {
   "cell_type": "code",
   "execution_count": null,
   "id": "a1545004-e31d-4111-9e18-b20466a41800",
   "metadata": {},
   "outputs": [],
   "source": []
  },
  {
   "cell_type": "markdown",
   "id": "b4655a28-bfbf-4524-b99b-afe4a1688c30",
   "metadata": {},
   "source": [
    "#### 4) Check how many times a given number can be divided by 3 before it is less than or equal to 10.\n"
   ]
  },
  {
   "cell_type": "code",
   "execution_count": 81,
   "id": "1220fa46-d3ab-4741-81af-e11bade46eb1",
   "metadata": {},
   "outputs": [
    {
     "name": "stdin",
     "output_type": "stream",
     "text": [
      "Enter number 180\n"
     ]
    },
    {
     "name": "stdout",
     "output_type": "stream",
     "text": [
      "60.0\n",
      "20.0\n",
      "6.666666666666667\n",
      "\n",
      "3 times, it can be divided before it's less than or equal to 10\n"
     ]
    }
   ],
   "source": [
    "number=int(input(\"Enter number\"))\n",
    "\n",
    "c=0\n",
    "while number>10:\n",
    "    number=number/3\n",
    "    print(number)\n",
    "    c+=1\n",
    "print(f\"\\n{c} times, it can be divided before it's less than or equal to 10\")"
   ]
  },
  {
   "cell_type": "code",
   "execution_count": null,
   "id": "61bcede6-99b2-43a8-9228-e42b4f30540e",
   "metadata": {},
   "outputs": [],
   "source": []
  },
  {
   "cell_type": "markdown",
   "id": "441b720d-2c08-4031-9997-87c898c295fb",
   "metadata": {},
   "source": [
    "#### 5) why and When to Use while Loop in Python give a detailed description with example"
   ]
  },
  {
   "cell_type": "markdown",
   "id": "696f40a1-8adb-490b-b3d6-9d781be49a50",
   "metadata": {},
   "source": [
    "- while loop is an indefinite itteration that is used when a loop repeats unkown number of times and end when some condition is met."
   ]
  },
  {
   "cell_type": "code",
   "execution_count": 91,
   "id": "f15d91c5-6768-471c-b07c-a03265c8e96b",
   "metadata": {},
   "outputs": [
    {
     "name": "stdin",
     "output_type": "stream",
     "text": [
      "Enter a number:  3\n",
      "Enter a number:  52\n",
      "Enter a number:  -3\n",
      "Enter a number:  3\n",
      "Enter a number:  0\n"
     ]
    },
    {
     "name": "stdout",
     "output_type": "stream",
     "text": [
      "total = 55\n"
     ]
    }
   ],
   "source": [
    "# program to calculate the sum of numbers\n",
    "# until the user enters zero\n",
    "\n",
    "total = 0\n",
    "\n",
    "number = int(input('Enter a number: '))\n",
    "\n",
    "# add numbers until number is zero\n",
    "while number != 0:\n",
    "    total += number    # total = total + number\n",
    "    \n",
    "    # take integer input again\n",
    "    number = int(input('Enter a number: '))\n",
    "    \n",
    "\n",
    "print('total =', total)"
   ]
  },
  {
   "cell_type": "markdown",
   "id": "88c5baef-3549-41e1-8038-0e801bb24288",
   "metadata": {},
   "source": [
    "- In the above example, the while iterates until the user enters zero. When the user enters zero, the test condition evaluates to False and the loop ends.\n",
    "\n",
    "- while condition:\n",
    ">*     run code until the condition evaluates to False\n",
    "#### Note that in case of while loop the indented body of the loop should modify at least one variable in the test condition else the result is infinite loop."
   ]
  },
  {
   "cell_type": "raw",
   "id": "027ebbed-d57a-489b-ab4c-75127b9074bc",
   "metadata": {},
   "source": [
    "Example:\n",
    "\n",
    "age = 32\n",
    "\n",
    "# the test condition is always True\n",
    "while age > 18:\n",
    "    print('You can vote')\n",
    "    \n",
    "In this example, the condition always evaluates to True. Hence,\n",
    "the loop body will run for infinite times.\n",
    "_______________________________________________________________________\n",
    "\n",
    "counter = 0\n",
    "\n",
    "while counter < 3:\n",
    "    print(counter'Inside loop')\n",
    "    counter = counter + 1     #increment counter in each cycle so that it can reach termination condition#\n",
    "else:\n",
    "    print('Inside else')\n",
    "    \n"
   ]
  },
  {
   "cell_type": "code",
   "execution_count": null,
   "id": "96dc4bb3-c698-466d-b5f1-15683218edf9",
   "metadata": {},
   "outputs": [],
   "source": []
  },
  {
   "cell_type": "markdown",
   "id": "9b8a0042-5fa9-44c1-aec8-e295146d333f",
   "metadata": {},
   "source": [
    "##### 6) Use nested while loop to print 3 different pattern"
   ]
  },
  {
   "cell_type": "code",
   "execution_count": 3,
   "id": "e85756f9-88b4-4170-983d-46980200f542",
   "metadata": {},
   "outputs": [
    {
     "name": "stdout",
     "output_type": "stream",
     "text": [
      "* * * * * \n",
      "* * * * * \n",
      "* * * * * \n",
      "* * * * * \n",
      "* * * * * \n"
     ]
    }
   ],
   "source": [
    "\n",
    "i=5  # type the number of how many row and coloumn square you want to draw\n",
    "k=i\n",
    "while i>0:\n",
    "    \n",
    "    j=k\n",
    "    while j>0:\n",
    "        print(\"*\",end=\" \")\n",
    "        j-=1\n",
    "        \n",
    "   # print(\"i\")\n",
    "    print()\n",
    "    i-=1"
   ]
  },
  {
   "cell_type": "code",
   "execution_count": 25,
   "id": "26494fc9-075b-4294-9d0c-f32138b10da4",
   "metadata": {},
   "outputs": [
    {
     "name": "stdout",
     "output_type": "stream",
     "text": [
      "*\n",
      "* *\n",
      "* * *\n",
      "* * * *\n",
      "* * * * *\n"
     ]
    }
   ],
   "source": [
    "# in this nested while loop, giving condition parameter of parent loop\n",
    "\n",
    "i=5\n",
    "c=0 \n",
    "while i>0:\n",
    "    #print(\" \"*i,end=\"\") # uncomment this print to make it triangle\n",
    "   \n",
    "    j=0\n",
    "    while j<c:\n",
    "        print(\"*\",end=\" \")\n",
    "        j+=1\n",
    "        \n",
    "    print(\"*\")\n",
    "    \n",
    "    i-=1\n",
    "    c+=1 \n"
   ]
  },
  {
   "cell_type": "code",
   "execution_count": 32,
   "id": "cf8de3f6-c422-4434-83e6-5635bd0cd222",
   "metadata": {},
   "outputs": [
    {
     "name": "stdout",
     "output_type": "stream",
     "text": [
      "          * \n",
      "        * * * \n",
      "      * * * * * \n",
      "    * * * * * * * \n",
      "  * * * * * * * * * \n"
     ]
    }
   ],
   "source": [
    "\n",
    "i=5\n",
    "c=0 \n",
    "s=i\n",
    "while c<i:\n",
    "    print(\"  \"*s,end=\"\")\n",
    "    j=0\n",
    "    while j<=c*2:\n",
    "        print(\"*\",end=\" \")\n",
    "        j+=1\n",
    "        \n",
    "    print()\n",
    "    c+=1\n",
    "    s-=1"
   ]
  },
  {
   "cell_type": "code",
   "execution_count": null,
   "id": "e70d198d-06df-479c-8f92-49d013d029d1",
   "metadata": {},
   "outputs": [],
   "source": []
  },
  {
   "cell_type": "markdown",
   "id": "500ee9aa-9794-454d-9e0e-9a215bb36e5f",
   "metadata": {},
   "source": [
    "##### 7) Reverse a whiile loop to display number from 10 to 1"
   ]
  },
  {
   "cell_type": "code",
   "execution_count": 126,
   "id": "58433526-1c3e-4aa5-a58e-5b5b3dbdd04c",
   "metadata": {},
   "outputs": [
    {
     "name": "stdout",
     "output_type": "stream",
     "text": [
      "10\n",
      "9\n",
      "8\n",
      "7\n",
      "6\n",
      "5\n",
      "4\n",
      "3\n",
      "2\n",
      "1\n"
     ]
    }
   ],
   "source": [
    "num_2 = 10\n",
    "while num_2!=0:   # or num_3>0:\n",
    "    print(num_2)\n",
    "    num_2-=1      # or num_2 = num_2-1\n"
   ]
  },
  {
   "cell_type": "code",
   "execution_count": null,
   "id": "7744eabd-cdc8-413e-a1cf-706f91ec1da0",
   "metadata": {},
   "outputs": [],
   "source": []
  },
  {
   "cell_type": "markdown",
   "id": "2ffdfea2-6410-4ce1-815a-7ce35465a673",
   "metadata": {},
   "source": [
    "##### 8) reverse a while loop to display numbers from 10 to 1"
   ]
  },
  {
   "cell_type": "code",
   "execution_count": 118,
   "id": "cbac337f-d1de-4ec6-859a-4591e337fb99",
   "metadata": {},
   "outputs": [
    {
     "name": "stdout",
     "output_type": "stream",
     "text": [
      "10\n",
      "9\n",
      "8\n",
      "7\n",
      "6\n",
      "5\n",
      "4\n",
      "3\n",
      "2\n",
      "1\n"
     ]
    }
   ],
   "source": [
    "num = range(1,11)\n",
    "i=0\n",
    "while i<len(num):\n",
    "    print(num[len(num)-i-1])\n",
    "    i+=1"
   ]
  }
 ],
 "metadata": {
  "kernelspec": {
   "display_name": "Python 3 (ipykernel)",
   "language": "python",
   "name": "python3"
  },
  "language_info": {
   "codemirror_mode": {
    "name": "ipython",
    "version": 3
   },
   "file_extension": ".py",
   "mimetype": "text/x-python",
   "name": "python",
   "nbconvert_exporter": "python",
   "pygments_lexer": "ipython3",
   "version": "3.10.8"
  }
 },
 "nbformat": 4,
 "nbformat_minor": 5
}
