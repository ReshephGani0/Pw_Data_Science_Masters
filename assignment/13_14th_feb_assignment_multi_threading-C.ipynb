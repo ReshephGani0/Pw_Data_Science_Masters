{
 "cells": [
  {
   "cell_type": "markdown",
   "id": "05955702-41ba-468c-9381-f4bd9fef3515",
   "metadata": {},
   "source": [
    "# Multi-Threading, Assignment no. 13\n",
    "## 14th feb 2023 Assignment"
   ]
  },
  {
   "cell_type": "code",
   "execution_count": null,
   "id": "93a4ec96-db41-4e39-b5fd-6c0087caa811",
   "metadata": {},
   "outputs": [],
   "source": []
  },
  {
   "cell_type": "markdown",
   "id": "d7d12dcf-c57f-4f91-ac3d-fbc22cd41e82",
   "metadata": {},
   "source": [
    "#### Q1. What is multithreading in python? Why is it used? Name the module used to handle threads in python."
   ]
  },
  {
   "cell_type": "markdown",
   "id": "1b957708-afc5-4405-87af-fa1306333bdd",
   "metadata": {},
   "source": [
    "A thread is a unit of execution within a process. Multithreading refers to concurrently executing multiple threads by rapidly switching the control of the CPU between threads (called context switching).\n",
    "\n",
    "it is used to execute program concurrently and share resources to execute a program efficiently\n",
    "\n",
    "In a simple, single-core CPU, it is achieved using frequent switching between threads. This is termed as context switching. In context switching, the state of a thread is saved and state of another thread is loaded whenever any interrupt (due to I/O or manually set) takes place. Context switching takes place so frequently that all the threads appear to be running parallelly (this is termed as multitasking).\n",
    "\n",
    "'threading' module is used to handle threads"
   ]
  },
  {
   "cell_type": "code",
   "execution_count": null,
   "id": "40fea825-3f53-4e26-92e9-160cd7a28c00",
   "metadata": {},
   "outputs": [],
   "source": []
  },
  {
   "cell_type": "markdown",
   "id": "723cc2ae-6916-49ee-bd0c-16ecda60b793",
   "metadata": {},
   "source": [
    "#### Q2. Why threading module used? Write the use of the following functions:\n",
    "1. activeCount()\n",
    "2. currentThread()\n",
    "3. enumerate()"
   ]
  },
  {
   "cell_type": "markdown",
   "id": "673d5158-df4a-44ba-9453-4eee31bdad7f",
   "metadata": {},
   "source": [
    "threading module is used for creating, controlling and managing threads in python. \n",
    "\n",
    "Python threading allows you to have different parts of your program run concurrently and can simplify your design. "
   ]
  },
  {
   "cell_type": "markdown",
   "id": "762d9b08-ee56-4652-a167-c3780a0aa2a6",
   "metadata": {},
   "source": [
    ">* threading.activeCount() − Returns the number of thread objects that are active.\n",
    ">* threading.currentThread() − Returns the number of thread objects in the caller's thread control.\n",
    ">* threading.enumerate() − Returns a list of all thread objects that are currently active."
   ]
  },
  {
   "cell_type": "markdown",
   "id": "5de50881-864f-4158-ae9c-a60a68b7c045",
   "metadata": {},
   "source": [
    "## activeCount():\n",
    "This function returns the number of Thread objects currently alive.\n",
    "\n",
    "the method threading.active_count() from the threading module is used to count the currently active or running threads.\n",
    "> activeCount() is deprecated now it's active_count()"
   ]
  },
  {
   "cell_type": "markdown",
   "id": "3ed0a75f-2986-4d8c-99d8-1ebaa4cb2150",
   "metadata": {},
   "source": [
    "## 2. currentThread()\n"
   ]
  },
  {
   "cell_type": "markdown",
   "id": "7e3256a4-3529-4ba1-87fa-3933f4d1f6c1",
   "metadata": {},
   "source": [
    "This function will return the current Thread object, corresponding to the caller's thread of control(which is in the control of caller currently). If the caller's thread of control was not created through the threading module(for example the main thread), then a dummy thread object with limited functionality is returned.\n",
    "> currentThread() is deprecated now it's current_thread()"
   ]
  },
  {
   "cell_type": "markdown",
   "id": "7f038497-2684-4af0-8862-5eab2b41b62c",
   "metadata": {},
   "source": [
    "## 3. enumerate()"
   ]
  },
  {
   "cell_type": "markdown",
   "id": "72dd31ae-7e07-474e-8ca3-b966f23f0182",
   "metadata": {},
   "source": [
    "This method returns a list of all Thread objects currently alive. The list includes daemonic threads(when the program quits, all the daemon threads associated with it are killed automatically), dummy thread objects created by the current thread, and the main thread.\n",
    "\n",
    "Terminated threads and threads that have not yet been started are not present in this list."
   ]
  },
  {
   "cell_type": "code",
   "execution_count": null,
   "id": "84426295-c55e-4cde-8459-7ee6cd8bda1e",
   "metadata": {},
   "outputs": [],
   "source": []
  },
  {
   "cell_type": "markdown",
   "id": "e51b63cc-0585-4777-a6b2-396867790310",
   "metadata": {},
   "source": [
    "#### Q3. Explain the following functions:\n",
    "1. run()\n",
    "2. start()\n",
    "3. join()\n",
    "4. isAlive()"
   ]
  },
  {
   "cell_type": "markdown",
   "id": "e8a4c6ea-a349-4586-9d97-b254f9381c02",
   "metadata": {},
   "source": [
    "- run()  − The run() method is the entry point for a thread.\n",
    "- start()  − The start() method starts a thread by calling the run method.\n",
    "- join()  − The join() 'join([time/timeout])' waits for threads to terminate. If we want a particular thread to wait for another thread to complete, then we can use join() method.\n",
    "- isAlive()  − The isAlive() method checks whether a thread is still executing."
   ]
  },
  {
   "cell_type": "code",
   "execution_count": null,
   "id": "a1b07618-3a3f-4f57-b6ac-4756789c1ecc",
   "metadata": {},
   "outputs": [],
   "source": []
  },
  {
   "cell_type": "markdown",
   "id": "ee19fa42-693e-46bc-afeb-dcc02dadf360",
   "metadata": {},
   "source": [
    "#### Q4. Write a python program to create two threads. Thread one must print the list of squares and thread two must print the list of cubes."
   ]
  },
  {
   "cell_type": "code",
   "execution_count": 7,
   "id": "14deb727-e4ee-497a-b9c1-ddb7a56fabd0",
   "metadata": {},
   "outputs": [
    {
     "name": "stdout",
     "output_type": "stream",
     "text": [
      "square list :  [1, 4, 9, 16, 25, 36, 49]\n",
      "cube list :  [1, 8, 27, 64, 125, 216, 343]\n"
     ]
    }
   ],
   "source": [
    "import threading\n",
    "\n",
    "def square_func(x):\n",
    "    sq = x**2\n",
    "    square_list.append(sq)\n",
    "    \n",
    "\n",
    "def cube_func(x):\n",
    "    cube_list.append(x*x*x)\n",
    "    \n",
    "    \n",
    "num_list = [1,2,3,4,5,6,7]\n",
    "square_list = []\n",
    "cube_list=[]\n",
    "\n",
    "sq_thread = [threading.Thread(target = square_func, args = (i,)) for i in num_list]\n",
    "cu_thread = [threading.Thread(target = cube_func, args = (i,)) for i in num_list]\n",
    "    \n",
    "for t in sq_thread:\n",
    "    t.start()\n",
    "    \n",
    "for t in cu_thread:\n",
    "    t.start()\n",
    "    \n",
    "[t.join() for t in sq_thread]\n",
    "[t.join() for t in cu_thread]\n",
    "\n",
    "print(\"square list : \",square_list)\n",
    "print(\"cube list : \", cube_list)"
   ]
  },
  {
   "cell_type": "code",
   "execution_count": null,
   "id": "435cf7ac-6544-42d9-b336-bb02819d6437",
   "metadata": {},
   "outputs": [],
   "source": []
  },
  {
   "cell_type": "markdown",
   "id": "a0e13a4e-0c2c-4a3f-865f-3a1677d6ccaf",
   "metadata": {},
   "source": [
    "#### Q5. State advantages and disadvantages of multithreading."
   ]
  },
  {
   "cell_type": "markdown",
   "id": "fabf6a5c-8d52-4e7e-a695-569a95470b8c",
   "metadata": {},
   "source": [
    "Following are some of the common advantages of multithreading:\n",
    "\n",
    ">* Enhanced performance by decreased development time\n",
    ">* Simplified and streamlined program coding\n",
    ">* Improvised GUI responsiveness\n",
    ">* Simultaneous and parallelized occurrence of tasks\n",
    ">* Better use of cache storage by utilization of resources\n",
    ">* Decreased cost of maintenance\n",
    ">* Better use of CPU resource"
   ]
  },
  {
   "cell_type": "markdown",
   "id": "631973c5-f923-4a25-8c4e-a5c359507ff6",
   "metadata": {},
   "source": [
    "Following are some of the common disadvantages of multithreading:\n",
    "\n",
    ">* Complex debugging and testing processes\n",
    ">* Overhead switching of context\n",
    ">* Increased potential for deadlock occurrence\n",
    ">* Increased difficulty level in writing a program\n",
    ">* Unpredictable results"
   ]
  },
  {
   "cell_type": "markdown",
   "id": "c233d58a-8129-4696-90e1-0b76fc58123f",
   "metadata": {},
   "source": [
    "## Advantages:\n",
    "\n",
    "- Improved performance: Multithreading can help increase the overall performance of an application, especially on systems with multiple processors or cores. It allows multiple tasks to run concurrently, utilizing the available CPU resources more efficiently.\n",
    "\n",
    "- Responsiveness: In a single-threaded environment, if a long-running task blocks the main thread, the entire application becomes unresponsive. Multithreading can prevent this issue by running such tasks in separate threads, ensuring the application remains responsive.\n",
    "\n",
    "- Better resource utilization: Multithreading allows better utilization of system resources by keeping the CPU busy while waiting for I/O operations or other tasks to complete.\n",
    "\n",
    "- Simplified modeling: Some problems can be more naturally modeled using multiple threads. This makes the program easier to design, understand, and maintain.\n",
    "\n",
    "- Parallelism: Multithreading enables parallelism, which can lead to significant performance improvements in applications that can be divided into smaller, independent tasks."
   ]
  },
  {
   "cell_type": "markdown",
   "id": "f9667f9c-d891-466d-b57d-3fa8830953c0",
   "metadata": {},
   "source": [
    "## Disadvantages:\n",
    "\n",
    "- Complexity: Multithreading adds complexity to the program, making it more difficult to design, implement, and debug. Developers need to be aware of synchronization, deadlocks, race conditions, and other concurrency-related issues.\n",
    "\n",
    "- Synchronization overhead: To avoid data corruption and maintain consistency, developers must synchronize access to shared resources, which can result in additional overhead and reduced performance.\n",
    "\n",
    "- Context switching: Context switching between threads consumes CPU time and resources, which can lead to performance degradation if not managed efficiently.\n",
    "\n",
    "- Hard to predict behavior: Due to the concurrent nature of multithreading, the behavior of the program can be hard to predict and reproduce, especially when it comes to debugging.\n",
    "\n",
    "- Limited by hardware: The performance benefits of multithreading are limited by the number of available cores or processors in the system. In some cases, excessive use of threads can lead to performance degradation instead of improvement."
   ]
  },
  {
   "cell_type": "code",
   "execution_count": null,
   "id": "121dfd41-5ceb-40ae-9a9e-889bac704886",
   "metadata": {},
   "outputs": [],
   "source": []
  },
  {
   "cell_type": "markdown",
   "id": "af44853e-acbb-4c19-aacd-844303f0cf26",
   "metadata": {},
   "source": [
    "#### 6. Explain deadlocks and race conditions."
   ]
  },
  {
   "cell_type": "markdown",
   "id": "0b535432-2ead-4cf6-ab53-c0b1f3bccae9",
   "metadata": {},
   "source": [
    "A good system needs to make sure that race condition and deadlock can’t occur."
   ]
  },
  {
   "cell_type": "markdown",
   "id": "a2ad4b8f-dfe3-4fc2-870e-cadfa5cc2b6d",
   "metadata": {},
   "source": [
    "## deadlocks\n",
    "When two processes are waiting for each other directly or indirectly, it is called deadlock.\n",
    "\n",
    "This usually occurs when two processes are waiting for shared resources acquired by others. For example, If thread T1 acquired resource R1 and it also needs resource R2 for it to accomplish its task. But the resource R2 is acquired by thread T2 which is waiting for resource R1(which is acquired by T1).. Neither of them will be able to accomplish its task, as they keep waiting for the other resources they need.\n",
    "\n",
    "For example, if process 1 is waiting for process 2 and process 2 is waiting for process 3 to finish and process 3 is waiting for process 1 to finish. All these three processes would keep waiting and will never end. This is called deadlock"
   ]
  },
  {
   "cell_type": "markdown",
   "id": "7c64e932-0040-4c25-af6b-0080ea25bc82",
   "metadata": {},
   "source": [
    "## Race Condition\n",
    "When two processes are competing with each other causing data corruption.\n",
    "\n",
    "two persons are trying to deposit 1 rupee online into the same bank account. The initial amount is 17 rupees. Both the persons would be able to see 17 rs. initially. Each of them tries to deposit  1 rs., and the final amount is expected to be 19 rs. But due to race conditions, the final amount in the bank is 18 rs. instead of 19 rs. This is also known as dirty read.\n",
    "\n",
    "For example, if two processes/threads are trying to execute the following conditions simultaneously, they cause data corruption:\n",
    "\n",
    "Thread 1:\n",
    "total = num1 + num2\n",
    "\n",
    "Thread 2:\n",
    "total = num1 - num2\n",
    "\n",
    "It is very common for the race conditions to go unnoticed during testing even after multiple tests and code reviews. But in production, there would be a lot of processes and threads working parallelly and compete for the same resources, and this problem would occur."
   ]
  },
  {
   "cell_type": "code",
   "execution_count": null,
   "id": "91d03c9e-d83a-4ef8-acee-2b574b69d605",
   "metadata": {},
   "outputs": [],
   "source": []
  }
 ],
 "metadata": {
  "kernelspec": {
   "display_name": "Python 3 (ipykernel)",
   "language": "python",
   "name": "python3"
  },
  "language_info": {
   "codemirror_mode": {
    "name": "ipython",
    "version": 3
   },
   "file_extension": ".py",
   "mimetype": "text/x-python",
   "name": "python",
   "nbconvert_exporter": "python",
   "pygments_lexer": "ipython3",
   "version": "3.10.8"
  }
 },
 "nbformat": 4,
 "nbformat_minor": 5
}
