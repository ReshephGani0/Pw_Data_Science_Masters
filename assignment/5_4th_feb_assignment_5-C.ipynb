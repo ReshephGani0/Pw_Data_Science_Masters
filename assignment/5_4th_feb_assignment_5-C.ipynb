{
 "cells": [
  {
   "cell_type": "markdown",
   "id": "8e4c3d84-0ee3-46e2-9c75-c161a1a5583d",
   "metadata": {},
   "source": [
    "# Assignment no.5\n",
    "## 4th feb Assignment"
   ]
  },
  {
   "cell_type": "code",
   "execution_count": null,
   "id": "9b15f353-b902-490e-9efe-ac043db98dbf",
   "metadata": {},
   "outputs": [],
   "source": []
  },
  {
   "cell_type": "markdown",
   "id": "f3b85b85-42c2-4eee-b909-afe270a612e9",
   "metadata": {},
   "source": [
    "#### Q1. Create a python program to sort the given list of tuples based on integer value using a lambda function.\n",
    "[('Sachin Tendulkar', 34357), ('Ricky Ponting', 27483), ('Jack Kallis', 25534), ('Virat Kohli', 24936)]"
   ]
  },
  {
   "cell_type": "code",
   "execution_count": 1,
   "id": "f555fc14-d947-4854-9064-a15cfec2b127",
   "metadata": {},
   "outputs": [
    {
     "name": "stdout",
     "output_type": "stream",
     "text": [
      "('Sachin Tendulkar', 34357)\n",
      "('Ricky Ponting', 27483)\n",
      "('Jack Kallis', 25534)\n",
      "('Virat Kohli', 24936)\n"
     ]
    }
   ],
   "source": [
    "tuple1 = [('Sachin Tendulkar', 34357), ('Ricky Ponting', 27483), \n",
    "          ('Jack Kallis', 25534), ('Virat Kohli', 24936)]\n",
    "\n",
    "tuple1.sort(key = lambda x : x[1], reverse = True)\n",
    "for i in tuple1:\n",
    "    print(i)\n"
   ]
  },
  {
   "cell_type": "code",
   "execution_count": null,
   "id": "4fd2dcec-2c39-4c8e-aafa-0ed85c0b25f7",
   "metadata": {},
   "outputs": [],
   "source": []
  },
  {
   "cell_type": "markdown",
   "id": "7fec7e3e-5a78-41b3-bf72-a460ac44a8c0",
   "metadata": {},
   "source": [
    "#### Q2. Write a Python Program to find the squares of all the numbers in the given list of integers using lambda and map functions.\n",
    "[1, 2, 3, 4, 5, 6, 7, 8, 9, 10]"
   ]
  },
  {
   "cell_type": "code",
   "execution_count": 8,
   "id": "ec37a5b5-b88e-42b4-a71b-f7884518660c",
   "metadata": {},
   "outputs": [
    {
     "name": "stdout",
     "output_type": "stream",
     "text": [
      "<map object at 0x7fd3302ed8a0>\n",
      "[1, 4, 9, 16, 25, 36, 49, 64, 81, 100]\n"
     ]
    }
   ],
   "source": [
    "list_1= [1, 2, 3, 4, 5, 6, 7, 8, 9, 10]\n",
    "\n",
    "mapped= map(lambda x : x**2 ,list_1)\n",
    "print(mapped) # this object need iteration (loop) or list() to output map object\n",
    "\n",
    "print(list(mapped))\n"
   ]
  },
  {
   "cell_type": "code",
   "execution_count": null,
   "id": "1aec7b1e-8501-4d3d-b532-519e87671f84",
   "metadata": {},
   "outputs": [],
   "source": []
  },
  {
   "cell_type": "markdown",
   "id": "80b53e5d-5f78-42a9-80cf-ced17ae17efa",
   "metadata": {},
   "source": [
    "#### Q3. Write a python program to convert the given list of integers into a tuple of strings. Use map and lambda functions\n",
    "Given String: [1, 2, 3, 4, 5, 6, 7, 8, 9, 10]\n",
    "\n",
    "Expected output: ('1', '2', '3', '4', '5', '6', '7', '8', '9', '10')"
   ]
  },
  {
   "cell_type": "code",
   "execution_count": 14,
   "id": "36df9a6e-9c45-4522-95d1-4dfe7c5ec455",
   "metadata": {},
   "outputs": [
    {
     "data": {
      "text/plain": [
       "('1', '2', '3', '4', '5', '6', '7', '8', '9', '10')"
      ]
     },
     "execution_count": 14,
     "metadata": {},
     "output_type": "execute_result"
    }
   ],
   "source": [
    "list_2=[1, 2, 3, 4, 5, 6, 7, 8, 9, 10]\n",
    "\n",
    "tuple(map(lambda x:str(x) , list_2))"
   ]
  },
  {
   "cell_type": "code",
   "execution_count": null,
   "id": "b192c43f-1890-46c1-8ba2-9124690f2108",
   "metadata": {},
   "outputs": [],
   "source": []
  },
  {
   "cell_type": "markdown",
   "id": "8e8b840d-e570-4687-864e-09c8d23cd2ce",
   "metadata": {},
   "source": [
    "#### Q4. Write a python program using reduce function to compute the product of a list containing numbers\n",
    "from 1 to 25."
   ]
  },
  {
   "cell_type": "code",
   "execution_count": 7,
   "id": "0f71b3e2-da89-4076-be7c-0285d2d6c192",
   "metadata": {},
   "outputs": [
    {
     "data": {
      "text/plain": [
       "15511210043330985984000000"
      ]
     },
     "execution_count": 7,
     "metadata": {},
     "output_type": "execute_result"
    }
   ],
   "source": [
    "from functools import reduce \n",
    "\n",
    "reduce(lambda x,y:x*y ,range(1,26))"
   ]
  },
  {
   "cell_type": "code",
   "execution_count": null,
   "id": "9c090b77-d36d-4371-8ca2-3fa78c8f491b",
   "metadata": {},
   "outputs": [],
   "source": []
  },
  {
   "cell_type": "markdown",
   "id": "351c26e3-e8de-40da-8045-0be5a87c4142",
   "metadata": {},
   "source": [
    "#### Q5. Write a python program to filter the numbers in a given list that are divisible by 2 and 3 using the filter function.\n",
    "[2, 3, 6, 9, 27, 60, 90, 120, 55, 46]"
   ]
  },
  {
   "cell_type": "code",
   "execution_count": 9,
   "id": "4af720fb-cedb-4708-b64c-a288711feaf9",
   "metadata": {},
   "outputs": [
    {
     "data": {
      "text/plain": [
       "[2, 3, 6, 9, 27, 60, 90, 120, 46]"
      ]
     },
     "execution_count": 9,
     "metadata": {},
     "output_type": "execute_result"
    }
   ],
   "source": [
    "list3=[2, 3, 6, 9, 27, 60, 90, 120, 55, 46]\n",
    "\n",
    "a = filter(lambda x : x%2==0 or x%3==0 , list3)\n",
    "list(a)"
   ]
  },
  {
   "cell_type": "code",
   "execution_count": null,
   "id": "ad77f69b-0563-4214-aceb-d5ab087b8f08",
   "metadata": {},
   "outputs": [],
   "source": []
  },
  {
   "cell_type": "markdown",
   "id": "bd2cc654-2285-4f85-b777-a3e29987edcc",
   "metadata": {},
   "source": [
    "#### Q6. Write a python program to find palindromes in the given list of strings using lambda and filter function.\n",
    "['python', 'php', 'aba', 'radar', 'level']"
   ]
  },
  {
   "cell_type": "code",
   "execution_count": 11,
   "id": "7577fbbb-c244-4163-89ad-4789c486bf47",
   "metadata": {},
   "outputs": [
    {
     "name": "stdout",
     "output_type": "stream",
     "text": [
      "php\n",
      "aba\n",
      "radar\n",
      "level\n"
     ]
    }
   ],
   "source": [
    "list4=['python', 'php', 'aba', 'radar', 'level']\n",
    "\n",
    "p = filter(lambda x: x[::-1]==x , list4)\n",
    "\n",
    "for i in p:\n",
    "    print(i)"
   ]
  },
  {
   "cell_type": "code",
   "execution_count": null,
   "id": "ef434b9e-6b17-4d77-8850-250d3a6ada96",
   "metadata": {},
   "outputs": [],
   "source": []
  }
 ],
 "metadata": {
  "kernelspec": {
   "display_name": "Python 3 (ipykernel)",
   "language": "python",
   "name": "python3"
  },
  "language_info": {
   "codemirror_mode": {
    "name": "ipython",
    "version": 3
   },
   "file_extension": ".py",
   "mimetype": "text/x-python",
   "name": "python",
   "nbconvert_exporter": "python",
   "pygments_lexer": "ipython3",
   "version": "3.10.8"
  }
 },
 "nbformat": 4,
 "nbformat_minor": 5
}
