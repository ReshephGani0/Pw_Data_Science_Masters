{
 "cells": [
  {
   "cell_type": "markdown",
   "id": "a13c6476-8890-41ce-91b1-05eec28c1745",
   "metadata": {},
   "source": [
    "# OOPs Task, Assignment\n",
    "## 9th feb Assignment"
   ]
  },
  {
   "cell_type": "code",
   "execution_count": null,
   "id": "39e7f1a8-13bc-45f4-923d-b1d81838741f",
   "metadata": {},
   "outputs": [],
   "source": []
  },
  {
   "cell_type": "markdown",
   "id": "45b68607-9daa-4af7-993d-8f98d8eb3504",
   "metadata": {},
   "source": [
    "#### Q1, Create a vehicle class with an init method having instance variables as name_of_vehicle, max_speed and average_of_vehicle."
   ]
  },
  {
   "cell_type": "code",
   "execution_count": 4,
   "id": "c850ace5-ccdf-415e-94e4-3d6091f27364",
   "metadata": {},
   "outputs": [],
   "source": [
    "class vehicle:\n",
    "    def __init__(self,name_of_vehicle, max_speed, average_of_vehicle):\n",
    "        self.name_of_vehicle = name_of_vehicle\n",
    "        self.max_speed = max_speed\n",
    "        self.average_of_vehicle = average_of_vehicle\n",
    "    "
   ]
  },
  {
   "cell_type": "code",
   "execution_count": null,
   "id": "382a52e3-df99-4b45-b0cd-dac334a7e9b3",
   "metadata": {},
   "outputs": [],
   "source": []
  },
  {
   "cell_type": "markdown",
   "id": "3b7fe445-29f3-43a6-acd0-b5460861d6d4",
   "metadata": {},
   "source": [
    "#### Q2. Create a child class car from the vehicle class created in Que 1, which will inherit the vehicle class.\n",
    "Create a method named seating_capacity which takes capacity as an argument and returns the name of the vehicle and its seating capacity."
   ]
  },
  {
   "cell_type": "code",
   "execution_count": 5,
   "id": "a8a972d4-0e0f-4922-b80e-38bdcdfcc0e5",
   "metadata": {},
   "outputs": [],
   "source": [
    "class car(vehicle):\n",
    "    \n",
    "    def seating_capacity(self,capacity):\n",
    "        self.__capacity = capacity\n",
    "        return f\"Vehicle name {self.name_of_vehicle} and capacity is {self.__capacity}\""
   ]
  },
  {
   "cell_type": "code",
   "execution_count": 6,
   "id": "20e961a2-9c9d-4d1b-af24-c0c6984e7493",
   "metadata": {},
   "outputs": [],
   "source": [
    "car1=car(\"audi\",390,50)"
   ]
  },
  {
   "cell_type": "code",
   "execution_count": 7,
   "id": "0b7714d9-88ca-4f3f-be9b-2c27900ebc59",
   "metadata": {},
   "outputs": [
    {
     "data": {
      "text/plain": [
       "'Vehicle name audi and capacity is 5'"
      ]
     },
     "execution_count": 7,
     "metadata": {},
     "output_type": "execute_result"
    }
   ],
   "source": [
    "car1.seating_capacity(5)"
   ]
  },
  {
   "cell_type": "code",
   "execution_count": null,
   "id": "4dc44770-c872-41fb-acb9-07940dc6909a",
   "metadata": {},
   "outputs": [],
   "source": []
  },
  {
   "cell_type": "markdown",
   "id": "06bcee55-7590-4abb-84c7-ec72a89a340c",
   "metadata": {},
   "source": [
    "#### Q3. What is multiple inheritance? Write a python code to demonstrate multiple inheritance."
   ]
  },
  {
   "cell_type": "markdown",
   "id": "9b3e02e3-ff47-42bc-9198-8a9623f6adec",
   "metadata": {},
   "source": [
    "- Multiple Inheritance:\n",
    "Multiple level inheritance enables one derived class to inherit properties from more than one base class."
   ]
  },
  {
   "cell_type": "code",
   "execution_count": 8,
   "id": "0f6909b5-3d84-4dfb-b2f4-95e258a172bf",
   "metadata": {},
   "outputs": [
    {
     "name": "stdout",
     "output_type": "stream",
     "text": [
      "this is father family class\n",
      "this is mother family class\n"
     ]
    }
   ],
   "source": [
    "class father_family():\n",
    "    def test_father_family(self):\n",
    "        return \"this is father family class\"\n",
    "\n",
    "class mother_family():\n",
    "    def test_mother_family(self):\n",
    "        return \"this is mother family class\"\n",
    "    \n",
    "class child(father_family,mother_family):\n",
    "    def test_child(self):\n",
    "        pass\n",
    "    \n",
    "obj_child = child()\n",
    "\n",
    "print(obj_child.test_father_family()) # able to inherit from both father and mother classes\n",
    "print(obj_child.test_mother_family())"
   ]
  },
  {
   "cell_type": "code",
   "execution_count": null,
   "id": "1cf882bb-3d86-4e57-9bbe-93c0acc4d03d",
   "metadata": {},
   "outputs": [],
   "source": []
  },
  {
   "cell_type": "markdown",
   "id": "35221b4d-6c31-4a58-a018-220bfaaa6b51",
   "metadata": {},
   "source": [
    "#### Q4. What are getter and setter in python? Create a class and create a getter and a setter method in this class."
   ]
  },
  {
   "cell_type": "code",
   "execution_count": 13,
   "id": "2c637309-79ae-437e-8318-9b3427a14d41",
   "metadata": {},
   "outputs": [
    {
     "name": "stdout",
     "output_type": "stream",
     "text": [
      "balance check with getter :  0\n",
      "after depositing amount with setter balance:  5000\n",
      "insufficient balance\n",
      "again balance check with getter  5000\n",
      "again withdraw from account with setter :  3000\n"
     ]
    }
   ],
   "source": [
    "\n",
    "class bank_account:\n",
    "    def __init__(self,name,number,balance):\n",
    "        self.__name = name\n",
    "        self.__number = number\n",
    "        self.__balance = balance\n",
    "\n",
    "    @property\n",
    "    def get_name(self):\n",
    "        return self.__name\n",
    "    \n",
    "    @property\n",
    "    def get_number(self):\n",
    "        return self.__number\n",
    "        \n",
    "    @property\n",
    "    def get_balance(self):\n",
    "        return self.__balance\n",
    "    \n",
    "   \n",
    "    @get_balance.setter\n",
    "    def set_balance_withdraw(self,amount):\n",
    "       # try:\n",
    "            if (self.__balance - amount) >=0:\n",
    "                self.__balance = self.__balance - amount\n",
    "                return True\n",
    "            else:\n",
    "                #return \"low balance\"\n",
    "                print(\"insufficient balance\")\n",
    "\n",
    "          \n",
    "    @get_balance.setter\n",
    "    def set_balance_deposit(self,amount):\n",
    "        if type(amount) == int:\n",
    "            self.__balance = self.__balance + amount\n",
    "            return True\n",
    "        else:\n",
    "            raise TypeError(\"enter interger\")\n",
    "\n",
    "    @get_number.deleter\n",
    "    def delete_number(self):\n",
    "        self.__number\n",
    "\n",
    "obj_bank_account_1 = bank_account(\"mohan\",48658394,0)\n",
    "obj_bank_account_1\n",
    "print(\"balance check with getter : \", obj_bank_account_1.get_balance)\n",
    "\n",
    "obj_bank_account_1.set_balance_deposit = 5000\n",
    "print(\"after depositing amount with setter balance: \", obj_bank_account_1.get_balance)\n",
    "\n",
    "obj_bank_account_1.set_balance_withdraw=6000\n",
    "print(\"again balance check with getter \", obj_bank_account_1.get_balance)\n",
    "\n",
    "obj_bank_account_1.set_balance_withdraw=2000\n",
    "print(\"again withdraw from account with setter : \",obj_bank_account_1.get_balance)\n"
   ]
  },
  {
   "cell_type": "code",
   "execution_count": null,
   "id": "805f3e7d-90a2-4422-aa3a-3b038c795263",
   "metadata": {},
   "outputs": [],
   "source": []
  },
  {
   "cell_type": "markdown",
   "id": "ba8e468b-3df2-450a-baa3-a9ef117d1c85",
   "metadata": {},
   "source": [
    "\n",
    "#### Q5.What is method overriding in python? Write a python code to demonstrate method overriding."
   ]
  },
  {
   "cell_type": "markdown",
   "id": "580cd9a3-cb16-46fd-b54d-1957ac67aed8",
   "metadata": {},
   "source": [
    "Method Overriding is a type of Run-time Polymorphism. A child class method overrides (or provides its implementation) the parent class method of the same name, parameters, and return type. It is used to over-write (redefine) a parent class method in the derived class."
   ]
  },
  {
   "cell_type": "code",
   "execution_count": null,
   "id": "4dadc39a-41ac-434d-bb68-170dcc1a5de9",
   "metadata": {},
   "outputs": [],
   "source": []
  },
  {
   "cell_type": "code",
   "execution_count": 15,
   "id": "d7d52630-4aac-4330-bb1a-564958805556",
   "metadata": {},
   "outputs": [
    {
     "name": "stdout",
     "output_type": "stream",
     "text": [
      "Modified feature_1 of class A by class B\n"
     ]
    }
   ],
   "source": [
    "class A:\n",
    " \n",
    "    def fun1(self):\n",
    "        print('feature_1 of class A')\n",
    "         \n",
    "    def fun2(self):\n",
    "        print('feature_2 of class A')\n",
    "     \n",
    "    \n",
    "    \n",
    "class B(A):\n",
    "     \n",
    "    # Modified function that is\n",
    "    # already exist in class A\n",
    "    def fun1(self):\n",
    "        print('Modified feature_1 of class A by class B')   \n",
    "         \n",
    "    def fun3(self):\n",
    "        print('feature_3 of class B')\n",
    "         \n",
    "            \n",
    "            \n",
    "# create instance            \n",
    "obj = B()\n",
    "     \n",
    "# Call the override function\n",
    "obj.fun1()"
   ]
  },
  {
   "cell_type": "code",
   "execution_count": null,
   "id": "c4f53294-05a9-4fd0-8df4-f0fb5ebe3725",
   "metadata": {},
   "outputs": [],
   "source": []
  }
 ],
 "metadata": {
  "kernelspec": {
   "display_name": "Python 3 (ipykernel)",
   "language": "python",
   "name": "python3"
  },
  "language_info": {
   "codemirror_mode": {
    "name": "ipython",
    "version": 3
   },
   "file_extension": ".py",
   "mimetype": "text/x-python",
   "name": "python",
   "nbconvert_exporter": "python",
   "pygments_lexer": "ipython3",
   "version": "3.10.8"
  }
 },
 "nbformat": 4,
 "nbformat_minor": 5
}
