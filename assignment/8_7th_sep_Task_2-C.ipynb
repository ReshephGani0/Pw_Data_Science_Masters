{
 "cells": [
  {
   "cell_type": "markdown",
   "id": "193357ad-f4c1-41a5-bcca-f9bb3f04b847",
   "metadata": {},
   "source": [
    "# Task-2 Assignment\n",
    "## 7th feb Assignment"
   ]
  },
  {
   "cell_type": "code",
   "execution_count": null,
   "id": "7b7c9cfa-a2d9-4aae-9bfd-cb527f6938b5",
   "metadata": {},
   "outputs": [],
   "source": []
  },
  {
   "cell_type": "markdown",
   "id": "540b67c8-d1c4-44ab-9a6b-dc1702df6588",
   "metadata": {},
   "source": [
    "#### Q1. You are writing code for a company. The requirement of the company is that you create a python function that will check whether the password entered by the user is correct or not. The function should take the password as input and return the string “Valid Password” if the entered password follows the below-given password guidelines else it should return “Invalid Password”.\n",
    "\n",
    "Note: \n",
    "1. The Password should contain at least two uppercase letters and at least two lowercase letters.\n",
    "2. The Password should contain at least a number and three special characters.\n",
    "3. The length of the password should be 10 characters long."
   ]
  },
  {
   "cell_type": "code",
   "execution_count": 6,
   "id": "4f52f2e7-3ad2-4090-93d9-49b113fc6214",
   "metadata": {},
   "outputs": [
    {
     "name": "stdin",
     "output_type": "stream",
     "text": [
      "Enter Password AAbb2@#$jk\n"
     ]
    },
    {
     "name": "stdout",
     "output_type": "stream",
     "text": [
      "Valid Password\n"
     ]
    }
   ],
   "source": [
    "pas=input(\"Enter Password\")\n",
    "\n",
    "#flag = 0\n",
    "if len(pas) >= 10 and (' ' in pas)!=True:\n",
    "    \n",
    "    sc='[@_!#$%^&*()<>?/\\|}{~:]'\n",
    "    flag = 0\n",
    "\n",
    "    if len(list(filter(lambda x : x.isupper(), pas)))>=2:\n",
    "        flag += 1\n",
    "        \n",
    "    if len(list(filter(lambda x : x.islower(), pas)))>=2:\n",
    "        flag += 1\n",
    "        \n",
    "    if len(list(filter(lambda x : x.isnumeric(), pas)))>=1:\n",
    "        flag += 1\n",
    "        \n",
    "    if len(list(filter(lambda x : x in sc, pas)))>=3:\n",
    "        flag += 1\n",
    "        \n",
    "#print(flag)       \n",
    "if flag ==4:\n",
    "    print(\"Valid Password\")\n",
    "else:\n",
    "    print(\"Invalid password\")"
   ]
  },
  {
   "cell_type": "raw",
   "id": "8f9b331a-4c54-4f95-93c1-9f065fcc0b1d",
   "metadata": {},
   "source": [
    "pas=input(\"Enter Password\")\n",
    "\n",
    "c_up=0\n",
    "c_low=0\n",
    "c_num=0\n",
    "c_specl=0\n",
    "\n",
    "if len(pas) >= 10 and (' ' in pas)!=True:    \n",
    "    sc='[@_!#$%^&*()<>?/\\|}{~:]'\n",
    "    \n",
    "    for i in pas:\n",
    "        if i.isupper():\n",
    "            c_up += 1\n",
    "        elif i.islower():\n",
    "            c_low+= 1\n",
    "        elif i.isdigit():\n",
    "            c_num += 1\n",
    "        elif i in sc:\n",
    "            c_specl += 1\n",
    "            \n",
    "if (c_up>=2 and c_low >=2 and c_num >=1 and c_specl>=3):\n",
    "    print(\"Valid Password\")     \n",
    "else : print(\"invalid input\")\n",
    "    "
   ]
  },
  {
   "cell_type": "code",
   "execution_count": null,
   "id": "076d5eb1-afc8-4d39-9283-23733d7fddab",
   "metadata": {},
   "outputs": [],
   "source": []
  },
  {
   "cell_type": "markdown",
   "id": "54604f1e-1af2-4e45-a32d-df6dd9cf2625",
   "metadata": {},
   "source": [
    "#### Q2. Solve the below-given questions using at least one of the following:\n",
    "1. Lambda function\n",
    "2. Filter function\n",
    "3. Map function\n",
    "4. List Comprehension\n",
    "\n",
    "- Check if the string starts with a particular letter.\n",
    "- Check if the string is numeric.\n",
    "- Sort a list of tuples having fruit names and their quantity. [(\"mango\",99),(\"orange\",80), (\"grapes\", 1000)]\n",
    "- Find the squares of numbers from 1 to 10.\n",
    "- Find the cube root of numbers from 1 to 10.\n",
    "- Check if a given number is even.\n",
    "- Filter odd numbers from the given list.\n",
    "[1,2,3,4,5,6,7,8,9,10]\n",
    "- Sort a list of integers into positive and negative integers lists.\n",
    "[1,2,3,4,5,6,-1,-2,-3,-4,-5,0]"
   ]
  },
  {
   "cell_type": "markdown",
   "id": "e57d6212-8ea2-4c91-977a-3da146e27634",
   "metadata": {},
   "source": [
    "# Check if the string starts with a particular letter."
   ]
  },
  {
   "cell_type": "code",
   "execution_count": 24,
   "id": "dacdd7df-1113-40f7-8a14-66c56ead39e8",
   "metadata": {},
   "outputs": [
    {
     "name": "stdin",
     "output_type": "stream",
     "text": [
      "Enter a word/sentence to check if starts with Vowel dkfjd\n"
     ]
    },
    {
     "data": {
      "text/plain": [
       "\"doesn't starts with vowel\""
      ]
     },
     "execution_count": 24,
     "metadata": {},
     "output_type": "execute_result"
    }
   ],
   "source": [
    "string = input(\"Enter a word/sentence to check if starts with Vowel\").capitalize()\n",
    "\n",
    "a = lambda x: \"starts with vowel\" if x[0] in 'AEIOU' else \"doesn't starts with vowel\"\n",
    "\n",
    "a(string)"
   ]
  },
  {
   "cell_type": "code",
   "execution_count": null,
   "id": "c7a826cb-d2da-4ca9-a0b5-49b36609525f",
   "metadata": {},
   "outputs": [],
   "source": []
  },
  {
   "cell_type": "markdown",
   "id": "8f30fba7-5336-42fb-8e65-b92555587b7c",
   "metadata": {},
   "source": [
    "# Check if the string is numeric."
   ]
  },
  {
   "cell_type": "code",
   "execution_count": 30,
   "id": "751ae610-b78f-4c31-ba32-057184fb80ec",
   "metadata": {},
   "outputs": [
    {
     "name": "stdin",
     "output_type": "stream",
     "text": [
      "enter string to check if its numeric 345346\n"
     ]
    },
    {
     "name": "stdout",
     "output_type": "stream",
     "text": [
      "string is numeric\n"
     ]
    }
   ],
   "source": [
    "string= input(\"enter string to check if it's numeric\")\n",
    "\n",
    "if len(list(filter(lambda x : x.isnumeric() , string))) == len(string):\n",
    "    print(\"String is numeric\")\n",
    "else:\n",
    "    print(\"String is not numeric\")"
   ]
  },
  {
   "cell_type": "code",
   "execution_count": null,
   "id": "e17f6ddf-bc3b-4f5b-be14-79966b7e1936",
   "metadata": {},
   "outputs": [],
   "source": []
  },
  {
   "cell_type": "markdown",
   "id": "899fee8d-a57f-4543-8903-7dd928196757",
   "metadata": {},
   "source": [
    "# Sort a list of tuples having fruit names and their quantity.\n",
    "[(\"mango\",99),(\"orange\",80), (\"grapes\", 1000)]"
   ]
  },
  {
   "cell_type": "code",
   "execution_count": 32,
   "id": "bf144b90-c905-4641-a40a-d02e216e8abd",
   "metadata": {},
   "outputs": [
    {
     "data": {
      "text/plain": [
       "[('orange', 80), ('mango', 99), ('grapes', 1000)]"
      ]
     },
     "execution_count": 32,
     "metadata": {},
     "output_type": "execute_result"
    }
   ],
   "source": [
    "list1 = [(\"mango\",99),(\"orange\",80), (\"grapes\", 1000)]\n",
    "\n",
    "list1.sort(key= lambda x : x[1], reverse = False)\n",
    "\n",
    "list1\n"
   ]
  },
  {
   "cell_type": "code",
   "execution_count": null,
   "id": "243d3676-dc4f-44f5-8132-a88d20b8018a",
   "metadata": {},
   "outputs": [],
   "source": []
  },
  {
   "cell_type": "markdown",
   "id": "03e99ab2-f6ac-4d8c-8de9-4ce6db77dcb1",
   "metadata": {},
   "source": [
    "# Find the squares of numbers from 1 to 10."
   ]
  },
  {
   "cell_type": "code",
   "execution_count": 26,
   "id": "d27f5784-5bd7-45e8-b3a5-e3230ee64797",
   "metadata": {},
   "outputs": [
    {
     "name": "stdout",
     "output_type": "stream",
     "text": [
      "1\n",
      "4\n",
      "9\n",
      "16\n",
      "25\n",
      "36\n",
      "49\n",
      "64\n",
      "81\n",
      "100\n"
     ]
    }
   ],
   "source": [
    "square = map(lambda x:x*x,range(1,11))\n",
    "for i in square:\n",
    "    print(i)\n",
    "\n",
    "#list(map(lambda x:x*x,range(1,11)))"
   ]
  },
  {
   "cell_type": "code",
   "execution_count": null,
   "id": "fea47c33-680d-4e04-baea-f6d2b8fb4489",
   "metadata": {},
   "outputs": [],
   "source": []
  },
  {
   "cell_type": "markdown",
   "id": "b49073de-607c-4703-b923-b933639ea73c",
   "metadata": {},
   "source": [
    "# Find the cube root of numbers from 1 to 10."
   ]
  },
  {
   "cell_type": "code",
   "execution_count": 31,
   "id": "f30f459a-5fe7-48bd-bfaf-a08431d9fcfe",
   "metadata": {},
   "outputs": [
    {
     "data": {
      "text/plain": [
       "[1.0,\n",
       " 1.259921,\n",
       " 1.44225,\n",
       " 1.587401,\n",
       " 1.709976,\n",
       " 1.817121,\n",
       " 1.912931,\n",
       " 2.0,\n",
       " 2.080084,\n",
       " 2.154435]"
      ]
     },
     "execution_count": 31,
     "metadata": {},
     "output_type": "execute_result"
    }
   ],
   "source": [
    "#list(map(lambda x : round(x**(1/3),6), range(1,11))) #round() is rounding last decimals to 6 digits\n",
    "\n",
    "[ round( i**(1/3) , 6 ) for i in range(1,11)]"
   ]
  },
  {
   "cell_type": "code",
   "execution_count": null,
   "id": "dec51492-56f6-435a-870e-8ab0fe60150a",
   "metadata": {},
   "outputs": [],
   "source": []
  },
  {
   "cell_type": "markdown",
   "id": "988559c8-9804-41d6-b9f3-9a9cdbf6b9d3",
   "metadata": {},
   "source": [
    "# Check if a given number is even."
   ]
  },
  {
   "cell_type": "code",
   "execution_count": 59,
   "id": "2adb331b-737a-498e-9e07-a7f3760bd204",
   "metadata": {},
   "outputs": [
    {
     "name": "stdin",
     "output_type": "stream",
     "text": [
      "Enter number to check it's even 34\n"
     ]
    },
    {
     "name": "stdout",
     "output_type": "stream",
     "text": [
      "34 number is even\n"
     ]
    }
   ],
   "source": [
    "num = input(\"Enter number to check it's even\")\n",
    "\n",
    "if num.isdigit():\n",
    "    num = int(num)\n",
    "    od_ev = lambda num : \"{} number is even\".format(num) if num%2==0 else \"{} number is odd\".format(num) \n",
    "    print(od_ev(num))\n",
    "else:\n",
    "    print(\"please enter valid number\")\n",
    "\n",
    "    "
   ]
  },
  {
   "cell_type": "code",
   "execution_count": null,
   "id": "0a906da2-de22-466c-a064-938effac655e",
   "metadata": {},
   "outputs": [],
   "source": []
  },
  {
   "cell_type": "markdown",
   "id": "7302f9c6-e155-4749-8138-6f74eba5d35c",
   "metadata": {},
   "source": [
    "# Filter odd numbers from the given list. [1,2,3,4,5,6,7,8,9,10]"
   ]
  },
  {
   "cell_type": "code",
   "execution_count": 65,
   "id": "dba59b32-24bc-4bbb-9e0d-96866db2a64d",
   "metadata": {},
   "outputs": [
    {
     "name": "stdout",
     "output_type": "stream",
     "text": [
      "[1, 3, 5, 7, 9]\n"
     ]
    }
   ],
   "source": [
    "lst = [1,2,3,4,5,6,7,8,9,10]\n",
    "\n",
    "print(list(filter(lambda x : x%2!=0, lst)))\n"
   ]
  },
  {
   "cell_type": "code",
   "execution_count": null,
   "id": "64981aea-1744-4103-830b-40204d49b5e4",
   "metadata": {},
   "outputs": [],
   "source": []
  },
  {
   "cell_type": "markdown",
   "id": "5e1f690d-9caa-451c-b832-14191502aedb",
   "metadata": {},
   "source": [
    "# Sort a list of integers into positive and negative integers lists. [1,2,3,4,5,6,-1,-2,-3,-4,-5,0]"
   ]
  },
  {
   "cell_type": "code",
   "execution_count": 80,
   "id": "b5206662-a1ea-475b-9f69-544cf0ed05ea",
   "metadata": {},
   "outputs": [
    {
     "name": "stdout",
     "output_type": "stream",
     "text": [
      "positive list :  [1, 2, 3, 4, 5, 6, 0] \n",
      "negative list :  [-1, -2, -3, -4, -5]\n"
     ]
    }
   ],
   "source": [
    "lst = [1,2,3,4,5,6,-1,-2,-3,-4,-5,0]\n",
    "n=[]\n",
    "\n",
    "a=list(filter(lambda x : x if x>=0 else n.append(x),lst))\n",
    "#print(a)\n",
    "print(\"positive list : \", p , \"\\nnegative list : \",n)"
   ]
  },
  {
   "cell_type": "code",
   "execution_count": null,
   "id": "f1fbe2a3-292c-4a65-860c-50ed739fcd50",
   "metadata": {},
   "outputs": [],
   "source": []
  }
 ],
 "metadata": {
  "kernelspec": {
   "display_name": "Python 3 (ipykernel)",
   "language": "python",
   "name": "python3"
  },
  "language_info": {
   "codemirror_mode": {
    "name": "ipython",
    "version": 3
   },
   "file_extension": ".py",
   "mimetype": "text/x-python",
   "name": "python",
   "nbconvert_exporter": "python",
   "pygments_lexer": "ipython3",
   "version": "3.10.8"
  }
 },
 "nbformat": 4,
 "nbformat_minor": 5
}
