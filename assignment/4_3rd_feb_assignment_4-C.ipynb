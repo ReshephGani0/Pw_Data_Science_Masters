{
 "cells": [
  {
   "cell_type": "markdown",
   "id": "98b19884-2431-47f7-b066-3da93a1b0bee",
   "metadata": {},
   "source": [
    "# Assignment no.4\n",
    "## 3rd feb Assignment\n"
   ]
  },
  {
   "cell_type": "code",
   "execution_count": null,
   "id": "006409aa-0143-4666-bd80-32b8d2583b21",
   "metadata": {},
   "outputs": [],
   "source": []
  },
  {
   "cell_type": "markdown",
   "id": "2bf4cf1a-2986-4f27-8407-a9a5e30bbaec",
   "metadata": {},
   "source": [
    "#### Q1. Which keyword is used to create a function? Create a function to return a list of odd numbers in the range of 1 to 25."
   ]
  },
  {
   "cell_type": "markdown",
   "id": "5fd8130c-d48f-4d6f-b36d-010080eccdea",
   "metadata": {},
   "source": [
    "#### def keyword is used to create a function.\n"
   ]
  },
  {
   "cell_type": "code",
   "execution_count": 4,
   "id": "30efb5cf-fabf-4329-ab39-0cfc78ffafa1",
   "metadata": {},
   "outputs": [],
   "source": [
    "def odd(n):\n",
    "    ls=[]\n",
    "    for i in range(n+1):\n",
    "        if i%2!=0:\n",
    "            ls.append(i)\n",
    "    return ls"
   ]
  },
  {
   "cell_type": "code",
   "execution_count": 5,
   "id": "fa203f80-dd08-4dc6-83e4-a525ea9429c6",
   "metadata": {},
   "outputs": [
    {
     "data": {
      "text/plain": [
       "[1, 3, 5, 7, 9, 11, 13, 15, 17, 19, 21, 23, 25]"
      ]
     },
     "execution_count": 5,
     "metadata": {},
     "output_type": "execute_result"
    }
   ],
   "source": [
    "#pass argument to odd() to get a list of odd numbers till given argument\n",
    "odd(25)"
   ]
  },
  {
   "cell_type": "code",
   "execution_count": null,
   "id": "7000c4b2-0d28-452f-b9dc-5285300a9ea8",
   "metadata": {},
   "outputs": [],
   "source": []
  },
  {
   "cell_type": "markdown",
   "id": "dc2fd7e0-4505-48d4-b0ba-7c77098a4971",
   "metadata": {},
   "source": [
    "#### Q2. Why *args and **kwargs is used in some functions? Create a function each for *args and **kwargs to demonstrate their use."
   ]
  },
  {
   "cell_type": "markdown",
   "id": "d98dccd3-ed20-4495-ac45-4fe6bb679d03",
   "metadata": {},
   "source": [
    ">* *args to give n number of argument to function.\n",
    ">* **kwargs to give n number of key : value pair to function."
   ]
  },
  {
   "cell_type": "code",
   "execution_count": 8,
   "id": "1b439e71-ba0a-4235-9a84-49d08098eb1d",
   "metadata": {},
   "outputs": [
    {
     "data": {
      "text/plain": [
       "(1, 3, 4, 'pwskills', [5.6, 5], (3, 5, 'g'))"
      ]
     },
     "execution_count": 8,
     "metadata": {},
     "output_type": "execute_result"
    }
   ],
   "source": [
    "def test1(*args):\n",
    "    return args\n",
    "\n",
    "test1(1,3,4,\"pwskills\",[5.6,5],(3,5,'g'))\n",
    "# gave n numbers of argument to test1() function by using (*args)"
   ]
  },
  {
   "cell_type": "code",
   "execution_count": 11,
   "id": "9c855efd-f1de-4cc3-a722-bc388eff2425",
   "metadata": {},
   "outputs": [
    {
     "data": {
      "text/plain": [
       "{'a': 1, 'b': ['pw', 'skills'], 'c': ('a', 1, ['abs', 7]), 'd': 'string'}"
      ]
     },
     "execution_count": 11,
     "metadata": {},
     "output_type": "execute_result"
    }
   ],
   "source": [
    "def test2(**kwargs):\n",
    "    return kwargs\n",
    "\n",
    "test2(a = 1 , b = [\"pw\",\"skills\"] , c = (\"a\", 1,[\"abs\",7]) , d = \"string\")\n",
    "# gave n numbers of key : value pair argument to test2() function by using (**kwargs)"
   ]
  },
  {
   "cell_type": "code",
   "execution_count": 14,
   "id": "1c627312-f10b-476d-a4b8-0ce591c178ea",
   "metadata": {},
   "outputs": [
    {
     "data": {
      "text/plain": [
       "((1, 2, 3, 'e'), {'a': 1, 'b': 'string', 'c': [1, 2, 3]})"
      ]
     },
     "execution_count": 14,
     "metadata": {},
     "output_type": "execute_result"
    }
   ],
   "source": [
    "def test3(*args, **kwargs):\n",
    "    return args, kwargs\n",
    "\n",
    "test3(1,2,3,\"e\", a=1, b=\"string\", c=[1,2,3])\n",
    "# in test3() we are passing both n numbers of arguments and key : value pair"
   ]
  },
  {
   "cell_type": "markdown",
   "id": "92c7d672-cacd-4868-b9db-87d3b1969320",
   "metadata": {},
   "source": [
    "- so after getting n number of arguments and key value pair inside a function \n",
    "- we can use any logic to perform operation inside function and return desired value"
   ]
  },
  {
   "cell_type": "code",
   "execution_count": null,
   "id": "7a03d370-1a13-4c95-994a-287550fc2a53",
   "metadata": {},
   "outputs": [],
   "source": []
  },
  {
   "cell_type": "markdown",
   "id": "a40b0843-44c8-4a8e-a52d-22401f2f2b89",
   "metadata": {},
   "source": [
    "#### Q3. What is an iterator in python? Name the method used to initialise the iterator object and the method used for iteration. Use these methods to print the first five elements of the given list [2, 4, 6, 8, 10, 12, 14, 16, 18, 20]."
   ]
  },
  {
   "cell_type": "markdown",
   "id": "2034bc09-2ff8-42bc-bb63-5fc7b8652a9d",
   "metadata": {},
   "source": [
    "Iterators are methods that iterate collections like lists, tuples, etc. Using an iterator method, we can loop through an object and return its elements.\n",
    "\n",
    "Technically, a Python iterator object must implement two special methods, __iter__() and __next__(), collectively called the iterator protocol.\n",
    "\n",
    ">* iter() / .__ iter __()     method is used to initialise the iterator object\n",
    ">* next() / .__ iter __()     method is used for iteration"
   ]
  },
  {
   "cell_type": "code",
   "execution_count": null,
   "id": "8208391d-1ee6-4dd7-9096-9db04f1b69a4",
   "metadata": {},
   "outputs": [
    {
     "ename": "TypeError",
     "evalue": "'list' object is not an iterator",
     "output_type": "error",
     "traceback": [
      "\u001b[0;31m---------------------------------------------------------------------------\u001b[0m",
      "\u001b[0;31mTypeError\u001b[0m                                 Traceback (most recent call last)",
      "Cell \u001b[0;32mIn[16], line 4\u001b[0m\n\u001b[1;32m      1\u001b[0m list1 \u001b[38;5;241m=\u001b[39m[\u001b[38;5;241m2\u001b[39m, \u001b[38;5;241m4\u001b[39m, \u001b[38;5;241m6\u001b[39m, \u001b[38;5;241m8\u001b[39m, \u001b[38;5;241m10\u001b[39m, \u001b[38;5;241m12\u001b[39m, \u001b[38;5;241m14\u001b[39m, \u001b[38;5;241m16\u001b[39m, \u001b[38;5;241m18\u001b[39m, \u001b[38;5;241m20\u001b[39m]\n\u001b[1;32m      3\u001b[0m \u001b[38;5;28miter\u001b[39m(list1)\n\u001b[0;32m----> 4\u001b[0m \u001b[38;5;28mprint\u001b[39m(\u001b[38;5;28;43mnext\u001b[39;49m\u001b[43m(\u001b[49m\u001b[43mlist1\u001b[49m\u001b[43m)\u001b[49m)\n\u001b[1;32m      5\u001b[0m \u001b[38;5;28mprint\u001b[39m(\u001b[38;5;28mnext\u001b[39m(list1))\n",
      "\u001b[0;31mTypeError\u001b[0m: 'list' object is not an iterator"
     ]
    }
   ],
   "source": [
    "list1 =[2, 4, 6, 8, 10, 12, 14, 16, 18, 20]\n",
    "\n",
    "iter(list1)\n",
    "print(next(list1))\n",
    "print(next(list1))"
   ]
  },
  {
   "cell_type": "code",
   "execution_count": 41,
   "id": "23f9dc14-5a93-4185-8b9a-ff156fb71814",
   "metadata": {},
   "outputs": [
    {
     "name": "stdout",
     "output_type": "stream",
     "text": [
      "2\n",
      "4\n",
      "6\n",
      "8\n",
      "10\n"
     ]
    }
   ],
   "source": [
    "list1 =[2, 4, 6, 8, 10, 12, 14, 16, 18, 20]\n",
    "iterator= iter(list1)\n",
    "#iterator= list(list1)\n",
    "print(next(iterator))\n",
    "print(next(iterator))\n",
    "print(next(iterator))\n",
    "print(next(iterator))\n",
    "print(next(iterator))"
   ]
  },
  {
   "cell_type": "code",
   "execution_count": null,
   "id": "9c2d8d1d-6c2d-486a-96df-c809aafc4130",
   "metadata": {},
   "outputs": [],
   "source": []
  },
  {
   "cell_type": "code",
   "execution_count": null,
   "id": "811ac25d-6e6e-4b22-8ba3-09444483f604",
   "metadata": {},
   "outputs": [],
   "source": []
  },
  {
   "cell_type": "markdown",
   "id": "2d3fc312-6449-4c6b-89b9-7f57fbac7ebc",
   "metadata": {},
   "source": [
    "#### Q4. What is a generator function in python? Why yield keyword is used? Give an example of a generator function."
   ]
  },
  {
   "cell_type": "markdown",
   "id": "0a436b80-297e-4474-a35f-99be5f3caf37",
   "metadata": {},
   "source": [
    "In Python, a generator is a function that returns an iterator that produces a sequence of values when iterated over. Generators are useful when we want to produce a large sequence of values, but we don't want to store all of them in memory at once.\n",
    "\n"
   ]
  },
  {
   "cell_type": "markdown",
   "id": "e2c5b94a-28c5-44f8-881e-2a58eb932ca5",
   "metadata": {},
   "source": [
    "yield is like a return keyword/element for a function. The difference is, that the yield element turns a function into a generator. A generator behaves just like a function until something is 'yielded'. The generator stops until it is next called, and continues from exactly the same point as it started. You can get a sequence of all the 'yielded' values in one, by calling list(generator()) or it will print/return 'yeilded' value one by one sequentially."
   ]
  },
  {
   "cell_type": "code",
   "execution_count": 2,
   "id": "4950da0f-0a5b-4fd5-ac0b-0327a6b0f014",
   "metadata": {},
   "outputs": [],
   "source": [
    "def gen_functn(lst):\n",
    "    #l =[]\n",
    "    for i in lst:\n",
    "        #yield i\n",
    "        if type(i) is int or type(i) == float:\n",
    "            yield i\n",
    "        #    l.append(i)\n",
    "            \n",
    "    #return l"
   ]
  },
  {
   "cell_type": "code",
   "execution_count": 3,
   "id": "77b884ca-3cb9-444a-ac47-67da20f87e50",
   "metadata": {},
   "outputs": [],
   "source": [
    "lst1 =[2, 4, 6, 8.5,'pw','skills', \"Data\", 35, \"science\", 4.556]\n",
    "gen_functn(lst1)"
   ]
  },
  {
   "cell_type": "code",
   "execution_count": 6,
   "id": "fcb2179e-79da-4c0e-924c-455c805aacc8",
   "metadata": {},
   "outputs": [
    {
     "name": "stdout",
     "output_type": "stream",
     "text": [
      "2\n",
      "4\n",
      "6\n",
      "8.5\n",
      "35\n",
      "4.556\n"
     ]
    }
   ],
   "source": [
    "for i in gen_functn(lst1):\n",
    "    print(i)"
   ]
  },
  {
   "cell_type": "code",
   "execution_count": 5,
   "id": "449b73c5-98a0-42a8-9a01-319fc1514628",
   "metadata": {},
   "outputs": [
    {
     "name": "stdout",
     "output_type": "stream",
     "text": [
      "2\n",
      "4\n",
      "6\n",
      "8.5\n",
      "35\n",
      "4.556\n"
     ]
    }
   ],
   "source": [
    "lst1 =[2, 4, 6, 8.5,'pw','skills', \"Data\", 35, \"science\", 4.556]\n",
    "ab=gen_functn(lst1)\n",
    "for i in ab:\n",
    "    print(i)"
   ]
  },
  {
   "cell_type": "code",
   "execution_count": 45,
   "id": "065e66a2-3ca3-4bca-a505-4622e51f82e7",
   "metadata": {},
   "outputs": [
    {
     "name": "stdout",
     "output_type": "stream",
     "text": [
      "2\n",
      "4\n",
      "6\n",
      "8.5\n",
      "35\n",
      "4.556\n"
     ]
    },
    {
     "ename": "StopIteration",
     "evalue": "",
     "output_type": "error",
     "traceback": [
      "\u001b[0;31m---------------------------------------------------------------------------\u001b[0m",
      "\u001b[0;31mStopIteration\u001b[0m                             Traceback (most recent call last)",
      "Cell \u001b[0;32mIn[45], line 10\u001b[0m\n\u001b[1;32m      8\u001b[0m \u001b[38;5;28mprint\u001b[39m(\u001b[38;5;28mnext\u001b[39m(ab))\n\u001b[1;32m      9\u001b[0m \u001b[38;5;28mprint\u001b[39m(\u001b[38;5;28mnext\u001b[39m(ab))\n\u001b[0;32m---> 10\u001b[0m \u001b[38;5;28mprint\u001b[39m(\u001b[38;5;28;43mnext\u001b[39;49m\u001b[43m(\u001b[49m\u001b[43mab\u001b[49m\u001b[43m)\u001b[49m) \u001b[38;5;66;03m#stopiteration error, because exceeded next() more than yeilded value \u001b[39;00m\n",
      "\u001b[0;31mStopIteration\u001b[0m: "
     ]
    }
   ],
   "source": [
    "lst1 =[2, 4, 6, 8.5,'pw','skills', \"Data\", 35, \"science\", 4.556]\n",
    "ab=gen_functn(lst1)\n",
    "\n",
    "print(next(ab))\n",
    "print(next(ab))\n",
    "print(next(ab))\n",
    "print(next(ab))\n",
    "print(next(ab))\n",
    "print(next(ab))\n",
    "print(next(ab)) #stopiteration error, because exceeded next() more than yeilded value "
   ]
  },
  {
   "cell_type": "code",
   "execution_count": null,
   "id": "43834b81-0186-44ba-905e-55bdf037594e",
   "metadata": {},
   "outputs": [],
   "source": []
  },
  {
   "cell_type": "markdown",
   "id": "155fcd3b-6640-40f6-8553-da2b7964d8d1",
   "metadata": {},
   "source": [
    "#### Q5. Create a generator function for prime numbers less than 1000. Use the next() method to print the first 20 prime numbers."
   ]
  },
  {
   "cell_type": "code",
   "execution_count": 19,
   "id": "70150841-f7dd-40ac-8f79-39b0a5493a03",
   "metadata": {},
   "outputs": [],
   "source": [
    "def primer(n):\n",
    "    for i in range(n):\n",
    "        count =0\n",
    "        for j in range(1,i):\n",
    "            if i%j==0:\n",
    "                count+=1\n",
    "        if count == 1:\n",
    "            yield i"
   ]
  },
  {
   "cell_type": "code",
   "execution_count": 42,
   "id": "f6acbbe7-cd30-4932-a9c3-5251864f7459",
   "metadata": {},
   "outputs": [
    {
     "name": "stdout",
     "output_type": "stream",
     "text": [
      "2\n",
      "3\n",
      "5\n",
      "7\n",
      "11\n",
      "13\n",
      "17\n",
      "19\n"
     ]
    }
   ],
   "source": [
    "#iterator = iter(primer(1000))\n",
    "iterator = primer(1000) #primer() this function is generator functn, because yield keyword is their\n",
    "                       #  so without initializing iter(), direct next() will iterate through generator object\n",
    "\n",
    "print(next(iterator))\n",
    "print(next(iterator))\n",
    "print(next(iterator))\n",
    "print(next(iterator))\n",
    "print(next(iterator))\n",
    "print(next(iterator))\n",
    "print(next(iterator))\n",
    "print(next(iterator))\n",
    "\n",
    "#for i in iterator:\n",
    "#    print(i)"
   ]
  },
  {
   "cell_type": "code",
   "execution_count": 36,
   "id": "935f81f1-6f19-4c92-af77-560554ff1342",
   "metadata": {},
   "outputs": [
    {
     "name": "stdout",
     "output_type": "stream",
     "text": [
      "2\n",
      "3\n",
      "5\n",
      "7\n",
      "11\n",
      "13\n",
      "17\n",
      "19\n",
      "23\n",
      "29\n",
      "31\n"
     ]
    }
   ],
   "source": [
    "def primer1(n):\n",
    "    for i in range(1,n+5):\n",
    "        count =0\n",
    "        for j in range(2,i):\n",
    "            if i%j==0:\n",
    "                count+=1\n",
    "            elif count == 0: \n",
    "                yield i\n",
    "\n",
    "for i in primer(37):\n",
    "    print(i)"
   ]
  },
  {
   "cell_type": "code",
   "execution_count": null,
   "id": "84b1ada0-a84e-4994-bbec-0b5cacbd288f",
   "metadata": {},
   "outputs": [],
   "source": []
  }
 ],
 "metadata": {
  "kernelspec": {
   "display_name": "Python 3 (ipykernel)",
   "language": "python",
   "name": "python3"
  },
  "language_info": {
   "codemirror_mode": {
    "name": "ipython",
    "version": 3
   },
   "file_extension": ".py",
   "mimetype": "text/x-python",
   "name": "python",
   "nbconvert_exporter": "python",
   "pygments_lexer": "ipython3",
   "version": "3.10.8"
  }
 },
 "nbformat": 4,
 "nbformat_minor": 5
}
