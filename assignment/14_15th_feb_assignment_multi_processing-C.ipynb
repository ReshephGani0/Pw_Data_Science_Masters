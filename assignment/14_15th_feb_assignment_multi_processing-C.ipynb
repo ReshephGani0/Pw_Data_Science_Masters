{
 "cells": [
  {
   "cell_type": "markdown",
   "id": "32c080ea-3fa9-48ac-ba94-63c8e3d380e0",
   "metadata": {},
   "source": [
    "# Multi-Processing, Assignment no. 14\n",
    "## 15th feb 2023 Assignment"
   ]
  },
  {
   "cell_type": "code",
   "execution_count": null,
   "id": "f78e123e-23e6-4dfc-a25d-648d5e77a2a8",
   "metadata": {},
   "outputs": [],
   "source": []
  },
  {
   "cell_type": "markdown",
   "id": "c84aea70-7529-4ee0-984c-899b4c29bf13",
   "metadata": {},
   "source": [
    "#### Q1. What is multiprocessing in python? Why is it useful?"
   ]
  },
  {
   "cell_type": "markdown",
   "id": "7ece19ef-4c64-4cd7-8925-a09378beda88",
   "metadata": {},
   "source": [
    "Multiprocessing refers to the ability of a system to support more than one processor at the same time. Applications in a multiprocessing system are broken to smaller routines that run independently. The operating system allocates these threads to the processors improving performance of the system.\n",
    "\n",
    "Multiprocessing in Python is a built-in package that allows the system to run multiple processes simultaneously. It will enable the breaking of applications into smaller threads that can run independently. The operating system can then allocate all these threads or processes to the processor to run them parallelly, thus improving the overall performance and efficiency.\n",
    "\n",
    "### Multiprocessing is useful because:\n",
    "Performing multiple operations for a single processor becomes challenging. As the number of processes keeps increasing, the processor will have to halt the current process and move to the next, to keep them going. Thus, it will have to interrupt each task, thereby hampering the performance.\n",
    "\n",
    "You can think of it as an employee in an organization tasked to perform jobs in multiple departments. If the employee has to manage the sales, accounts, and even the backend, he will have to stop sales when he is into accounts and vice versa.\n",
    "\n",
    "Suppose there are different employees, each to perform a specific task. It becomes simpler, right? That’s why multiprocessing in Python becomes essential. The smaller task threads act like different employees, making it easier to handle and manage various processes. A multiprocessing system can be represented as:\n",
    "\n",
    "- A system with more than a single central processor\n",
    "- A multi-core processor, i.e., a single computing unit with multiple independent core processing units\n",
    "\n",
    "In multiprocessing, the system can divide and assign tasks to different processors."
   ]
  },
  {
   "cell_type": "code",
   "execution_count": null,
   "id": "583dd4a2-c3a0-4cc5-84cb-01f59611aab1",
   "metadata": {},
   "outputs": [],
   "source": []
  },
  {
   "cell_type": "markdown",
   "id": "dcde1994-e8da-4a58-8a09-fb1b06675e0a",
   "metadata": {},
   "source": [
    "#### Q2. What are the differences between multiprocessing and multithreading?"
   ]
  },
  {
   "cell_type": "markdown",
   "id": "ed8f2bc1-43b3-4f23-b4c5-baab9e49cc4d",
   "metadata": {},
   "source": [
    "Both Multiprocessing and Multithreading are used to increase the computing power of a system. Multiprocessing: Multiprocessing is a system that has more than one or two processors. In Multiprocessing, CPUs are added for increasing computing speed of the system. Because of Multiprocessing, There are many processes are executed simultaneously. Multiprocessing are classified into two categories:\n",
    "\n",
    "1. Symmetric Multiprocessing\n",
    "2. Asymmetric Multiprocessing "
   ]
  },
  {
   "cell_type": "markdown",
   "id": "9231de9d-1abe-4506-ba4d-b2874aa25449",
   "metadata": {},
   "source": [
    "Multithreading: Multithreading is a system in which multiple threads are created of a process for increasing the computing speed of the system. In multithreading, many threads of a process are executed simultaneously and process creation in multithreading is done according to economical. \n",
    " "
   ]
  },
  {
   "cell_type": "markdown",
   "id": "7fb5fcf9-be66-4e5c-9577-4e328a956fbe",
   "metadata": {},
   "source": [
    "1. >* In Multiprocessing, CPUs are added for increasing computing power.\n",
    ">* While In Multithreading, many threads are created of a single process for increasing computing power.\n",
    "\n",
    "2. >* In Multiprocessing, Many processes are executed simultaneously.\n",
    ">* While in multithreading, many threads of a process are executed simultaneously.\n",
    "\n",
    "3. >* Multiprocessing are classified into Symmetric and Asymmetric.\n",
    ">* While Multithreading is not classified in any categories.\n",
    "\n",
    "4. >* In Multiprocessing, Process creation is a time-consuming process.\n",
    ">* While in Multithreading, process creation is according to economical.\n",
    "\n",
    "5. >* In Multiprocessing, every process owned a separate address space.\n",
    ">* While in Multithreading, a common address space is shared by all the threads."
   ]
  },
  {
   "cell_type": "code",
   "execution_count": null,
   "id": "226e604c-9602-4d1a-970f-5150edc2d929",
   "metadata": {},
   "outputs": [],
   "source": []
  },
  {
   "cell_type": "markdown",
   "id": "6bf364ce-6287-4d01-8350-b08752da5869",
   "metadata": {},
   "source": [
    "#### Q3. Write a python code to create a process using the multiprocessing module."
   ]
  },
  {
   "cell_type": "code",
   "execution_count": 28,
   "id": "c6366c19-a794-458a-90ce-fd2089ad532a",
   "metadata": {},
   "outputs": [
    {
     "name": "stdout",
     "output_type": "stream",
     "text": [
      "3375\n",
      "100\n"
     ]
    }
   ],
   "source": [
    "import multiprocessing\n",
    "import time\n",
    "\n",
    "def square(n):\n",
    "    #return n**2\n",
    "    time.sleep(1)\n",
    "    print(n**2)\n",
    "    \n",
    "def cube(n):\n",
    "    print (n**3)\n",
    "\n",
    "if __name__ == \"__main__\":\n",
    "    m1 = multiprocessing.Process(target=square, args=(10,))\n",
    "    m2 = multiprocessing.Process(target=cube, args=(15,))\n",
    "    m1.start()\n",
    "    m2.start()\n",
    "\n",
    "    m1.join()\n",
    "    m2.join()"
   ]
  },
  {
   "cell_type": "code",
   "execution_count": null,
   "id": "558e672b-04c0-4822-92fb-d08182f82802",
   "metadata": {},
   "outputs": [],
   "source": []
  },
  {
   "cell_type": "markdown",
   "id": "f16016ad-d314-4ad5-b40f-3a0224e9f435",
   "metadata": {},
   "source": [
    "#### Q4. What is a multiprocessing pool in python? Why is it used?"
   ]
  },
  {
   "cell_type": "markdown",
   "id": "708cecac-8295-45d3-8ef2-307872a5a972",
   "metadata": {},
   "source": [
    "Python multiprocessing Pool can be used for parallel execution of a function across multiple input values, distributing the input data across processes (data parallelism)."
   ]
  },
  {
   "cell_type": "markdown",
   "id": "5b6aef93-412a-45e0-bf6b-23d68debb0a8",
   "metadata": {},
   "source": [
    "Despite the fact that Pool and Process both executes the job parallel, however their way executing job parallel is different.\n",
    "- The process class stored the processes in memory and allocates the jobs to the available processors using a FIFO scheduling. When the process is ended, it pre-empts and plan new process for execution.\n",
    "\n",
    "- The pool class using schedules execution using FIFO policy. It workings like a map reduce design. It maps the input are from different processors and bring together the output from all the processors. After the running the code, it restores the output in form of a list or array. It waits for all the jobs to finish and then returns the output. The processes in execution are puts in memory and other non-executing processes are puts away out of memory.\n",
    "\n"
   ]
  },
  {
   "cell_type": "markdown",
   "id": "d02a0113-1f14-473c-aaab-ee4453d64158",
   "metadata": {},
   "source": [
    "One can create a pool of processes which will carry out tasks submitted to it with the Pool class.\n",
    "\n",
    "### class multiprocessing.pool.Pool([processes[, initializer[, initargs[, maxtasksperchild[, context]]]]])\n",
    "\n",
    "A process pool object which controls a pool of worker processes to which jobs can be submitted. It supports asynchronous results with timeouts and callbacks and has a parallel map implementation.\n",
    "\n",
    "- processes is the number of worker processes to use. If processes is None then the number returned by os.cpu_count() is used.\n",
    "\n",
    "- If initializer is not None then each worker process will call initializer(*initargs) when it starts.\n",
    "\n",
    "- maxtasksperchild is the number of tasks a worker process can complete before it will exit and be replaced with a fresh worker process, to enable unused resources to be freed. The default maxtasksperchild is None, which means worker processes will live as long as the pool.\n",
    "\n",
    "- context can be used to specify the context used for starting the worker processes. Usually a pool is created using the function multiprocessing.Pool() or the Pool() method of a context object. In both cases context is set appropriately.\n",
    "\n",
    ">* Note that the methods of the pool object should only be called by the process which created the pool.\n",
    ">* creating a pool object :\n",
    "    p = multiprocessing.Pool()\n",
    ">* map list to target function :\n",
    "    result = p.map(square, mylist)"
   ]
  },
  {
   "cell_type": "markdown",
   "id": "89f5111d-a7ee-4405-9a0f-f127b385f397",
   "metadata": {},
   "source": [
    "#### Warning \n",
    "multiprocessing.pool objects have internal resources that need to be properly managed (like any other resource) by using the pool as a context manager or by calling close() and terminate() manually. Failure to do this can lead to the process hanging on finalization.\n",
    "Note that it is not correct to rely on the garbage collector to destroy the pool as CPython does not assure that the finalizer of the pool will be called. (object.__del__())"
   ]
  },
  {
   "cell_type": "code",
   "execution_count": null,
   "id": "4e9ddae4-9324-47e2-9ed4-e23642ae5f25",
   "metadata": {},
   "outputs": [],
   "source": []
  },
  {
   "cell_type": "code",
   "execution_count": null,
   "id": "3bbf683a-99b3-4936-a8ae-28d9a9afc453",
   "metadata": {},
   "outputs": [],
   "source": []
  },
  {
   "cell_type": "markdown",
   "id": "dba9c5d1-ef40-44ae-b603-6afa12d8ee50",
   "metadata": {},
   "source": [
    "#### Q5. How can we create a pool of worker processes in python using the multiprocessing module?"
   ]
  },
  {
   "cell_type": "markdown",
   "id": "969ad995-cc7f-4967-b334-6445298996db",
   "metadata": {},
   "source": [
    "In order to utilize all the cores, multiprocessing module provides a Pool class. The Pool class represents a pool of worker processes. It has methods which allows tasks to be offloaded to the worker processes in a few different ways. \n",
    "\n",
    "The task is offloaded/distributed among the cores/processes automatically by Pool object. User doesn’t need to worry about creating processes explicitly."
   ]
  },
  {
   "cell_type": "code",
   "execution_count": 1,
   "id": "eca487ba-803b-4084-9ea7-24c38cc34ceb",
   "metadata": {},
   "outputs": [
    {
     "name": "stdout",
     "output_type": "stream",
     "text": [
      "\n",
      " Worker process id for 2 : 4036\n",
      " Worker process id for 5 : 4039\n",
      " Worker process id for 4 : 4038\n",
      " Worker process id for 6 : 4040\n",
      " Worker process id for 3 : 4037\n",
      "\n",
      "\n",
      "\n",
      "\n",
      "\n",
      " Worker process id for 7 : 4036\n",
      " Worker process id for 8 : 4039\n",
      "\n",
      "[4, 9, 16, 25, 36, 49, 64]\n"
     ]
    }
   ],
   "source": [
    "import multiprocessing\n",
    "import os\n",
    "def square(n):\n",
    "    print(f\"\\n Worker process id for {n} : {os.getpid()}\")\n",
    "    return n*n\n",
    "\n",
    "if __name__ == \"__main__\":\n",
    "    \n",
    "    with multiprocessing.Pool(processes=5) as po:\n",
    "        result2 = po.map(square, [2,3,4,5,6,7,8])\n",
    "        #po.terminate()\n",
    "        \n",
    "    print(result2)\n",
    "      "
   ]
  },
  {
   "cell_type": "markdown",
   "id": "3f73f1b6-47e8-493a-aee6-615cdf371d4d",
   "metadata": {},
   "source": [
    "### Let us try to understand above code step by step:\n",
    "\n",
    "We create a Pool object using:\n",
    ">* p = multiprocessing.Pool()\n",
    "\n",
    "There are a few arguments for gaining more control over offloading of task. These are:\n",
    "- processes: specify the number of worker processes.\n",
    "- maxtasksperchild: specify the maximum number of task to be assigned per child.\n",
    "\n",
    "All the processes in a pool can be made to perform some initialization using these arguments:\n",
    "- initializer: specify an initialization function for worker processes.\n",
    "- initargs: arguments to be passed to initializer.\n",
    "\n",
    "Now, in order to perform some task, we have to map it to some function. In the example above, we map mylist to square function. As a result, the contents of mylist and definition of square will be distributed among the cores.\n",
    ">*  result = p.map(square, mylist)\n",
    "\n",
    "- Once all the worker processes finish their task, a list is returned with the final result."
   ]
  },
  {
   "cell_type": "code",
   "execution_count": null,
   "id": "1704e44c-531e-4101-86e9-3908c28ee464",
   "metadata": {},
   "outputs": [],
   "source": []
  },
  {
   "cell_type": "markdown",
   "id": "f5f029f7-9513-466d-967c-a474784a3486",
   "metadata": {},
   "source": [
    "#### Q6. Write a python program to create 4 processes, each process should print a different number using the multiprocessing module in python."
   ]
  },
  {
   "cell_type": "code",
   "execution_count": 4,
   "id": "e67997f9-99bb-4f8b-8f45-85714fc72925",
   "metadata": {},
   "outputs": [
    {
     "name": "stdout",
     "output_type": "stream",
     "text": [
      "m1 process pid : 4175\n",
      "m2 process pid : 4178\n",
      "m3 process pid : 4185\n",
      "m4 process pid : 4190\n"
     ]
    }
   ],
   "source": [
    "import multiprocessing\n",
    "import os\n",
    "\n",
    "\n",
    "def func(s):\n",
    "    print(f\"{s} process pid : {os.getpid()}\")    \n",
    "\n",
    "    \n",
    "if __name__ == \"__main__\":\n",
    "    \n",
    "    m1 = multiprocessing.Process(target=func, args=('m1',))\n",
    "    m2 = multiprocessing.Process(target=func, args=('m2',))\n",
    "    m3 = multiprocessing.Process(target=func, args=('m3',))\n",
    "    m4 = multiprocessing.Process(target=func, args=('m4',))\n",
    "    \n",
    "    \n",
    "    m1.start()\n",
    "    m2.start()\n",
    "    m3.start()\n",
    "    m4.start()\n",
    "    \n",
    "    m1.join()\n",
    "    m2.join()\n",
    "    m3.join()\n",
    "    m4.join()\n",
    "    \n",
    "    #print(f'm1 pid :{m1.pid}, m2 pid : {m2.pid}, m3 pid :{m3.pid}, m4 pid :{m4.pid}') # pid is Process id"
   ]
  },
  {
   "cell_type": "code",
   "execution_count": null,
   "id": "6bc6eb19-16d9-460d-bb03-e2a777aa70b6",
   "metadata": {},
   "outputs": [],
   "source": []
  }
 ],
 "metadata": {
  "kernelspec": {
   "display_name": "Python 3 (ipykernel)",
   "language": "python",
   "name": "python3"
  },
  "language_info": {
   "codemirror_mode": {
    "name": "ipython",
    "version": 3
   },
   "file_extension": ".py",
   "mimetype": "text/x-python",
   "name": "python",
   "nbconvert_exporter": "python",
   "pygments_lexer": "ipython3",
   "version": "3.10.8"
  }
 },
 "nbformat": 4,
 "nbformat_minor": 5
}
