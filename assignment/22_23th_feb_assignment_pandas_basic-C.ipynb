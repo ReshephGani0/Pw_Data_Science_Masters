{
 "cells": [
  {
   "cell_type": "markdown",
   "id": "94685a3d-edc6-4060-8438-283addffa98a",
   "metadata": {},
   "source": [
    "# Pandas Basic, Assignment no. 22\n",
    "## 23th feb 2023 Assignment\n",
    "\n",
    "pandas library for tabular data manupulation"
   ]
  },
  {
   "cell_type": "code",
   "execution_count": null,
   "id": "e609f55f-ee79-415a-b8c0-5a53a2dfd2b2",
   "metadata": {},
   "outputs": [],
   "source": []
  },
  {
   "cell_type": "markdown",
   "id": "1e033ab6-a60c-42ff-98ab-523e2afa9185",
   "metadata": {},
   "source": [
    "#### Q1. Create a Pandas Series that contains the following data: 4, 8, 15, 16, 23, and 42. Then, print the series."
   ]
  },
  {
   "cell_type": "code",
   "execution_count": 2,
   "id": "771ce604-e0fc-4acd-9f8c-385c47a18d80",
   "metadata": {},
   "outputs": [
    {
     "name": "stdout",
     "output_type": "stream",
     "text": [
      "0     4\n",
      "1     8\n",
      "2     1\n",
      "3    16\n",
      "4    23\n",
      "5    42\n",
      "dtype: int64\n",
      "<class 'pandas.core.series.Series'>\n"
     ]
    }
   ],
   "source": [
    "import pandas as pd\n",
    "data = [4,8,1,16,23,42]\n",
    "seris = pd.Series(data)\n",
    "print(seris)\n",
    "print(type(seris))"
   ]
  },
  {
   "cell_type": "code",
   "execution_count": null,
   "id": "fcbe5881-3fe7-4ff6-9fed-cbe19947de03",
   "metadata": {},
   "outputs": [],
   "source": []
  },
  {
   "cell_type": "markdown",
   "id": "1c6e0ddc-a695-4042-b0cf-e8667fcd782e",
   "metadata": {},
   "source": [
    "#### Q2. Create a variable of list type containing 10 elements in it, and apply pandas.Series function on the variable print it."
   ]
  },
  {
   "cell_type": "code",
   "execution_count": 4,
   "id": "cd99d712-bc88-44c5-9366-a3e38b9cd108",
   "metadata": {},
   "outputs": [
    {
     "name": "stdout",
     "output_type": "stream",
     "text": [
      "0     1\n",
      "1     2\n",
      "2     3\n",
      "3     4\n",
      "4     5\n",
      "5     6\n",
      "6     7\n",
      "7     8\n",
      "8     9\n",
      "9    10\n",
      "dtype: int64 \n",
      " \n",
      " type of data structure is <class 'pandas.core.series.Series'>\n"
     ]
    }
   ],
   "source": [
    "data = [1,2,3,4,5,6,7,8,9,10]\n",
    "\n",
    "sr1 = pd.Series(data)\n",
    "print(sr1, \"\\n \\n type of data structure is\", type(sr1))"
   ]
  },
  {
   "cell_type": "code",
   "execution_count": null,
   "id": "a4485f0a-a5d8-4518-9db9-7c71d911885c",
   "metadata": {},
   "outputs": [],
   "source": []
  },
  {
   "cell_type": "markdown",
   "id": "69e6cf21-a8ac-4ea4-b794-e45fc2f2cce2",
   "metadata": {},
   "source": [
    "#### Q3. Create a Pandas DataFrame that contains the following data:\n",
    "\n",
    "| Name | Age | Gender |\n",
    "|-----|-----|-----|\n",
    "| Alice | 25 | Female |\n",
    "| Bob | 30 | Male |\n",
    "| Claire | 27 | Female |\n",
    "\n",
    "\n",
    "Then, print the DataFrame."
   ]
  },
  {
   "cell_type": "code",
   "execution_count": 12,
   "id": "343e9099-740f-4646-82ca-436beba74e13",
   "metadata": {},
   "outputs": [
    {
     "name": "stdout",
     "output_type": "stream",
     "text": [
      "     Name  Age  Gender\n",
      "0   Alice   25  Female\n",
      "1     Bob   30    Male\n",
      "2  Claire   27  Female\n"
     ]
    }
   ],
   "source": [
    "data = {'Name':['Alice','Bob','Claire'],\n",
    "        'Age': [25,30,27],\n",
    "        'Gender': ['Female','Male','Female']\n",
    "}\n",
    "\n",
    "df = pd.DataFrame(data)\n",
    "print(df)"
   ]
  },
  {
   "cell_type": "code",
   "execution_count": null,
   "id": "da41397f-d305-4536-a4d2-b04200b26f11",
   "metadata": {},
   "outputs": [],
   "source": []
  },
  {
   "cell_type": "markdown",
   "id": "cdbeea5c-a546-4782-b194-0190e6509f76",
   "metadata": {},
   "source": [
    "#### Q4. What is ‘DataFrame’ in pandas and how is it different from pandas.series? Explain with an example."
   ]
  },
  {
   "cell_type": "markdown",
   "id": "23632117-61fe-486a-977d-44673082e7aa",
   "metadata": {},
   "source": [
    "Python provides a library called pandas that is popular with data scientists and analysts. Pandas enable users to manipulate and analyze data using sophisticated data analysis tools.\n",
    "\n",
    "Pandas provide two data structures that shape data into a readable form:\n",
    "- **Series**\n",
    "- **DataFrame**\n",
    "\n",
    "# Series\n",
    "A pandas series is a one-dimensional data structure that comprises of key-value pair, where keys/labels are the indices and values are the values stored on that index. It is similar to a python dictionary, except it provides more freedom to manipulate and edit the data.\n",
    "\n",
    "Representation of a series data structure\n",
    "Syntax\n",
    "Initializing a series We use pandas.Series()to initialize a series object using Pandas.\n",
    "\n",
    "The syntax to initialize different series objects is shown below:"
   ]
  },
  {
   "cell_type": "code",
   "execution_count": null,
   "id": "acd5da78-2400-4b7b-b5d0-3328f12aaf5f",
   "metadata": {},
   "outputs": [],
   "source": [
    "import pandas\n",
    "\n",
    "##### INTIALIZATION #####\n",
    "\n",
    "#STRING SERIES\n",
    "fruits = pandas.Series([\"apples\", \"oranges\", \"bananas\"])\n",
    "\n",
    "print(\"Fruit series:\")\n",
    "print(fruits)\n",
    "\n",
    "#FLOAT SERIES\n",
    "temperature = pandas.Series([32.6, 34.1, 28.0, 35.9])\n",
    "\n",
    "print(\"\\nTemperature series:\")\n",
    "print(temperature)\n",
    "\n",
    "#INTEGER SERIES\n",
    "factors_of_12 = pandas.Series([1,2,4,6,12])\n",
    "\n",
    "print(\"\\nFactors of 12 series:\")\n",
    "print(factors_of_12)\n",
    "\n",
    "print(\"Type of this data structure is:\", type(factors_of_12))"
   ]
  },
  {
   "cell_type": "markdown",
   "id": "e5741cf1-b5c1-4bb7-97f6-9fad7059ed21",
   "metadata": {},
   "source": [
    "In the code example above, there are three different series initialized by providing a list to the pandas.Series() method. Every element in the series has a label/index. By default, the indices are similar to an array index e.g., start with 0 and end at N−1, where N is the number of elements in that list.\n",
    "\n",
    "However, we can provide our indices by using the index parameter of the pandas.Series() method."
   ]
  },
  {
   "cell_type": "code",
   "execution_count": 11,
   "id": "ecd8b579-f33a-4968-9047-6de8e87a69fa",
   "metadata": {},
   "outputs": [
    {
     "name": "stdout",
     "output_type": "stream",
     "text": [
      "Fruit series:\n",
      "4     apples\n",
      "3    oranges\n",
      "2    bananas\n",
      "dtype: object\n",
      "\n",
      "Temperature series:\n",
      "one      32.6\n",
      "two      34.1\n",
      "three    28.0\n",
      "four     35.9\n",
      "dtype: float64\n",
      "\n",
      "Factors of 12 series:\n",
      "1     1\n",
      "1     2\n",
      "2     4\n",
      "2     6\n",
      "3    12\n",
      "dtype: int64\n",
      "Type of this data structure is: <class 'pandas.core.series.Series'>\n"
     ]
    }
   ],
   "source": [
    "import pandas\n",
    "\n",
    "# Integer indices\n",
    "fruits = pandas.Series([\"apples\", \"oranges\", \"bananas\"], index=[4, 3, 2])\n",
    "\n",
    "print(\"Fruit series:\")\n",
    "print(fruits)\n",
    "\n",
    "# String indices\n",
    "temperature = pandas.Series([32.6, 34.1, 28.0, 35.9], index=[\"one\", \"two\", \"three\", \"four\"])\n",
    "\n",
    "print(\"\\nTemperature series:\")\n",
    "print(temperature)\n",
    "\n",
    "# Non-unique index values\n",
    "factors_of_12 = pandas.Series([1,2,4,6,12], index=[1, 1, 2, 2, 3])\n",
    "\n",
    "print(\"\\nFactors of 12 series:\")\n",
    "print(factors_of_12)\n",
    "\n",
    "print(\"Type of this data structure is:\", type(factors_of_12))"
   ]
  },
  {
   "cell_type": "markdown",
   "id": "7f038c1f-2823-411e-ac46-d6e8bc67e7ca",
   "metadata": {},
   "source": [
    "We can have indices with hashable data types e.g., integers and strings. Index values don't have to be unique (shown in the above code example).\n",
    "\n",
    "Moreover, you can name your series by passing a string to the name argument in the pandas.Series() method:"
   ]
  },
  {
   "cell_type": "code",
   "execution_count": 12,
   "id": "f8daca48-f8d9-497e-939f-b3feac5dd79a",
   "metadata": {},
   "outputs": [
    {
     "name": "stdout",
     "output_type": "stream",
     "text": [
      "Fruit series:\n",
      "0     apples\n",
      "1    oranges\n",
      "2    bananas\n",
      "Name: fruit_series, dtype: object\n"
     ]
    }
   ],
   "source": [
    "import pandas\n",
    "\n",
    "fruit = pandas.Series([\"apples\", \"oranges\", \"bananas\"], name = \"fruit_series\")\n",
    "\n",
    "print(\"Fruit series:\")\n",
    "print(fruit)\n"
   ]
  },
  {
   "cell_type": "markdown",
   "id": "025c0012-9926-4de6-8ee2-f6b3b360d0a4",
   "metadata": {},
   "source": [
    "We can also initialize our series with a python dictionary using the following syntax:"
   ]
  },
  {
   "cell_type": "code",
   "execution_count": 13,
   "id": "7ca01b35-b528-4831-a3f1-f371c6e70ad1",
   "metadata": {},
   "outputs": [
    {
     "name": "stdout",
     "output_type": "stream",
     "text": [
      "Series:\n",
      "a      25\n",
      "bb     30\n",
      "c      50\n",
      "za     21\n",
      "2     200\n",
      "dtype: int64\n"
     ]
    }
   ],
   "source": [
    "import pandas\n",
    "\n",
    "data = {'a': 25, 'bb': 30, 'c': 50, 'za': 21, 2: 200}\n",
    "\n",
    "fruit = pandas.Series(data)\n",
    "\n",
    "print(\"Series:\")\n",
    "print(fruit)\n"
   ]
  },
  {
   "cell_type": "markdown",
   "id": "9a8bc166-6a0a-4579-9b4e-85bfcf9220a3",
   "metadata": {},
   "source": [
    "#### Querying a series object\n",
    "**To query a series using the default/built-in labels, we use .iloc[] method or the bracket operator []. To query using the user-defined labels/indices we use .loc[] method.**"
   ]
  },
  {
   "cell_type": "code",
   "execution_count": 86,
   "id": "e760fac4-a6d3-4394-9505-baf635d09f22",
   "metadata": {},
   "outputs": [
    {
     "name": "stdout",
     "output_type": "stream",
     "text": [
      "Fruit series:\n",
      "a     apples\n",
      "b    oranges\n",
      "c    bananas\n",
      "dtype: object\n",
      "\n",
      "2nd fruit using .iloc[]:  oranges\n",
      "\n",
      "2nd fruit using default/built-in index:  oranges\n",
      "\n",
      "Fruit at key \"b\" using .loc[]:  oranges\n",
      "\n",
      " Index(['a', 'b', 'c'], dtype='object')\n",
      "\n",
      " ['apples' 'oranges' 'bananas']\n"
     ]
    }
   ],
   "source": [
    "import pandas\n",
    "\n",
    "fruits = pandas.Series([\"apples\", \"oranges\", \"bananas\"], index=['a', 'b', 'c'])\n",
    "\n",
    "print(\"Fruit series:\")\n",
    "print(fruits)\n",
    "\n",
    "##### ACCESSING DATA #####\n",
    "\n",
    "#Using .iloc\n",
    "print (\"\\n2nd fruit using .iloc[]: \", fruits.iloc[1])\n",
    "\n",
    "#Using index\n",
    "print (\"\\n2nd fruit using default/built-in index: \", fruits[1])\n",
    "\n",
    "#Using loc\n",
    "print (\"\\nFruit at key \\\"b\\\" using .loc[]: \", fruits.loc['b'])\n",
    "\n",
    "#only index\n",
    "print('\\n', fruits.index)\n",
    "\n",
    "#only series values\n",
    "print('\\n', fruits.values)"
   ]
  },
  {
   "cell_type": "markdown",
   "id": "f9d64165-6c58-4a1f-a06f-40d044bd91b3",
   "metadata": {},
   "source": [
    "# DataFrame\n",
    "\n",
    "A pandas DataFrame is a two-dimensional data structure that can be thought of as a spreadsheet. It can also be thought of as a collection of two or more series with common indices.\n",
    "tabular form data row and column wise\n",
    "\n",
    "Syntax\n",
    "Initializing a DataFrame\n",
    "To initialize a DataFrame, use pandas.DataFrame():"
   ]
  },
  {
   "cell_type": "code",
   "execution_count": 15,
   "id": "8d4992e2-8285-4ecd-86f0-056c0b546edf",
   "metadata": {},
   "outputs": [
    {
     "name": "stdout",
     "output_type": "stream",
     "text": [
      "Dataframe with default indices:\n",
      "     Jack's        John's\n",
      "0   apples        guavas\n",
      "1  oranges         kiwis\n",
      "2  bananas  strawberries \n",
      "\n",
      "Dataframe with given indices:\n",
      "     Jack's        John's\n",
      "a   apples        guavas\n",
      "b  oranges         kiwis\n",
      "c  bananas  strawberries \n",
      "\n"
     ]
    }
   ],
   "source": [
    "import pandas as pd\n",
    "\n",
    "##### INITIALIZATION #####\n",
    "\n",
    "fruits_jack = [\"apples\", \"oranges\", \"bananas\"]\n",
    "fruits_john = [\"guavas\", \"kiwis\", \"strawberries\"]\n",
    "index = [\"a\", \"b\", \"c\"]\n",
    "all_fruits = {\"Jack's\": fruits_jack, \"John's\": fruits_john}\n",
    "\n",
    "fruits_default_index = pd.DataFrame(all_fruits)\n",
    "print(\"Dataframe with default indices:\\n\", fruits_default_index, \"\\n\")\n",
    "\n",
    "new_fruits = pd.DataFrame(all_fruits, index = index)\n",
    "print(\"Dataframe with given indices:\\n\", new_fruits, \"\\n\")"
   ]
  },
  {
   "cell_type": "markdown",
   "id": "70e0a5dc-98b0-4db5-874b-49780dc367b3",
   "metadata": {},
   "source": [
    "In the code example above, a DataFrame is initialized using a dictionary with two key-value pairs. Every key in this dictionary represents a column in the resulting DataFrame and the value represents all the elements in this column.\n",
    "\n",
    "Both of the lists comprising of fruits as values are used to make a Python dictionary which is then passed to the pandas.DataFrame() method to make a DataFrame.\n",
    "\n",
    "For the second DataFrame, we passed a list of indexes using the index argument in the pandas.DataFrame() method to use our custom indices.\n",
    "\n",
    "Querying a DataFrame\n",
    "The DataFrame can be queried in multiple ways.\n",
    "\n",
    ".loc[] can be used to query the DataFrame using the user-defined indexes.\n",
    "\n",
    ".iloc[] can be used to query using the default/built-in indexes.\n",
    "\n",
    "Bracket operator [] can be used to query specific indices or columns.\n",
    "\n",
    "We can also use chained queries to query a specific cell in the DataFrame.\n",
    "\n",
    "These queries return a series or a single object depending on the type of query. Querying a row or a column returns series while querying a cell returns an object."
   ]
  },
  {
   "cell_type": "code",
   "execution_count": 18,
   "id": "0d6e0a44-511d-4439-8b8d-3cfb5738b747",
   "metadata": {},
   "outputs": [
    {
     "name": "stdout",
     "output_type": "stream",
     "text": [
      "    Jack's        John's\n",
      "a   apples        guavas\n",
      "b  oranges         kiwis\n",
      "c  bananas  strawberries \n",
      "\n",
      "    Jack's        John's\n",
      "0   apples        guavas\n",
      "1  oranges         kiwis\n",
      "2  bananas  strawberries \n",
      "\n",
      "1st fruit:\n",
      "Jack's    apples\n",
      "John's    guavas\n",
      "Name: a, dtype: object \n",
      "\n",
      "Fruits at key \"c\":\n",
      "Jack's         bananas\n",
      "John's    strawberries\n",
      "Name: c, dtype: object \n",
      "\n",
      "Jack's fruits: \n",
      "a     apples\n",
      "b    oranges\n",
      "c    bananas\n",
      "Name: Jack's, dtype: object \n",
      "\n",
      "Johns third fruit: \n",
      "strawberries \n",
      "\n"
     ]
    }
   ],
   "source": [
    "import pandas as pd\n",
    "\n",
    "##### INITIALIZATION #####\n",
    "\n",
    "fruits_jack = [\"apples\", \"oranges\", \"bananas\"]\n",
    "fruits_john = [\"guavas\", \"kiwis\", \"strawberries\"]\n",
    "index = [\"a\", \"b\", \"c\"]\n",
    "all_fruits = {\"Jack's\": fruits_jack, \"John's\": fruits_john}\n",
    "\n",
    "fruits = pd.DataFrame(all_fruits, index = index)\n",
    "print(fruits, \"\\n\")\n",
    "\n",
    "new_fruits = pd.DataFrame(all_fruits)\n",
    "print(new_fruits, \"\\n\")\n",
    "\n",
    "\n",
    "##### QUERY #####\n",
    "\n",
    "#USING INDEX\n",
    "print(\"1st fruit:\")\n",
    "print(fruits.iloc[0], \"\\n\")\n",
    "\n",
    "#USING KEY\n",
    "print(\"Fruits at key \\\"c\\\":\")\n",
    "print(fruits.loc[\"c\"], \"\\n\")\n",
    "\n",
    "#USING COLUMN NAME\n",
    "print(\"Jack's fruits: \")\n",
    "print(fruits[\"Jack's\"], \"\\n\")\n",
    "\n",
    "#CHAINED QUERY, querying a cell\n",
    "print(\"Johns third fruit: \")\n",
    "print(fruits[\"John's\"][2], \"\\n\")"
   ]
  },
  {
   "cell_type": "code",
   "execution_count": null,
   "id": "6e6b2a27-f1a3-4dfb-a835-ed314d798db6",
   "metadata": {},
   "outputs": [],
   "source": []
  },
  {
   "cell_type": "markdown",
   "id": "331bcff3-2a90-4233-a63e-20123aa7c1e7",
   "metadata": {},
   "source": [
    "#### Q5. What are some common functions you can use to manipulate data in a Pandas DataFrame? Can you give an example of when you might use one of these functions?"
   ]
  },
  {
   "cell_type": "markdown",
   "id": "0d7359c7-5786-4c82-b2f1-e6c312fc68fc",
   "metadata": {},
   "source": [
    "Before manipulating the dataframe with pandas we have to understand what is data manipulation. The data in the real world is very unpleasant & unordered so by performing certain operations we can make data understandable based on one’s requirements, this process of converting unordered data into meaningful information can be done by data manipulation.\n",
    "\n",
    "Here, we will learn how to manipulate dataframes with pandas. Pandas is an open-source library that is used from data manipulation to data analysis & is very powerful, flexible & easy to use tool which can be imported using import pandas as pd. Pandas deal essentially with data in 1-D and 2-D arrays; Although, pandas handles these two differently. In pandas, 1-D arrays are stated as a series & a dataframe is simply a 2-D array. \n",
    "\n",
    "\n"
   ]
  },
  {
   "cell_type": "code",
   "execution_count": 6,
   "id": "71026dcf-f81b-42df-9dbe-4fbda58799fb",
   "metadata": {},
   "outputs": [
    {
     "name": "stdout",
     "output_type": "stream",
     "text": [
      "<class 'pandas.core.frame.DataFrame'>\n"
     ]
    },
    {
     "data": {
      "text/html": [
       "<div>\n",
       "<style scoped>\n",
       "    .dataframe tbody tr th:only-of-type {\n",
       "        vertical-align: middle;\n",
       "    }\n",
       "\n",
       "    .dataframe tbody tr th {\n",
       "        vertical-align: top;\n",
       "    }\n",
       "\n",
       "    .dataframe thead th {\n",
       "        text-align: right;\n",
       "    }\n",
       "</style>\n",
       "<table border=\"1\" class=\"dataframe\">\n",
       "  <thead>\n",
       "    <tr style=\"text-align: right;\">\n",
       "      <th></th>\n",
       "      <th>Name</th>\n",
       "      <th>Age</th>\n",
       "      <th>Gender</th>\n",
       "    </tr>\n",
       "  </thead>\n",
       "  <tbody>\n",
       "    <tr>\n",
       "      <th>0</th>\n",
       "      <td>Alice</td>\n",
       "      <td>25</td>\n",
       "      <td>Female</td>\n",
       "    </tr>\n",
       "    <tr>\n",
       "      <th>1</th>\n",
       "      <td>Bob</td>\n",
       "      <td>30</td>\n",
       "      <td>Male</td>\n",
       "    </tr>\n",
       "    <tr>\n",
       "      <th>2</th>\n",
       "      <td>Claire</td>\n",
       "      <td>27</td>\n",
       "      <td>Female</td>\n",
       "    </tr>\n",
       "    <tr>\n",
       "      <th>3</th>\n",
       "      <td>mohan</td>\n",
       "      <td>28</td>\n",
       "      <td>Male</td>\n",
       "    </tr>\n",
       "    <tr>\n",
       "      <th>4</th>\n",
       "      <td>sohan</td>\n",
       "      <td>28</td>\n",
       "      <td>Male</td>\n",
       "    </tr>\n",
       "    <tr>\n",
       "      <th>5</th>\n",
       "      <td>rohan</td>\n",
       "      <td>21</td>\n",
       "      <td>Male</td>\n",
       "    </tr>\n",
       "  </tbody>\n",
       "</table>\n",
       "</div>"
      ],
      "text/plain": [
       "     Name  Age  Gender\n",
       "0   Alice   25  Female\n",
       "1     Bob   30    Male\n",
       "2  Claire   27  Female\n",
       "3   mohan   28    Male\n",
       "4   sohan   28    Male\n",
       "5   rohan   21    Male"
      ]
     },
     "execution_count": 6,
     "metadata": {},
     "output_type": "execute_result"
    }
   ],
   "source": [
    "data = {'Name':['Alice','Bob','Claire','mohan','sohan','rohan'],\n",
    "        'Age': [25,30,27,28,28,21],\n",
    "        'Gender': ['Female','Male','Female','Male','Male','Male']\n",
    "}\n",
    "\n",
    "df = pd.DataFrame(data)\n",
    "print(type(df))\n",
    "df"
   ]
  },
  {
   "cell_type": "code",
   "execution_count": 7,
   "id": "661a024d-32e6-45c9-9899-e097a8567f2e",
   "metadata": {},
   "outputs": [
    {
     "data": {
      "text/plain": [
       "Name      object\n",
       "Age        int64\n",
       "Gender    object\n",
       "dtype: object"
      ]
     },
     "execution_count": 7,
     "metadata": {},
     "output_type": "execute_result"
    }
   ],
   "source": [
    "df.dtypes #print datatype of columns where object is string"
   ]
  },
  {
   "cell_type": "code",
   "execution_count": 8,
   "id": "5314e873-c30b-43d8-8f02-43a1103c789b",
   "metadata": {},
   "outputs": [
    {
     "data": {
      "text/html": [
       "<div>\n",
       "<style scoped>\n",
       "    .dataframe tbody tr th:only-of-type {\n",
       "        vertical-align: middle;\n",
       "    }\n",
       "\n",
       "    .dataframe tbody tr th {\n",
       "        vertical-align: top;\n",
       "    }\n",
       "\n",
       "    .dataframe thead th {\n",
       "        text-align: right;\n",
       "    }\n",
       "</style>\n",
       "<table border=\"1\" class=\"dataframe\">\n",
       "  <thead>\n",
       "    <tr style=\"text-align: right;\">\n",
       "      <th></th>\n",
       "      <th>Name</th>\n",
       "      <th>Age</th>\n",
       "      <th>Gender</th>\n",
       "    </tr>\n",
       "  </thead>\n",
       "  <tbody>\n",
       "    <tr>\n",
       "      <th>0</th>\n",
       "      <td>Alice</td>\n",
       "      <td>25</td>\n",
       "      <td>Female</td>\n",
       "    </tr>\n",
       "    <tr>\n",
       "      <th>1</th>\n",
       "      <td>Bob</td>\n",
       "      <td>30</td>\n",
       "      <td>Male</td>\n",
       "    </tr>\n",
       "    <tr>\n",
       "      <th>2</th>\n",
       "      <td>Claire</td>\n",
       "      <td>27</td>\n",
       "      <td>Female</td>\n",
       "    </tr>\n",
       "    <tr>\n",
       "      <th>3</th>\n",
       "      <td>mohan</td>\n",
       "      <td>28</td>\n",
       "      <td>Male</td>\n",
       "    </tr>\n",
       "    <tr>\n",
       "      <th>4</th>\n",
       "      <td>sohan</td>\n",
       "      <td>28</td>\n",
       "      <td>Male</td>\n",
       "    </tr>\n",
       "  </tbody>\n",
       "</table>\n",
       "</div>"
      ],
      "text/plain": [
       "     Name  Age  Gender\n",
       "0   Alice   25  Female\n",
       "1     Bob   30    Male\n",
       "2  Claire   27  Female\n",
       "3   mohan   28    Male\n",
       "4   sohan   28    Male"
      ]
     },
     "execution_count": 8,
     "metadata": {},
     "output_type": "execute_result"
    }
   ],
   "source": [
    "df.head() #print first 5 rows/records in dataframe by-default, if an integer is passed as an argument then, that many of row will get printed"
   ]
  },
  {
   "cell_type": "code",
   "execution_count": 9,
   "id": "f83b6cd2-339b-4d73-b9d9-8edbb512fa7f",
   "metadata": {},
   "outputs": [
    {
     "data": {
      "text/plain": [
       "(6, 3)"
      ]
     },
     "execution_count": 9,
     "metadata": {},
     "output_type": "execute_result"
    }
   ],
   "source": [
    "df.shape # will print no. of rows and columns"
   ]
  },
  {
   "cell_type": "code",
   "execution_count": 10,
   "id": "a6361fe5-0a59-42ee-a895-b09cd0e9bc72",
   "metadata": {},
   "outputs": [
    {
     "data": {
      "text/html": [
       "<div>\n",
       "<style scoped>\n",
       "    .dataframe tbody tr th:only-of-type {\n",
       "        vertical-align: middle;\n",
       "    }\n",
       "\n",
       "    .dataframe tbody tr th {\n",
       "        vertical-align: top;\n",
       "    }\n",
       "\n",
       "    .dataframe thead th {\n",
       "        text-align: right;\n",
       "    }\n",
       "</style>\n",
       "<table border=\"1\" class=\"dataframe\">\n",
       "  <thead>\n",
       "    <tr style=\"text-align: right;\">\n",
       "      <th></th>\n",
       "      <th>Age</th>\n",
       "    </tr>\n",
       "  </thead>\n",
       "  <tbody>\n",
       "    <tr>\n",
       "      <th>count</th>\n",
       "      <td>6.000000</td>\n",
       "    </tr>\n",
       "    <tr>\n",
       "      <th>mean</th>\n",
       "      <td>26.500000</td>\n",
       "    </tr>\n",
       "    <tr>\n",
       "      <th>std</th>\n",
       "      <td>3.146427</td>\n",
       "    </tr>\n",
       "    <tr>\n",
       "      <th>min</th>\n",
       "      <td>21.000000</td>\n",
       "    </tr>\n",
       "    <tr>\n",
       "      <th>25%</th>\n",
       "      <td>25.500000</td>\n",
       "    </tr>\n",
       "    <tr>\n",
       "      <th>50%</th>\n",
       "      <td>27.500000</td>\n",
       "    </tr>\n",
       "    <tr>\n",
       "      <th>75%</th>\n",
       "      <td>28.000000</td>\n",
       "    </tr>\n",
       "    <tr>\n",
       "      <th>max</th>\n",
       "      <td>30.000000</td>\n",
       "    </tr>\n",
       "  </tbody>\n",
       "</table>\n",
       "</div>"
      ],
      "text/plain": [
       "             Age\n",
       "count   6.000000\n",
       "mean   26.500000\n",
       "std     3.146427\n",
       "min    21.000000\n",
       "25%    25.500000\n",
       "50%    27.500000\n",
       "75%    28.000000\n",
       "max    30.000000"
      ]
     },
     "execution_count": 10,
     "metadata": {},
     "output_type": "execute_result"
    }
   ],
   "source": [
    "df.describe() # print details of int datatype column in dataframe"
   ]
  },
  {
   "cell_type": "markdown",
   "id": "79ce038a-fc03-4642-8d17-9eca3a230499",
   "metadata": {},
   "source": [
    "Dropping the missing values in DataFrame, it can be done using the dropna() method, it removes all the NaN values in the dataframe."
   ]
  },
  {
   "cell_type": "code",
   "execution_count": 11,
   "id": "e0ed5293-fa39-4447-af5e-f86045d0e83a",
   "metadata": {},
   "outputs": [
    {
     "data": {
      "text/html": [
       "<div>\n",
       "<style scoped>\n",
       "    .dataframe tbody tr th:only-of-type {\n",
       "        vertical-align: middle;\n",
       "    }\n",
       "\n",
       "    .dataframe tbody tr th {\n",
       "        vertical-align: top;\n",
       "    }\n",
       "\n",
       "    .dataframe thead th {\n",
       "        text-align: right;\n",
       "    }\n",
       "</style>\n",
       "<table border=\"1\" class=\"dataframe\">\n",
       "  <thead>\n",
       "    <tr style=\"text-align: right;\">\n",
       "      <th></th>\n",
       "      <th>Name</th>\n",
       "      <th>Age</th>\n",
       "      <th>Gender</th>\n",
       "    </tr>\n",
       "  </thead>\n",
       "  <tbody>\n",
       "    <tr>\n",
       "      <th>0</th>\n",
       "      <td>Alice</td>\n",
       "      <td>25</td>\n",
       "      <td>Female</td>\n",
       "    </tr>\n",
       "    <tr>\n",
       "      <th>1</th>\n",
       "      <td>Bob</td>\n",
       "      <td>30</td>\n",
       "      <td>Male</td>\n",
       "    </tr>\n",
       "    <tr>\n",
       "      <th>2</th>\n",
       "      <td>Claire</td>\n",
       "      <td>27</td>\n",
       "      <td>Female</td>\n",
       "    </tr>\n",
       "    <tr>\n",
       "      <th>3</th>\n",
       "      <td>mohan</td>\n",
       "      <td>28</td>\n",
       "      <td>Male</td>\n",
       "    </tr>\n",
       "    <tr>\n",
       "      <th>4</th>\n",
       "      <td>sohan</td>\n",
       "      <td>28</td>\n",
       "      <td>Male</td>\n",
       "    </tr>\n",
       "    <tr>\n",
       "      <th>5</th>\n",
       "      <td>rohan</td>\n",
       "      <td>21</td>\n",
       "      <td>Male</td>\n",
       "    </tr>\n",
       "  </tbody>\n",
       "</table>\n",
       "</div>"
      ],
      "text/plain": [
       "     Name  Age  Gender\n",
       "0   Alice   25  Female\n",
       "1     Bob   30    Male\n",
       "2  Claire   27  Female\n",
       "3   mohan   28    Male\n",
       "4   sohan   28    Male\n",
       "5   rohan   21    Male"
      ]
     },
     "execution_count": 11,
     "metadata": {},
     "output_type": "execute_result"
    }
   ],
   "source": [
    "df.dropna()"
   ]
  },
  {
   "cell_type": "code",
   "execution_count": 12,
   "id": "231eb6c5-d4c6-4737-8c64-8704e9be1a07",
   "metadata": {},
   "outputs": [
    {
     "data": {
      "text/html": [
       "<div>\n",
       "<style scoped>\n",
       "    .dataframe tbody tr th:only-of-type {\n",
       "        vertical-align: middle;\n",
       "    }\n",
       "\n",
       "    .dataframe tbody tr th {\n",
       "        vertical-align: top;\n",
       "    }\n",
       "\n",
       "    .dataframe thead th {\n",
       "        text-align: right;\n",
       "    }\n",
       "</style>\n",
       "<table border=\"1\" class=\"dataframe\">\n",
       "  <thead>\n",
       "    <tr style=\"text-align: right;\">\n",
       "      <th></th>\n",
       "      <th>Name</th>\n",
       "      <th>Age</th>\n",
       "      <th>Gender</th>\n",
       "    </tr>\n",
       "  </thead>\n",
       "  <tbody>\n",
       "    <tr>\n",
       "      <th>0</th>\n",
       "      <td>Alice</td>\n",
       "      <td>25</td>\n",
       "      <td>Female</td>\n",
       "    </tr>\n",
       "    <tr>\n",
       "      <th>1</th>\n",
       "      <td>Bob</td>\n",
       "      <td>30</td>\n",
       "      <td>Male</td>\n",
       "    </tr>\n",
       "    <tr>\n",
       "      <th>2</th>\n",
       "      <td>Claire</td>\n",
       "      <td>27</td>\n",
       "      <td>Female</td>\n",
       "    </tr>\n",
       "    <tr>\n",
       "      <th>3</th>\n",
       "      <td>mohan</td>\n",
       "      <td>28</td>\n",
       "      <td>Male</td>\n",
       "    </tr>\n",
       "    <tr>\n",
       "      <th>4</th>\n",
       "      <td>sohan</td>\n",
       "      <td>28</td>\n",
       "      <td>Male</td>\n",
       "    </tr>\n",
       "    <tr>\n",
       "      <th>5</th>\n",
       "      <td>rohan</td>\n",
       "      <td>21</td>\n",
       "      <td>Male</td>\n",
       "    </tr>\n",
       "  </tbody>\n",
       "</table>\n",
       "</div>"
      ],
      "text/plain": [
       "     Name  Age  Gender\n",
       "0   Alice   25  Female\n",
       "1     Bob   30    Male\n",
       "2  Claire   27  Female\n",
       "3   mohan   28    Male\n",
       "4   sohan   28    Male\n",
       "5   rohan   21    Male"
      ]
     },
     "execution_count": 12,
     "metadata": {},
     "output_type": "execute_result"
    }
   ],
   "source": [
    "df.dropna(axis=1) #This will drop all the columns with any missing values."
   ]
  },
  {
   "cell_type": "code",
   "execution_count": 16,
   "id": "1ce0a9fd-6592-4d82-8191-a7a670ca59f6",
   "metadata": {},
   "outputs": [],
   "source": [
    "df2 =[2400000,2500000,2600000,2700000,2800000,3000000]\n",
    "df['salary'] = df2 # adding new column in our dataframe"
   ]
  },
  {
   "cell_type": "code",
   "execution_count": 17,
   "id": "05d4e5a4-a5ad-4499-ab6c-96cafd57a961",
   "metadata": {},
   "outputs": [
    {
     "data": {
      "text/html": [
       "<div>\n",
       "<style scoped>\n",
       "    .dataframe tbody tr th:only-of-type {\n",
       "        vertical-align: middle;\n",
       "    }\n",
       "\n",
       "    .dataframe tbody tr th {\n",
       "        vertical-align: top;\n",
       "    }\n",
       "\n",
       "    .dataframe thead th {\n",
       "        text-align: right;\n",
       "    }\n",
       "</style>\n",
       "<table border=\"1\" class=\"dataframe\">\n",
       "  <thead>\n",
       "    <tr style=\"text-align: right;\">\n",
       "      <th></th>\n",
       "      <th>Name</th>\n",
       "      <th>Age</th>\n",
       "      <th>Gender</th>\n",
       "      <th>salary</th>\n",
       "    </tr>\n",
       "  </thead>\n",
       "  <tbody>\n",
       "    <tr>\n",
       "      <th>0</th>\n",
       "      <td>Alice</td>\n",
       "      <td>25</td>\n",
       "      <td>Female</td>\n",
       "      <td>2400000</td>\n",
       "    </tr>\n",
       "    <tr>\n",
       "      <th>1</th>\n",
       "      <td>Bob</td>\n",
       "      <td>30</td>\n",
       "      <td>Male</td>\n",
       "      <td>2500000</td>\n",
       "    </tr>\n",
       "    <tr>\n",
       "      <th>2</th>\n",
       "      <td>Claire</td>\n",
       "      <td>27</td>\n",
       "      <td>Female</td>\n",
       "      <td>2600000</td>\n",
       "    </tr>\n",
       "    <tr>\n",
       "      <th>3</th>\n",
       "      <td>mohan</td>\n",
       "      <td>28</td>\n",
       "      <td>Male</td>\n",
       "      <td>2700000</td>\n",
       "    </tr>\n",
       "    <tr>\n",
       "      <th>4</th>\n",
       "      <td>sohan</td>\n",
       "      <td>28</td>\n",
       "      <td>Male</td>\n",
       "      <td>2800000</td>\n",
       "    </tr>\n",
       "    <tr>\n",
       "      <th>5</th>\n",
       "      <td>rohan</td>\n",
       "      <td>21</td>\n",
       "      <td>Male</td>\n",
       "      <td>3000000</td>\n",
       "    </tr>\n",
       "  </tbody>\n",
       "</table>\n",
       "</div>"
      ],
      "text/plain": [
       "     Name  Age  Gender   salary\n",
       "0   Alice   25  Female  2400000\n",
       "1     Bob   30    Male  2500000\n",
       "2  Claire   27  Female  2600000\n",
       "3   mohan   28    Male  2700000\n",
       "4   sohan   28    Male  2800000\n",
       "5   rohan   21    Male  3000000"
      ]
     },
     "execution_count": 17,
     "metadata": {},
     "output_type": "execute_result"
    }
   ],
   "source": [
    "df"
   ]
  },
  {
   "cell_type": "code",
   "execution_count": 18,
   "id": "9bfd3e2c-afcf-473f-bc73-c1b56e9c9ed4",
   "metadata": {},
   "outputs": [
    {
     "data": {
      "text/html": [
       "<div>\n",
       "<style scoped>\n",
       "    .dataframe tbody tr th:only-of-type {\n",
       "        vertical-align: middle;\n",
       "    }\n",
       "\n",
       "    .dataframe tbody tr th {\n",
       "        vertical-align: top;\n",
       "    }\n",
       "\n",
       "    .dataframe thead th {\n",
       "        text-align: right;\n",
       "    }\n",
       "</style>\n",
       "<table border=\"1\" class=\"dataframe\">\n",
       "  <thead>\n",
       "    <tr style=\"text-align: right;\">\n",
       "      <th></th>\n",
       "      <th>Name</th>\n",
       "      <th>Age</th>\n",
       "      <th>Gender</th>\n",
       "      <th>income</th>\n",
       "    </tr>\n",
       "  </thead>\n",
       "  <tbody>\n",
       "    <tr>\n",
       "      <th>0</th>\n",
       "      <td>Alice</td>\n",
       "      <td>25</td>\n",
       "      <td>Female</td>\n",
       "      <td>2400000</td>\n",
       "    </tr>\n",
       "    <tr>\n",
       "      <th>1</th>\n",
       "      <td>Bob</td>\n",
       "      <td>30</td>\n",
       "      <td>Male</td>\n",
       "      <td>2500000</td>\n",
       "    </tr>\n",
       "    <tr>\n",
       "      <th>2</th>\n",
       "      <td>Claire</td>\n",
       "      <td>27</td>\n",
       "      <td>Female</td>\n",
       "      <td>2600000</td>\n",
       "    </tr>\n",
       "    <tr>\n",
       "      <th>3</th>\n",
       "      <td>mohan</td>\n",
       "      <td>28</td>\n",
       "      <td>Male</td>\n",
       "      <td>2700000</td>\n",
       "    </tr>\n",
       "    <tr>\n",
       "      <th>4</th>\n",
       "      <td>sohan</td>\n",
       "      <td>28</td>\n",
       "      <td>Male</td>\n",
       "      <td>2800000</td>\n",
       "    </tr>\n",
       "    <tr>\n",
       "      <th>5</th>\n",
       "      <td>rohan</td>\n",
       "      <td>21</td>\n",
       "      <td>Male</td>\n",
       "      <td>3000000</td>\n",
       "    </tr>\n",
       "  </tbody>\n",
       "</table>\n",
       "</div>"
      ],
      "text/plain": [
       "     Name  Age  Gender   income\n",
       "0   Alice   25  Female  2400000\n",
       "1     Bob   30    Male  2500000\n",
       "2  Claire   27  Female  2600000\n",
       "3   mohan   28    Male  2700000\n",
       "4   sohan   28    Male  2800000\n",
       "5   rohan   21    Male  3000000"
      ]
     },
     "execution_count": 18,
     "metadata": {},
     "output_type": "execute_result"
    }
   ],
   "source": [
    "df4 = df.rename(columns={'salary':'income'}, inplace = False) # renaming column name\n",
    "df4"
   ]
  },
  {
   "cell_type": "code",
   "execution_count": 19,
   "id": "fbce7123-1471-4b88-9e63-a69b0e46dd8c",
   "metadata": {},
   "outputs": [
    {
     "data": {
      "text/html": [
       "<div>\n",
       "<style scoped>\n",
       "    .dataframe tbody tr th:only-of-type {\n",
       "        vertical-align: middle;\n",
       "    }\n",
       "\n",
       "    .dataframe tbody tr th {\n",
       "        vertical-align: top;\n",
       "    }\n",
       "\n",
       "    .dataframe thead th {\n",
       "        text-align: right;\n",
       "    }\n",
       "</style>\n",
       "<table border=\"1\" class=\"dataframe\">\n",
       "  <thead>\n",
       "    <tr style=\"text-align: right;\">\n",
       "      <th></th>\n",
       "      <th>Name</th>\n",
       "      <th>Age</th>\n",
       "      <th>Gender</th>\n",
       "      <th>salary</th>\n",
       "    </tr>\n",
       "  </thead>\n",
       "  <tbody>\n",
       "    <tr>\n",
       "      <th>5</th>\n",
       "      <td>rohan</td>\n",
       "      <td>21</td>\n",
       "      <td>Male</td>\n",
       "      <td>3000000</td>\n",
       "    </tr>\n",
       "    <tr>\n",
       "      <th>0</th>\n",
       "      <td>Alice</td>\n",
       "      <td>25</td>\n",
       "      <td>Female</td>\n",
       "      <td>2400000</td>\n",
       "    </tr>\n",
       "    <tr>\n",
       "      <th>2</th>\n",
       "      <td>Claire</td>\n",
       "      <td>27</td>\n",
       "      <td>Female</td>\n",
       "      <td>2600000</td>\n",
       "    </tr>\n",
       "    <tr>\n",
       "      <th>3</th>\n",
       "      <td>mohan</td>\n",
       "      <td>28</td>\n",
       "      <td>Male</td>\n",
       "      <td>2700000</td>\n",
       "    </tr>\n",
       "    <tr>\n",
       "      <th>4</th>\n",
       "      <td>sohan</td>\n",
       "      <td>28</td>\n",
       "      <td>Male</td>\n",
       "      <td>2800000</td>\n",
       "    </tr>\n",
       "    <tr>\n",
       "      <th>1</th>\n",
       "      <td>Bob</td>\n",
       "      <td>30</td>\n",
       "      <td>Male</td>\n",
       "      <td>2500000</td>\n",
       "    </tr>\n",
       "  </tbody>\n",
       "</table>\n",
       "</div>"
      ],
      "text/plain": [
       "     Name  Age  Gender   salary\n",
       "5   rohan   21    Male  3000000\n",
       "0   Alice   25  Female  2400000\n",
       "2  Claire   27  Female  2600000\n",
       "3   mohan   28    Male  2700000\n",
       "4   sohan   28    Male  2800000\n",
       "1     Bob   30    Male  2500000"
      ]
     },
     "execution_count": 19,
     "metadata": {},
     "output_type": "execute_result"
    }
   ],
   "source": [
    "df.sort_values(by=['Age'], ascending =True) # sorting dataframe using 'Age' column in ascending order"
   ]
  },
  {
   "cell_type": "code",
   "execution_count": 20,
   "id": "ff3f30f9-966a-4028-9415-f9d72f36f21c",
   "metadata": {},
   "outputs": [
    {
     "data": {
      "text/html": [
       "<div>\n",
       "<style scoped>\n",
       "    .dataframe tbody tr th:only-of-type {\n",
       "        vertical-align: middle;\n",
       "    }\n",
       "\n",
       "    .dataframe tbody tr th {\n",
       "        vertical-align: top;\n",
       "    }\n",
       "\n",
       "    .dataframe thead th {\n",
       "        text-align: right;\n",
       "    }\n",
       "</style>\n",
       "<table border=\"1\" class=\"dataframe\">\n",
       "  <thead>\n",
       "    <tr style=\"text-align: right;\">\n",
       "      <th></th>\n",
       "      <th>Name</th>\n",
       "      <th>Age</th>\n",
       "      <th>Gender</th>\n",
       "      <th>salary</th>\n",
       "    </tr>\n",
       "  </thead>\n",
       "  <tbody>\n",
       "    <tr>\n",
       "      <th>0</th>\n",
       "      <td>Alice</td>\n",
       "      <td>25</td>\n",
       "      <td>Female</td>\n",
       "      <td>2400000</td>\n",
       "    </tr>\n",
       "    <tr>\n",
       "      <th>1</th>\n",
       "      <td>Bob</td>\n",
       "      <td>30</td>\n",
       "      <td>Male</td>\n",
       "      <td>2500000</td>\n",
       "    </tr>\n",
       "    <tr>\n",
       "      <th>2</th>\n",
       "      <td>Claire</td>\n",
       "      <td>27</td>\n",
       "      <td>Female</td>\n",
       "      <td>2600000</td>\n",
       "    </tr>\n",
       "    <tr>\n",
       "      <th>3</th>\n",
       "      <td>mohan</td>\n",
       "      <td>28</td>\n",
       "      <td>Male</td>\n",
       "      <td>2700000</td>\n",
       "    </tr>\n",
       "    <tr>\n",
       "      <th>5</th>\n",
       "      <td>rohan</td>\n",
       "      <td>21</td>\n",
       "      <td>Male</td>\n",
       "      <td>3000000</td>\n",
       "    </tr>\n",
       "    <tr>\n",
       "      <th>4</th>\n",
       "      <td>sohan</td>\n",
       "      <td>28</td>\n",
       "      <td>Male</td>\n",
       "      <td>2800000</td>\n",
       "    </tr>\n",
       "  </tbody>\n",
       "</table>\n",
       "</div>"
      ],
      "text/plain": [
       "     Name  Age  Gender   salary\n",
       "0   Alice   25  Female  2400000\n",
       "1     Bob   30    Male  2500000\n",
       "2  Claire   27  Female  2600000\n",
       "3   mohan   28    Male  2700000\n",
       "5   rohan   21    Male  3000000\n",
       "4   sohan   28    Male  2800000"
      ]
     },
     "execution_count": 20,
     "metadata": {},
     "output_type": "execute_result"
    }
   ],
   "source": [
    "df.sort_values(by=['Name','Age'], ascending =[True,True]) #Sorting the DataFrame using multiple columns"
   ]
  },
  {
   "cell_type": "code",
   "execution_count": 21,
   "id": "b2dafe91-c913-44e2-8630-ff4173d9d863",
   "metadata": {},
   "outputs": [],
   "source": [
    "df['tax'] = df['salary']*0.90 #creating new column using maths opertion in already existing column"
   ]
  },
  {
   "cell_type": "code",
   "execution_count": 22,
   "id": "0374ec8b-cc98-4598-9301-4d2064a31162",
   "metadata": {},
   "outputs": [
    {
     "data": {
      "text/html": [
       "<div>\n",
       "<style scoped>\n",
       "    .dataframe tbody tr th:only-of-type {\n",
       "        vertical-align: middle;\n",
       "    }\n",
       "\n",
       "    .dataframe tbody tr th {\n",
       "        vertical-align: top;\n",
       "    }\n",
       "\n",
       "    .dataframe thead th {\n",
       "        text-align: right;\n",
       "    }\n",
       "</style>\n",
       "<table border=\"1\" class=\"dataframe\">\n",
       "  <thead>\n",
       "    <tr style=\"text-align: right;\">\n",
       "      <th></th>\n",
       "      <th>Name</th>\n",
       "      <th>Age</th>\n",
       "      <th>Gender</th>\n",
       "      <th>salary</th>\n",
       "      <th>tax</th>\n",
       "    </tr>\n",
       "  </thead>\n",
       "  <tbody>\n",
       "    <tr>\n",
       "      <th>0</th>\n",
       "      <td>Alice</td>\n",
       "      <td>25</td>\n",
       "      <td>Female</td>\n",
       "      <td>2400000</td>\n",
       "      <td>2160000.0</td>\n",
       "    </tr>\n",
       "    <tr>\n",
       "      <th>1</th>\n",
       "      <td>Bob</td>\n",
       "      <td>30</td>\n",
       "      <td>Male</td>\n",
       "      <td>2500000</td>\n",
       "      <td>2250000.0</td>\n",
       "    </tr>\n",
       "    <tr>\n",
       "      <th>2</th>\n",
       "      <td>Claire</td>\n",
       "      <td>27</td>\n",
       "      <td>Female</td>\n",
       "      <td>2600000</td>\n",
       "      <td>2340000.0</td>\n",
       "    </tr>\n",
       "    <tr>\n",
       "      <th>3</th>\n",
       "      <td>mohan</td>\n",
       "      <td>28</td>\n",
       "      <td>Male</td>\n",
       "      <td>2700000</td>\n",
       "      <td>2430000.0</td>\n",
       "    </tr>\n",
       "    <tr>\n",
       "      <th>4</th>\n",
       "      <td>sohan</td>\n",
       "      <td>28</td>\n",
       "      <td>Male</td>\n",
       "      <td>2800000</td>\n",
       "      <td>2520000.0</td>\n",
       "    </tr>\n",
       "    <tr>\n",
       "      <th>5</th>\n",
       "      <td>rohan</td>\n",
       "      <td>21</td>\n",
       "      <td>Male</td>\n",
       "      <td>3000000</td>\n",
       "      <td>2700000.0</td>\n",
       "    </tr>\n",
       "  </tbody>\n",
       "</table>\n",
       "</div>"
      ],
      "text/plain": [
       "     Name  Age  Gender   salary        tax\n",
       "0   Alice   25  Female  2400000  2160000.0\n",
       "1     Bob   30    Male  2500000  2250000.0\n",
       "2  Claire   27  Female  2600000  2340000.0\n",
       "3   mohan   28    Male  2700000  2430000.0\n",
       "4   sohan   28    Male  2800000  2520000.0\n",
       "5   rohan   21    Male  3000000  2700000.0"
      ]
     },
     "execution_count": 22,
     "metadata": {},
     "output_type": "execute_result"
    }
   ],
   "source": [
    "df"
   ]
  },
  {
   "cell_type": "code",
   "execution_count": 23,
   "id": "6c82e6f0-6f98-4b8d-b429-b68cbda5c6ac",
   "metadata": {},
   "outputs": [
    {
     "name": "stdout",
     "output_type": "stream",
     "text": [
      "    Name  Age Gender   salary        tax\n",
      "1    Bob   30   Male  2500000  2250000.0\n",
      "3  mohan   28   Male  2700000  2430000.0\n",
      "4  sohan   28   Male  2800000  2520000.0\n"
     ]
    }
   ],
   "source": [
    "print(df[df['Age']>27]) #printing where age is greater than 27 in dataframe"
   ]
  },
  {
   "cell_type": "code",
   "execution_count": 80,
   "id": "8fddd703-24bd-40b1-b870-97a42086f434",
   "metadata": {},
   "outputs": [
    {
     "name": "stdout",
     "output_type": "stream",
     "text": [
      "0     Alice\n",
      "1       Bob\n",
      "2    Claire\n",
      "3     mohan\n",
      "4     sohan\n",
      "Name: Name, dtype: object \n",
      "\n",
      "0    25\n",
      "1    30\n",
      "2    27\n",
      "3    28\n",
      "4    28\n",
      "5    21\n",
      "Name: Age, dtype: int64 \n",
      "\n",
      "Name    Alice\n",
      "Age        25\n",
      "Name: 0, dtype: object \n",
      "\n",
      "     Name  Age  Gender\n",
      "0   Alice   25  Female\n",
      "1     Bob   30    Male\n",
      "2  Claire   27  Female \n",
      "\n",
      "     Name  Age\n",
      "0   Alice   25\n",
      "1     Bob   30\n",
      "2  Claire   27\n",
      "3   mohan   28\n",
      "4   sohan   28\n",
      "5   rohan   21 \n",
      "\n"
     ]
    }
   ],
   "source": [
    "# Printing five rows with name column only\n",
    "# i.e. printing first 5 names.\n",
    "print(df.loc[0:4, 'Name'], \"\\n\")\n",
    " \n",
    "# Printing all the rows with age column\n",
    "# only i.e. printing age of all the person\n",
    "print(df.loc[:, 'Age'], \"\\n\")\n",
    " \n",
    "# Printing only first rows having name and age columns\n",
    "#i.e. print first person name & age in dataframe.\n",
    "print(df.iloc[0, 0:2], \"\\n\")\n",
    " \n",
    "# Printing first 3 rows having name,age and salary columns \n",
    "#i.e. printing first three person's name, age & salary.\n",
    "print(df.iloc[0:3, 0:3], \"\\n\")\n",
    " \n",
    "# Printing all rows having name & age columns \n",
    "#i.e. printing all person name & their age.\n",
    "print(df.iloc[:, 0:2], \"\\n\")"
   ]
  },
  {
   "cell_type": "code",
   "execution_count": 82,
   "id": "86a15f1a-1674-4dde-b5fc-aee2834501d7",
   "metadata": {},
   "outputs": [
    {
     "data": {
      "text/html": [
       "<div>\n",
       "<style scoped>\n",
       "    .dataframe tbody tr th:only-of-type {\n",
       "        vertical-align: middle;\n",
       "    }\n",
       "\n",
       "    .dataframe tbody tr th {\n",
       "        vertical-align: top;\n",
       "    }\n",
       "\n",
       "    .dataframe thead th {\n",
       "        text-align: right;\n",
       "    }\n",
       "</style>\n",
       "<table border=\"1\" class=\"dataframe\">\n",
       "  <thead>\n",
       "    <tr style=\"text-align: right;\">\n",
       "      <th></th>\n",
       "      <th>Name</th>\n",
       "      <th>Age</th>\n",
       "      <th>Gender</th>\n",
       "      <th>salary</th>\n",
       "      <th>tax</th>\n",
       "    </tr>\n",
       "  </thead>\n",
       "  <tbody>\n",
       "    <tr>\n",
       "      <th>0</th>\n",
       "      <td>Alice</td>\n",
       "      <td>25</td>\n",
       "      <td>Female</td>\n",
       "      <td>9600000</td>\n",
       "      <td>2160000.0</td>\n",
       "    </tr>\n",
       "    <tr>\n",
       "      <th>1</th>\n",
       "      <td>Bob</td>\n",
       "      <td>30</td>\n",
       "      <td>Male</td>\n",
       "      <td>10000000</td>\n",
       "      <td>2250000.0</td>\n",
       "    </tr>\n",
       "    <tr>\n",
       "      <th>2</th>\n",
       "      <td>Claire</td>\n",
       "      <td>27</td>\n",
       "      <td>Female</td>\n",
       "      <td>10400000</td>\n",
       "      <td>2340000.0</td>\n",
       "    </tr>\n",
       "    <tr>\n",
       "      <th>3</th>\n",
       "      <td>mohan</td>\n",
       "      <td>28</td>\n",
       "      <td>Male</td>\n",
       "      <td>10800000</td>\n",
       "      <td>2430000.0</td>\n",
       "    </tr>\n",
       "    <tr>\n",
       "      <th>4</th>\n",
       "      <td>sohan</td>\n",
       "      <td>28</td>\n",
       "      <td>Male</td>\n",
       "      <td>11200000</td>\n",
       "      <td>2520000.0</td>\n",
       "    </tr>\n",
       "    <tr>\n",
       "      <th>5</th>\n",
       "      <td>rohan</td>\n",
       "      <td>21</td>\n",
       "      <td>Male</td>\n",
       "      <td>12000000</td>\n",
       "      <td>2700000.0</td>\n",
       "    </tr>\n",
       "  </tbody>\n",
       "</table>\n",
       "</div>"
      ],
      "text/plain": [
       "     Name  Age  Gender    salary        tax\n",
       "0   Alice   25  Female   9600000  2160000.0\n",
       "1     Bob   30    Male  10000000  2250000.0\n",
       "2  Claire   27  Female  10400000  2340000.0\n",
       "3   mohan   28    Male  10800000  2430000.0\n",
       "4   sohan   28    Male  11200000  2520000.0\n",
       "5   rohan   21    Male  12000000  2700000.0"
      ]
     },
     "execution_count": 82,
     "metadata": {},
     "output_type": "execute_result"
    }
   ],
   "source": [
    "# explicit function\n",
    "def double(a):\n",
    "    return 2*a\n",
    " \n",
    "df['salary'] = df['salary'].apply(double) # we can also use lambda function in-place of explicit function\n",
    " \n",
    "# Reading Dataframe\n",
    "df"
   ]
  },
  {
   "cell_type": "code",
   "execution_count": null,
   "id": "9fef7d59-e00d-4ba6-ab98-3b67bbebec5a",
   "metadata": {},
   "outputs": [],
   "source": []
  },
  {
   "cell_type": "markdown",
   "id": "72c8cdd7-18ab-4425-ae15-ffaa4c44f261",
   "metadata": {},
   "source": [
    "## "
   ]
  },
  {
   "cell_type": "markdown",
   "id": "eae46894-919d-45b1-85bc-a0d1d476719b",
   "metadata": {},
   "source": [
    "#### Q6. Which of the following is mutable in nature Series, DataFrame, Panel?"
   ]
  },
  {
   "cell_type": "markdown",
   "id": "cc25aa7a-f324-49d2-94ff-0931e0c6b6a5",
   "metadata": {},
   "source": [
    "Pandas in Python deals with three data structures namely\n",
    "\n",
    "- Series\n",
    "- DataFrame\n",
    "- Panel\n",
    " \n",
    "\n",
    "Dimensions and Descriptions of Pandas Datastructure:\n",
    "1. Series – 1D labeled homogeneous array, sizeimmutable\n",
    "2. Data Frames – 2D labeled, size-mutable tabular structure with heterogenic columns\n",
    "3. Panel – 3D labeled size mutable array.\n",
    " \n",
    "\n",
    "**Series in Pandas:**\n",
    "Series is a one-dimensional array with homogeneous data.  All the elements of series should be of same data type\n",
    "\n",
    "Example:\n",
    "\n",
    "12\t9\t7\t6\t11\t5\n",
    " \n",
    "\n",
    "A\tD\tT\tE\tP\tV \n",
    "\n",
    "> Key Features of a Series:\n",
    "> - Homogeneous data\n",
    "> - Size Immutable –size cannot be changed\n",
    "> - Values of Data Mutable\n",
    " \n",
    "\n",
    "**DataFrame in pandas:**\n",
    "DataFrame is a two-dimensional array with heterogeneous data, usually represented in the tabular format. The data is represented in rows and columns. Each column represents an attribute and each row represents a person.\n",
    "\n",
    "\n",
    "| Name | City | Exam | date | score |\n",
    "|-----|------|----|----|----|\n",
    "| Arindam | Bangalore | 15-Jan | 76 |\n",
    "| Ally | Washington | 23-Apr | 56 |\n",
    "| jackson | London | 12-Feb | 86 |\n",
    "| ivy | Madrid | 8-Jul | 67 |\n",
    "\n",
    "> Key Features of a DataFrame:\n",
    "> - Heterogeneous data\n",
    "> - Size Mutable\n",
    "> - Data Mutable\n",
    " \n",
    "\n",
    "**Panel in pandas:**\n",
    "Panel is a three-dimensional data structure with heterogeneous data.\n",
    "\n",
    "> Key Features of a Panel:\n",
    "> - Heterogeneous data\n",
    "> - Size Mutable\n",
    "> - Data Mutable"
   ]
  },
  {
   "attachments": {
    "d2ca5ac7-4481-47bc-a47c-04c062055cc0.png": {
     "image/png": "[encoded data removed]"
    }
   },
   "cell_type": "markdown",
   "id": "a1cb40eb-fb93-496c-aacd-b10476e2e68e",
   "metadata": {},
   "source": [
    "![image.png](attachment:d2ca5ac7-4481-47bc-a47c-04c062055cc0.png)"
   ]
  },
  {
   "cell_type": "code",
   "execution_count": null,
   "id": "d5a452d8-d95a-4ac8-aee5-d00db2f7e295",
   "metadata": {},
   "outputs": [],
   "source": []
  },
  {
   "cell_type": "markdown",
   "id": "414dbe42-2ba8-44b0-9c1b-12f05569e117",
   "metadata": {},
   "source": [
    "#### Q7. Create a DataFrame using multiple Series. Explain with an example."
   ]
  },
  {
   "cell_type": "code",
   "execution_count": 25,
   "id": "cd53e95b-19ad-41d0-bf53-d40b815675fb",
   "metadata": {},
   "outputs": [
    {
     "name": "stdout",
     "output_type": "stream",
     "text": [
      "series 1 \n",
      " first     rohan\n",
      "second    mohan\n",
      "third     sohan\n",
      "dtype: object \n",
      "\n",
      "series 2 \n",
      " first       India\n",
      "second    England\n",
      "third     America\n",
      "dtype: object \n",
      "\n",
      "series 3 \n",
      " first     24\n",
      "second    34\n",
      "third     25\n",
      "dtype: int64 \n",
      "\n"
     ]
    },
    {
     "data": {
      "text/html": [
       "<div>\n",
       "<style scoped>\n",
       "    .dataframe tbody tr th:only-of-type {\n",
       "        vertical-align: middle;\n",
       "    }\n",
       "\n",
       "    .dataframe tbody tr th {\n",
       "        vertical-align: top;\n",
       "    }\n",
       "\n",
       "    .dataframe thead th {\n",
       "        text-align: right;\n",
       "    }\n",
       "</style>\n",
       "<table border=\"1\" class=\"dataframe\">\n",
       "  <thead>\n",
       "    <tr style=\"text-align: right;\">\n",
       "      <th></th>\n",
       "      <th>Name</th>\n",
       "      <th>Country</th>\n",
       "      <th>Age</th>\n",
       "    </tr>\n",
       "  </thead>\n",
       "  <tbody>\n",
       "    <tr>\n",
       "      <th>first</th>\n",
       "      <td>rohan</td>\n",
       "      <td>India</td>\n",
       "      <td>24</td>\n",
       "    </tr>\n",
       "    <tr>\n",
       "      <th>second</th>\n",
       "      <td>mohan</td>\n",
       "      <td>England</td>\n",
       "      <td>34</td>\n",
       "    </tr>\n",
       "    <tr>\n",
       "      <th>third</th>\n",
       "      <td>sohan</td>\n",
       "      <td>America</td>\n",
       "      <td>25</td>\n",
       "    </tr>\n",
       "  </tbody>\n",
       "</table>\n",
       "</div>"
      ],
      "text/plain": [
       "         Name  Country  Age\n",
       "first   rohan    India   24\n",
       "second  mohan  England   34\n",
       "third   sohan  America   25"
      ]
     },
     "execution_count": 25,
     "metadata": {},
     "output_type": "execute_result"
    }
   ],
   "source": [
    "ser1 = pd.Series(['rohan','mohan','sohan'], index = ['first','second','third'])\n",
    "ser2 = pd.Series(['India','England','America'], index = ['first','second','third'])\n",
    "ser3 = pd.Series([24,34,25], index = ['first','second','third'])\n",
    "print(\"series 1 \\n\", ser1, \"\\n\") \n",
    "print(\"series 2 \\n\",ser2, \"\\n\")\n",
    "print(\"series 3 \\n\",ser3, \"\\n\")\n",
    "\n",
    "mydict={ 'Name': ser1,\n",
    "        'Country': ser2,\n",
    "        'Age':ser3}\n",
    "\n",
    "df3 = pd.DataFrame(mydict)\n",
    "df3"
   ]
  },
  {
   "cell_type": "code",
   "execution_count": null,
   "id": "ec4194c6-9503-48fe-b812-83e2f9f5671f",
   "metadata": {},
   "outputs": [],
   "source": []
  }
 ],
 "metadata": {
  "kernelspec": {
   "display_name": "Python 3 (ipykernel)",
   "language": "python",
   "name": "python3"
  },
  "language_info": {
   "codemirror_mode": {
    "name": "ipython",
    "version": 3
   },
   "file_extension": ".py",
   "mimetype": "text/x-python",
   "name": "python",
   "nbconvert_exporter": "python",
   "pygments_lexer": "ipython3",
   "version": "3.10.8"
  }
 },
 "nbformat": 4,
 "nbformat_minor": 5
}
