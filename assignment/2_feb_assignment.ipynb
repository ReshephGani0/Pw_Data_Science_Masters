{
 "cells": [
  {
   "cell_type": "markdown",
   "id": "2526584e-fd87-45ca-a7c1-de2c4151c692",
   "metadata": {},
   "source": [
    "# Assignment no.3\n",
    "## 2nd feb Assignment\n"
   ]
  },
  {
   "cell_type": "code",
   "execution_count": null,
   "id": "4120a5b0-a3f5-4c45-b792-3a32cdd0dfb6",
   "metadata": {},
   "outputs": [],
   "source": []
  },
  {
   "cell_type": "markdown",
   "id": "75c95a70-75fd-499f-8540-4d3586d099cb",
   "metadata": {},
   "source": [
    "#### Q1) What are the characteristics of the tuples? is tuple immutable?\n"
   ]
  },
  {
   "cell_type": "markdown",
   "id": "bf83483c-cebd-4e75-b65a-375122bc3138",
   "metadata": {},
   "source": [
    "##### Characteristics of Tuples\n",
    "\n",
    "- They are indexed\n",
    "- Tuples are ordered\n",
    "- These are immutable\n",
    "- They can contain duplicate items\n",
    ">* Yes, tuples are immutable"
   ]
  },
  {
   "cell_type": "code",
   "execution_count": null,
   "id": "e504bccb-e56c-47fb-8bba-187b530d9f16",
   "metadata": {},
   "outputs": [],
   "source": []
  },
  {
   "cell_type": "markdown",
   "id": "9c690237-2450-48d0-bf02-738b0a3a1992",
   "metadata": {},
   "source": [
    "#### Q2) What are the two tuple methods in python? Give an example of each method. Give a reason why tuples have only two in-built methods as compared to Lists."
   ]
  },
  {
   "cell_type": "markdown",
   "id": "374068aa-c3f4-4026-acb4-d907685a052c",
   "metadata": {},
   "source": [
    "- Tuple methods\n",
    ">* count(),\tReturns the number of times a specified value occurs in a tuple\n",
    ">* index(),\tSearches the tuple for a specified value and returns the position of where it was found and if there are duplicate values then it will return first found value position.\n"
   ]
  },
  {
   "cell_type": "code",
   "execution_count": 19,
   "id": "0c45f912-1a65-4bb4-bd8b-35d48583e37b",
   "metadata": {},
   "outputs": [
    {
     "name": "stdout",
     "output_type": "stream",
     "text": [
      "2\n",
      "3\n"
     ]
    }
   ],
   "source": [
    "tuple_1=(\"a\",\"b\",\"c\",'d',\"a\",\"c\",23)\n",
    "print(tuple_1.count('a')) # count no. of value='a' is in tuple\n",
    "\n",
    "print(tuple_1.index(\"d\")) # return first found value='d' position"
   ]
  },
  {
   "cell_type": "markdown",
   "id": "0992de48-202d-411c-aa0e-3e880aa88851",
   "metadata": {},
   "source": [
    "Tuples are immutable, whereas lists can be modified.\n",
    "\n",
    "\n",
    "In Python, any immutable object (such as an integer, boolean, string, tuple) is hashable,\n",
    "meaning its value does not change during its lifetime.\n",
    "This allows Python to create a unique hash value to identify it\n",
    "\n",
    "since tuples are immutable, they can't be changed once created.\n",
    "This in itself explains why tuples don't have any way of modifying them\n",
    "\n",
    "thus only 2 methods are there in tuple."
   ]
  },
  {
   "cell_type": "code",
   "execution_count": null,
   "id": "74865a87-2e86-4975-89e2-b507b9d1d014",
   "metadata": {},
   "outputs": [],
   "source": []
  },
  {
   "cell_type": "markdown",
   "id": "d2a047bf-7524-4aea-8235-b74e6ceb2cca",
   "metadata": {},
   "source": [
    "#### Q3) Which collection datatypes in python do not allow duplicate items? Write a code using a set to remove duplicates from the given list.\n",
    "\n",
    "##### List = [1,1,1,2,1,3,1,4,2,1,2,2,2,3,2,4,3,1,3,2,3,3,3,4,4,1,4,2,4,3,4,4,]"
   ]
  },
  {
   "cell_type": "markdown",
   "id": "bad62c01-b6c5-42fa-b3f3-88f791be6115",
   "metadata": {},
   "source": [
    "#### - Set datatypes in python do not allow duplicate items."
   ]
  },
  {
   "cell_type": "code",
   "execution_count": 41,
   "id": "225f2103-7da8-41a8-98cd-57e2b90d39c3",
   "metadata": {},
   "outputs": [
    {
     "name": "stdout",
     "output_type": "stream",
     "text": [
      "{1, 2, 3, 4}\n"
     ]
    }
   ],
   "source": [
    "List = [1,1,1,2,1,3,1,4,2,1,2,2,2,3,2,4,3,1,3,2,3,3,3,4,4,1,4,2,4,3,4,4,]\n",
    "set_1= set(List) # set will remove duplicate value\n",
    "print(set_1)"
   ]
  },
  {
   "cell_type": "code",
   "execution_count": null,
   "id": "25a4b842-00ee-46c5-97f2-108e04f88991",
   "metadata": {},
   "outputs": [],
   "source": []
  },
  {
   "cell_type": "markdown",
   "id": "517dacfb-8d4b-4c89-a490-a55469b5c8db",
   "metadata": {},
   "source": [
    "#### Q4) Explain the difference between the union() and update() methods for a set. Give an example of each method."
   ]
  },
  {
   "cell_type": "markdown",
   "id": "e66b1437-9c0f-4025-8e68-8b248a3b7e99",
   "metadata": {},
   "source": [
    "Both set.update() and set.union() perform the union operation.\n",
    "\n",
    "However, set.update() adds all missing elements to the set on which it is called\n",
    "whereas set.union() creates a new set.\n",
    "\n",
    "Consequently,the return value of set.update() is None and the return value of set.union() is a set (without side effects)."
   ]
  },
  {
   "cell_type": "code",
   "execution_count": 7,
   "id": "4c9e9cc2-7083-4568-85a8-3f8153ea5025",
   "metadata": {},
   "outputs": [],
   "source": [
    "st_1 = {1, 2, 3}\n",
    "st_1.update({4, 5})"
   ]
  },
  {
   "cell_type": "code",
   "execution_count": 8,
   "id": "12b7c6e6-3deb-4424-aaea-bd72ef3c6bc3",
   "metadata": {},
   "outputs": [
    {
     "data": {
      "text/plain": [
       "{1, 2, 3, 4, 5}"
      ]
     },
     "execution_count": 8,
     "metadata": {},
     "output_type": "execute_result"
    }
   ],
   "source": [
    "#The original set st_1 is modified and now contains five elements after the update.\n",
    "#There is no return value, so you need to separately print out the set.\n",
    "st_1"
   ]
  },
  {
   "cell_type": "code",
   "execution_count": 9,
   "id": "c9907489-6401-4c56-b38a-fca64823cd08",
   "metadata": {},
   "outputs": [
    {
     "data": {
      "text/plain": [
       "{1, 2, 3, 4, 5}"
      ]
     },
     "execution_count": 9,
     "metadata": {},
     "output_type": "execute_result"
    }
   ],
   "source": [
    "st_2 = {1, 2, 3}\n",
    "st_2.union({4, 5})\n"
   ]
  },
  {
   "cell_type": "code",
   "execution_count": null,
   "id": "e7f9fbdc-b6cd-4f48-b439-2aa307d135d5",
   "metadata": {},
   "outputs": [],
   "source": [
    "#Both sets remain unchanged.\n",
    "#However, a new set has been created—and this set is the return value of the operation!"
   ]
  },
  {
   "cell_type": "code",
   "execution_count": null,
   "id": "bbbe633a-e5a2-44c4-88b1-de157a044ebf",
   "metadata": {},
   "outputs": [],
   "source": []
  },
  {
   "cell_type": "markdown",
   "id": "6bbcf5f7-6514-4b38-bbc4-e2c9d69e119b",
   "metadata": {},
   "source": [
    "#### Q5) \"What is dictionary? Give an example. Also, state whether a dictionary is ordered or unordered."
   ]
  },
  {
   "cell_type": "markdown",
   "id": "5b6e22e2-dd85-42e7-88a4-83b79d2ea757",
   "metadata": {},
   "source": [
    ">* Dictionary is an ordered collection (starting from Python 3.7) of items.\n",
    ">* It stores elements in key/value pairs. Here, keys are unique identifiers that are associated with each value.\n",
    ">* Duplicates Not Allowed, Dictionaries cannot have two items with the same key:\n",
    ">* The values in dictionary items can be of any data type:"
   ]
  },
  {
   "cell_type": "code",
   "execution_count": 21,
   "id": "259a1692-3601-481a-b9ec-8d23d9740b39",
   "metadata": {},
   "outputs": [
    {
     "data": {
      "text/plain": [
       "{1: 'and', 'b': 'nvedia', 3: 456, 'd': 'ryzen'}"
      ]
     },
     "execution_count": 21,
     "metadata": {},
     "output_type": "execute_result"
    }
   ],
   "source": [
    "dic_1={1:'and', 'b':'nvedia',3:456,'d':'ryzen'} # or with dict()\n",
    "dic_1"
   ]
  },
  {
   "cell_type": "code",
   "execution_count": 23,
   "id": "9779ef14-7d4a-4803-97c8-1004827a4e32",
   "metadata": {},
   "outputs": [
    {
     "name": "stdout",
     "output_type": "stream",
     "text": [
      "{'name': 'Raju', 'age': 36, 'country': 'India'}\n"
     ]
    }
   ],
   "source": [
    "person_dict = dict(name = \"Raju\", age = 36, country = \"India\")\n",
    "print(person_dict)"
   ]
  },
  {
   "cell_type": "markdown",
   "id": "28e2f6a8-abac-429b-91b1-675a2cb6b7a9",
   "metadata": {},
   "source": [
    "- As of Python version 3.7, dictionaries are ordered. In Python 3.6 and earlier, dictionaries are unordered."
   ]
  },
  {
   "cell_type": "markdown",
   "id": "8d5005c4-409a-4d39-9a9d-adb1ecf2f1cd",
   "metadata": {},
   "source": [
    "Dictionary Membership Test\n",
    "\n",
    "We can test if a key is in a dictionary or not using the keyword iN.\n",
    "\n",
    "Notice that the membership test is only for the keys and NOT for the values."
   ]
  },
  {
   "cell_type": "code",
   "execution_count": 11,
   "id": "06efb334-027d-4370-a4ad-ee53652a52c5",
   "metadata": {},
   "outputs": [
    {
     "name": "stdout",
     "output_type": "stream",
     "text": [
      "True\n",
      "True\n",
      "False\n"
     ]
    }
   ],
   "source": [
    "# Membership Test for Dictionary Keys\n",
    "squares = {1: 1, 3: 9, 5: 25, 7: 49, 9: 81}\n",
    "\n",
    "# Output: True\n",
    "print(1 in squares) # prints True\n",
    "\n",
    "print(2 not in squares) # prints True\n",
    "\n",
    "# membership tests for key only not value\n",
    "print(49 in squares) # prints false"
   ]
  },
  {
   "cell_type": "code",
   "execution_count": 12,
   "id": "1d7b0839-b8e1-484d-aa2c-19a3a4b16409",
   "metadata": {},
   "outputs": [
    {
     "name": "stdout",
     "output_type": "stream",
     "text": [
      "1\n",
      "9\n",
      "25\n",
      "49\n",
      "81\n"
     ]
    }
   ],
   "source": [
    "# Iterating through a Dictionary\n",
    "squares = {1: 1, 3: 9, 5: 25, 7: 49, 9: 81}\n",
    "for i in squares:\n",
    "    print(squares[i])"
   ]
  },
  {
   "cell_type": "code",
   "execution_count": null,
   "id": "ea568eb0-062e-4dd2-b579-493001e9371f",
   "metadata": {},
   "outputs": [],
   "source": []
  },
  {
   "cell_type": "markdown",
   "id": "53d0cae8-dbe5-4d01-911a-12c878918c50",
   "metadata": {},
   "source": [
    "#### Q6) Can we create a nested dictionary? if so, please give an example by creating a simple one-level nested dictionary."
   ]
  },
  {
   "cell_type": "markdown",
   "id": "ba875d7e-cddc-4976-b6ec-105589b29d84",
   "metadata": {},
   "source": [
    "##### Yes we can create nested dictionary."
   ]
  },
  {
   "cell_type": "code",
   "execution_count": 16,
   "id": "1f2acadf-305f-4556-8d00-a7761c8ef026",
   "metadata": {},
   "outputs": [],
   "source": [
    "dic_1 = {\"car\": \"maruti 800\", \"bike\": \"splender plus\", \"fruits\":{1:\"mango\", 2:\"banana\", 3:\"apple\"}}"
   ]
  },
  {
   "cell_type": "code",
   "execution_count": 17,
   "id": "cbb7f11a-93ba-4d9f-a758-215ddb4d8e21",
   "metadata": {},
   "outputs": [
    {
     "data": {
      "text/plain": [
       "{'car': 'maruti 800',\n",
       " 'bike': 'splender plus',\n",
       " 'fruits': {1: 'mango', 2: 'banana', 3: 'apple'}}"
      ]
     },
     "execution_count": 17,
     "metadata": {},
     "output_type": "execute_result"
    }
   ],
   "source": [
    "dic_1"
   ]
  },
  {
   "cell_type": "code",
   "execution_count": 20,
   "id": "14a05136-58ec-455b-8998-871d34719c69",
   "metadata": {},
   "outputs": [
    {
     "data": {
      "text/plain": [
       "'apple'"
      ]
     },
     "execution_count": 20,
     "metadata": {},
     "output_type": "execute_result"
    }
   ],
   "source": [
    "dic_1['fruits'][3] # fetching item in nested dictionary"
   ]
  },
  {
   "cell_type": "code",
   "execution_count": null,
   "id": "f6424364-5f7b-4d55-8858-c35a32e2fdf1",
   "metadata": {},
   "outputs": [],
   "source": []
  },
  {
   "cell_type": "markdown",
   "id": "8a3b47d2-fbf5-4275-9b3d-c4247f1ce254",
   "metadata": {},
   "source": [
    "#### Q7) Using setdefault() method, create key named topics in the given dictionary and also add the value of the key as this list ['Python','Machine Learning','Deep Learning']\n",
    "\n",
    "##### dic1 = {'language':'Python','course':'Data Science Masters'}"
   ]
  },
  {
   "cell_type": "markdown",
   "id": "50b28a8c-54e8-43cb-ab5a-ee31cdd87f98",
   "metadata": {},
   "source": [
    "Syntax: dict.setdefault(key, default_value)\n",
    "Parameters: It takes two parameters: \n",
    "\n",
    "- key – Key to be searched in the dictionary. \n",
    "- default_value (optional) – Key with a value default_value is inserted to the dictionary if key is not in the dictionary. If not provided, the default_value will be None.\n",
    "\n",
    "Returns: \n",
    "\n",
    ">* Value of the key if it is in the dictionary. \n",
    ">* None if key is not in the dictionary and default_value is not specified. \n",
    ">* 8default_value if key is not in the dictionary and default_value is specified."
   ]
  },
  {
   "cell_type": "code",
   "execution_count": 29,
   "id": "bc479ff4-2838-4cfd-b746-008adeb4673e",
   "metadata": {},
   "outputs": [
    {
     "name": "stdout",
     "output_type": "stream",
     "text": [
      "{'language': 'Python', 'course': 'Data Science Masters'}\n"
     ]
    },
    {
     "data": {
      "text/plain": [
       "['Python', 'Machine Learning', 'Deep Learning']"
      ]
     },
     "execution_count": 29,
     "metadata": {},
     "output_type": "execute_result"
    }
   ],
   "source": [
    "dic1 = {'language':'Python','course':'Data Science Masters'}\n",
    "\n",
    "print(dic1)\n",
    "\n",
    "dic1.setdefault('topics',['Python', 'Machine Learning', 'Deep Learning'])"
   ]
  },
  {
   "cell_type": "code",
   "execution_count": 30,
   "id": "faf0b02f-4009-45ab-9172-e3db5862c978",
   "metadata": {},
   "outputs": [
    {
     "data": {
      "text/plain": [
       "{'language': 'Python',\n",
       " 'course': 'Data Science Masters',\n",
       " 'topics': ['Python', 'Machine Learning', 'Deep Learning']}"
      ]
     },
     "execution_count": 30,
     "metadata": {},
     "output_type": "execute_result"
    }
   ],
   "source": [
    "dic1"
   ]
  },
  {
   "cell_type": "code",
   "execution_count": null,
   "id": "9e03fe85-6d19-48a5-a53d-503526b9896f",
   "metadata": {},
   "outputs": [],
   "source": []
  },
  {
   "cell_type": "markdown",
   "id": "530f5f6b-9255-495a-883f-54c37037147a",
   "metadata": {},
   "source": [
    "#### Q8) What are the three view objects in dictionaries? Use the three in-built methods in Python to display these three view objects for the given dictionary.\n",
    "\n",
    "dic1 = {'Sport':'Cricket','Teams':['India','Australia','England','South Africa','Sri Lanka','New Zealand']}"
   ]
  },
  {
   "cell_type": "markdown",
   "id": "c14f234d-4e53-4468-b50c-26b6337eb7fd",
   "metadata": {},
   "source": [
    "- In the python dictionaries, some of the methods return view objects. This view objects are dynamic view objects, meaning that when we made some changes in the dictionary then the view reflects all these changes.\n",
    "\n",
    "- The main view objects of dictionary in python are keys, values and items. They provide a non-constant view of the dictionary’s entries.\n",
    "\n",
    ">* Keys holds all the keys of the dictionary, \n",
    ">* The values objects holds all the values, \n",
    ">* whereas the items holds the key-value pairs. ([ ( 'key':'value' ),  (key':value) ])"
   ]
  },
  {
   "cell_type": "code",
   "execution_count": 34,
   "id": "27e01071-6a39-42e9-8ba3-7c1ac96f5ae1",
   "metadata": {},
   "outputs": [],
   "source": [
    "dict1 = {'Sport': 'Cricket' , \n",
    "         'Teams': ['India', 'Australia', 'England', 'South Africa', 'Sri Lanka', 'New Zealand']}"
   ]
  },
  {
   "cell_type": "code",
   "execution_count": 38,
   "id": "45cad9f8-f2ad-49a3-800d-351f44f18e3c",
   "metadata": {},
   "outputs": [
    {
     "data": {
      "text/plain": [
       "dict_keys(['Sport', 'Teams'])"
      ]
     },
     "execution_count": 38,
     "metadata": {},
     "output_type": "execute_result"
    }
   ],
   "source": [
    "dict1.keys()"
   ]
  },
  {
   "cell_type": "code",
   "execution_count": 39,
   "id": "1120deba-f054-497e-b217-d06dc2c33687",
   "metadata": {},
   "outputs": [
    {
     "data": {
      "text/plain": [
       "dict_values(['Cricket', ['India', 'Australia', 'England', 'South Africa', 'Sri Lanka', 'New Zealand']])"
      ]
     },
     "execution_count": 39,
     "metadata": {},
     "output_type": "execute_result"
    }
   ],
   "source": [
    "dict1.values()"
   ]
  },
  {
   "cell_type": "code",
   "execution_count": 40,
   "id": "f1e3246b-112d-4e82-b876-98f2afa9417a",
   "metadata": {},
   "outputs": [
    {
     "data": {
      "text/plain": [
       "dict_items([('Sport', 'Cricket'), ('Teams', ['India', 'Australia', 'England', 'South Africa', 'Sri Lanka', 'New Zealand'])])"
      ]
     },
     "execution_count": 40,
     "metadata": {},
     "output_type": "execute_result"
    }
   ],
   "source": [
    "dict1.items()"
   ]
  },
  {
   "cell_type": "code",
   "execution_count": null,
   "id": "0bbfa230-9f74-44b3-8cd4-94cfcdfd6e74",
   "metadata": {},
   "outputs": [],
   "source": []
  }
 ],
 "metadata": {
  "kernelspec": {
   "display_name": "Python 3 (ipykernel)",
   "language": "python",
   "name": "python3"
  },
  "language_info": {
   "codemirror_mode": {
    "name": "ipython",
    "version": 3
   },
   "file_extension": ".py",
   "mimetype": "text/x-python",
   "name": "python",
   "nbconvert_exporter": "python",
   "pygments_lexer": "ipython3",
   "version": "3.10.8"
  }
 },
 "nbformat": 4,
 "nbformat_minor": 5
}
