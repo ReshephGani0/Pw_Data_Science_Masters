{
 "cells": [
  {
   "cell_type": "markdown",
   "id": "a4f7634e-9b6f-421b-b423-331b7a4d2533",
   "metadata": {},
   "source": [
    "# Numpy, Assignment no. 25\n",
    "## 26th feb 2023 Assignment\n"
   ]
  },
  {
   "cell_type": "code",
   "execution_count": null,
   "id": "566b5c34-671f-4582-a910-f4865e9d1a02",
   "metadata": {},
   "outputs": [],
   "source": []
  },
  {
   "cell_type": "markdown",
   "id": "0e9f2aa9-dde9-49fb-896e-b228639e49be",
   "metadata": {},
   "source": [
    "    Consider the below code to answer further questions:\n",
    "    import numpy as np\n",
    "    list_ = [ ‘1’ , ’2’ , ‘3’ , ‘4’ , ‘5’ ]\n",
    "    array_list = np.array(object = list_)\n",
    "\n",
    "#### Q1. Is there any difference in the data type of variables list_ and array_list? If there is then write a code to print the data types of both the variables."
   ]
  },
  {
   "cell_type": "markdown",
   "id": "4f405512-4021-494f-83bb-5b828002bf07",
   "metadata": {},
   "source": [
    "Yes, there is difference between both datatype.\n",
    "- variable list_ is 'list' datatype\n",
    "- variable array_list is 'numpy.ndarray'"
   ]
  },
  {
   "cell_type": "code",
   "execution_count": 6,
   "id": "13014a12-ac22-4905-8b7f-01fe57ebe9d9",
   "metadata": {},
   "outputs": [
    {
     "data": {
      "text/plain": [
       "array(['1', '2', '3', '4', '5'], dtype='<U1')"
      ]
     },
     "execution_count": 6,
     "metadata": {},
     "output_type": "execute_result"
    }
   ],
   "source": [
    "import numpy as np\n",
    "list_ = ['1','2','3','4','5']\n",
    "array_list = np.array(object = list_)\n",
    "array_list"
   ]
  },
  {
   "cell_type": "code",
   "execution_count": 7,
   "id": "96aceae5-5ebe-4758-b4ef-031dae228f59",
   "metadata": {},
   "outputs": [
    {
     "data": {
      "text/plain": [
       "list"
      ]
     },
     "execution_count": 7,
     "metadata": {},
     "output_type": "execute_result"
    }
   ],
   "source": [
    "type(list_)"
   ]
  },
  {
   "cell_type": "code",
   "execution_count": 8,
   "id": "5bfbc806-d892-41b3-8eed-fcf836d14799",
   "metadata": {},
   "outputs": [
    {
     "data": {
      "text/plain": [
       "numpy.ndarray"
      ]
     },
     "execution_count": 8,
     "metadata": {},
     "output_type": "execute_result"
    }
   ],
   "source": [
    "type(array_list)"
   ]
  },
  {
   "cell_type": "code",
   "execution_count": null,
   "id": "7a16c24f-53a5-4623-9600-358afb85d75f",
   "metadata": {},
   "outputs": [],
   "source": []
  },
  {
   "cell_type": "markdown",
   "id": "572e7fe6-7c84-4104-9565-bfe0268f8f98",
   "metadata": {},
   "source": [
    "#### Q2. Write a code to print the data type of each and every element of both the variables list_ and arra_list."
   ]
  },
  {
   "cell_type": "code",
   "execution_count": 9,
   "id": "9e938dd6-dc25-4deb-8bcf-8a7a4821335c",
   "metadata": {},
   "outputs": [
    {
     "data": {
      "text/plain": [
       "[str, str, str, str, str]"
      ]
     },
     "execution_count": 9,
     "metadata": {},
     "output_type": "execute_result"
    }
   ],
   "source": [
    "[type(i) for i in list_]"
   ]
  },
  {
   "cell_type": "code",
   "execution_count": 10,
   "id": "82d4fa34-f909-4291-8018-5afc63296333",
   "metadata": {},
   "outputs": [
    {
     "data": {
      "text/plain": [
       "[numpy.str_, numpy.str_, numpy.str_, numpy.str_, numpy.str_]"
      ]
     },
     "execution_count": 10,
     "metadata": {},
     "output_type": "execute_result"
    }
   ],
   "source": [
    "[type(i) for i in array_list]"
   ]
  },
  {
   "cell_type": "code",
   "execution_count": null,
   "id": "31040692-96f0-4d5a-b1db-ea95cf314ea0",
   "metadata": {},
   "outputs": [],
   "source": []
  },
  {
   "cell_type": "code",
   "execution_count": null,
   "id": "2f88cc86-8440-42a3-9a66-015d37b1174f",
   "metadata": {},
   "outputs": [],
   "source": []
  },
  {
   "cell_type": "markdown",
   "id": "84466a54-ab58-45f0-b640-1051c2eb6a96",
   "metadata": {},
   "source": [
    "#### Q3. Considering the following changes in the variable, array_list:\n",
    "    array_list = np.array(object = list_, dtype = int)\n",
    "#### Will there be any difference in the data type of the elements present in both the variables, list_ and arra_list? If so then print the data types of each and every element present in both the variables, list_ and arra_list."
   ]
  },
  {
   "cell_type": "markdown",
   "id": "a1f1c07f-87bf-40d2-b15a-5737b5a8582c",
   "metadata": {},
   "source": [
    "Yes, elements of array_list  will be 'int' datatype and list_ elements is same list datatype"
   ]
  },
  {
   "cell_type": "code",
   "execution_count": 15,
   "id": "548bcba0-ebb2-4b33-b289-588363b1dccf",
   "metadata": {},
   "outputs": [],
   "source": [
    "array_list = np.array(object = list_, dtype = int)"
   ]
  },
  {
   "cell_type": "code",
   "execution_count": 16,
   "id": "5deba7fe-1da6-41bd-b365-467ffd3b55e5",
   "metadata": {},
   "outputs": [
    {
     "data": {
      "text/plain": [
       "[str, str, str, str, str]"
      ]
     },
     "execution_count": 16,
     "metadata": {},
     "output_type": "execute_result"
    }
   ],
   "source": [
    "[type(i) for i in list_]"
   ]
  },
  {
   "cell_type": "code",
   "execution_count": 17,
   "id": "dc9159f6-3241-472a-a063-de6848ae2dfc",
   "metadata": {},
   "outputs": [
    {
     "data": {
      "text/plain": [
       "[numpy.int64, numpy.int64, numpy.int64, numpy.int64, numpy.int64]"
      ]
     },
     "execution_count": 17,
     "metadata": {},
     "output_type": "execute_result"
    }
   ],
   "source": [
    "[type(i) for i in array_list]"
   ]
  },
  {
   "cell_type": "code",
   "execution_count": null,
   "id": "cf4b5f0c-1585-4ec9-abbe-e5dd8f0fd14a",
   "metadata": {},
   "outputs": [],
   "source": []
  },
  {
   "cell_type": "markdown",
   "id": "e3511ad0-fab5-4689-9f7e-bf6d2a2ba09f",
   "metadata": {},
   "source": [
    "    Consider the below code to answer further questions:\n",
    "    import numpy as np\n",
    "    num_list = [ [ 1 , 2 , 3 ] , [ 4 , 5 , 6 ] ]\n",
    "    num_array = np.array(object = num_list)\n",
    "#### Q4. Write a code to find the following characteristics of variable, num_array:\n",
    "- (i) shape\n",
    "- (ii) size"
   ]
  },
  {
   "cell_type": "code",
   "execution_count": 19,
   "id": "6703e930-e75d-460d-8b67-739702d1661a",
   "metadata": {},
   "outputs": [],
   "source": [
    "import numpy as np\n",
    "num_list = [[ 1,2,3],[4,5,6]]\n",
    "num_array = np.array(object = num_list)"
   ]
  },
  {
   "cell_type": "code",
   "execution_count": 20,
   "id": "80985975-a53b-4b07-a3ee-052d3371fef6",
   "metadata": {},
   "outputs": [
    {
     "data": {
      "text/plain": [
       "(2, 3)"
      ]
     },
     "execution_count": 20,
     "metadata": {},
     "output_type": "execute_result"
    }
   ],
   "source": [
    "num_array.shape"
   ]
  },
  {
   "cell_type": "code",
   "execution_count": 21,
   "id": "b5a44dc0-3785-41c1-bbbb-9cade6a401a5",
   "metadata": {},
   "outputs": [
    {
     "data": {
      "text/plain": [
       "6"
      ]
     },
     "execution_count": 21,
     "metadata": {},
     "output_type": "execute_result"
    }
   ],
   "source": [
    "num_array.size"
   ]
  },
  {
   "cell_type": "code",
   "execution_count": null,
   "id": "ca2194a2-c528-469b-bba4-463d054efaaf",
   "metadata": {},
   "outputs": [],
   "source": []
  },
  {
   "cell_type": "markdown",
   "id": "94f5799e-8e89-40c8-84f5-72ce8d419d98",
   "metadata": {},
   "source": [
    "#### Q5. Write a code to create numpy array of 3 * 3 matrix containing zeros only, using a numpy array creation function.\n",
    "    [Hint: The size of the array will be 9 and the shape will be (3,3).]"
   ]
  },
  {
   "cell_type": "code",
   "execution_count": 25,
   "id": "b3879404-bebe-4d34-8fd4-34077c1f9bce",
   "metadata": {},
   "outputs": [],
   "source": [
    "arr = np.zeros((3,3))"
   ]
  },
  {
   "cell_type": "code",
   "execution_count": 26,
   "id": "a080a1b2-4d00-4814-9c56-91a33a1256b9",
   "metadata": {},
   "outputs": [
    {
     "data": {
      "text/plain": [
       "array([[0., 0., 0.],\n",
       "       [0., 0., 0.],\n",
       "       [0., 0., 0.]])"
      ]
     },
     "execution_count": 26,
     "metadata": {},
     "output_type": "execute_result"
    }
   ],
   "source": [
    "arr"
   ]
  },
  {
   "cell_type": "code",
   "execution_count": 27,
   "id": "2ab0b792-de17-4356-8f06-a1b7f1865a3f",
   "metadata": {},
   "outputs": [
    {
     "data": {
      "text/plain": [
       "(3, 3)"
      ]
     },
     "execution_count": 27,
     "metadata": {},
     "output_type": "execute_result"
    }
   ],
   "source": [
    "arr.shape"
   ]
  },
  {
   "cell_type": "code",
   "execution_count": 28,
   "id": "567e496e-76f9-4e66-9098-07f181b49c9f",
   "metadata": {},
   "outputs": [
    {
     "data": {
      "text/plain": [
       "9"
      ]
     },
     "execution_count": 28,
     "metadata": {},
     "output_type": "execute_result"
    }
   ],
   "source": [
    "arr.size"
   ]
  },
  {
   "cell_type": "code",
   "execution_count": null,
   "id": "449a9105-270d-4c6b-9874-323939bfb71e",
   "metadata": {},
   "outputs": [],
   "source": []
  },
  {
   "cell_type": "markdown",
   "id": "0de655a8-5778-4449-b33e-56cbd99b7a92",
   "metadata": {},
   "source": [
    "#### Q6. Create an identity matrix of shape (5,5) using numpy functions?\n",
    "    [Hint: An identity matrix is a matrix containing 1 diagonally and other elements will be 0.]"
   ]
  },
  {
   "cell_type": "code",
   "execution_count": 22,
   "id": "258f7c0c-a81e-4bf4-953b-ce283dafa05c",
   "metadata": {},
   "outputs": [
    {
     "data": {
      "text/plain": [
       "array([[1., 0., 0., 0., 0.],\n",
       "       [0., 1., 0., 0., 0.],\n",
       "       [0., 0., 1., 0., 0.],\n",
       "       [0., 0., 0., 1., 0.],\n",
       "       [0., 0., 0., 0., 1.]])"
      ]
     },
     "execution_count": 22,
     "metadata": {},
     "output_type": "execute_result"
    }
   ],
   "source": [
    "np.eye(5)"
   ]
  },
  {
   "cell_type": "code",
   "execution_count": null,
   "id": "19716a6d-42bd-4ae1-852e-827ad741ab1c",
   "metadata": {},
   "outputs": [],
   "source": []
  }
 ],
 "metadata": {
  "kernelspec": {
   "display_name": "Python 3 (ipykernel)",
   "language": "python",
   "name": "python3"
  },
  "language_info": {
   "codemirror_mode": {
    "name": "ipython",
    "version": 3
   },
   "file_extension": ".py",
   "mimetype": "text/x-python",
   "name": "python",
   "nbconvert_exporter": "python",
   "pygments_lexer": "ipython3",
   "version": "3.10.8"
  }
 },
 "nbformat": 4,
 "nbformat_minor": 5
}
