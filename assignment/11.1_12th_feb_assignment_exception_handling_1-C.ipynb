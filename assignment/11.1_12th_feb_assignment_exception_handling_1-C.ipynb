{
 "cells": [
  {
   "cell_type": "markdown",
   "id": "e996c8be-8848-467d-8df0-94e962c3ac11",
   "metadata": {},
   "source": [
    "# Exception Handling - 1, Assignment no. 11\n",
    "## 12th feb Assignment"
   ]
  },
  {
   "cell_type": "code",
   "execution_count": null,
   "id": "d8ff56b3-c163-40ad-8bd8-87d8ea23a389",
   "metadata": {},
   "outputs": [],
   "source": []
  },
  {
   "cell_type": "markdown",
   "id": "eceaab1c-4256-411d-9555-f9d65a918a17",
   "metadata": {},
   "source": [
    "#### Q1. What is an Exception in python? Write the difference between Exceptions and Syntax errors."
   ]
  },
  {
   "cell_type": "markdown",
   "id": "3b3cd303-bc05-43ae-8b24-3e00b71305e3",
   "metadata": {
    "tags": []
   },
   "source": [
    "Errors are the problems in a program due to which the program will stop the execution. On the other hand, exceptions are raised when some internal events occur which changes the normal flow of the program. \n",
    "\n",
    "Two types of Error occurs in python.  \n",
    ">* Syntax errors\n",
    ">* Logical errors (Exceptions) \n",
    " \n",
    "- Syntax errors\n",
    "\n",
    "When the proper syntax of the language is not followed then a syntax error is thrown.\n",
    "\n",
    "Mostly a SyntaxError Python is caused when there are some missing reserved keywords, if the spaces are found missing out, if the quotes are placed improperly, if indentations and incorrect usage of blocks, if invalid declarations, and if the function calls and definitions aren't done properly."
   ]
  },
  {
   "cell_type": "markdown",
   "id": "d6e89ddc-7eab-443e-8d01-3e9661a990de",
   "metadata": {},
   "source": [
    "- Exceptions (Logical errors)\n",
    "\n",
    "Errors that occur at runtime (after passing the syntax test) are called exceptions or logical errors.\n",
    "\n",
    "For instance, they occur when we\n",
    "\n",
    ">* try to open a file(for reading) that does not exist (FileNotFoundError)\n",
    ">* try to divide a number by zero (ZeroDivisionError)\n",
    ">* try to import a module that does not exist (ImportError) and so on.\n",
    "\n",
    "Whenever these types of runtime errors occur, Python creates an exception object.\n",
    "\n",
    "If not handled properly, it prints a traceback to that error along with some details about why that error occurred."
   ]
  },
  {
   "cell_type": "code",
   "execution_count": null,
   "id": "2698ecb2-2793-42f8-bc3d-8d328f5710d3",
   "metadata": {},
   "outputs": [],
   "source": []
  },
  {
   "cell_type": "markdown",
   "id": "1a094a61-2d7c-48a9-bb4b-3d8c5ec0cc31",
   "metadata": {},
   "source": [
    "#### Q2. What happens when an exception is not handled? Explain with an example."
   ]
  },
  {
   "cell_type": "markdown",
   "id": "e039740f-4e22-4f44-9b6b-2b993601ee2e",
   "metadata": {},
   "source": [
    "When exception is not handled The program will stop executing."
   ]
  },
  {
   "cell_type": "code",
   "execution_count": 3,
   "id": "5ce281f7-9239-4365-8454-fa5c863a1255",
   "metadata": {},
   "outputs": [
    {
     "ename": "ZeroDivisionError",
     "evalue": "division by zero",
     "output_type": "error",
     "traceback": [
      "\u001b[0;31m---------------------------------------------------------------------------\u001b[0m",
      "\u001b[0;31mZeroDivisionError\u001b[0m                         Traceback (most recent call last)",
      "Cell \u001b[0;32mIn[3], line 2\u001b[0m\n\u001b[1;32m      1\u001b[0m a \u001b[38;5;241m=\u001b[39m \u001b[38;5;241m10\u001b[39m\n\u001b[0;32m----> 2\u001b[0m b \u001b[38;5;241m=\u001b[39m \u001b[43ma\u001b[49m\u001b[38;5;241;43m/\u001b[39;49m\u001b[38;5;241;43m0\u001b[39;49m\n\u001b[1;32m      3\u001b[0m \u001b[38;5;28mprint\u001b[39m(\u001b[38;5;124m\"\u001b[39m\u001b[38;5;124mchecking what happen after a exception is raised\u001b[39m\u001b[38;5;124m\"\u001b[39m)\n",
      "\u001b[0;31mZeroDivisionError\u001b[0m: division by zero"
     ]
    }
   ],
   "source": [
    "a = 10\n",
    "b = a/0\n",
    "print(\"checking what happen after a exception is raised\")"
   ]
  },
  {
   "cell_type": "markdown",
   "id": "c7d8e304-1f5d-45f2-a0e3-960a8ab11063",
   "metadata": {},
   "source": [
    ">* in above example ZeroDivisionError occured because of dividing a number by '0' and program stopped executing, after that print statement didn't able to print anything."
   ]
  },
  {
   "cell_type": "code",
   "execution_count": null,
   "id": "5b840450-e924-48f6-889c-ad04bfa3cde9",
   "metadata": {},
   "outputs": [],
   "source": []
  },
  {
   "cell_type": "markdown",
   "id": "fd9d3b38-4bd4-49ef-8cdb-4fc7937deac3",
   "metadata": {},
   "source": [
    "#### Q3. Which Python statements are used to catch and handle exceptions? Explain with an example."
   ]
  },
  {
   "cell_type": "markdown",
   "id": "46212d1c-0142-44b5-a93e-c6c2b7d8a704",
   "metadata": {},
   "source": [
    "The try...except statements/block is used to handle exceptions in Python. Here's the syntax of try...except block:\n",
    "\n",
    "try :\n",
    ">* code that may cause exception\n",
    "\n",
    "except :\n",
    ">*    code to run when exception occurs\n",
    "    \n",
    "Here, we have placed the code that might generate an exception inside the try block. Every try block is followed by an except block.\n",
    "\n",
    "When an exception occurs, it is caught by the except block. The except block cannot be used without the try block."
   ]
  },
  {
   "cell_type": "code",
   "execution_count": 5,
   "id": "ba132bf2-66f8-4db9-b0fe-95c385d93b3b",
   "metadata": {},
   "outputs": [
    {
     "name": "stdin",
     "output_type": "stream",
     "text": [
      "Enter a number:  3\n"
     ]
    },
    {
     "name": "stdout",
     "output_type": "stream",
     "text": [
      "Not an even number!\n"
     ]
    }
   ],
   "source": [
    "# program to print the reciprocal of even numbers\n",
    "\n",
    "try:\n",
    "    num = int(input(\"Enter a number: \"))\n",
    "    assert num % 2 == 0\n",
    "except:\n",
    "    print(\"Not an even number!\")\n",
    "else:\n",
    "    reciprocal = 1/num\n",
    "    print(reciprocal)"
   ]
  },
  {
   "cell_type": "code",
   "execution_count": null,
   "id": "2e4dbb9a-aa26-4b22-b447-0eb6defb3407",
   "metadata": {},
   "outputs": [],
   "source": []
  },
  {
   "cell_type": "markdown",
   "id": "6ecaa526-0101-49b2-a4d7-77ce0ed53701",
   "metadata": {},
   "source": [
    "#### Q4. Explain with an example:\n",
    "- try and else\n",
    "- finally\n",
    "- raise"
   ]
  },
  {
   "cell_type": "markdown",
   "id": "feca2ff3-9e4d-4afd-b868-f0085dfc948d",
   "metadata": {},
   "source": [
    "- Try: This block will test the excepted error to occur\n",
    "- Except:  Here you can handle the error\n",
    "- Else: If there is no exception then this block will be executed\n",
    "- Finally: Finally block always gets executed either exception is generated or not"
   ]
  },
  {
   "cell_type": "markdown",
   "id": "e3f80e07-bbdd-40ee-aef4-d354b350d5e4",
   "metadata": {},
   "source": [
    "# try and else\n"
   ]
  },
  {
   "cell_type": "markdown",
   "id": "7ced3e26-48fb-45b5-883b-86b6497d4642",
   "metadata": {},
   "source": [
    "Try: This block will test the excepted error to occur\n",
    "\n",
    "Else: If there is no exception then this block will be executed"
   ]
  },
  {
   "cell_type": "code",
   "execution_count": 10,
   "id": "4ce05423-2120-421c-99c3-96cbd78f6ff3",
   "metadata": {},
   "outputs": [
    {
     "name": "stdout",
     "output_type": "stream",
     "text": [
      "Yeah ! Your answer is : 1\n",
      "Sorry ! You are dividing by zero \n"
     ]
    }
   ],
   "source": [
    " def divide(x, y):\n",
    "    try:\n",
    "        # Floor Division : Gives only Fractional\n",
    "        # Part as Answer\n",
    "        result = x // y\n",
    "    except ZeroDivisionError:\n",
    "        print(\"Sorry ! You are dividing by zero \")\n",
    "    else:\n",
    "        print(\"Yeah ! Your answer is :\", result)\n",
    "\n",
    "# look at parameters\n",
    "divide(3, 2)\n",
    "divide(3, 0)"
   ]
  },
  {
   "cell_type": "markdown",
   "id": "43022b6f-e728-4852-8c75-ecc5244ff75b",
   "metadata": {},
   "source": [
    "# finally\n",
    "In Python, the finally block is always executed no matter whether there is an exception or not.\n",
    "\n",
    "The finally block is optional. And, for each try block, there can be only one finally block."
   ]
  },
  {
   "cell_type": "code",
   "execution_count": 6,
   "id": "3f50b01d-115d-47fb-b1c7-8d91354fee70",
   "metadata": {},
   "outputs": [
    {
     "name": "stdout",
     "output_type": "stream",
     "text": [
      "Error: Denominator cannot be 0.\n",
      "This is finally block.\n"
     ]
    }
   ],
   "source": [
    "try:\n",
    "    numerator = 10\n",
    "    denominator = 0\n",
    "\n",
    "    result = numerator/denominator\n",
    "\n",
    "    print(result)\n",
    "except:\n",
    "    print(\"Error: Denominator cannot be 0.\")\n",
    "    \n",
    "finally:\n",
    "    print(\"This is finally block.\")"
   ]
  },
  {
   "cell_type": "markdown",
   "id": "0a1a20a8-ead6-4dbd-a30e-1bbe89daad6d",
   "metadata": {},
   "source": [
    "# raise"
   ]
  },
  {
   "cell_type": "markdown",
   "id": "cc67ee5b-89b9-4618-8938-5be88cd1de81",
   "metadata": {},
   "source": [
    "The raise keyword is used to raise an exception.\n",
    "\n",
    "The raise keyword in Python is mainly used for exception handling. Exception handling handles exceptions or errors so that the system does not malfunction due to incorrect code.\n",
    "\n",
    "You can define what kind of error to raise, and the text to print to the user."
   ]
  },
  {
   "cell_type": "code",
   "execution_count": 27,
   "id": "d43be977-ca57-4081-959c-8b31ca922fde",
   "metadata": {},
   "outputs": [
    {
     "ename": "Exception",
     "evalue": "Sorry, no numbers below zero",
     "output_type": "error",
     "traceback": [
      "\u001b[0;31m---------------------------------------------------------------------------\u001b[0m",
      "\u001b[0;31mException\u001b[0m                                 Traceback (most recent call last)",
      "Cell \u001b[0;32mIn[27], line 6\u001b[0m\n\u001b[1;32m      4\u001b[0m \u001b[38;5;66;03m# Use of \"raise\"\u001b[39;00m\n\u001b[1;32m      5\u001b[0m \u001b[38;5;28;01mif\u001b[39;00m x \u001b[38;5;241m<\u001b[39m \u001b[38;5;241m0\u001b[39m:\n\u001b[0;32m----> 6\u001b[0m     \u001b[38;5;28;01mraise\u001b[39;00m \u001b[38;5;167;01mException\u001b[39;00m(\u001b[38;5;124m\"\u001b[39m\u001b[38;5;124mSorry, no numbers below zero\u001b[39m\u001b[38;5;124m\"\u001b[39m)\n",
      "\u001b[0;31mException\u001b[0m: Sorry, no numbers below zero"
     ]
    }
   ],
   "source": [
    "# Input\n",
    "x = -1\n",
    "\n",
    "# Use of \"raise\"\n",
    "if x < 0:\n",
    "    raise Exception(\"Sorry, no numbers below zero\")"
   ]
  },
  {
   "cell_type": "code",
   "execution_count": 13,
   "id": "769518bf-e096-434b-8eb5-843bb158d8c1",
   "metadata": {},
   "outputs": [
    {
     "ename": "TypeError",
     "evalue": "Only integers are allowed",
     "output_type": "error",
     "traceback": [
      "\u001b[0;31m---------------------------------------------------------------------------\u001b[0m",
      "\u001b[0;31mTypeError\u001b[0m                                 Traceback (most recent call last)",
      "Cell \u001b[0;32mIn[13], line 4\u001b[0m\n\u001b[1;32m      1\u001b[0m x \u001b[38;5;241m=\u001b[39m \u001b[38;5;124m\"\u001b[39m\u001b[38;5;124mhello\u001b[39m\u001b[38;5;124m\"\u001b[39m\n\u001b[1;32m      3\u001b[0m \u001b[38;5;28;01mif\u001b[39;00m \u001b[38;5;129;01mnot\u001b[39;00m \u001b[38;5;28mtype\u001b[39m(x) \u001b[38;5;129;01mis\u001b[39;00m \u001b[38;5;28mint\u001b[39m:\n\u001b[0;32m----> 4\u001b[0m     \u001b[38;5;28;01mraise\u001b[39;00m \u001b[38;5;167;01mTypeError\u001b[39;00m(\u001b[38;5;124m\"\u001b[39m\u001b[38;5;124mOnly integers are allowed\u001b[39m\u001b[38;5;124m\"\u001b[39m)\n",
      "\u001b[0;31mTypeError\u001b[0m: Only integers are allowed"
     ]
    }
   ],
   "source": [
    "x = \"hello\"\n",
    "\n",
    "if not type(x) is int:\n",
    "    raise TypeError(\"Only integers are allowed\")"
   ]
  },
  {
   "cell_type": "code",
   "execution_count": 25,
   "id": "4e7f11e5-4195-4fa7-9130-9d1d37c2cd82",
   "metadata": {},
   "outputs": [
    {
     "ename": "ValueError",
     "evalue": "String can't be changed into integer",
     "output_type": "error",
     "traceback": [
      "\u001b[0;31m---------------------------------------------------------------------------\u001b[0m",
      "\u001b[0;31mValueError\u001b[0m                                Traceback (most recent call last)",
      "Cell \u001b[0;32mIn[25], line 4\u001b[0m\n\u001b[1;32m      3\u001b[0m \u001b[38;5;28;01mtry\u001b[39;00m:\n\u001b[0;32m----> 4\u001b[0m     num \u001b[38;5;241m=\u001b[39m \u001b[38;5;28;43mint\u001b[39;49m\u001b[43m(\u001b[49m\u001b[43ms\u001b[49m\u001b[43m)\u001b[49m\n\u001b[1;32m      5\u001b[0m \u001b[38;5;28;01mexcept\u001b[39;00m \u001b[38;5;167;01mValueError\u001b[39;00m:\n",
      "\u001b[0;31mValueError\u001b[0m: invalid literal for int() with base 10: 'apple'",
      "\nDuring handling of the above exception, another exception occurred:\n",
      "\u001b[0;31mValueError\u001b[0m                                Traceback (most recent call last)",
      "Cell \u001b[0;32mIn[25], line 6\u001b[0m\n\u001b[1;32m      4\u001b[0m     num \u001b[38;5;241m=\u001b[39m \u001b[38;5;28mint\u001b[39m(s)\n\u001b[1;32m      5\u001b[0m \u001b[38;5;28;01mexcept\u001b[39;00m \u001b[38;5;167;01mValueError\u001b[39;00m:\n\u001b[0;32m----> 6\u001b[0m     \u001b[38;5;28;01mraise\u001b[39;00m \u001b[38;5;167;01mValueError\u001b[39;00m(\u001b[38;5;124m\"\u001b[39m\u001b[38;5;124mString can\u001b[39m\u001b[38;5;124m'\u001b[39m\u001b[38;5;124mt be changed into integer\u001b[39m\u001b[38;5;124m\"\u001b[39m)\n",
      "\u001b[0;31mValueError\u001b[0m: String can't be changed into integer"
     ]
    }
   ],
   "source": [
    "s = 'apple'\n",
    "  \n",
    "try:\n",
    "    num = int(s)\n",
    "except ValueError:\n",
    "    raise ValueError(\"String can't be changed into integer\")"
   ]
  },
  {
   "cell_type": "markdown",
   "id": "807b9ca0-af0a-4acf-875b-288d01bb70bb",
   "metadata": {},
   "source": [
    "Advantages of the raise keyword:\n",
    "- It helps us raise exceptions when we may run into situations where execution can’t proceed.\n",
    "- It helps us reraise an exception that is caught.\n",
    "- Raise allows us to throw one exception at any time.\n",
    "- It is useful when we want to work with input validations."
   ]
  },
  {
   "cell_type": "code",
   "execution_count": null,
   "id": "5ea2fc85-4fcf-4bd5-9c77-9a48f850a934",
   "metadata": {},
   "outputs": [],
   "source": []
  },
  {
   "cell_type": "markdown",
   "id": "ceee8cde-1c95-496e-ad4d-82aa6a79214c",
   "metadata": {},
   "source": [
    "#### Q5. What are Custom Exceptions in python? Why do we need Custom Exceptions? Explain with an example."
   ]
  },
  {
   "cell_type": "markdown",
   "id": "eb227fc4-a733-4af1-b30e-0a2c81ba4edf",
   "metadata": {},
   "source": [
    "A custom exception is a user-defined exception that is created by the programmer to handle specific error scenarios in a program. \n",
    "\n",
    "sometimes we may need to create our own custom exceptions that serve our purpose.\n",
    "\n",
    "Python allows you to create your own custom exceptions by subclassing the built-in Exception class or any of its subclasses. When a custom exception is raised, it behaves like any other exception in Python, triggering an error message and terminating the program if it is not handled properly.\n",
    "\n",
    "In Python, we can define custom exceptions by creating a new class that is derived from the built-in Exception class.\n",
    "\n",
    "Here's the syntax to define custom exceptions,\n",
    "\n",
    " class CustomError(Exception):\n",
    "\n",
    "    ...\n",
    "    pass\n",
    "\n",
    "try:\n",
    "\n",
    "    ...\n",
    "\n",
    "except CustomError:\n",
    "\n",
    "    ...\n",
    "    \n",
    "\n"
   ]
  },
  {
   "cell_type": "code",
   "execution_count": 2,
   "id": "b4d03e38-a71e-4e53-a3d1-09f1a1f46f7d",
   "metadata": {},
   "outputs": [
    {
     "name": "stdin",
     "output_type": "stream",
     "text": [
      "Enter salary amount:  7900000\n"
     ]
    },
    {
     "ename": "SalaryNotInRangeError",
     "evalue": "Salary is not in (5000, 15000) range",
     "output_type": "error",
     "traceback": [
      "\u001b[0;31m---------------------------------------------------------------------------\u001b[0m",
      "\u001b[0;31mSalaryNotInRangeError\u001b[0m                     Traceback (most recent call last)",
      "Cell \u001b[0;32mIn[2], line 17\u001b[0m\n\u001b[1;32m     15\u001b[0m salary \u001b[38;5;241m=\u001b[39m \u001b[38;5;28mint\u001b[39m(\u001b[38;5;28minput\u001b[39m(\u001b[38;5;124m\"\u001b[39m\u001b[38;5;124mEnter salary amount: \u001b[39m\u001b[38;5;124m\"\u001b[39m))\n\u001b[1;32m     16\u001b[0m \u001b[38;5;28;01mif\u001b[39;00m \u001b[38;5;129;01mnot\u001b[39;00m \u001b[38;5;241m5000\u001b[39m \u001b[38;5;241m<\u001b[39m salary \u001b[38;5;241m<\u001b[39m \u001b[38;5;241m15000\u001b[39m:\n\u001b[0;32m---> 17\u001b[0m     \u001b[38;5;28;01mraise\u001b[39;00m SalaryNotInRangeError(salary)\n",
      "\u001b[0;31mSalaryNotInRangeError\u001b[0m: Salary is not in (5000, 15000) range"
     ]
    }
   ],
   "source": [
    "class SalaryNotInRangeError(Exception):\n",
    "    \"\"\"Exception raised for errors in the input salary.\n",
    "\n",
    "    Attributes:\n",
    "        salary -- input salary which caused the error\n",
    "        message -- explanation of the error\n",
    "    \"\"\"\n",
    "\n",
    "    def __init__(self, salary, message=\"Salary is not in (5000, 15000) range\"):\n",
    "        self.salary = salary\n",
    "        self.message = message\n",
    "        super().__init__(self.message)\n",
    "\n",
    "\n",
    "salary = int(input(\"Enter salary amount: \"))\n",
    "if not 5000 < salary < 15000:\n",
    "    raise SalaryNotInRangeError(salary)"
   ]
  },
  {
   "cell_type": "markdown",
   "id": "7b2095ca-4b05-45ea-9e36-fe2f6ac115e9",
   "metadata": {},
   "source": [
    "Here, we have overridden the constructor of the Exception class to accept our own custom arguments salary and message.\n",
    "\n",
    "Then, the constructor of the parent Exception class is called manually with the self.message argument using super().\n",
    "\n",
    "The custom self.salary attribute is defined to be used later.\n",
    "\n",
    "The inherited __str__ method of the Exception class is then used to display the corresponding message when SalaryNotInRangeError is raised."
   ]
  },
  {
   "cell_type": "code",
   "execution_count": null,
   "id": "31490992-72f1-427c-b8a7-21489c8431c2",
   "metadata": {},
   "outputs": [],
   "source": []
  },
  {
   "cell_type": "markdown",
   "id": "7a0a3c00-b7f9-4aa3-927f-0bc28f65c274",
   "metadata": {},
   "source": [
    "#### Q6. Create a custom exception class. Use this class to handle an exception."
   ]
  },
  {
   "cell_type": "code",
   "execution_count": 30,
   "id": "87c606a7-8827-48b9-928e-f059eaca2ba6",
   "metadata": {},
   "outputs": [],
   "source": [
    "class validateage(Exception):\n",
    "    def __init__(self, msg):\n",
    "        self.msg = msg\n",
    "    \n",
    "def validate_age(age):\n",
    "    if age < 0:\n",
    "        raise validateage(\"age cannot be negative\")\n",
    "    elif age > 200:\n",
    "        raise validateage(\"age cannot be greater than 200\")\n",
    "    else:\n",
    "        print(\"age is valid\")"
   ]
  },
  {
   "cell_type": "code",
   "execution_count": 31,
   "id": "cacaf561-a372-4198-8e50-b459b2ba77e0",
   "metadata": {},
   "outputs": [
    {
     "name": "stdin",
     "output_type": "stream",
     "text": [
      "enter your age 44\n"
     ]
    },
    {
     "name": "stdout",
     "output_type": "stream",
     "text": [
      "age is valid\n"
     ]
    }
   ],
   "source": [
    "try:\n",
    "    ag = int(input(\"enter your age\"))\n",
    "    validate_age(ag)\n",
    "except validateage as e:\n",
    "    print(e)\n",
    "    \n",
    "    "
   ]
  },
  {
   "cell_type": "code",
   "execution_count": null,
   "id": "9cb84d8a-8e8f-47c5-b897-c88a9f8c4250",
   "metadata": {},
   "outputs": [],
   "source": []
  }
 ],
 "metadata": {
  "kernelspec": {
   "display_name": "Python 3 (ipykernel)",
   "language": "python",
   "name": "python3"
  },
  "language_info": {
   "codemirror_mode": {
    "name": "ipython",
    "version": 3
   },
   "file_extension": ".py",
   "mimetype": "text/x-python",
   "name": "python",
   "nbconvert_exporter": "python",
   "pygments_lexer": "ipython3",
   "version": "3.10.8"
  }
 },
 "nbformat": 4,
 "nbformat_minor": 5
}
