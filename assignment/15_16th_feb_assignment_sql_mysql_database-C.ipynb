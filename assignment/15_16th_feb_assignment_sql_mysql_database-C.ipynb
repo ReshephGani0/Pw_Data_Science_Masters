{
 "cells": [
  {
   "cell_type": "markdown",
   "id": "f9855dc6-7ad7-4d85-b9dc-fbf548fbaff3",
   "metadata": {},
   "source": [
    "# SQL-MySQL database, Assignment no. 15\n",
    "## 16th feb 2023 Assignment"
   ]
  },
  {
   "cell_type": "code",
   "execution_count": null,
   "id": "b1850ddb-cbfa-4f96-9f81-6587953479c2",
   "metadata": {},
   "outputs": [],
   "source": []
  },
  {
   "cell_type": "markdown",
   "id": "e183b631-b958-47ba-8da1-cf1fe2b5c4be",
   "metadata": {},
   "source": [
    "## Q1. What is a database? Differentiate between SQL and NoSQL databases."
   ]
  },
  {
   "cell_type": "markdown",
   "id": "901fc704-019e-4184-80e4-567b4fde2ec5",
   "metadata": {},
   "source": [
    "The Database is an essential part of our life. As we encounter several activities that involve our interaction with databases, for example in the bank, in the railway station, in school, in a grocery store, etc. These are the instances where we need to store a large amount of data in one place and fetch these data easily. \n",
    "\n",
    "Data : statistics it is raw and unprocessed . ex- name , class , marks etc.\n",
    "\n",
    "information : when data is processed . ” record is also information “. example – pass or fail table etc.\n",
    "\n",
    "Database : an organized collection of data and information or interrelated data collected at one place.\n",
    "\n",
    "\n",
    "DBMS: Collection of interrelated data and set of program to access data example – MySql, Oracle.\n",
    "\n",
    "Application : Company Information , Account information, manufacturing, banking ,finance transactions, telecommunications.\n",
    "\n",
    "### A database is a collection of data that is organized, which is also called structured data. It can be accessed or stored in a computer system. It can be managed through a Database Management System (DBMS), a software used to manage data. Database refers to related data in a structured form. \n",
    "\n",
    "In a database, data is organized into tables consisting of rows and columns and it is indexed so data can be updated, expanded, and deleted easily. Computer databases typically contain file records data like transactions money in one bank account to another bank account, sales and customer details, fee details of students, and product details. There are different kinds of databases, ranging from the most prevalent approach, the relational database, to a distributed database, cloud database, and NoSQL databases.  \n",
    "\n",
    "- Relational Database: \n",
    "A relational database is made up of a set of tables with data that fits into a predefined category.\n",
    " \n",
    "- Distributed Database: \n",
    "A distributed database is a database in which portions of the database are stored in multiple physical locations, and in which processing is dispersed or replicated among different points in a network. \n",
    " \n",
    "- Cloud Database: \n",
    "A cloud database is a database that typically runs on a cloud computing platform. Database service provides access to the database. Database services make the underlying software-stack transparent to the user.\n",
    "These interactions are the example of a traditional database where data is of one type-that is textual. In advancement of technology has led to new applications of database systems. New media technology has made it possible to store images, video clips. These essential features are making multimedia databases. \n",
    "\n",
    "Nowadays, people are becoming smart – before taking any decisions they analyze facts and figures related to it, which come from these databases. As the databases have made it easier to manage information, we are able to catch criminals and do deep research."
   ]
  },
  {
   "cell_type": "markdown",
   "id": "e858e6e6-8648-45a9-aa88-44d97c51fbc1",
   "metadata": {},
   "source": [
    "#### The Main Differences SQL and NoSQL:\n",
    "##### Structured Query Language and Not only Structured Query Language.\n",
    "\n",
    "1. Type – \n",
    "SQL databases are primarily called as Relational Databases (RDBMS); whereas NoSQL database are primarily called as non-relational or distributed database. \n",
    "2. Language – \n",
    "SQL databases defines and manipulates data based structured query language (SQL). Seeing from a side this language is extremely powerful. SQL is one of the most versatile and widely-used options available which makes it a safe choice especially for great complex queries. But from other side it can be restrictive. SQL requires you to use predefined schemas to determine the structure of your data before you work with it. Also all of your data must follow the same structure. This can require significant up-front preparation which means that a change in the structure would be both difficult and disruptive to your whole system. \n",
    "A NoSQL database has dynamic schema for unstructured data. Data is stored in many ways which means it can be document-oriented, column-oriented, graph-based or organized as a KeyValue store. This flexibility means that documents can be created without having defined structure first. Also each document can have its own unique structure. The syntax varies from database to database, and you can add fields as you go. \n",
    "3. Scalability – \n",
    "In almost all situations SQL databases are vertically scalable. This means that you can increase the load on a single server by increasing things like RAM, CPU or SSD. But on the other hand NoSQL databases are horizontally scalable. This means that you handle more traffic by sharding, or adding more servers in your NoSQL database. It is similar to adding more floors to the same building versus adding more buildings to the neighborhood. Thus NoSQL can ultimately become larger and more powerful, making these databases the preferred choice for large or ever-changing data sets.\n",
    "4. Structure – \n",
    "SQL databases are table-based on the other hand NoSQL databases are either key-value pairs, document-based, graph databases or wide-column stores. This makes relational SQL databases a better option for applications that require multi-row transactions such as an accounting system or for legacy systems that were built for a relational structure. \n",
    "5. Property followed – \n",
    "SQL databases follow ACID properties (Atomicity, Consistency, Isolation and Durability) whereas the NoSQL database follows the Brewers CAP theorem (Consistency, Availability and Partition tolerance). \n",
    "6. Support – \n",
    "Great support is available for all SQL database from their vendors. Also a lot of independent consultations are there who can help you with SQL database for a very large scale deployments but for some NoSQL database you still have to rely on community support and only limited outside experts are available for setting up and deploying your large scale NoSQL deployments. \n",
    "\n",
    "\n",
    "#### Key highlights on SQL vs NoSQL: \n",
    "\n",
    "|SQL\t| NoSQL|\n",
    "|-------|------|\n",
    "| RELATIONAL DATABASE MANAGEMENT SYSTEM (RDBMS)\t| Non-relational or distributed database system.|\n",
    "| These databases have fixed or static or predefined schema\t| They have dynamic schema |\n",
    "| These databases are not suited for hierarchical data storage. |\tThese databases are best suited for hierarchical data storage. |\n",
    "| These databases are best suited for complex queries\t| These databases are not so good for complex queries |\n",
    "| Vertically Scalable\t| Horizontally scalable |\n",
    "| Follows ACID property(atomicity, consistency, isolation, and durability)\t| Follows CAP(consistency, availability, partition tolerance)|\n",
    "| Examples: MySQL, PostgreSQL, Oracle, MS-SQL Server, etc |\tExamples: MongoDB, GraphQL, HBase, Neo4j, Cassandra, etc |"
   ]
  },
  {
   "cell_type": "code",
   "execution_count": null,
   "id": "343e0ce9-71c3-4308-b802-43c6bc25c30e",
   "metadata": {},
   "outputs": [],
   "source": []
  },
  {
   "cell_type": "markdown",
   "id": "6a1f7330-97d5-46f8-b672-2c37c61add94",
   "metadata": {},
   "source": [
    "## Q2. What is DDL? Explain why CREATE, DROP, ALTER, and TRUNCATE are used with an example."
   ]
  },
  {
   "cell_type": "markdown",
   "id": "d20a6637-1bd3-41b8-adb6-0854462ffd31",
   "metadata": {},
   "source": [
    "DDL or Data Definition Language actually consists of the SQL commands that can be used to define the database schema. It simply deals with descriptions of the database schema and is used to create and modify the structure of database objects in the database. DDL is a set of SQL commands used to create, modify, and delete database structures but not data. These commands are normally not used by a general user, who should be accessing the database via an application.\n",
    "\n",
    "List of DDL commands: \n",
    "\n",
    "- CREATE: This command is used to create the database or its objects (like table, index, function, views, store procedure, and triggers).\n",
    "- DROP: This command is used to delete objects from the database.\n",
    "- ALTER: This is used to alter the structure of the database.\n",
    "- TRUNCATE: This is used to remove all records from a table, including all spaces allocated for the records are removed.\n",
    "- COMMENT: This is used to add comments to the data dictionary.\n",
    "- RENAME: This is used to rename an object existing in the database."
   ]
  },
  {
   "cell_type": "markdown",
   "id": "c71b67aa-584a-4ee1-bdf9-81f825303e57",
   "metadata": {},
   "source": [
    "#"
   ]
  },
  {
   "cell_type": "markdown",
   "id": "c48a842b-1f6c-42ad-b3b4-17e7f578f436",
   "metadata": {},
   "source": [
    "### CREATE\n",
    "CREATE: This command is used to create the database or its objects (like table, index, function, views, store procedure, and triggers).\n",
    "> - cursor_object.execute(\"Create database database_name\")\n",
    "> - cursor_object.execute(\"Create table table_name(columnm_name1 datatype constraint,columnm_name2 datatype constraint \")"
   ]
  },
  {
   "cell_type": "markdown",
   "id": "830b6bb9-3a06-4be1-8a2c-58349912352c",
   "metadata": {},
   "source": [
    "## creating database"
   ]
  },
  {
   "cell_type": "code",
   "execution_count": null,
   "id": "4647848b-ae2c-4113-961d-12da5f9f4282",
   "metadata": {},
   "outputs": [],
   "source": [
    "import mysql.connector\n",
    "db=mysql.connector.connect(\n",
    "    host = \"localhost\",\n",
    "    user = \"abc\",\n",
    "    password = \"password\"\n",
    ")\n",
    "# prepare a cursor object using cursor() method\n",
    "mycursor = db.cursor()\n",
    "# execute SQL query using execute() method.\n",
    "mycursor.execute(\"CREATE DATABASE test_db\")\n",
    "# disconnect from server\n",
    "db.close()"
   ]
  },
  {
   "cell_type": "markdown",
   "id": "64ba469c-2010-4a0b-9914-2eec909af184",
   "metadata": {},
   "source": [
    "## creating table inside database"
   ]
  },
  {
   "cell_type": "markdown",
   "id": "06bf0f72-7846-4d66-b684-49c2bc837740",
   "metadata": {},
   "source": [
    "##### ,database='test_db' inside connect() is not working, i think it's removed from mysql\n"
   ]
  },
  {
   "cell_type": "code",
   "execution_count": null,
   "id": "39a4f6bc-b8e5-4e41-b11d-75fdd7b5542b",
   "metadata": {},
   "outputs": [],
   "source": [
    "import mysql.connector\n",
    "db=mysql.connector.connect(\n",
    "    host = \"localhost\",\n",
    "    user = \"abc\",\n",
    "    password = \"password\",\n",
    "    database='test_db'\n",
    ")\n",
    "# prepare a cursor object using cursor() method\n",
    "cursor = db.cursor()\n",
    "# Drop table if it already exist using execute() method.\n",
    "cursor.execute(\"DROP TABLE IF EXISTS test_table\")\n",
    "# Create table as per requirement\n",
    "sql = \"\"\"CREATE TABLE if not exists test_table(\n",
    "         test_name  VARCHAR(50) NOT NULL,\n",
    "         test_mail  VARCHAR(50),\n",
    "         test_phone INT,  \n",
    "         test_age INT)\"\"\"    \n",
    "\n",
    "cursor.execute(sql)\n",
    "print(\"Table Created Successfully\")\n",
    "# disconnect from server\n",
    "db.close()\n"
   ]
  },
  {
   "cell_type": "markdown",
   "id": "62ac3494-20ad-417c-a982-6d09d73aee60",
   "metadata": {},
   "source": [
    "#"
   ]
  },
  {
   "cell_type": "markdown",
   "id": "05f2846e-5c98-40e9-9cbd-e08a493acb41",
   "metadata": {},
   "source": [
    "### ALTER statement of SQL\n",
    "With the ALTER statement, one can add, drop, or modify a column of an existing table as well as modify table constraints.\n",
    "\n",
    "The syntax for adding a column with ALTER statement:\n",
    "\n",
    "    ALTER TABLE table_name\n",
    "    ADD new_column_name column_definition\n",
    "    [FIRST | AFTER column_name];\n",
    "Here, the table_name is the name of the table to which the column is being added, new_column_name is the name of the column to be added and column_definition is the datatype and definition of the column to be added. FIRST and AFTER are optional statements that tell MySQL the position for the new column in the table. If this parameter is not specified then the new column is added to the end of the table.\n",
    "\n",
    "Implementation:\n",
    "\n",
    "To add a column to a MySQL table in Python, first establish a connection with the database server. Then create a cursor object. This cursor object interacts with the MySQL server and can be used to perform operations such as execute SQL statements, fetch data and call procedures. So, using this cursor object, execute the ALTER statement to add a column either at the end or at a specific position. "
   ]
  },
  {
   "cell_type": "markdown",
   "id": "38ac1250-c5a6-497d-a213-e79d18ee0e1b",
   "metadata": {},
   "source": [
    "### DROP\n",
    "DROP is used to delete a whole database or just a table.\n",
    "\n",
    "The DROP statement which destroys objects like an existing database, table, index, or view. A DROP statement in SQL removes a component from a relational database management system (RDBMS). \n",
    "\n",
    "Syntax:\n",
    "> DROP object object_name\n",
    "\n",
    "Examples 1:\n",
    "\n",
    "- To Drop a table\n",
    "\n",
    "> DROP TABLE table_name;\n",
    "> - table_name: Name of the table to be deleted.\n",
    "\n",
    "Examples 2:\n",
    "\n",
    "- To Drop a database\n",
    "\n",
    "> DROP DATABASE database_name;\n",
    "> - database_name: Name of the database to be deleted.\n",
    "\n",
    "### TRUNCATE\n",
    "The major definition between TRUNCATE and DROP is that truncate is used to delete the data inside the table not the whole table.\n",
    "\n",
    "TRUNCATE statement is a Data Definition Language (DDL) operation that is used to mark the extent of a table for deallocation (empty for reuse). The result of this operation quickly removes all data from a table, typically bypassing several integrity-enforcing mechanisms. It was officially introduced in the SQL:2008 standard. The TRUNCATE TABLE mytable statement is logically (though not physically) equivalent to the DELETE FROM mytable statement (without a WHERE clause).\n",
    "\n",
    "\n",
    "Syntax:\n",
    "\n",
    "> TRUNCATE TABLE  table_name;\n",
    "> - table_name: Name of the table to be truncated.\n",
    "\n",
    "\n",
    "#### DROP vs TRUNCATE\n",
    "- Truncate is normally ultra-fast and it’s ideal for deleting data from a temporary table.\n",
    "- Truncate preserves the structure of the table for future use, unlike drop table where the table is deleted with its full structure.\n",
    "- Table or Database deletion using a DROP statement cannot be rolled back, so it must be used wisely.\n",
    " Difference between DROP and TRUNCATE\n",
    "| DROP | TRUNCATE|\n",
    "|-----|-----|\n",
    "| In the drop table data and its definition is deleted with their full structure. | It preserves the structure of the table for further use exist but deletes all the data. |\n",
    "| Drop is used to eliminate existing complications and fewer complications in the whole database from the table. | Truncate is used to eliminate the tuples from the table. |\n",
    "| Integrity constraints get removed in the DROP command. | Integrity constraint doesn’t get removed in the Truncate command. |\n",
    "| Since the structure does not exist, the View of the table does not exist in the Truncate command. | Since the structure exists, the View of the table exists in the Truncate command. |\n",
    "| Drop query frees the table space complications from memory. | This query does not free the table space from memory. |\n",
    "| It is slow as there are so many complications compared to the TRUNCATE command. | It is fast as compared to the DROP command as there are fewer complications. |"
   ]
  },
  {
   "cell_type": "code",
   "execution_count": null,
   "id": "409c78cd-54af-4483-84e9-4fc1a14ae36f",
   "metadata": {},
   "outputs": [],
   "source": [
    "import mysql.connector\n",
    "db=mysql.connector.connect(\n",
    "    host = \"localhost\",\n",
    "    user = \"abc\",\n",
    "    password = \"password\",\n",
    "    database='test_db' #selected database\n",
    ")\n",
    "\n",
    "# prepare a cursor object using cursor() method\n",
    "mycursor = db.cursor()\n",
    "\n",
    "# Create table as per requirement\n",
    "sql = \"\"\"CREATE TABLE if not exists test_table(\n",
    "         test_name  VARCHAR(50) NOT NULL,\n",
    "         test_mail  VARCHAR(50),\n",
    "         test_phone INT,  \n",
    "         test_age INT)\"\"\"    \n",
    "\n",
    "mycursor.execute(sql)\n",
    "print(\"Table Created Successfully\")\n",
    "\n",
    "# TRUNCATE table using execute() method.\n",
    "mycursor.execute(\"TRUNCATE TABLE test_table\")\n",
    "\n",
    "# Drop table if it already exist using execute() method.\n",
    "mycursor.execute(\"DROP TABLE IF EXISTS test_table\")\n",
    "\n",
    "# Drop DATABASE\n",
    "mycursor.execute(\"DROP database test_db\")\n",
    "\n",
    "# disconnect from server\n",
    "db.close()\n"
   ]
  },
  {
   "cell_type": "code",
   "execution_count": null,
   "id": "9fc86e58-2f9e-4e5f-92e3-f3beb655c8dc",
   "metadata": {},
   "outputs": [],
   "source": []
  },
  {
   "cell_type": "markdown",
   "id": "c2f976ea-f8f4-44ec-a76b-abe76a967b07",
   "metadata": {},
   "source": [
    "## Q3. What is DML? Explain INSERT, UPDATE, and DELETE with an example."
   ]
  },
  {
   "cell_type": "markdown",
   "id": "9365faa6-d568-4d0d-b205-2f222e3472cf",
   "metadata": {},
   "source": [
    "DML(Data Manipulation Language): \n",
    "The SQL commands that deals with the manipulation of data present in the database belong to DML or Data Manipulation Language and this includes most of the SQL statements. It is the component of the SQL statement that controls access to data and to the database. Basically, DCL statements are grouped with DML statements.\n",
    "\n",
    "List of DML commands: \n",
    "\n",
    "- INSERT : It is used to insert data into a table.\n",
    "- UPDATE: It is used to update existing data within a table.\n",
    "- DELETE : It is used to delete records from a database table.\n",
    "- LOCK: Table control concurrency.\n",
    "- CALL: Call a PL/SQL or JAVA subprogram.\n",
    "- EXPLAIN PLAN: It describes the access path to data."
   ]
  },
  {
   "cell_type": "markdown",
   "id": "4a3b2a86-ba46-4d5d-bc15-1f36b3ff1070",
   "metadata": {},
   "source": [
    "### INSERT\n",
    "INSERT : It is used to insert data into a table.\n",
    "   > syntax\n",
    "   > - cursor_object.execute(\"Insert into table_name valiues(value1, value2,...))\n",
    "  >  - cursor_object.execute(\"Insert into table_name (columnm_name1 ,columnm_name2,..\") Values (value1, value2,...))"
   ]
  },
  {
   "cell_type": "code",
   "execution_count": null,
   "id": "b543476b-38e0-4f60-8419-33e9065875c0",
   "metadata": {},
   "outputs": [],
   "source": [
    "import mysql.connector\n",
    "\n",
    "mydb = mysql.connector.connect(\n",
    "    host = \"localhost\",\n",
    "    user = \"abc\",\n",
    "    password = \"password\"\n",
    ")\n",
    "\n",
    "mycursor = mydb.cursor()\n",
    "\n",
    "mycursor.execute(\"create database if not exists test_db\") # creating database\n",
    "mycursor.execute(\"create table if not exists test_db.test_table( \\\n",
    "         test_name  VARCHAR(50) NOT NULL, \\\n",
    "         test_mail  VARCHAR(50), \\\n",
    "         test_phone INT, \\ \n",
    "         test_age INT \\\n",
    ")\") # creating table, \"\\\" is for continuing mysql statement in nextline\n",
    "\n",
    "mycursor.execute(\"INSERT into test_db.test_table VALUES ('mohan', 'mohan@gmail.com', 2343545, 24)\")\n",
    "\n",
    "mydb.commit()\n",
    "mydb.close()\n",
    "                 "
   ]
  },
  {
   "cell_type": "code",
   "execution_count": null,
   "id": "59a5f3fe-9dad-4396-a812-9b527aa32373",
   "metadata": {},
   "outputs": [],
   "source": [
    "import mysql.connector\n",
    "db=mysql.connector.connect(\n",
    "    host = \"localhost\",\n",
    "    user = \"abc\",\n",
    "    password = \"password\"\n",
    ")\n",
    "\n",
    "# prepare a cursor object using cursor() method\n",
    "mycursor = db.cursor()\n",
    "\n",
    "try:\n",
    "    # Execute the SQL command\n",
    "    mycursor.execute(\"INSERT INTO test_db(test_name,\\\n",
    "         test_mail, test_phone, test_age) \\\n",
    "         VALUES ('sohan', 'sohan@gmail.com', 27454541, 22)\")\n",
    "    \n",
    "    print (\"Data Inserted Successfully...!\")\n",
    "    # Commit your changes in the database\n",
    "    db.commit()\n",
    "except:\n",
    "    # Rollback in case there is any error\n",
    "    db.rollback()\n",
    "# disconnect from server\n",
    "db.close()"
   ]
  },
  {
   "cell_type": "markdown",
   "id": "fee9f075-0fcc-492e-ae89-142a175baa64",
   "metadata": {},
   "source": [
    "### UPDATE\n",
    "UPDATE: It is used to update existing data within a table.\n",
    "> - cursor_object.execute(\"Update tablename set column_name = value where condition\" )"
   ]
  },
  {
   "cell_type": "code",
   "execution_count": null,
   "id": "6bc5aacd-df91-4b88-8f90-eb604c071f08",
   "metadata": {},
   "outputs": [],
   "source": [
    "'''\n",
    "Update operation in test_table table\n",
    "'''\n",
    "import mysql.connector\n",
    "db=mysql.connector.connect(user='abc',password='password',host='localhost',database='test_db')\n",
    "\n",
    "# prepare a cursor object using cursor() method\n",
    "mycursor = db.cursor()\n",
    "\n",
    "# Prepare SQL query to UPDATE required records\n",
    "sql = \"UPDATE test_table SET test_age = test_age + 1 WHERE test_name = 'sohan'\"\n",
    "\n",
    "try:\n",
    "    # Execute the SQL command\n",
    "    mycursor.execute(sql)\n",
    "    # Commit your changes in the database\n",
    "    db.commit()\n",
    "    \n",
    "except:\n",
    "    # Rollback in case there is any error\n",
    "    db.rollback()\n",
    "    \n",
    "# disconnect from server\n",
    "db.close()"
   ]
  },
  {
   "cell_type": "markdown",
   "id": "8adada54-56d3-4d42-960b-777bc5fea026",
   "metadata": {},
   "source": [
    "### DELETE\n",
    "DELETE : It is used to delete records from a database table.\n",
    "> - cursor_object.execute(\"Delete * from tablename where condition\")"
   ]
  },
  {
   "cell_type": "code",
   "execution_count": null,
   "id": "b52c9516-26a7-4118-b254-7553d3e496a6",
   "metadata": {},
   "outputs": [],
   "source": [
    "'''\n",
    "DELETE operation in test_table table\n",
    "'''\n",
    "import mysql.connector\n",
    "\n",
    "db=mysql.connector.connect(host='localhost',\n",
    "    user='abc',\n",
    "    password='password',\n",
    "    database='test_db'\n",
    ")\n",
    "\n",
    "# prepare a cursor object using cursor() method\n",
    "mycursor = db.cursor()\n",
    "\n",
    "# Prepare SQL query to UPDATE required records\n",
    "sql = \"DELETE FROM test_table WHERE test_age > 23 \"\n",
    "\n",
    "try:\n",
    "    # Execute the SQL command\n",
    "    mycursor.execute(sql)\n",
    "    print (\"Data Deleted SuccessFully..!\")    \n",
    "    # Commit your changes in the database\n",
    "    db.commit()\n",
    "    \n",
    "except:\n",
    "    # Rollback in case there is any error\n",
    "    db.rollback()\n",
    "    \n",
    "# disconnect from server\n",
    "db.close()"
   ]
  },
  {
   "cell_type": "code",
   "execution_count": null,
   "id": "5db3bdee-84d3-4416-80e0-ecb3f635b4ac",
   "metadata": {},
   "outputs": [],
   "source": []
  },
  {
   "cell_type": "markdown",
   "id": "af1d6d12-743f-4856-8059-0b9a0983debc",
   "metadata": {},
   "source": [
    "## Q4. What is DQL? Explain SELECT with an example."
   ]
  },
  {
   "cell_type": "markdown",
   "id": "b423f6fc-aa8f-43d7-8a79-6b47fbeaa6f7",
   "metadata": {},
   "source": [
    "DQL (Data Query Language):\n",
    "DQL statements are used for performing queries on the data within schema objects. The purpose of the DQL Command is to get some schema relation based on the query passed to it. We can define DQL as follows it is a component of SQL statement that allows getting data from the database and imposing order upon it. It includes the SELECT statement. This command allows getting the data out of the database to perform operations with it. When a SELECT is fired against a table or tables the result is compiled into a further temporary table, which is displayed or perhaps received by the program i.e. a front-end.\n",
    "\n",
    "List of DQL: \n",
    "\n",
    "- SELECT: It is used to retrieve data from the database.\n",
    "cursor_object.execute(\"Select * from tablename\")\n",
    "cursor_object.execute(\"Select * from tablename where condition\")"
   ]
  },
  {
   "cell_type": "code",
   "execution_count": null,
   "id": "4c08e3b5-5657-43d8-8d82-03b5bbda650e",
   "metadata": {},
   "outputs": [],
   "source": [
    "SELECT * FROM test_db.test_table;"
   ]
  },
  {
   "cell_type": "code",
   "execution_count": null,
   "id": "5b819185-9048-40aa-a122-8707e61713d9",
   "metadata": {},
   "outputs": [],
   "source": [
    "'''\n",
    "Read Operation in test_table Table\n",
    "'''\n",
    "import mysql.connector\n",
    "\n",
    "db=mysql.connector.connect(user='abc',password='password',host='localhost')\n",
    "\n",
    "# prepare a cursor object using cursor() method\n",
    "mycursor = db.cursor()\n",
    "\n",
    "sql = \"SELECT * FROM test_db.test_table\" #sql query\n",
    "\n",
    "try:\n",
    "    # Execute the SQL command\n",
    "    mycursor.execute(sql)\n",
    "    \n",
    "    # Fetch all the rows in a list of lists.\n",
    "    results = mycursor.fetchall()\n",
    "    for row in results:\n",
    "        test_name = row[0]\n",
    "        test_mail = row[1]\n",
    "        test_phone = row[2]\n",
    "        test_age = row[3]\n",
    "        #Now print fetched result\n",
    "        print (test_name, test_mail, test_phone, test_age )\n",
    "        \n",
    "except:\n",
    "       print (\"Error: unable to fetch data\")\n",
    "        \n",
    "# disconnect from server\n",
    "db.close()"
   ]
  },
  {
   "cell_type": "code",
   "execution_count": null,
   "id": "c50071f0-a1d4-47bb-b815-376b92ce722b",
   "metadata": {},
   "outputs": [],
   "source": [
    "'''\n",
    "Search Operation in test_table Table, condition WHERE age > 20\n",
    "'''\n",
    "import mysql.connector\n",
    "\n",
    "mydb=mysql.connector.connect(user='abc',password='password',host='localhost',database='test_db')\n",
    "\n",
    "# prepare a cursor object using cursor() method\n",
    "mycursor = mydb.cursor()\n",
    "sql = \"SELECT * FROM test_db.test_table WHERE test_age > 20\"\n",
    "\n",
    "try:\n",
    "    # Execute the SQL command\n",
    "    mycursor.execute(sql)\n",
    "    # Fetch all the rows in a list of lists.\n",
    "    results = mycursor.fetchall()\n",
    "    for row in results:\n",
    "        test_name = row[0]\n",
    "        test_mail = row[1]\n",
    "        test_phone = row[2]\n",
    "        test_age = row[3]\n",
    "        #Now print fetched result\n",
    "        print (test_name, test_mail, test_phone, test_age )\n",
    "        \n",
    "except:\n",
    "       print (\"Error: unable to fetch data\")\n",
    "        \n",
    "# disconnect from server\n",
    "#db.close()\n",
    "\n",
    "finally:\n",
    "    if mydb.is_connected():\n",
    "        mycursor.close()\n",
    "        mydb.close()\n",
    "        print(\"MySQL connection is closed\")"
   ]
  },
  {
   "cell_type": "code",
   "execution_count": null,
   "id": "fd5d3595-aee1-4f4a-b393-950de6711a40",
   "metadata": {
    "tags": []
   },
   "outputs": [],
   "source": []
  },
  {
   "cell_type": "markdown",
   "id": "daabc874-28f4-4f59-b9a7-6a45767e2fcd",
   "metadata": {},
   "source": [
    "#### Q5. Explain Primary Key and Foreign Key."
   ]
  },
  {
   "cell_type": "markdown",
   "id": "a1e7a586-10fb-4d69-9643-93e5a6fa20c0",
   "metadata": {},
   "source": [
    "Keys are attribute that helps you to identify a row(tuple) in a relation(table). They allow you to find the relationship between two tables. Keys help you uniquely identify a row in a table by a combination of one or more columns in that table. The database key is also helpful for finding a unique record or row from the table."
   ]
  },
  {
   "cell_type": "markdown",
   "id": "c1f6690a-206d-4f26-a1f3-ec5ea25fe1cc",
   "metadata": {},
   "source": [
    "### Primary Key\n",
    "A Primary key is a unique column we set in a table to easily identify and locate data in queries. A table can have only one primary key.\n",
    "\n",
    "The primary key column has a unique value and doesn’t store repeating values. A Primary key can never take NULL values.\n",
    "\n",
    "For example, in the case of a student when identification needs to be done in the class, the roll number of the student plays the role of Primary key.\n",
    "\n",
    "Similarly, when we talk about employees in a company, the employee ID is functioning as the Primary key for identification.\n",
    "\n",
    "Let us now understand the Syntax of creating the table with the Primary key specified.\n",
    "\n",
    "Syntax:\n",
    "\n",
    "CREATE TABLE tableName (\n",
    "\n",
    "\n",
    "    col1 int NOT NULL,\n",
    "    col2 varchar(50) NOT NULL,\n",
    "    col3 int,\n",
    "    …………….\n",
    "    PRIMARY KEY (col1)\n",
    ");"
   ]
  },
  {
   "cell_type": "markdown",
   "id": "a26af698-7497-4a96-8cab-c276fe991305",
   "metadata": {},
   "source": [
    "### Foreign Key\n",
    "A Foreign key is beneficial when we connect two or more tables so that data from both can be put to use parallelly.\n",
    "\n",
    "A foreign key is a field or collection of fields in a table that refers to the Primary key of the other table. It is responsible for managing the relationship between the tables.\n",
    "\n",
    "The table which contains the foreign key is often called the child table, and the table whose primary key is being referred by the foreign key is called the Parent Table.\n",
    "\n",
    "For example: When we talk about students and the courses they have enrolled in, now if we try to store all the data in a single table, the problem of redundancy arises.\n",
    "\n",
    "To solve this table, we make two tables, one the student detail table and the other department table. In the student table, we store the details of students and the courses they have enrolled in.\n",
    "\n",
    "And in the department table, we store all the details of the department. Here the courseId acts as the Primary key for the department table whereas it acts as the Foreign key in the student table.\n",
    "\n",
    "Let us now look at the syntax of creating a table with a foreign key.\n",
    "\n",
    "Syntax:\n",
    "\n",
    "CREATE TABLE childTable (\n",
    "\n",
    "\n",
    "    col1 int NOT NULL,\n",
    "    col2 int NOT NULL,\n",
    "    col3 int,\n",
    "    ………...\n",
    "    PRIMARY KEY (col1),\n",
    "    FOREIGN KEY (col3) REFERENCES parentTable(parent_Primary_key)\n",
    ");"
   ]
  },
  {
   "cell_type": "code",
   "execution_count": null,
   "id": "36a28390-f26f-425c-a55d-d2e8960afeb6",
   "metadata": {},
   "outputs": [],
   "source": []
  },
  {
   "cell_type": "markdown",
   "id": "2fb88001-dc27-434c-8841-070e7fa744ee",
   "metadata": {},
   "source": [
    "#### Q6. Write a python code to connect MySQL to python. Explain the cursor() and execute() method."
   ]
  },
  {
   "cell_type": "markdown",
   "id": "bfca14d5-d93d-4eef-a774-afb2d921a2a5",
   "metadata": {},
   "source": [
    "MySQL Connector module of Python is used to connect MySQL databases with the Python programs, it does that using the Python Database API Specification v2.0 (PEP 249). It uses the Python standard library and has no dependencies.\n",
    " \n",
    "\n",
    "- Connecting to the Database\n",
    "The mysql.connector provides the connect() method used to create a connection between the MySQL database and the Python application. The syntax is given below.\n",
    "\n",
    "Syntax:\n",
    "\n",
    "    Conn_obj= mysql.connector.connect(host = <hostname>, user = <username>, passwd = <password>)    \n",
    "    The connect() function accepts the following arguments.\n",
    "\n",
    "\n",
    ">* Hostname – It represents the server name or IP address on which MySQL is running.\n",
    ">* Username – It represents the name of the user that we use to work with the MySQL server. By default, the username for the MySQL database is root.\n",
    ">* Password – The password is provided at the time of installing the MySQL database. We don’t need to pass a password if we are using the root.\n",
    ">* Database – It specifies the database name which we want to connect. This argument is used when we have multiple databases.\n",
    " \n",
    "\n",
    "### 1. In the following example we will be connecting to MySQL database using connect()\n",
    "\n",
    "Example: \n",
    "\n",
    "        import mysql.connector       #Python program to connect to mysql database\n",
    "        conn = mysql.connector.connect(user = 'username',   #Connecting from the server\n",
    "                               host = 'localhost',\n",
    "                              database = 'database_name')\n",
    "        print(conn)\n",
    "        conn.close()                #Disconnecting from the server\n",
    "\n",
    "### 2. Also for the same, we can use connection.MySQLConnection() class instead of connect():\n",
    "Example:\n",
    "\n",
    "    from mysql.connector import connection     #Python program to connect to mysql database\n",
    "    conn = connection.MySQLConnection(user = 'username',   #Connecting to the server\n",
    "                                  host = 'localhost',\n",
    "                                  database = 'database_name')\n",
    "    print(conn)\n",
    "    conn.close()   #Disconnecting from the server\n",
    "\n",
    "### 3. Another way is to pass the dictionary in the connect() function using ‘**’ operator:\n",
    "Example: \n",
    " \n",
    "        from mysql.connector import connection  #Python program to connect to mysql database\n",
    "        \n",
    "        dict = {\n",
    "          'user': 'root',\n",
    "          'host': 'localhost',\n",
    "          'database': 'College'\n",
    "        }\n",
    "\n",
    "        conn = connection.MySQLConnection(**dict)  #Connecting to the server\n",
    "        print(conn)\n",
    "        conn.close()   #Disconnecting from the server"
   ]
  },
  {
   "cell_type": "code",
   "execution_count": null,
   "id": "a5b7b073-55e3-4684-bc59-4bd4cca04ae6",
   "metadata": {},
   "outputs": [],
   "source": [
    "#importing required libraries\n",
    "import mysql.connector  # this module will let you connect to mysql via python\n",
    "\n",
    "mydb = mysql.connector.connect(   ##Connecting to the server\n",
    "    \n",
    "    host = \"localhost\", # link of database server\n",
    "    \n",
    "    user = \"abc\", #user name of database id\n",
    "    \n",
    "    password = \"password\" #password to access user's database\n",
    ")\n",
    "\n",
    "mycursor = mydb.cursor() #preparing a cursor object : cursorObject = dataBase.cursor()\n",
    "\n",
    "mycursor.execute(\"CREATE DATABASE test_db\") #creating database : cursorObject.execute(\"CREATE DATABASE database_name\")\n",
    "\n",
    "mydb.close() #Disconnecting from the server"
   ]
  },
  {
   "cell_type": "code",
   "execution_count": null,
   "id": "f6d66b8a-3284-45b4-81a3-a52865c92765",
   "metadata": {},
   "outputs": [],
   "source": []
  },
  {
   "cell_type": "markdown",
   "id": "9f27a867-6cec-4cab-966f-b1b6639a4052",
   "metadata": {},
   "source": [
    "#### Q7. Give the order of execution of SQL clauses in an SQL query."
   ]
  },
  {
   "cell_type": "markdown",
   "id": "3c2b923f-4ace-4983-8a18-ceb05b5125ad",
   "metadata": {},
   "source": [
    "SQL queries are used to access a set of records present in our database tables. SQL queries are made up of one or more clauses. A particular order must be followed to execute these clauses to obtain correct results. This order of execution is known as SQL query execution order.\n",
    "\n",
    "- Introduction\n",
    "In this digital era, we don't want to waste our time searching for names having salaries above Rs.10000. We want our results to be optimized without wasting any time and not in a tedious manner. Here comes the SQL query execution order, sometimes also called SQL order of operations, so that the data we are looking for is retrieved in the most optimized way and takes the least execution time possible.\n",
    "\n",
    "SQL query execution order means optimizing our search results from the database or where the query clauses are evaluated according to the requirements.\n",
    "\n",
    "Like how we plan something step by step and reach the final result, similarly, we use clauses in a particular order known as the SQL query execution order. Here is the table that shows the order in which the clauses are used."
   ]
  },
  {
   "cell_type": "markdown",
   "id": "f5f472ed-aaed-432c-b4ec-d463ebc72caf",
   "metadata": {},
   "source": [
    "| Order\t| Clause |\tFunction |\n",
    "|-------|-------|-------|\n",
    "| 1\t| FROM\t| Tables are joined to get the base data. |\n",
    "| 2\t| WHERE\t| The base data is filtered. |\n",
    "| 3\t| GROUP BY | The filtered base data is grouped. |\n",
    "| 4\t| HAVING | The grouped base data is filtered. |\n",
    "| 5 | SELECT\t| The final data is returned. |\n",
    "| 6\t| ORDER BY\t| The final data is sorted. |\n",
    "| 7\t| LIMIT\t|The returned data is limited to row count.|"
   ]
  },
  {
   "cell_type": "markdown",
   "id": "4ba5004c-dabf-4517-bb72-350c08b556bc",
   "metadata": {},
   "source": [
    "Let us assume the following two tables: Customers and Orders.\n",
    "\n",
    "The customer's table contains data on the customer's name and IDs. The order table contains the details of the customer's order; for example, it contains the amount and the order id of the customer's id.\n",
    "\n",
    ">* Note: We will be using these two databases in the article.\n",
    "- Table 1 - Customers\n",
    "\n",
    "|customer_id |\tfirst_name|\n",
    "|--------|--------|\n",
    "|1\t|John|\n",
    "|2|\tRobert|\n",
    "|3|\tDavid|\n",
    "|4|\tJohn|\n",
    "|5\t|Betty|\n",
    "- Table 2 - Order\n",
    "\n",
    "| order_id |\tamount|\tcustomer_id|\n",
    "|---|------|------|\n",
    "|1|200|\t4 |\n",
    "|2|500|\t10 |\n",
    "|3|300|\t3 |\n",
    "|4|800|\t1 |\n",
    "|5|150|\t2 |\n",
    "\n",
    "So, here is the question that we will solve using the SQL query execution order.\n",
    "Let’s say that we want to get the customers' order details where the order id is less than equal to 4 with the limit set as 2. Also, the result should be in ascending order.\n",
    "\n",
    "This is the query that we will understand step by step.\n",
    "\n",
    "    SELECT Customers.customer_id, Customers.first_name, Orders.amount, Orders.order_id\n",
    "    FROM Customers\n",
    "    JOIN Orders\n",
    "    ON Customers.customer_id = Orders.customer_id\n",
    "    WHERE Orders.order_id <=4\n",
    "    ORDER BY Orders.order_id ASC\n",
    "    LIMIT 2"
   ]
  },
  {
   "cell_type": "code",
   "execution_count": null,
   "id": "60a32835-9a7f-4b33-a6f5-4ce23d97f55f",
   "metadata": {},
   "outputs": [],
   "source": []
  }
 ],
 "metadata": {
  "kernelspec": {
   "display_name": "Python 3 (ipykernel)",
   "language": "python",
   "name": "python3"
  },
  "language_info": {
   "codemirror_mode": {
    "name": "ipython",
    "version": 3
   },
   "file_extension": ".py",
   "mimetype": "text/x-python",
   "name": "python",
   "nbconvert_exporter": "python",
   "pygments_lexer": "ipython3",
   "version": "3.10.8"
  }
 },
 "nbformat": 4,
 "nbformat_minor": 5
}
