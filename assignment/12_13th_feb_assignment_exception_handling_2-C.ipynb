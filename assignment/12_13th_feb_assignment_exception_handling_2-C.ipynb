{
 "cells": [
  {
   "cell_type": "markdown",
   "id": "079c92e6-4150-4731-8ef7-fc8976ae7588",
   "metadata": {},
   "source": [
    "# Exception Handling - 2, Assignment no. 12\n",
    "## 13th feb 2023 Assignment"
   ]
  },
  {
   "cell_type": "code",
   "execution_count": null,
   "id": "c1f2a8ad-fad9-4b48-8a15-54fed892b1d6",
   "metadata": {},
   "outputs": [],
   "source": []
  },
  {
   "cell_type": "markdown",
   "id": "38a91eba-9851-4180-b1bb-9cff96dd4e3b",
   "metadata": {},
   "source": [
    "#### Q1. Explain why we have to use the Exception class while creating a Custom Exception.\n",
    "Note: Here Exception class refers to the base class for all the exceptions."
   ]
  },
  {
   "cell_type": "markdown",
   "id": "0a733f6e-9563-4872-8e51-bdb25e358961",
   "metadata": {},
   "source": [
    "Built-in exceptions offer information about Python-related problems, and custom exceptions will add information about project-related problems. That way, you can design your code (and traceback, if an exception is raised) in a way that combines Python code with the language of the project.\n",
    "\n",
    "So, custom exception class inherits 'built-in base class Exception' that's why when raise keyword raise custom exception, it is recognize as Exception"
   ]
  },
  {
   "cell_type": "code",
   "execution_count": null,
   "id": "efe8e641-5a69-44ca-8354-572d42b8ea88",
   "metadata": {},
   "outputs": [],
   "source": []
  },
  {
   "cell_type": "markdown",
   "id": "102eb7c7-9818-4dc8-be3f-0778a7d4c78a",
   "metadata": {},
   "source": [
    "#### Q2. Write a python program to print Python Exception Hierarchy."
   ]
  },
  {
   "cell_type": "code",
   "execution_count": 5,
   "id": "d72efd7e-7254-4ee7-a916-41b83718e81e",
   "metadata": {},
   "outputs": [
    {
     "name": "stdout",
     "output_type": "stream",
     "text": [
      "Hierarchy for Built-in exceptions is : \n",
      " BaseException\n",
      "---------- Exception\n",
      "-------------------- TypeError\n",
      "------------------------------ FloatOperation\n",
      "------------------------------ MultipartConversionError\n",
      "-------------------- StopAsyncIteration\n",
      "-------------------- StopIteration\n",
      "-------------------- ImportError\n",
      "------------------------------ ModuleNotFoundError\n",
      "------------------------------ ZipImportError\n",
      "-------------------- OSError\n",
      "------------------------------ ConnectionError\n",
      "---------------------------------------- BrokenPipeError\n",
      "---------------------------------------- ConnectionAbortedError\n",
      "---------------------------------------- ConnectionRefusedError\n",
      "---------------------------------------- ConnectionResetError\n",
      "-------------------------------------------------- RemoteDisconnected\n",
      "------------------------------ BlockingIOError\n",
      "------------------------------ ChildProcessError\n",
      "------------------------------ FileExistsError\n",
      "------------------------------ FileNotFoundError\n",
      "------------------------------ IsADirectoryError\n",
      "------------------------------ NotADirectoryError\n",
      "------------------------------ InterruptedError\n",
      "---------------------------------------- InterruptedSystemCall\n",
      "------------------------------ PermissionError\n",
      "------------------------------ ProcessLookupError\n",
      "------------------------------ TimeoutError\n",
      "------------------------------ UnsupportedOperation\n",
      "------------------------------ itimer_error\n",
      "------------------------------ herror\n",
      "------------------------------ gaierror\n",
      "------------------------------ SSLError\n",
      "---------------------------------------- SSLCertVerificationError\n",
      "---------------------------------------- SSLZeroReturnError\n",
      "---------------------------------------- SSLWantWriteError\n",
      "---------------------------------------- SSLWantReadError\n",
      "---------------------------------------- SSLSyscallError\n",
      "---------------------------------------- SSLEOFError\n",
      "------------------------------ Error\n",
      "---------------------------------------- SameFileError\n",
      "------------------------------ SpecialFileError\n",
      "------------------------------ ExecError\n",
      "------------------------------ ReadError\n",
      "------------------------------ URLError\n",
      "---------------------------------------- HTTPError\n",
      "---------------------------------------- ContentTooShortError\n",
      "------------------------------ BadGzipFile\n",
      "-------------------- EOFError\n",
      "------------------------------ IncompleteReadError\n",
      "-------------------- RuntimeError\n",
      "------------------------------ RecursionError\n",
      "------------------------------ NotImplementedError\n",
      "---------------------------------------- ZMQVersionError\n",
      "---------------------------------------- StdinNotImplementedError\n",
      "------------------------------ _DeadlockError\n",
      "------------------------------ BrokenBarrierError\n",
      "------------------------------ BrokenExecutor\n",
      "---------------------------------------- BrokenThreadPool\n",
      "------------------------------ SendfileNotAvailableError\n",
      "------------------------------ ExtractionError\n",
      "------------------------------ VariableError\n",
      "-------------------- NameError\n",
      "------------------------------ UnboundLocalError\n",
      "-------------------- AttributeError\n",
      "------------------------------ FrozenInstanceError\n",
      "-------------------- SyntaxError\n",
      "------------------------------ IndentationError\n",
      "---------------------------------------- TabError\n",
      "-------------------- LookupError\n",
      "------------------------------ IndexError\n",
      "------------------------------ KeyError\n",
      "---------------------------------------- NoSuchKernel\n",
      "---------------------------------------- UnknownBackend\n",
      "------------------------------ CodecRegistryError\n",
      "-------------------- ValueError\n",
      "------------------------------ UnicodeError\n",
      "---------------------------------------- UnicodeEncodeError\n",
      "---------------------------------------- UnicodeDecodeError\n",
      "---------------------------------------- UnicodeTranslateError\n",
      "------------------------------ UnsupportedOperation\n",
      "------------------------------ JSONDecodeError\n",
      "------------------------------ SSLCertVerificationError\n",
      "------------------------------ Error\n",
      "------------------------------ UnsupportedDigestmodError\n",
      "------------------------------ IllegalMonthError\n",
      "------------------------------ IllegalWeekdayError\n",
      "------------------------------ ParserError\n",
      "------------------------------ ClassNotFound\n",
      "------------------------------ ClipboardEmpty\n",
      "------------------------------ MessageDefect\n",
      "---------------------------------------- NoBoundaryInMultipartDefect\n",
      "---------------------------------------- StartBoundaryNotFoundDefect\n",
      "---------------------------------------- CloseBoundaryNotFoundDefect\n",
      "---------------------------------------- FirstHeaderLineIsContinuationDefect\n",
      "---------------------------------------- MisplacedEnvelopeHeaderDefect\n",
      "---------------------------------------- MissingHeaderBodySeparatorDefect\n",
      "---------------------------------------- MultipartInvariantViolationDefect\n",
      "---------------------------------------- InvalidMultipartContentTransferEncodingDefect\n",
      "---------------------------------------- UndecodableBytesDefect\n",
      "---------------------------------------- InvalidBase64PaddingDefect\n",
      "---------------------------------------- InvalidBase64CharactersDefect\n",
      "---------------------------------------- InvalidBase64LengthDefect\n",
      "---------------------------------------- HeaderDefect\n",
      "-------------------------------------------------- InvalidHeaderDefect\n",
      "-------------------------------------------------- HeaderMissingRequiredValue\n",
      "-------------------------------------------------- NonPrintableDefect\n",
      "-------------------------------------------------- ObsoleteHeaderDefect\n",
      "-------------------------------------------------- NonASCIILocalPartDefect\n",
      "-------------------------------------------------- InvalidDateDefect\n",
      "------------------------------ MacroToEdit\n",
      "------------------------------ InvalidFileException\n",
      "------------------------------ UnequalIterablesError\n",
      "------------------------------ InvalidVersion\n",
      "------------------------------ _InvalidELFFileHeader\n",
      "------------------------------ InvalidWheelFilename\n",
      "------------------------------ InvalidSdistFilename\n",
      "------------------------------ InvalidSpecifier\n",
      "------------------------------ InvalidMarker\n",
      "------------------------------ UndefinedComparison\n",
      "------------------------------ UndefinedEnvironmentName\n",
      "------------------------------ InvalidRequirement\n",
      "---------------------------------------- RequirementParseError\n",
      "------------------------------ InvalidVersion\n",
      "-------------------- AssertionError\n",
      "-------------------- ArithmeticError\n",
      "------------------------------ FloatingPointError\n",
      "------------------------------ OverflowError\n",
      "------------------------------ ZeroDivisionError\n",
      "---------------------------------------- DivisionByZero\n",
      "---------------------------------------- DivisionUndefined\n",
      "------------------------------ DecimalException\n",
      "---------------------------------------- Clamped\n",
      "---------------------------------------- Rounded\n",
      "-------------------------------------------------- Underflow\n",
      "-------------------------------------------------- Overflow\n",
      "---------------------------------------- Inexact\n",
      "-------------------------------------------------- Underflow\n",
      "-------------------------------------------------- Overflow\n",
      "---------------------------------------- Subnormal\n",
      "-------------------------------------------------- Underflow\n",
      "---------------------------------------- DivisionByZero\n",
      "---------------------------------------- FloatOperation\n",
      "---------------------------------------- InvalidOperation\n",
      "-------------------------------------------------- ConversionSyntax\n",
      "-------------------------------------------------- DivisionImpossible\n",
      "-------------------------------------------------- DivisionUndefined\n",
      "-------------------------------------------------- InvalidContext\n",
      "-------------------- SystemError\n",
      "------------------------------ CodecRegistryError\n",
      "-------------------- ReferenceError\n",
      "-------------------- MemoryError\n",
      "-------------------- BufferError\n",
      "-------------------- Warning\n",
      "------------------------------ UserWarning\n",
      "---------------------------------------- GetPassWarning\n",
      "---------------------------------------- FormatterWarning\n",
      "------------------------------ EncodingWarning\n",
      "------------------------------ DeprecationWarning\n",
      "---------------------------------------- ProvisionalWarning\n",
      "------------------------------ PendingDeprecationWarning\n",
      "------------------------------ SyntaxWarning\n",
      "------------------------------ RuntimeWarning\n",
      "---------------------------------------- ProactorSelectorThreadWarning\n",
      "---------------------------------------- UnknownTimezoneWarning\n",
      "---------------------------------------- PEP440Warning\n",
      "------------------------------ FutureWarning\n",
      "---------------------------------------- ProvisionalCompleterWarning\n",
      "------------------------------ ImportWarning\n",
      "------------------------------ UnicodeWarning\n",
      "------------------------------ BytesWarning\n",
      "------------------------------ ResourceWarning\n",
      "------------------------------ DeprecatedTzFormatWarning\n",
      "------------------------------ PkgResourcesDeprecationWarning\n",
      "-------------------- _OptionError\n",
      "-------------------- _Error\n",
      "-------------------- error\n",
      "-------------------- Verbose\n",
      "-------------------- Error\n",
      "-------------------- SubprocessError\n",
      "------------------------------ CalledProcessError\n",
      "------------------------------ TimeoutExpired\n",
      "-------------------- TokenError\n",
      "-------------------- StopTokenizing\n",
      "-------------------- ClassFoundException\n",
      "-------------------- EndOfBlock\n",
      "-------------------- TraitError\n",
      "-------------------- Error\n",
      "-------------------- Error\n",
      "------------------------------ CancelledError\n",
      "------------------------------ TimeoutError\n",
      "------------------------------ InvalidStateError\n",
      "-------------------- _GiveupOnSendfile\n",
      "-------------------- error\n",
      "-------------------- Incomplete\n",
      "-------------------- TimeoutError\n",
      "-------------------- InvalidStateError\n",
      "-------------------- LimitOverrunError\n",
      "-------------------- QueueEmpty\n",
      "-------------------- QueueFull\n",
      "-------------------- Empty\n",
      "-------------------- Full\n",
      "-------------------- ArgumentError\n",
      "-------------------- ZMQBaseError\n",
      "------------------------------ ZMQError\n",
      "---------------------------------------- ContextTerminated\n",
      "---------------------------------------- Again\n",
      "---------------------------------------- InterruptedSystemCall\n",
      "------------------------------ ZMQBindError\n",
      "------------------------------ NotDone\n",
      "-------------------- PickleError\n",
      "------------------------------ PicklingError\n",
      "------------------------------ UnpicklingError\n",
      "-------------------- _Stop\n",
      "-------------------- ArgumentError\n",
      "-------------------- ArgumentTypeError\n",
      "-------------------- ConfigError\n",
      "------------------------------ ConfigLoaderError\n",
      "---------------------------------------- ArgumentError\n",
      "------------------------------ ConfigFileNotFound\n",
      "-------------------- ConfigurableError\n",
      "------------------------------ MultipleInstanceError\n",
      "-------------------- ApplicationError\n",
      "-------------------- error\n",
      "-------------------- TimeoutError\n",
      "-------------------- error\n",
      "-------------------- ReturnValueIgnoredError\n",
      "-------------------- KeyReuseError\n",
      "-------------------- UnknownKeyError\n",
      "-------------------- LeakedCallbackError\n",
      "-------------------- BadYieldError\n",
      "-------------------- ReturnValueIgnoredError\n",
      "-------------------- Return\n",
      "-------------------- InvalidPortNumber\n",
      "-------------------- error\n",
      "-------------------- LZMAError\n",
      "-------------------- RegistryError\n",
      "-------------------- _GiveupOnFastCopy\n",
      "-------------------- Error\n",
      "------------------------------ NoSectionError\n",
      "------------------------------ DuplicateSectionError\n",
      "------------------------------ DuplicateOptionError\n",
      "------------------------------ NoOptionError\n",
      "------------------------------ InterpolationError\n",
      "---------------------------------------- InterpolationMissingOptionError\n",
      "---------------------------------------- InterpolationSyntaxError\n",
      "---------------------------------------- InterpolationDepthError\n",
      "------------------------------ ParsingError\n",
      "---------------------------------------- MissingSectionHeaderError\n",
      "-------------------- NoIPAddresses\n",
      "-------------------- BadZipFile\n",
      "-------------------- LargeZipFile\n",
      "-------------------- BadEntryPoint\n",
      "-------------------- NoSuchEntryPoint\n",
      "-------------------- DuplicateKernelError\n",
      "-------------------- ErrorDuringImport\n",
      "-------------------- NotOneValueFound\n",
      "-------------------- CannotEval\n",
      "-------------------- OptionError\n",
      "-------------------- BdbQuit\n",
      "-------------------- Restart\n",
      "-------------------- ExceptionPexpect\n",
      "------------------------------ EOF\n",
      "------------------------------ TIMEOUT\n",
      "-------------------- PtyProcessError\n",
      "-------------------- FindCmdError\n",
      "-------------------- HomeDirError\n",
      "-------------------- ProfileDirError\n",
      "-------------------- IPythonCoreError\n",
      "------------------------------ TryNext\n",
      "------------------------------ UsageError\n",
      "------------------------------ StdinNotImplementedError\n",
      "-------------------- InputRejected\n",
      "-------------------- GetoptError\n",
      "-------------------- ErrorToken\n",
      "-------------------- PrefilterError\n",
      "-------------------- AliasError\n",
      "------------------------------ InvalidAliasError\n",
      "-------------------- Error\n",
      "------------------------------ InterfaceError\n",
      "------------------------------ DatabaseError\n",
      "---------------------------------------- InternalError\n",
      "---------------------------------------- OperationalError\n",
      "---------------------------------------- ProgrammingError\n",
      "---------------------------------------- IntegrityError\n",
      "---------------------------------------- DataError\n",
      "---------------------------------------- NotSupportedError\n",
      "-------------------- Warning\n",
      "-------------------- SpaceInInput\n",
      "-------------------- DOMException\n",
      "------------------------------ IndexSizeErr\n",
      "------------------------------ DomstringSizeErr\n",
      "------------------------------ HierarchyRequestErr\n",
      "------------------------------ WrongDocumentErr\n",
      "------------------------------ InvalidCharacterErr\n",
      "------------------------------ NoDataAllowedErr\n",
      "------------------------------ NoModificationAllowedErr\n",
      "------------------------------ NotFoundErr\n",
      "------------------------------ NotSupportedErr\n",
      "------------------------------ InuseAttributeErr\n",
      "------------------------------ InvalidStateErr\n",
      "------------------------------ SyntaxErr\n",
      "------------------------------ InvalidModificationErr\n",
      "------------------------------ NamespaceErr\n",
      "------------------------------ InvalidAccessErr\n",
      "------------------------------ ValidationErr\n",
      "-------------------- ValidationError\n",
      "-------------------- EditReadOnlyBuffer\n",
      "-------------------- _Retry\n",
      "-------------------- InvalidLayoutError\n",
      "-------------------- HeightIsUnknownError\n",
      "-------------------- ParserSyntaxError\n",
      "-------------------- InternalParseError\n",
      "-------------------- _PositionUpdatingFinished\n",
      "-------------------- SimpleGetItemNotFound\n",
      "-------------------- UncaughtAttributeError\n",
      "-------------------- HasNoContext\n",
      "-------------------- ParamIssue\n",
      "-------------------- _JediError\n",
      "------------------------------ InternalError\n",
      "------------------------------ WrongVersion\n",
      "------------------------------ RefactoringError\n",
      "-------------------- OnErrorLeaf\n",
      "-------------------- InvalidPythonEnvironment\n",
      "-------------------- MessageError\n",
      "------------------------------ MessageParseError\n",
      "---------------------------------------- HeaderParseError\n",
      "---------------------------------------- BoundaryError\n",
      "------------------------------ MultipartConversionError\n",
      "------------------------------ CharsetError\n",
      "-------------------- Error\n",
      "-------------------- HTTPException\n",
      "------------------------------ NotConnected\n",
      "------------------------------ InvalidURL\n",
      "------------------------------ UnknownProtocol\n",
      "------------------------------ UnknownTransferEncoding\n",
      "------------------------------ UnimplementedFileMode\n",
      "------------------------------ IncompleteRead\n",
      "------------------------------ ImproperConnectionState\n",
      "---------------------------------------- CannotSendRequest\n",
      "---------------------------------------- CannotSendHeader\n",
      "---------------------------------------- ResponseNotReady\n",
      "------------------------------ BadStatusLine\n",
      "---------------------------------------- RemoteDisconnected\n",
      "------------------------------ LineTooLong\n",
      "-------------------- InteractivelyDefined\n",
      "-------------------- KillEmbedded\n",
      "-------------------- Error\n",
      "------------------------------ NoSuchProcess\n",
      "---------------------------------------- ZombieProcess\n",
      "------------------------------ AccessDenied\n",
      "------------------------------ TimeoutExpired\n",
      "-------------------- _Ipv6UnsupportedError\n",
      "-------------------- QueueEmpty\n",
      "-------------------- QueueFull\n",
      "-------------------- DebuggerInitializationError\n",
      "-------------------- ExpatError\n",
      "-------------------- Error\n",
      "------------------------------ ProtocolError\n",
      "------------------------------ ResponseError\n",
      "------------------------------ Fault\n",
      "-------------------- ParseBaseException\n",
      "------------------------------ ParseException\n",
      "------------------------------ ParseFatalException\n",
      "---------------------------------------- ParseSyntaxException\n",
      "-------------------- RecursiveGrammarException\n",
      "-------------------- ResolutionError\n",
      "------------------------------ VersionConflict\n",
      "---------------------------------------- ContextualVersionConflict\n",
      "------------------------------ DistributionNotFound\n",
      "------------------------------ UnknownExtra\n",
      "-------------------- _Error\n",
      "-------------------- UnableToResolveVariableException\n",
      "-------------------- InvalidTypeInArgsException\n",
      "---------- GeneratorExit\n",
      "---------- SystemExit\n",
      "---------- KeyboardInterrupt\n",
      "---------- CancelledError\n",
      "---------- AbortThread\n"
     ]
    }
   ],
   "source": [
    "# import inspect module\n",
    "import inspect\n",
    "  \n",
    "# our treeClass function\n",
    "def treeClass(cls, ind = 0):\n",
    "    \n",
    "      # print name of the class\n",
    "    print ('-' * 2 * ind, cls.__name__)\n",
    "      \n",
    "    # iterating through subclasses\n",
    "    for i in cls.__subclasses__():\n",
    "        treeClass(i, ind + 5)\n",
    "  \n",
    "\n",
    "\n",
    " \n",
    "print(\"Hierarchy for Built-in exceptions is : \")\n",
    "\n",
    "    \n",
    "# inspect.getmro() Return a tuple \n",
    "# of class  cls’s base classes.\n",
    "  \n",
    "# building a tree hierarchy \n",
    "inspect.getclasstree(inspect.getmro(BaseException))\n",
    "  \n",
    "# function call\n",
    "treeClass(BaseException)"
   ]
  },
  {
   "cell_type": "code",
   "execution_count": null,
   "id": "2907aeda-c19b-4b44-b632-dfebcaec3cd5",
   "metadata": {},
   "outputs": [],
   "source": []
  },
  {
   "cell_type": "markdown",
   "id": "7aa2447d-09d1-468c-95bc-e97b4da03bd3",
   "metadata": {},
   "source": [
    "#### Q3. What errors are defined in the ArithmeticError class? Explain any two with an example."
   ]
  },
  {
   "cell_type": "markdown",
   "id": "31e25d1b-d74d-4f7b-a5c2-58c759b33c64",
   "metadata": {},
   "source": [
    "This class is the base class for those built-in exceptions that are raised for various arithmetic errors such as :\n",
    "\n",
    "- OverflowError\n",
    "- ZeroDivisionError\n",
    "- FloatingPointError"
   ]
  },
  {
   "cell_type": "markdown",
   "id": "42a35bf0-16bd-4cdb-ad8b-0a0963cad64d",
   "metadata": {},
   "source": [
    "## OverflowError\n",
    "The OverflowError is raised when the result of an arithmetic operation is out of range. Integers raise MemoryError instead of OverflowError. OverflowError is sometimes raised for integers that are outside a required range. Floating point operations are not checked because of the lack of standardization of floating point exception handling in C.\n",
    "Example :"
   ]
  },
  {
   "cell_type": "code",
   "execution_count": 1,
   "id": "50701639-2b58-4d5c-8718-fd7912419dfc",
   "metadata": {},
   "outputs": [
    {
     "name": "stdout",
     "output_type": "stream",
     "text": [
      "Regular integer: (maxint=9223372036854775807)\n",
      "No overflow for  maxint * 3,  <class 'int'> , i = 27670116110564327421\n",
      "\n",
      "Long integer:\n",
      "2 power _  0 :  1\n",
      "2 power _ 10 :  1024\n",
      "2 power _ 20 :  1048576\n",
      "2 power _ 30 :  1073741824\n",
      "2 power _ 40 :  1099511627776\n",
      "2 power _ 50 :  1125899906842624\n",
      "2 power _ 60 :  1152921504606846976\n",
      "2 power _ 70 :  1180591620717411303424\n",
      "2 power _ 80 :  1208925819614629174706176\n",
      "2 power _ 90 :  1237940039285380274899124224\n",
      "\n",
      "Floating point values:\n",
      "0 1.2379400392853803e+27\n",
      "1 1.532495540865889e+54\n",
      "2 2.3485425827738332e+108\n",
      "3 5.515652263101987e+216\n",
      "Overflowed after  5.515652263101987e+216 (34, 'Numerical result out of range')\n"
     ]
    }
   ],
   "source": [
    "import sys\n",
    "  \n",
    "print ('Regular integer: (maxint=%s)' % sys.maxsize)\n",
    "try:\n",
    "    i = sys.maxsize * 3\n",
    "    print ('No overflow for  maxint * 3, ', type(i), ', i =', i)\n",
    "except OverflowError as e:\n",
    "    print ('Overflowed at ', i, e)  \n",
    "    \n",
    "    \n",
    "print() # for blank line\n",
    "print ('Long integer:')\n",
    "for i in range(0, 100, 10):\n",
    "    print ('2 power _ %2d : ' % i, 2 ** i) \n",
    "    \n",
    "print()\n",
    "print ('Floating point values:')\n",
    "try:\n",
    "    f = 2.0**i #'where value of i is 90, from above operation'\n",
    "    for i in range(100):\n",
    "        print (i, f)\n",
    "        f = f ** 2\n",
    "except OverflowError as err:\n",
    "    print ('Overflowed after ', f, err)"
   ]
  },
  {
   "cell_type": "markdown",
   "id": "09f898b0-f196-40b7-a44f-b6077ad30549",
   "metadata": {},
   "source": [
    "## ZeroDivisionError\n",
    "A ZeroDivisionError is raised when the second argument of a division or module operation is zero. This exception returns a string indicating the type of the operands and the operation.\n"
   ]
  },
  {
   "cell_type": "code",
   "execution_count": 28,
   "id": "dad1e7b4-c97a-4adb-94d4-8c3211e9934c",
   "metadata": {},
   "outputs": [
    {
     "ename": "ZeroDivisionError",
     "evalue": "division by zero",
     "output_type": "error",
     "traceback": [
      "\u001b[0;31m---------------------------------------------------------------------------\u001b[0m",
      "\u001b[0;31mZeroDivisionError\u001b[0m                         Traceback (most recent call last)",
      "Cell \u001b[0;32mIn[28], line 2\u001b[0m\n\u001b[1;32m      1\u001b[0m a \u001b[38;5;241m=\u001b[39m \u001b[38;5;241m10\u001b[39m\n\u001b[0;32m----> 2\u001b[0m \u001b[43ma\u001b[49m\u001b[38;5;241;43m/\u001b[39;49m\u001b[38;5;241;43m0\u001b[39;49m\n",
      "\u001b[0;31mZeroDivisionError\u001b[0m: division by zero"
     ]
    }
   ],
   "source": [
    "a = 10\n",
    "a/0"
   ]
  },
  {
   "cell_type": "code",
   "execution_count": null,
   "id": "2be85556-f911-4f62-8c95-77414b7e5180",
   "metadata": {},
   "outputs": [],
   "source": []
  },
  {
   "cell_type": "markdown",
   "id": "7230c73b-ce29-4ff4-9b9a-d1aa5439f761",
   "metadata": {},
   "source": [
    "#### Q4. Why LookupError class is used? Explain with an example KeyError and IndexError."
   ]
  },
  {
   "cell_type": "markdown",
   "id": "77dac458-ac2f-4959-b78d-6d2cf8e6de27",
   "metadata": {},
   "source": [
    "## LookupError\n",
    "This is the base class for those exceptions that are raised when a key or index used on a mapping or sequence is invalid or not found. The exceptions raised are :\n",
    "- KeyError\n",
    "- IndexError"
   ]
  },
  {
   "cell_type": "code",
   "execution_count": 6,
   "id": "ab8b312c-e657-4c0a-94a5-d0642e7b8179",
   "metadata": {},
   "outputs": [
    {
     "name": "stdout",
     "output_type": "stream",
     "text": [
      "Index out of bound error. IndexError <class 'IndexError'>\n"
     ]
    }
   ],
   "source": [
    "try: \n",
    "    a = [1, 2, 3] \n",
    "    print (a[3]) \n",
    "except LookupError as e: \n",
    "    print (\"Index out of bound error.\", type(e).__name__ , e.__class__)\n",
    "else: \n",
    "    print (\"Success\")"
   ]
  },
  {
   "cell_type": "markdown",
   "id": "b6b50992-c214-4523-9dc9-2466c2347832",
   "metadata": {},
   "source": [
    "- The LookupError exception in Python forms the base class for all exceptions that are raised when an index or a key is not found for a sequence or dictionary respectively.\n",
    "\n",
    "### You can use LookupError exception class to handle both IndexError and KeyError exception classes."
   ]
  },
  {
   "cell_type": "code",
   "execution_count": 7,
   "id": "1422279e-d971-4ef0-bd1c-c9f715448ed9",
   "metadata": {},
   "outputs": [
    {
     "name": "stdout",
     "output_type": "stream",
     "text": [
      "list index out of range, <class 'IndexError'>\n",
      "string index out of range, <class 'IndexError'>\n",
      "tuple index out of range, <class 'IndexError'>\n"
     ]
    }
   ],
   "source": [
    "# lists\n",
    "x = [1, 2, 3, 4]\n",
    "try:\n",
    "    print(x[10])\n",
    "except LookupError as e:\n",
    "    print(f\"{e}, {e.__class__}\")\n",
    "\n",
    "#>>> list index out of range, <class 'IndexError'>\n",
    "\n",
    "# strings\n",
    "x = \"Checking\"\n",
    "try:\n",
    "    print(x[10])\n",
    "except LookupError as e:\n",
    "    print(f\"{e}, {e.__class__}\")\n",
    "\n",
    "#>>> string index out of range, <class 'IndexError'>    \n",
    "    \n",
    "# tuples\n",
    "x = (1, 2, 3, 4)\n",
    "try:\n",
    "    print(x[10])\n",
    "except LookupError as e:\n",
    "    print(f\"{e}, {e.__class__}\")\n",
    "\n",
    "#>>> tuple index out of range, <class 'IndexError'>"
   ]
  },
  {
   "cell_type": "markdown",
   "id": "e43e3777-4db7-456f-b089-2a8864924e14",
   "metadata": {},
   "source": [
    ">* As you can see, it is possible to catch IndexError exceptions using the LookupError exception class. By using e._ _ class _ _ method also helps you to identify the type of LookupError. In the above example, it is an IndexError."
   ]
  },
  {
   "cell_type": "code",
   "execution_count": 5,
   "id": "9cdca377-6eb0-4a8d-bb99-4f1b444e91de",
   "metadata": {},
   "outputs": [
    {
     "name": "stdin",
     "output_type": "stream",
     "text": [
      "What do you want to know about student==>  465\n"
     ]
    },
    {
     "name": "stdout",
     "output_type": "stream",
     "text": [
      "'465', <class 'KeyError'>\n"
     ]
    }
   ],
   "source": [
    "student_info = {'name': 'Mohan Mishra',\n",
    "                'age': 28,\n",
    "                'language': 'Python'}\n",
    "user_input = input('What do you want to know about student==> ')\n",
    "\n",
    "try:\n",
    "    print(f'{user_input} is {student_info[user_input]}')\n",
    "except LookupError as e:\n",
    "    print(f'{e}, {e.__class__}')"
   ]
  },
  {
   "cell_type": "markdown",
   "id": "dc4f52e2-565d-4057-94f5-fc12b1f1937c",
   "metadata": {},
   "source": [
    ">* As you can see, it is possible to catch KeyError exceptions using the LookupError exception class. By using e._ _ class _ _ method also helps you to identify the type of LookupError. In the above example, it is an KeyError."
   ]
  },
  {
   "cell_type": "markdown",
   "id": "1e0a7b73-a236-40ff-988d-08e3ae0240eb",
   "metadata": {},
   "source": [
    "## KeyError\n",
    "when accessing a dictionary with wrong key which is not present in dictionary object, it throws KeyError"
   ]
  },
  {
   "cell_type": "code",
   "execution_count": 8,
   "id": "f32df897-c1c5-4941-81dd-9a181792f527",
   "metadata": {},
   "outputs": [
    {
     "name": "stdout",
     "output_type": "stream",
     "text": [
      "there no fruit with '3' number key. KeyError <class 'KeyError'>\n"
     ]
    }
   ],
   "source": [
    "fruits = { 1 : 'apple', 2 : \"banana\", 4 : \"grapes\"}\n",
    "try:\n",
    "    print(\"fruit name with '3' number key\", fruits[3])\n",
    "except KeyError as e:\n",
    "    print(\"there no fruit with '3' number key.\", type(e).__name__, e.__class__)"
   ]
  },
  {
   "cell_type": "markdown",
   "id": "a2f9a548-e0ab-4a62-8e50-0e1e8fceb1f2",
   "metadata": {},
   "source": [
    "## IndexError\n",
    "when passing-index which is out of the range of given list, tuple or string\n",
    "or accessing element with indexing which is not present in list, tuple or string"
   ]
  },
  {
   "cell_type": "code",
   "execution_count": 9,
   "id": "8a597dbc-94dc-423f-9ec4-fdf780f848da",
   "metadata": {},
   "outputs": [
    {
     "name": "stdout",
     "output_type": "stream",
     "text": [
      "list index out of range, <class 'IndexError'>\n"
     ]
    }
   ],
   "source": [
    "x = [1, 2, 3, 4]\n",
    "try:\n",
    "    print(x[10])\n",
    "except IndexError as e:\n",
    "    print(f\"{e}, {e.__class__}\")"
   ]
  },
  {
   "cell_type": "code",
   "execution_count": null,
   "id": "9d380e14-3e29-474f-816e-ec3b526866b1",
   "metadata": {},
   "outputs": [],
   "source": []
  },
  {
   "cell_type": "markdown",
   "id": "445d7f79-50de-4f95-905f-af898632c2ec",
   "metadata": {},
   "source": [
    "#### Q5. Explain ImportError. What is ModuleNotFoundError?"
   ]
  },
  {
   "cell_type": "markdown",
   "id": "a59eb611-ca4f-4af5-84a5-2a7e39f3a89b",
   "metadata": {},
   "source": [
    "## ImportError\n",
    "An ImportError is raised when the import statement is unable to load a module or when the “from list” in from … import has a name that cannot be found."
   ]
  },
  {
   "cell_type": "code",
   "execution_count": 52,
   "id": "578e135b-dc62-4e70-a531-845bc7c67712",
   "metadata": {},
   "outputs": [
    {
     "ename": "ImportError",
     "evalue": "cannot import name 'mappe' from 'functools' (/opt/conda/lib/python3.10/functools.py)",
     "output_type": "error",
     "traceback": [
      "\u001b[0;31m---------------------------------------------------------------------------\u001b[0m",
      "\u001b[0;31mImportError\u001b[0m                               Traceback (most recent call last)",
      "Cell \u001b[0;32mIn[52], line 2\u001b[0m\n\u001b[1;32m      1\u001b[0m \u001b[38;5;28;01mfrom\u001b[39;00m \u001b[38;5;21;01mfunctools\u001b[39;00m \u001b[38;5;28;01mimport\u001b[39;00m reduce \u001b[38;5;66;03m# this will be able to import\u001b[39;00m\n\u001b[0;32m----> 2\u001b[0m \u001b[38;5;28;01mfrom\u001b[39;00m \u001b[38;5;21;01mfunctools\u001b[39;00m \u001b[38;5;28;01mimport\u001b[39;00m mappe \n\u001b[1;32m      3\u001b[0m \u001b[38;5;66;03m# it won't be able to import because under functools there's no module name mappe\u001b[39;00m\n",
      "\u001b[0;31mImportError\u001b[0m: cannot import name 'mappe' from 'functools' (/opt/conda/lib/python3.10/functools.py)"
     ]
    }
   ],
   "source": [
    "from functools import reduce # this will be able to import\n",
    "from functools import mappe \n",
    "# it won't be able to import because under functools there's no module name mappe"
   ]
  },
  {
   "cell_type": "markdown",
   "id": "170803b0-d6ce-4862-8d4d-f96f286c9bf9",
   "metadata": {},
   "source": [
    "\n",
    "ModuleNotFoundError : This is the subclass of ImportError which is raised by import when a module could not be found. It is also raised when None is found in sys.modules.\n",
    "\n",
    "## ModuleNotFoundError \n",
    "it is a specific type of ImportError. See exception hierarchy. So if you have an except ImportError block, that will cover ModuleNotFoundError. "
   ]
  },
  {
   "cell_type": "code",
   "execution_count": 49,
   "id": "cde930e9-5fa2-4b7e-a903-d3b61b4ccf88",
   "metadata": {},
   "outputs": [
    {
     "ename": "ModuleNotFoundError",
     "evalue": "No module named 'module_does_not_exist'",
     "output_type": "error",
     "traceback": [
      "\u001b[0;31m---------------------------------------------------------------------------\u001b[0m",
      "\u001b[0;31mModuleNotFoundError\u001b[0m                       Traceback (most recent call last)",
      "Cell \u001b[0;32mIn[49], line 1\u001b[0m\n\u001b[0;32m----> 1\u001b[0m \u001b[38;5;28;01mimport\u001b[39;00m \u001b[38;5;21;01mmodule_does_not_exist\u001b[39;00m\n",
      "\u001b[0;31mModuleNotFoundError\u001b[0m: No module named 'module_does_not_exist'"
     ]
    }
   ],
   "source": [
    "import module_does_not_exist"
   ]
  },
  {
   "cell_type": "markdown",
   "id": "a4522d97-346b-4f43-9766-2c1eed62603b",
   "metadata": {},
   "source": [
    "ModuleNotFoundError raised specifically when the module cannot be found at all. Other problems can occur after the file is found, but during the actual process of loading the file or defining the function: those would raise ImportError."
   ]
  },
  {
   "cell_type": "code",
   "execution_count": null,
   "id": "df658a8a-c8b4-423b-9399-791f7c7d88e1",
   "metadata": {},
   "outputs": [],
   "source": []
  },
  {
   "cell_type": "markdown",
   "id": "5a3d1056-98ae-4235-8189-921b4b98057a",
   "metadata": {},
   "source": [
    "#### Q6. List down some best practices for exception handling in python."
   ]
  },
  {
   "cell_type": "markdown",
   "id": "156fd1a0-856f-4cdb-b9f9-9f82ed49168b",
   "metadata": {},
   "source": [
    "- Use try-except-finally blocks to handle exceptions gracefully and ensure your code can handle errors effectively.\n",
    "- Catch specific exceptions rather than using a catch-all except block to avoid swallowing unexpected exceptions and make it easier to identify and fix issues.\n",
    "- Consider raising custom exceptions when appropriate to provide more informative error messages to users.\n",
    "- Avoid common pitfalls, such as using overly broad exception handling or ignoring important exceptions, to ensure your code remains robust and reliable.\n",
    "- Embrace logging as a powerful tool for monitoring and debugging your applications, and learn to log exceptions and errors effectively to aid in troubleshooting.\n",
    "- Apply exception handling to real-world scenarios, such as handling API errors or file I/O exceptions, to gain practical experience and enhance your skills."
   ]
  },
  {
   "cell_type": "markdown",
   "id": "3670740d-b836-45c1-960b-9a70476f70f5",
   "metadata": {},
   "source": [
    "### In short, things to remember:\n",
    "\n",
    "- always use specific exception\n",
    "- always give meaningful message, (easily understandable at debugging and except block)\n",
    "- always try to log, using logging module\n",
    "- always avoid to write a multiple exception handling\n",
    "- always prepare a proper documentation\n",
    "- cleanup all the resources\n"
   ]
  },
  {
   "cell_type": "code",
   "execution_count": null,
   "id": "ef8b126f-8389-4162-b313-0b363d277192",
   "metadata": {},
   "outputs": [],
   "source": []
  }
 ],
 "metadata": {
  "kernelspec": {
   "display_name": "Python 3 (ipykernel)",
   "language": "python",
   "name": "python3"
  },
  "language_info": {
   "codemirror_mode": {
    "name": "ipython",
    "version": 3
   },
   "file_extension": ".py",
   "mimetype": "text/x-python",
   "name": "python",
   "nbconvert_exporter": "python",
   "pygments_lexer": "ipython3",
   "version": "3.10.8"
  }
 },
 "nbformat": 4,
 "nbformat_minor": 5
}
