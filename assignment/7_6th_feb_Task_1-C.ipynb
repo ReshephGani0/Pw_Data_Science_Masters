{
 "cells": [
  {
   "cell_type": "markdown",
   "id": "def11bae-8ad6-4c3c-b7da-3d265ee76fbd",
   "metadata": {},
   "source": [
    "# Task-1 Assignment\n",
    "## 6th feb Assignment"
   ]
  },
  {
   "cell_type": "code",
   "execution_count": null,
   "id": "ff2688c7-2c8d-4353-9f5f-17d6d527a2e0",
   "metadata": {},
   "outputs": [],
   "source": []
  },
  {
   "cell_type": "markdown",
   "id": "3b3ddbcb-8556-461e-9ced-481c393d100e",
   "metadata": {},
   "source": [
    "#### Q1. Create a function which will take a list as an argument and return the product of all the numbers after creating a flat list.\n",
    "- Use the below-given list as an argument for your function.\n",
    "\n",
    "list1 = [1,2,3,4, [44,55,66, True], False, (34,56,78,89,34), {1,2,3,3,2,1},\n",
    "\n",
    "{1:34, \"key2\": [55, 67, 78, 89], 4: (45, 22, 61, 34)}, [56, 'data science'], 'Machine Learning']\n",
    "\n",
    "Note: you must extract numeric keys and values of the dictionary also."
   ]
  },
  {
   "cell_type": "code",
   "execution_count": 3,
   "id": "4f56fad5-359f-4726-a46b-94ef7c12be17",
   "metadata": {},
   "outputs": [
    {
     "name": "stdout",
     "output_type": "stream",
     "text": [
      "[1, 2, 3, 4, [44, 55, 66, True], False, (34, 56, 78, 89, 34), {1, 2, 3}, {1: 34, 'key2': [55, 67, 78, 89], 4: (45, 22, 61, 34)}, [56, 'data science'], 'Machine Learning'] \n",
      "\n",
      "filter function list :  [1, 2, 3, 4, False, 'Machine Learning']\n",
      "dictionary reduce function return :  (1, 34, 'key2', [55, 67, 78, 89], 4, (45, 22, 61, 34)) \n",
      "\n",
      "flatten list :  [1, 2, 3, 4, False, 'Machine Learning', 44, 55, 66, True, 34, 56, 78, 89, 34, 1, 2, 3, 1, 34, 'key2', 55, 67, 78, 89, 4, 45, 22, 61, 34, 56, 'data science'] \n",
      "\n",
      "only number list :  [1, 2, 3, 4, 44, 55, 66, 34, 56, 78, 89, 34, 1, 2, 3, 1, 34, 55, 67, 78, 89, 4, 45, 22, 61, 34, 56]\n"
     ]
    },
    {
     "data": {
      "text/plain": [
       "4134711838987085478833841242112000"
      ]
     },
     "execution_count": 3,
     "metadata": {},
     "output_type": "execute_result"
    }
   ],
   "source": [
    "list1 = [1,2,3,4, [44,55,66, True], False, (34,56,78,89,34), {1,2,3,3,2,1},\n",
    "         {1:34, \"key2\": [55, 67, 78, 89], 4: (45, 22, 61, 34)}, \n",
    "         [56, 'data science'], 'Machine Learning']\n",
    "\n",
    "print(list1,\"\\n\")\n",
    "#----------------------------------------------------------------------------------------#\n",
    "\n",
    "from functools import reduce\n",
    "\n",
    "\n",
    "def list_num_product(lst):\n",
    "\n",
    "    a = list(filter(lambda x: type(x)==int or type(x)==bool or type(x)==str, lst))\n",
    "    print(\"filter function list : \",a)\n",
    "    \n",
    "    ls=[]\n",
    "    for i in lst:\n",
    "    \n",
    "        if type(i)==list or type(i)==tuple or type(i) is set:\n",
    "                [ls.append(x) for x in i]\n",
    "                \n",
    "        elif type(i) == dict:\n",
    "            dc=reduce(lambda x,y:x+y ,i.items())   # don't have to convert into list, because it's returning\n",
    "                                          # tuple datatype, which we can easily append to our main list using loop\n",
    "            print(\"dictionary reduce function return : \",dc,\"\\n\")\n",
    "          \n",
    "            for j in dc:\n",
    "                if type(j)==list or type(j)==tuple:\n",
    "                    [ls.append(k) for k in j]\n",
    "                    \n",
    "                elif type(j)==int or type(j)==str:\n",
    "                    ls.append(j)\n",
    "                \n",
    "       \n",
    "    flat_list=a+ls\n",
    "    print(\"flatten list : \" ,flat_list,\"\\n\")\n",
    "    \n",
    "    num_list=[x for x in flat_list if type(x)==int]\n",
    "    print(\"only number list : \",num_list)\n",
    "    \n",
    "    num_product=reduce(lambda x,y :x*y,num_list)\n",
    "    \n",
    "    \n",
    "    \n",
    "    return num_product\n",
    "\n",
    "list_num_product(list1)"
   ]
  },
  {
   "cell_type": "code",
   "execution_count": null,
   "id": "0e5ed156-349a-48bb-b8a4-8eae65edcc5f",
   "metadata": {},
   "outputs": [],
   "source": []
  },
  {
   "cell_type": "markdown",
   "id": "c7352840-3d9e-458e-8335-07869dc0f4a0",
   "metadata": {},
   "source": [
    "#### Q2. Write a python program for encrypting a message sent to you by your friend. The logic of encryption should be such that, for a the output should be z. For b, the output should be y. For c, the output should be x respectively. Also, the whitespace should be replaced with a dollar sign. Keep the punctuation marks unchanged.\n",
    "\n",
    "Input Sentence: I want to become a Data Scientist.\n",
    "\n",
    "Encrypt the above input sentence using the program you just created.\n",
    "\n",
    "Note: Convert the given input sentence into lowercase before encrypting. The final output should be\n",
    "lowercase."
   ]
  },
  {
   "cell_type": "code",
   "execution_count": 6,
   "id": "eb8f2a2d-65b7-4596-8642-0d0ce11eecb7",
   "metadata": {},
   "outputs": [
    {
     "name": "stdout",
     "output_type": "stream",
     "text": [
      "sentence to encrypt :  I want to become a Data Scientist.\n",
      "lower case conversion :  i want to become a data scientist.\n",
      "\n",
      "encrpted :  i$wznt$to$yexome$z$dztz$sxientist.\n"
     ]
    }
   ],
   "source": [
    "sentence= \"I want to become a Data Scientist.\"\n",
    "print(\"sentence to encrypt : \",sentence)\n",
    "\n",
    "def encry(ls):\n",
    "    \n",
    "    text=ls.lower()\n",
    "    print(\"lower case conversion : \",text)\n",
    "    \n",
    "    string=\"\"\n",
    "    for i in text:\n",
    "        if i=='a':\n",
    "            string += 'z'\n",
    "        elif i=='b':\n",
    "            string += 'y'\n",
    "        elif i =='c':\n",
    "            string += 'x'\n",
    "        elif i == ' ':\n",
    "            string += '$'\n",
    "        else:\n",
    "            string += i\n",
    "    return string\n",
    "\n",
    "print(\"\\nencrpted : \",encry(sentence))"
   ]
  },
  {
   "cell_type": "code",
   "execution_count": null,
   "id": "92e5c3bc-0141-40c3-b8a4-05829cf9bfb6",
   "metadata": {},
   "outputs": [],
   "source": []
  }
 ],
 "metadata": {
  "kernelspec": {
   "display_name": "Python 3 (ipykernel)",
   "language": "python",
   "name": "python3"
  },
  "language_info": {
   "codemirror_mode": {
    "name": "ipython",
    "version": 3
   },
   "file_extension": ".py",
   "mimetype": "text/x-python",
   "name": "python",
   "nbconvert_exporter": "python",
   "pygments_lexer": "ipython3",
   "version": "3.10.8"
  }
 },
 "nbformat": 4,
 "nbformat_minor": 5
}
