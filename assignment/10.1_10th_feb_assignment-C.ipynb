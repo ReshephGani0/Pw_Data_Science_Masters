{
 "cells": [
  {
   "cell_type": "markdown",
   "id": "720ca4b8-58b8-42e1-b5ba-e9cdd60f8e21",
   "metadata": {},
   "source": [
    "# file Task, Assignment\n",
    "## 10th feb Assignment"
   ]
  },
  {
   "cell_type": "code",
   "execution_count": null,
   "id": "8377f5bc-28e8-4f5c-b471-4dd3cc2cf88f",
   "metadata": {},
   "outputs": [],
   "source": []
  },
  {
   "cell_type": "markdown",
   "id": "a1ce2d1c-6362-407a-a63d-5b22270c0723",
   "metadata": {},
   "source": [
    "#### Q1. Which function is used to open a file? What are the different modes of opening a file? Explain each mode of file opening."
   ]
  },
  {
   "cell_type": "markdown",
   "id": "034d442e-5c1c-4267-87e9-1278368018dd",
   "metadata": {},
   "source": [
    "open() function is used to open a file.\n",
    "\n",
    "these are the following mode of opening a file:\n",
    "\n",
    " Mode______\t     Description\n",
    "\n",
    "- 'r'_______     open for reading (default)\n",
    "- 'w'_______       Open a file for writing. Creates a new file if it does not exist or truncates the file if it exists\n",
    "- 'x'_______       create a new file and open it for writing, Open a file for exclusive creation. If the file already exists, the operation fails.\n",
    "- 'a'_______       Open a file for appending at the end of the file without truncating it. Creates a new file if it does not exist.\n",
    "- 'b'_______       Open in binary mode.\n",
    "- 't'_______       Open in text mode. (default)\n",
    "- '+'_______       open a disk file for updating (reading and writing)\n",
    "- 'U'_______       universal newline mode (deprecated)"
   ]
  },
  {
   "cell_type": "code",
   "execution_count": null,
   "id": "724a143c-02f9-4f99-9b80-e6f7a2cf6923",
   "metadata": {},
   "outputs": [],
   "source": []
  },
  {
   "cell_type": "markdown",
   "id": "686ceb5e-cd25-4d7e-b496-9d44a7caac91",
   "metadata": {},
   "source": [
    "#### Q2. Why close() function is used? Why is it important to close a file?"
   ]
  },
  {
   "cell_type": "markdown",
   "id": "6cbe7b87-14f2-4d74-b1bb-e1a7af0ec438",
   "metadata": {},
   "source": [
    "The close() method closes an open file. You should always close your files, in some cases, due to buffering, changes made to a file may not show until you close the file."
   ]
  },
  {
   "cell_type": "markdown",
   "id": "d5d21517-3fda-45c6-a9b9-def13329302c",
   "metadata": {},
   "source": [
    "- Files are actually a limited resource that are managed not by the language, but the OS itself. Without closing them we may risk reaching the open limit, causing problems with the continued operation of the program. Too many open files will also impact program performance due to increased demand on RAM and other OS resources.\n",
    "- Files left unintentionally open become vulnerable to loss of data. If the program or computer crashes unexpectedly, any open files may not be recovered despite the OS & languages best efforts to protect data. \n",
    "- Any changes to files done will not be readable until after the files are closed. The OS puts a lock on the open file until closed, thus useful applications such as AV scans on files may be hindered. \n",
    "- this method is when there is no longer need for the file or if we want to close the entire file and want to open the file in a different mode.\n",
    "- Finally, it's not best-practice coding style. To limit the amount of potential debugging, and other code issues, remember to close your files.\n"
   ]
  },
  {
   "cell_type": "code",
   "execution_count": null,
   "id": "0f73d7bb-5146-4249-aa0e-50bd8928f89a",
   "metadata": {},
   "outputs": [],
   "source": []
  },
  {
   "cell_type": "markdown",
   "id": "9ec5a366-9f14-4186-9fe1-42adb599f998",
   "metadata": {},
   "source": [
    "#### Q3. Write a python program to create a text file. Write ‘I want to become a Data Scientist’ in that file. Then close the file. Open this file and read the content of the file."
   ]
  },
  {
   "cell_type": "code",
   "execution_count": 5,
   "id": "43e6dee4-c25f-4a26-af1a-de434ad75f58",
   "metadata": {},
   "outputs": [
    {
     "data": {
      "text/plain": [
       "'I want ro become a Data Scientist'"
      ]
     },
     "execution_count": 5,
     "metadata": {},
     "output_type": "execute_result"
    }
   ],
   "source": [
    "f = open(\"10_10th_feb_file.txt\",\"w\")\n",
    "f.write(\"I want ro become a Data Scientist\")\n",
    "f.close()\n",
    "\n",
    "f =open(\"10_10th_feb_file.txt\", \"r\")\n",
    "f.read()"
   ]
  },
  {
   "cell_type": "code",
   "execution_count": null,
   "id": "5a8320b8-f254-4ba1-86a5-218c402aed8b",
   "metadata": {},
   "outputs": [],
   "source": []
  },
  {
   "cell_type": "markdown",
   "id": "466e6f9f-6833-4d74-afb9-53aa01bba772",
   "metadata": {},
   "source": [
    "#### Q4. Explain the following with python code: read(), readline() and readlines()."
   ]
  },
  {
   "cell_type": "code",
   "execution_count": 6,
   "id": "7f1dc150-0bb3-42ec-9bca-f61a741e6671",
   "metadata": {},
   "outputs": [],
   "source": [
    "f2=\"Lorem ipsum dolor sit amet, consectetuer adipiscing elit.\\n Aenean commodo ligula eget dolor. Aenean massa.\\r\\n Cum sociis natoque penatibus et magnis dis parturient montes, nascetur ridiculus mus.\\n Donec quam felis, ultricies nec, pellentesque eu, pretium quis, sem.\\n Nulla consequat massa quis enim.\\r\\n Donec pede justo, fringilla vel, aliquet nec, vulputate eget, arcu.\\n In enim justo, rhoncus ut, imperdiet a, venenatis vitae, justo.\\n Nullam dictum felis eu pede mollis pretium.\\r\\n Integer tincidunt. Cras dapibus. Vivamus elementum semper nisi.\\n Aenean vulputate eleifend tellus. Aenean leo ligula, porttitor eu, consequat vitae, eleifend ac, enim.\\n Aliquam lorem ante, dapibus in, viverra quis, feugiat a, tellus.\\n Phasellus viverra nulla ut metus varius laoreet.\\r\\n Quisque rutrum. Aenean imperdiet. Etiam ultricies nisi vel augue.\\n Curabitur ullamcorper ultricies nisi. Nam eget dui. Etiam rhoncus. Maecenas tempus, tellus eget condimentum rhoncus, sem quam semper libero, sit amet adipiscing sem neque sed ipsum.\\n\\n Nam quam nunc, blandit vel, luctus pulvinar, hendrerit id, lorem. Maecenas nec odio et ante tincidunt tempus.\\n Donec vitae sapien ut libero venenatis faucibus. Nullam quis ante.\\n Etiam sit amet orci eget eros faucibus tincidunt. Duis leo.\\n Sed fringilla mauris sit amet nibh. Donec sodales sagittis magna.\\n Sed consequat, leo eget bibendum sodales, augue velit cursus nunc\""
   ]
  },
  {
   "cell_type": "code",
   "execution_count": 7,
   "id": "db7a755b-4178-43c4-9c68-204e7be9f200",
   "metadata": {},
   "outputs": [],
   "source": [
    "with open(\"10_10th_feb_file2.txt\", \"w\") as file:\n",
    "    file.write(f2)"
   ]
  },
  {
   "cell_type": "markdown",
   "id": "7f804806-f90d-43c0-a9f2-f6a1353e16d7",
   "metadata": {},
   "source": [
    "## Read ( ):\n",
    "- Returns the read bytes in the form of a string. Reads n bytes; if n is not specified, then reads the entire file.\n",
    "- The read method reads the entire contents of a file and returns it as a string.\n"
   ]
  },
  {
   "cell_type": "code",
   "execution_count": 8,
   "id": "72e6a6ff-2e93-4532-911b-cc476224636c",
   "metadata": {},
   "outputs": [
    {
     "name": "stdout",
     "output_type": "stream",
     "text": [
      "Lorem ipsum dolor sit amet, consectetuer adipiscing elit.\n",
      " Aenean commodo ligula eget dolor. Aenean massa.\n",
      " Cum sociis natoque penatibus et magnis dis parturient montes, nascetur ridiculus mus.\n",
      " Donec quam felis, ultricies nec, pellentesque eu, pretium quis, sem.\n",
      " Nulla consequat massa quis enim.\n",
      " Donec pede justo, fringilla vel, aliquet nec, vulputate eget, arcu.\n",
      " In enim justo, rhoncus ut, imperdiet a, venenatis vitae, justo.\n",
      " Nullam dictum felis eu pede mollis pretium.\n",
      " Integer tincidunt. Cras dapibus. Vivamus elementum semper nisi.\n",
      " Aenean vulputate eleifend tellus. Aenean leo ligula, porttitor eu, consequat vitae, eleifend ac, enim.\n",
      " Aliquam lorem ante, dapibus in, viverra quis, feugiat a, tellus.\n",
      " Phasellus viverra nulla ut metus varius laoreet.\n",
      " Quisque rutrum. Aenean imperdiet. Etiam ultricies nisi vel augue.\n",
      " Curabitur ullamcorper ultricies nisi. Nam eget dui. Etiam rhoncus. Maecenas tempus, tellus eget condimentum rhoncus, sem quam semper libero, sit amet adipiscing sem neque sed ipsum.\n",
      "\n",
      " Nam quam nunc, blandit vel, luctus pulvinar, hendrerit id, lorem. Maecenas nec odio et ante tincidunt tempus.\n",
      " Donec vitae sapien ut libero venenatis faucibus. Nullam quis ante.\n",
      " Etiam sit amet orci eget eros faucibus tincidunt. Duis leo.\n",
      " Sed fringilla mauris sit amet nibh. Donec sodales sagittis magna.\n",
      " Sed consequat, leo eget bibendum sodales, augue velit cursus nunc\n"
     ]
    }
   ],
   "source": [
    "with open(\"10_10th_feb_file2.txt\",\"r\") as file:\n",
    "    print(file.read())"
   ]
  },
  {
   "cell_type": "markdown",
   "id": "27a0c79b-5cd1-4f5a-826d-aa2aef82c956",
   "metadata": {},
   "source": [
    "\n",
    "### Readline ( ): \n",
    "- Reads a line of the file and returns in the form of a string. For specified n, reads at most n bytes. readline ( ) function does not read more than one line at a time; even if n exceeds, it reads only one line. Readline ( ) function reads a line of the file and returns it in the string. It takes an integer value n as a parameter to read the number of characters read at a time. Readline ( ) method is very efficient in reading the data from a very large file because it fetches the data line by line and returns and prints on the screen. Readline ( ) returns the next line of the file, which contains a newline character in the end. Also, if the end of the file is reached, it will return an empty string.\n",
    "- The readline method reads a single line from a file and returns it as a string. This means that if you use readline, you can read the contents of a file line by line, which can be useful for processing large files that do not fit in memory.\n"
   ]
  },
  {
   "cell_type": "code",
   "execution_count": 9,
   "id": "a47eb68f-f4d3-440c-a3f0-5fc5856c4e70",
   "metadata": {},
   "outputs": [
    {
     "name": "stdout",
     "output_type": "stream",
     "text": [
      "Lorem ipsum dolor sit amet, consectetuer adipiscing elit.\n",
      "\n",
      " Aenean commodo ligula eget dolor. Aenean massa.\n",
      "\n"
     ]
    }
   ],
   "source": [
    "with open(\"10_10th_feb_file2.txt\", \"r\") as file:\n",
    "    print(file.readline())\n",
    "    print(file.readline())"
   ]
  },
  {
   "cell_type": "code",
   "execution_count": 10,
   "id": "e5295f66-f0f2-43eb-9e3d-6e87f18731be",
   "metadata": {},
   "outputs": [
    {
     "name": "stdout",
     "output_type": "stream",
     "text": [
      "Lorem ipsum dolor sit amet, consectetuer adipiscing elit.\n",
      "Aenean commodo ligula eget dolor. Aenean massa.\n",
      "Cum sociis natoque penatibus et magnis dis parturient montes, nascetur ridiculus mus.\n",
      "Donec quam felis, ultricies nec, pellentesque eu, pretium quis, sem.\n",
      "Nulla consequat massa quis enim.\n",
      "Donec pede justo, fringilla vel, aliquet nec, vulputate eget, arcu.\n",
      "In enim justo, rhoncus ut, imperdiet a, venenatis vitae, justo.\n",
      "Nullam dictum felis eu pede mollis pretium.\n",
      "Integer tincidunt. Cras dapibus. Vivamus elementum semper nisi.\n",
      "Aenean vulputate eleifend tellus. Aenean leo ligula, porttitor eu, consequat vitae, eleifend ac, enim.\n",
      "Aliquam lorem ante, dapibus in, viverra quis, feugiat a, tellus.\n",
      "Phasellus viverra nulla ut metus varius laoreet.\n",
      "Quisque rutrum. Aenean imperdiet. Etiam ultricies nisi vel augue.\n",
      "Curabitur ullamcorper ultricies nisi. Nam eget dui. Etiam rhoncus. Maecenas tempus, tellus eget condimentum rhoncus, sem quam semper libero, sit amet adipiscing sem neque sed ipsum.\n",
      "\n",
      "Nam quam nunc, blandit vel, luctus pulvinar, hendrerit id, lorem. Maecenas nec odio et ante tincidunt tempus.\n",
      "Donec vitae sapien ut libero venenatis faucibus. Nullam quis ante.\n",
      "Etiam sit amet orci eget eros faucibus tincidunt. Duis leo.\n",
      "Sed fringilla mauris sit amet nibh. Donec sodales sagittis magna.\n",
      "Sed consequat, leo eget bibendum sodales, augue velit cursus nunc\n"
     ]
    }
   ],
   "source": [
    "with open(\"10_10th_feb_file2.txt\", \"r\") as file:\n",
    "    line = file.readline()\n",
    "    while line:\n",
    "        print(line.strip())\n",
    "        line = file.readline()"
   ]
  },
  {
   "cell_type": "markdown",
   "id": "eac1fe07-1a3f-447d-9bb9-de575326d881",
   "metadata": {},
   "source": [
    ">* In the above example, the while loop continues to read lines from the file until readline returns an empty string, indicating the end of the file. The strip method is used to remove the line terminator from each line."
   ]
  },
  {
   "cell_type": "markdown",
   "id": "8d9a71ee-51a3-45b3-b304-b717d93397ad",
   "metadata": {},
   "source": [
    "\n",
    "### readlines ( ):\n",
    "- Reads all the lines and returns them as a string element in a list. Readlines ( ) is used to read all the lines at a single go and then return them as a string element in a list. This function can be used for small files, as it reads the whole file content to the memory, then splits it into separate lines. Using the strip () function, we can iterate over the list and strip the newline ' \\n ' character using the strip ( ) function.\n",
    "- The readline method reads a single line from a file and returns it as a string, while the readlines method reads the entire contents of a file and returns it as a list of strings, where each element of the list is a single line of the file."
   ]
  },
  {
   "cell_type": "code",
   "execution_count": 11,
   "id": "34f54310-7351-4901-b289-72bf0006a529",
   "metadata": {},
   "outputs": [
    {
     "name": "stdout",
     "output_type": "stream",
     "text": [
      "Lorem ipsum dolor sit amet, consectetuer adipiscing elit.\n",
      "Aenean commodo ligula eget dolor. Aenean massa.\n",
      "Cum sociis natoque penatibus et magnis dis parturient montes, nascetur ridiculus mus.\n",
      "Donec quam felis, ultricies nec, pellentesque eu, pretium quis, sem.\n",
      "Nulla consequat massa quis enim.\n",
      "Donec pede justo, fringilla vel, aliquet nec, vulputate eget, arcu.\n",
      "In enim justo, rhoncus ut, imperdiet a, venenatis vitae, justo.\n",
      "Nullam dictum felis eu pede mollis pretium.\n",
      "Integer tincidunt. Cras dapibus. Vivamus elementum semper nisi.\n",
      "Aenean vulputate eleifend tellus. Aenean leo ligula, porttitor eu, consequat vitae, eleifend ac, enim.\n",
      "Aliquam lorem ante, dapibus in, viverra quis, feugiat a, tellus.\n",
      "Phasellus viverra nulla ut metus varius laoreet.\n",
      "Quisque rutrum. Aenean imperdiet. Etiam ultricies nisi vel augue.\n",
      "Curabitur ullamcorper ultricies nisi. Nam eget dui. Etiam rhoncus. Maecenas tempus, tellus eget condimentum rhoncus, sem quam semper libero, sit amet adipiscing sem neque sed ipsum.\n",
      "\n",
      "Nam quam nunc, blandit vel, luctus pulvinar, hendrerit id, lorem. Maecenas nec odio et ante tincidunt tempus.\n",
      "Donec vitae sapien ut libero venenatis faucibus. Nullam quis ante.\n",
      "Etiam sit amet orci eget eros faucibus tincidunt. Duis leo.\n",
      "Sed fringilla mauris sit amet nibh. Donec sodales sagittis magna.\n",
      "Sed consequat, leo eget bibendum sodales, augue velit cursus nunc\n"
     ]
    }
   ],
   "source": [
    "with open(\"10_10th_feb_file2.txt\", \"r\") as file:\n",
    "    fe = file.readlines()\n",
    "    for i in fe:\n",
    "        print(i.strip())"
   ]
  },
  {
   "cell_type": "code",
   "execution_count": null,
   "id": "f1867f4a-0d96-4b78-a56e-c74c57d8409a",
   "metadata": {},
   "outputs": [],
   "source": []
  },
  {
   "cell_type": "markdown",
   "id": "15fba6db-490e-4704-9d04-690a15e8c358",
   "metadata": {},
   "source": [
    "#### Q5. Explain why with statement is used with open(). What is the advantage of using with statement and open() together?"
   ]
  },
  {
   "cell_type": "markdown",
   "id": "3a9fae94-4f05-44fb-b822-adeaf520d16e",
   "metadata": {},
   "source": [
    "In python unlike open() where you have to close the file with the close() method, the with statement closes the file for you without you telling it to.\n",
    "\n",
    "This is because the with statement calls 2 built-in methods behind the scene – __enter()__ and __exit()__.\n",
    "\n",
    "The __exit()__ method closes the file when the operation you specify is done.\n",
    "\n",
    "we can use the with...open syntax to automatically close the file. \n",
    "even if we forget to write close() after opening a file, 'with open' statement will auctomatically close the file. "
   ]
  },
  {
   "cell_type": "code",
   "execution_count": null,
   "id": "6eb37bca-e9e6-40d2-9ca5-edf824d8ef9b",
   "metadata": {},
   "outputs": [],
   "source": []
  },
  {
   "cell_type": "markdown",
   "id": "cca8f5b4-c4dd-48e8-b553-8af35a687bbe",
   "metadata": {},
   "source": [
    "#### Q6. Explain the write() and writelines() functions. Give a suitable example."
   ]
  },
  {
   "cell_type": "markdown",
   "id": "fd41b607-be48-49d6-8e04-1bc2e31454e2",
   "metadata": {},
   "source": [
    "## write()\n",
    "write() method takes a string as an argument and writes it to the text file.\n",
    "\n",
    ">* While writing data to a file, we must know that the write function does not add a newline character(\\n) to the end of the string. The write() function returns None.\n"
   ]
  },
  {
   "cell_type": "code",
   "execution_count": 12,
   "id": "dd8473c4-f5b0-4c48-9055-321ba75268d4",
   "metadata": {},
   "outputs": [
    {
     "name": "stdin",
     "output_type": "stream",
     "text": [
      "enter 3 friend names :  mohan\n",
      "enter 3 friend names :  sohan\n",
      "enter 3 friend names :  johan\n"
     ]
    },
    {
     "name": "stdout",
     "output_type": "stream",
     "text": [
      "names have been added to file\n"
     ]
    }
   ],
   "source": [
    "file = open(\"10_10th_feb_file.txt\",\"w\")\n",
    "for i in range(3):\n",
    "    file.write(input(\"enter 3 friend names : \"))\n",
    "    file.write(\"\\n\")\n",
    "file.close()\n",
    "print(\"names have been added to file\")"
   ]
  },
  {
   "cell_type": "markdown",
   "id": "fa015cfa-2754-4e31-b645-e47e4f4e9bd0",
   "metadata": {},
   "source": [
    "## writelines()\n",
    "writelines() method is used to write multiple strings to a file. We need to pass an iterable object like lists, tuples, etc. containing strings to the writelines() method.\n",
    "\n",
    "This function writes the content of a list to a file.\n",
    "\n",
    "the list of strings that is passed to the writelines() function is written into the opened file. Similar to the write() function, the writelines() function does not add a newline character(\\n) to the end of the string."
   ]
  },
  {
   "cell_type": "code",
   "execution_count": 13,
   "id": "7420b07a-7eb9-49bb-8f03-8fa894ce8978",
   "metadata": {},
   "outputs": [
    {
     "name": "stdin",
     "output_type": "stream",
     "text": [
      "enter 3 friend names :  rohan\n",
      "enter 3 friend names :  pohan\n",
      "enter 3 friend names :  kohan\n"
     ]
    },
    {
     "name": "stdout",
     "output_type": "stream",
     "text": [
      "names have been added to file\n"
     ]
    }
   ],
   "source": [
    "file = open(\"10_10th_feb_file.txt\",\"w\")\n",
    "lst = []\n",
    "for i in range(3):\n",
    "    data = input(\"enter 3 friend names : \")\n",
    "    lst.append(data + \"\\n\")\n",
    "    \n",
    "file.writelines(lst)\n",
    "file.close()\n",
    "print(\"names have been added to file\")"
   ]
  },
  {
   "cell_type": "code",
   "execution_count": null,
   "id": "cfdcbe93-01bd-45d9-ac21-39fb57cfbcf3",
   "metadata": {},
   "outputs": [],
   "source": []
  }
 ],
 "metadata": {
  "kernelspec": {
   "display_name": "Python 3 (ipykernel)",
   "language": "python",
   "name": "python3"
  },
  "language_info": {
   "codemirror_mode": {
    "name": "ipython",
    "version": 3
   },
   "file_extension": ".py",
   "mimetype": "text/x-python",
   "name": "python",
   "nbconvert_exporter": "python",
   "pygments_lexer": "ipython3",
   "version": "3.10.8"
  }
 },
 "nbformat": 4,
 "nbformat_minor": 5
}
