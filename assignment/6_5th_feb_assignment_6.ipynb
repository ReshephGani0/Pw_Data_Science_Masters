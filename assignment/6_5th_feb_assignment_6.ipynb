{
 "cells": [
  {
   "cell_type": "markdown",
   "id": "7ba3113e-2410-41b0-9b43-c5f3087dd828",
   "metadata": {},
   "source": [
    "# Assignment no.6\n",
    "## 5th feb Assignment"
   ]
  },
  {
   "cell_type": "code",
   "execution_count": null,
   "id": "a697325b-d5d4-47f8-bf33-c91d1926b41b",
   "metadata": {},
   "outputs": [],
   "source": []
  },
  {
   "cell_type": "markdown",
   "id": "8e650fbb-42c7-4cd7-ad71-75765cd9290b",
   "metadata": {},
   "source": [
    "#### Q1. Explain Class and Object with respect to Object-Oriented Programming. Give a suitable example."
   ]
  },
  {
   "cell_type": "markdown",
   "id": "e8b98575-53db-4937-91c7-19eebcdc45e9",
   "metadata": {},
   "source": [
    "##### Class\n",
    "A Class is like an object constructor, or a \"blueprint\" for creating objects.\n",
    "\n",
    "Class creates a user-defined data structure, which holds its own data members and member functions, which can be accessed and used by creating an instance of that class. A class is like a blueprint for an object.\n",
    "\n",
    "- Classes are created by keyword class.\n",
    "- Attributes are the variables that belong to a class.\n",
    "- Attributes are always public and can be accessed using the dot (.) operator. Eg.: Myclass.Myattribute"
   ]
  },
  {
   "cell_type": "code",
   "execution_count": 1,
   "id": "1be67c0b-47dd-4c6d-b9e2-fd7627422013",
   "metadata": {},
   "outputs": [],
   "source": [
    "class Dog:\n",
    "    \n",
    "     \n",
    "    def __init__(self):\n",
    "        \n",
    "        # A simple class\n",
    "        # attribute\n",
    "        self.attr1 = \"mammal\"\n",
    "        self.attr2 = \"dog\"\n",
    " \n",
    "    # A sample method\n",
    "    def fun(self):\n",
    "        print(\"I'm a\", self.attr1)\n",
    "        print(\"I'm a\", self.attr2)"
   ]
  },
  {
   "cell_type": "markdown",
   "id": "21937035-a477-4171-b6c4-435931cd15a8",
   "metadata": {},
   "source": [
    "##### Object\n",
    "An Object is an instance of a Class. A class is like a blueprint while an instance is a copy of the class with actual values. It’s not an idea anymore, it’s an actual dog, like a dog of breed pug who’s seven years old. You can have many dogs to create many different instances, but without the class as a guide, you would be lost, not knowing what information is required.\n",
    "An object consists of : \n",
    "\n",
    "- State: It is represented by the attributes of an object. It also reflects the properties of an object.\n",
    "- Behaviour: It is represented by the methods of an object. It also reflects the response of an object to other objects.\n",
    "- Identity: It gives a unique name to an object and enables one object to interact with other objects.\n"
   ]
  },
  {
   "cell_type": "code",
   "execution_count": 4,
   "id": "f3eaf9d8-7e24-42d2-aaf9-6fff26e72941",
   "metadata": {},
   "outputs": [
    {
     "name": "stdout",
     "output_type": "stream",
     "text": [
      "mammal\n",
      "I'm a mammal\n",
      "I'm a dog\n"
     ]
    }
   ],
   "source": [
    "# Driver code\n",
    "# Object instantiation\n",
    "tincy = Dog()\n",
    " \n",
    "# Accessing class attributes\n",
    "# and method through objects\n",
    "print(tincy.attr1)\n",
    "tincy.fun()"
   ]
  },
  {
   "cell_type": "code",
   "execution_count": null,
   "id": "e7f2d4b8-7599-4830-b7e3-375ae7ff16d2",
   "metadata": {},
   "outputs": [],
   "source": []
  },
  {
   "cell_type": "markdown",
   "id": "dfdcfffc-a4f6-4ca4-bdbb-f046fa8afd6d",
   "metadata": {},
   "source": [
    "#### Q2. Name the four pillars of OOPs."
   ]
  },
  {
   "cell_type": "markdown",
   "id": "62de20d3-9673-486c-b343-8ae4f61ffc40",
   "metadata": {},
   "source": [
    "The four pillars of Oops\n",
    "1. Abstraction\n",
    "2. Encapsulation\n",
    "3. Inheritance\n",
    "4. Polymorphism"
   ]
  },
  {
   "cell_type": "code",
   "execution_count": null,
   "id": "e01f1daa-7b7a-4ab8-8d22-415f69b60523",
   "metadata": {},
   "outputs": [],
   "source": []
  },
  {
   "cell_type": "markdown",
   "id": "c7d3a90f-b90c-49de-accd-2e9d15428eb7",
   "metadata": {},
   "source": [
    "#### Q3. Explain why the __init__() function is used. Give a suitable example."
   ]
  },
  {
   "cell_type": "markdown",
   "id": "d5dc77e0-0388-475a-b5a1-60bc99a4f49a",
   "metadata": {},
   "source": [
    "All classes have a function called __init__(), which is always executed when the class is being initiated.\n",
    "\n",
    "Use the __ init __() function to assign values to object properties, or other operations that are necessary to do when the object is being created:"
   ]
  },
  {
   "cell_type": "markdown",
   "id": "ab9e38b2-682c-4733-9d2b-cf09ff81b2ff",
   "metadata": {},
   "source": [
    "The __ init __() method is similar to constructors in C++ and Java. Constructors are used to initialize the object’s state. Like methods, a constructor also contains a collection of statements(i.e. instructions) that are executed at the time of Object creation. It runs as soon as an object of a class is instantiated. The method is useful to do any initialization you want to do with your object."
   ]
  },
  {
   "cell_type": "code",
   "execution_count": 3,
   "id": "c9dfe442-ebe0-4a03-923f-2cbc8f976628",
   "metadata": {},
   "outputs": [
    {
     "name": "stdout",
     "output_type": "stream",
     "text": [
      "Hello, my name is Raaj\n"
     ]
    }
   ],
   "source": [
    "# Sample class with init method\n",
    "class Person:\n",
    " \n",
    "    # init method or constructor\n",
    "    def __init__(self, name):\n",
    "        self.name = name\n",
    " \n",
    "    # Sample Method\n",
    "    def say_name(self):\n",
    "        print('Hello, my name is', self.name)\n",
    " \n",
    " \n",
    "p = Person('Raaj')\n",
    "p.say_name()"
   ]
  },
  {
   "cell_type": "code",
   "execution_count": null,
   "id": "1ee100bf-9105-4136-a3fa-fce839956051",
   "metadata": {},
   "outputs": [],
   "source": []
  },
  {
   "cell_type": "markdown",
   "id": "697583ae-7af7-49cf-b63a-e2a9e67b4eef",
   "metadata": {},
   "source": [
    "#### Q4. Why self is used in OOPs?"
   ]
  },
  {
   "cell_type": "markdown",
   "id": "f949c0a9-026a-4a28-a58d-6e5bfa3d76ea",
   "metadata": {},
   "source": [
    "SELF represents the instance of class. This handy keyword allows you to access variables, attributes, and methods of a defined class in Python.\n",
    "\n",
    "self is like pointer or reference for class, i.e. this method is binded with this class or belongs to me, 'reference to current instance to the class'\n",
    "\n",
    "The self parameter doesn’t have to be named “self,” as you can call it by any other name. However, the self parameter must always be the first parameter of any class function, regardless of the name chosen. So instead of self, you could use “Mine” or “Ours” or anything else.\n",
    "\n"
   ]
  },
  {
   "cell_type": "code",
   "execution_count": null,
   "id": "5b7d28ad-04d6-48d1-93c8-44b29776fc43",
   "metadata": {},
   "outputs": [],
   "source": []
  },
  {
   "cell_type": "markdown",
   "id": "857ac7d1-ff2b-4475-81fa-9e53d009bd2a",
   "metadata": {},
   "source": [
    "#### Q5. What is inheritance? Give an example for each type of inheritance."
   ]
  },
  {
   "cell_type": "markdown",
   "id": "06d7d6f5-1d20-4a7f-aa07-e44c4994c4ed",
   "metadata": {},
   "source": [
    "Inheritance\n",
    "Inheritance is the capability of one class to derive or inherit the properties from another class. The class that derives properties is called the derived class or child class and the class from which the properties are being derived is called the base class or parent class. The benefits of inheritance are:\n",
    "\n",
    "- It represents real-world relationships well.\n",
    "- It provides the reusability of a code. We don’t have to write the same code again and again. Also, it allows us to add more features to a class without modifying it.\n",
    "- It is transitive in nature, which means that if class B inherits from another class A, then all the subclasses of B would automatically inherit from class A."
   ]
  },
  {
   "cell_type": "markdown",
   "id": "93857fed-8fcf-4b5d-9860-b1ad1e060650",
   "metadata": {},
   "source": [
    "Types of Inheritance – \n",
    "- Single Inheritance:\n",
    "Single-level inheritance enables a derived class to inherit characteristics from a single-parent class."
   ]
  },
  {
   "cell_type": "code",
   "execution_count": 2,
   "id": "5bf60134-1330-41d0-bb73-a05ef929d3c7",
   "metadata": {},
   "outputs": [
    {
     "data": {
      "text/plain": [
       "'this is parent class'"
      ]
     },
     "execution_count": 2,
     "metadata": {},
     "output_type": "execute_result"
    }
   ],
   "source": [
    "class parent():\n",
    "    def test_parent(self):\n",
    "        return \"this is parent class\"\n",
    "    \n",
    "class child(parent):\n",
    "    def test_child(self):\n",
    "        pass\n",
    "    \n",
    "obj_child = child()\n",
    "\n",
    "obj_child.test_parent() # able to inherit from a single-parent class"
   ]
  },
  {
   "cell_type": "markdown",
   "id": "f6c37f22-ea42-4706-8d36-cbc7f79a209b",
   "metadata": {},
   "source": [
    "- Multilevel Inheritance:\n",
    "Multi-level inheritance enables a derived class to inherit properties from an immediate parent class which in turn inherits properties from his parent class."
   ]
  },
  {
   "cell_type": "code",
   "execution_count": 5,
   "id": "66142599-81d6-4274-92be-0298d094741e",
   "metadata": {},
   "outputs": [
    {
     "data": {
      "text/plain": [
       "'this is Grand parent class'"
      ]
     },
     "execution_count": 5,
     "metadata": {},
     "output_type": "execute_result"
    }
   ],
   "source": [
    "class grand_parent():\n",
    "    def test_grand_parent(self):\n",
    "        return \"this is Grand parent class\"\n",
    "\n",
    "class parent(grand_parent):\n",
    "    def test_parent(self):\n",
    "        return \"this is parent class\"\n",
    "    \n",
    "class child(parent):\n",
    "    def test_child(self):\n",
    "        pass\n",
    "    \n",
    "obj_child = child()\n",
    "\n",
    "obj_child.test_grand_parent() # able to inherit from a grand-parent class"
   ]
  },
  {
   "cell_type": "markdown",
   "id": "269b36cf-3650-4b9f-ab60-6b6dc840e19e",
   "metadata": {},
   "source": [
    "- Hierarchical Inheritance:\n",
    "Hierarchical level inheritance enables more than one derived class to inherit properties from a parent class.\n"
   ]
  },
  {
   "cell_type": "code",
   "execution_count": 9,
   "id": "629ff6bc-8d3d-43b3-be71-58e75e06dbfd",
   "metadata": {},
   "outputs": [
    {
     "name": "stdout",
     "output_type": "stream",
     "text": [
      "this is parent class\n",
      "this is parent class\n"
     ]
    }
   ],
   "source": [
    "class parent():\n",
    "    def test_parent(self):\n",
    "        return \"this is parent class\"\n",
    "\n",
    "class child1(parent):\n",
    "    def test_child1(self):\n",
    "        return \"this is child 1 class\"\n",
    "    \n",
    "class child2(parent):\n",
    "    def test_child2(self):\n",
    "        return \"this is child 2 class\"\n",
    "    \n",
    "obj_child_1 = child1()\n",
    "print(obj_child_1.test_parent()) # able to inherit from a single-parent class\n",
    "\n",
    "obj_child_2 = child2()\n",
    "print(obj_child_2.test_parent()) # able to inherit from a single-parent class,\n",
    "                                # both child classes able inherit from a parent class"
   ]
  },
  {
   "cell_type": "markdown",
   "id": "dae66dea-a0a9-4262-be1a-3c6184f3137d",
   "metadata": {},
   "source": [
    "- Multiple Inheritance:\n",
    "Multiple level inheritance enables one derived class to inherit properties from more than one base class."
   ]
  },
  {
   "cell_type": "code",
   "execution_count": 12,
   "id": "181beddc-3c13-49b8-8a54-66ec3dad3bed",
   "metadata": {},
   "outputs": [
    {
     "name": "stdout",
     "output_type": "stream",
     "text": [
      "this is father family class\n",
      "this is mother family class\n"
     ]
    }
   ],
   "source": [
    "class father_family():\n",
    "    def test_father_family(self):\n",
    "        return \"this is father family class\"\n",
    "\n",
    "class mother_family():\n",
    "    def test_mother_family(self):\n",
    "        return \"this is mother family class\"\n",
    "    \n",
    "class child(father_family,mother_family):\n",
    "    def test_child(self):\n",
    "        pass\n",
    "    \n",
    "obj_child = child()\n",
    "\n",
    "print(obj_child.test_father_family()) # able to inherit from both father and mother classes\n",
    "print(obj_child.test_mother_family())"
   ]
  },
  {
   "cell_type": "markdown",
   "id": "21c32875-f3e4-4810-bfba-2422d6933b0f",
   "metadata": {},
   "source": [
    "There is also a Hybrid inheritance :\n",
    "\n",
    "This is a combination of more than one inheritance. Hence, it may be a combination of Multilevel and Multiple inheritance or Hierarchical and Multilevel inheritance or Hierarchical and Multiple inheritance"
   ]
  },
  {
   "cell_type": "code",
   "execution_count": null,
   "id": "75efee6a-17f0-4cce-b578-ab0821da46c0",
   "metadata": {},
   "outputs": [],
   "source": []
  }
 ],
 "metadata": {
  "kernelspec": {
   "display_name": "Python 3 (ipykernel)",
   "language": "python",
   "name": "python3"
  },
  "language_info": {
   "codemirror_mode": {
    "name": "ipython",
    "version": 3
   },
   "file_extension": ".py",
   "mimetype": "text/x-python",
   "name": "python",
   "nbconvert_exporter": "python",
   "pygments_lexer": "ipython3",
   "version": "3.10.8"
  }
 },
 "nbformat": 4,
 "nbformat_minor": 5
}
