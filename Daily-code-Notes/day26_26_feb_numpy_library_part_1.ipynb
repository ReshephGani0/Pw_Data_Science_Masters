{
 "cells": [
  {
   "cell_type": "markdown",
   "id": "f6a441f8-6b72-448f-9de2-95635a2a80b0",
   "metadata": {},
   "source": [
    "# numpy"
   ]
  },
  {
   "cell_type": "markdown",
   "id": "95c1cc69-47db-4ca6-8d18-43320b578a5a",
   "metadata": {},
   "source": [
    "# Part-1"
   ]
  },
  {
   "cell_type": "markdown",
   "id": "2e305826-8e79-4c47-9d68-65e7649562d5",
   "metadata": {},
   "source": [
    "previously there was matlab(library/tool) which had multiple mathematical functions and python didn't had any\n",
    "so developer made **numpy** library (numerical python) inside python to perform all matrix and mathematical operation using python"
   ]
  },
  {
   "cell_type": "code",
   "execution_count": 47,
   "id": "832b813b-1477-43ee-9105-ec567adf154a",
   "metadata": {},
   "outputs": [],
   "source": [
    "import numpy as np\n",
    "# we made np as alias for numpy, to shorten it for multiple use"
   ]
  },
  {
   "cell_type": "markdown",
   "id": "2b7f7931-46a7-4592-96e5-c901dcd4f639",
   "metadata": {},
   "source": [
    "# matrix or array manipulation"
   ]
  },
  {
   "cell_type": "code",
   "execution_count": 48,
   "id": "e2c8e2aa-39d2-4c53-9ea2-72df92c7cd5b",
   "metadata": {},
   "outputs": [],
   "source": [
    "# creating list\n",
    "l = [1,2,3,4,5]"
   ]
  },
  {
   "cell_type": "code",
   "execution_count": 49,
   "id": "7ef8af29-8948-4da3-85d7-dcd3265851d2",
   "metadata": {},
   "outputs": [
    {
     "data": {
      "text/plain": [
       "array([1, 2, 3, 4, 5])"
      ]
     },
     "execution_count": 49,
     "metadata": {},
     "output_type": "execute_result"
    }
   ],
   "source": [
    "np.array(l)\n",
    "#converted list into array,\n",
    "# python list doesn't perform mathematical function, so need it in a array form\n",
    "#that's why converted list into numpy array"
   ]
  },
  {
   "cell_type": "markdown",
   "id": "b92a474c-60ce-4d59-830b-78bf1fe326f3",
   "metadata": {},
   "source": [
    "#### we can even convert array into list"
   ]
  },
  {
   "cell_type": "code",
   "execution_count": 50,
   "id": "9f2820f0-747c-4818-ba2b-7d921ab7a0d9",
   "metadata": {},
   "outputs": [],
   "source": [
    "arr = np.array(l)"
   ]
  },
  {
   "cell_type": "code",
   "execution_count": 51,
   "id": "544fd431-a36b-4a4c-85e8-d13731987498",
   "metadata": {},
   "outputs": [
    {
     "data": {
      "text/plain": [
       "numpy.ndarray"
      ]
     },
     "execution_count": 51,
     "metadata": {},
     "output_type": "execute_result"
    }
   ],
   "source": [
    "type(arr) #nd array is n dimensional array\n",
    "#numpy n dimensional array"
   ]
  },
  {
   "cell_type": "code",
   "execution_count": 52,
   "id": "b7191704-0b5d-4311-8f12-7bc5c4d4b12b",
   "metadata": {},
   "outputs": [
    {
     "data": {
      "text/plain": [
       "array([1, 2, 3, 4, 5])"
      ]
     },
     "execution_count": 52,
     "metadata": {},
     "output_type": "execute_result"
    }
   ],
   "source": [
    "np.asarray(l)"
   ]
  },
  {
   "cell_type": "markdown",
   "id": "8ffd7e1a-a95a-4307-944d-97b2ee8e208d",
   "metadata": {},
   "source": [
    "\n",
    "- numpy.array()\n",
    "- numpy.asarray()\n",
    "#### both function will create numpy array"
   ]
  },
  {
   "cell_type": "code",
   "execution_count": 53,
   "id": "a2862635-de88-4e60-8bed-4b6762c41bdc",
   "metadata": {},
   "outputs": [
    {
     "data": {
      "text/plain": [
       "array([[1, 2, 3],\n",
       "       [3, 4, 5]])"
      ]
     },
     "execution_count": 53,
     "metadata": {},
     "output_type": "execute_result"
    }
   ],
   "source": [
    "# passing 2 list in a numpy array\n",
    "np.array([[1,2,3],[3,4,5]])"
   ]
  },
  {
   "cell_type": "markdown",
   "id": "d08ed2d4-e21c-4a60-9a5e-bb38cb6fb1de",
   "metadata": {},
   "source": [
    "### it created 2 dimensional array\n",
    "### 2 square bracket means 2 dimensional array which is 2 dimensional in nature"
   ]
  },
  {
   "cell_type": "code",
   "execution_count": 54,
   "id": "7a7fb109-3ede-4df3-849a-e0ec39aee72f",
   "metadata": {},
   "outputs": [],
   "source": [
    "arr1 = np.array([[1,2,3],[2,3,4]])"
   ]
  },
  {
   "cell_type": "code",
   "execution_count": 55,
   "id": "c5791637-ecee-4e1f-a579-1f3e1c9f10a4",
   "metadata": {},
   "outputs": [
    {
     "data": {
      "text/plain": [
       "numpy.ndarray"
      ]
     },
     "execution_count": 55,
     "metadata": {},
     "output_type": "execute_result"
    }
   ],
   "source": [
    "type(arr1)"
   ]
  },
  {
   "cell_type": "markdown",
   "id": "0315e1a5-ddf3-41dc-b737-9d20e4231480",
   "metadata": {},
   "source": [
    "## checking dimension of both single list and double list arrays"
   ]
  },
  {
   "cell_type": "code",
   "execution_count": 56,
   "id": "628a3509-c4c4-4d67-b367-2be185ace39c",
   "metadata": {},
   "outputs": [
    {
     "data": {
      "text/plain": [
       "1"
      ]
     },
     "execution_count": 56,
     "metadata": {},
     "output_type": "execute_result"
    }
   ],
   "source": [
    "arr.ndim # 1 because it's 1 dimensional array"
   ]
  },
  {
   "cell_type": "code",
   "execution_count": 57,
   "id": "445e8b00-75db-43d0-b738-1c4cad528b99",
   "metadata": {},
   "outputs": [
    {
     "data": {
      "text/plain": [
       "2"
      ]
     },
     "execution_count": 57,
     "metadata": {},
     "output_type": "execute_result"
    }
   ],
   "source": [
    "arr1.ndim # 2 because it's a 2 dimensional array"
   ]
  },
  {
   "cell_type": "code",
   "execution_count": 58,
   "id": "5aa03fcc-c9f9-46f2-b8d1-0d3d7665f3f8",
   "metadata": {},
   "outputs": [
    {
     "data": {
      "text/plain": [
       "array([[1, 2, 3],\n",
       "       [2, 3, 4],\n",
       "       [3, 4, 5]])"
      ]
     },
     "execution_count": 58,
     "metadata": {},
     "output_type": "execute_result"
    }
   ],
   "source": [
    "arr2 = np.array([[1,2,3],[2,3,4],[3,4,5]])\n",
    "arr2"
   ]
  },
  {
   "cell_type": "code",
   "execution_count": 59,
   "id": "faae0b2e-3027-44fe-9535-037126316236",
   "metadata": {},
   "outputs": [
    {
     "data": {
      "text/plain": [
       "2"
      ]
     },
     "execution_count": 59,
     "metadata": {},
     "output_type": "execute_result"
    }
   ],
   "source": [
    "arr2.ndim"
   ]
  },
  {
   "cell_type": "markdown",
   "id": "a0bdd3c4-72c5-4012-ad82-194969ca6f0f",
   "metadata": {},
   "source": [
    "#### plot or visualize array"
   ]
  },
  {
   "attachments": {
    "05960c87-64ee-4491-ba3c-8c84917d9ccf.png": {
     "image/png": "[encoded data removed]"
    }
   },
   "cell_type": "markdown",
   "id": "b35ff524-2092-437c-b4c9-80cc13d8cb6d",
   "metadata": {},
   "source": [
    "![image.png](attachment:05960c87-64ee-4491-ba3c-8c84917d9ccf.png)"
   ]
  },
  {
   "cell_type": "markdown",
   "id": "22a1c126-4d51-45a4-8a1d-c3c3543ae165",
   "metadata": {},
   "source": [
    "#### this is how we plot any 2D array (numpy 2D array set)"
   ]
  },
  {
   "cell_type": "markdown",
   "id": "62d41e7d-a8e9-4a9a-8c67-a62e5eb8e6eb",
   "metadata": {},
   "source": [
    "# numpy.matrix()\n",
    "\n",
    "by default matrix create minimum of 2 dimensional array\n",
    "\n",
    "### matrix is sub-class of array\n",
    "### matrix is already a type of array "
   ]
  },
  {
   "cell_type": "code",
   "execution_count": 60,
   "id": "c585e7cb-a2a3-4d15-bf29-f04844e4c07f",
   "metadata": {},
   "outputs": [
    {
     "data": {
      "text/plain": [
       "matrix([[1, 2, 3, 4, 5]])"
      ]
     },
     "execution_count": 60,
     "metadata": {},
     "output_type": "execute_result"
    }
   ],
   "source": [
    "np.matrix(l)"
   ]
  },
  {
   "cell_type": "code",
   "execution_count": 61,
   "id": "a18fa0f6-6863-4d82-a862-66365bce8416",
   "metadata": {},
   "outputs": [],
   "source": [
    "mat = np.matrix(l)"
   ]
  },
  {
   "cell_type": "markdown",
   "id": "1ef663ea-0a00-4b27-b2bf-8f49f69f42ae",
   "metadata": {},
   "source": [
    "### numpy.asanyarray()\n",
    "will create an array which is not in form of array\n",
    "it won't work/excute on any array \n",
    "\n",
    "if we try to use **numpy.asanyarray()** for any matrix it won't do any thing because\n",
    "- matrix is sub-call of array\n",
    "- it's already a type of array"
   ]
  },
  {
   "cell_type": "code",
   "execution_count": 62,
   "id": "3bebb8b2-d82e-4ed0-8032-9558c47f55c0",
   "metadata": {},
   "outputs": [
    {
     "data": {
      "text/plain": [
       "array([1, 2, 3, 4, 5])"
      ]
     },
     "execution_count": 62,
     "metadata": {},
     "output_type": "execute_result"
    }
   ],
   "source": [
    "np.asanyarray(l) #create array because list was passed"
   ]
  },
  {
   "cell_type": "code",
   "execution_count": 63,
   "id": "bb62797f-c3a9-4235-a121-5d83e6557c49",
   "metadata": {},
   "outputs": [
    {
     "data": {
      "text/plain": [
       "matrix([[1, 2, 3, 4, 5]])"
      ]
     },
     "execution_count": 63,
     "metadata": {},
     "output_type": "execute_result"
    }
   ],
   "source": [
    "np.asanyarray(mat) #didn't do anything because matrix was passed"
   ]
  },
  {
   "cell_type": "markdown",
   "id": "03ab558e-2be1-410e-b394-941dcb89682c",
   "metadata": {},
   "source": [
    "### to create array with numpy\n",
    "- numpy.array()\n",
    "- numpy.asarray()\n",
    "- numpy.asanyarray()\n",
    "\n",
    "any of these function will create n dimensional array"
   ]
  },
  {
   "cell_type": "code",
   "execution_count": 64,
   "id": "5a42af6d-4b89-44fb-bde8-cfd924cd1730",
   "metadata": {},
   "outputs": [
    {
     "data": {
      "text/plain": [
       "array([1, 2, 3, 4, 5])"
      ]
     },
     "execution_count": 64,
     "metadata": {},
     "output_type": "execute_result"
    }
   ],
   "source": [
    "arr"
   ]
  },
  {
   "cell_type": "markdown",
   "id": "152d0df9-3100-4db9-9aa0-91669eb7f2f6",
   "metadata": {},
   "source": [
    "# Shallow Copy\n",
    "\n",
    "This happens because when you assign one variable to another in NumPy , you are creating a Shallow Copy. In other words, it is a reference to the same memory location. Therefore, by changing one variable the other one will change because they refer to the same memory location."
   ]
  },
  {
   "cell_type": "code",
   "execution_count": 65,
   "id": "dc9ff48a-5807-48b3-8bc8-a1e5e32acd84",
   "metadata": {},
   "outputs": [],
   "source": [
    "a = arr # assigning 'arr' array to 'a' variable"
   ]
  },
  {
   "cell_type": "code",
   "execution_count": 66,
   "id": "f8c24e2a-22e4-4fa0-94e1-a517d1d0b933",
   "metadata": {},
   "outputs": [
    {
     "data": {
      "text/plain": [
       "array([1, 2, 3, 4, 5])"
      ]
     },
     "execution_count": 66,
     "metadata": {},
     "output_type": "execute_result"
    }
   ],
   "source": [
    "a "
   ]
  },
  {
   "cell_type": "code",
   "execution_count": 67,
   "id": "e44552bf-b75a-4bf8-aae1-421d0b29b37f",
   "metadata": {},
   "outputs": [
    {
     "data": {
      "text/plain": [
       "array([1, 2, 3, 4, 5])"
      ]
     },
     "execution_count": 67,
     "metadata": {},
     "output_type": "execute_result"
    }
   ],
   "source": [
    "arr"
   ]
  },
  {
   "cell_type": "code",
   "execution_count": 68,
   "id": "45bc6c41-ee0f-4dd1-858f-c42105f24a4e",
   "metadata": {},
   "outputs": [],
   "source": [
    "#reassignment operation, on 'arr' array '0' position changing value '1' to 100\n",
    "arr[0] = 100"
   ]
  },
  {
   "cell_type": "code",
   "execution_count": 69,
   "id": "558293cb-d8e4-4ee6-814c-944b60044334",
   "metadata": {},
   "outputs": [
    {
     "data": {
      "text/plain": [
       "array([100,   2,   3,   4,   5])"
      ]
     },
     "execution_count": 69,
     "metadata": {},
     "output_type": "execute_result"
    }
   ],
   "source": [
    "arr"
   ]
  },
  {
   "cell_type": "markdown",
   "id": "db024973-db10-49e1-89c8-e1474c22a45b",
   "metadata": {},
   "source": [
    "### variable a[0] value has changed because we assigned arr array values refference to variable 'a'"
   ]
  },
  {
   "cell_type": "code",
   "execution_count": 70,
   "id": "2e337c05-02d9-4ad1-ae2e-903b8a59fea2",
   "metadata": {},
   "outputs": [
    {
     "data": {
      "text/plain": [
       "array([100,   2,   3,   4,   5])"
      ]
     },
     "execution_count": 70,
     "metadata": {},
     "output_type": "execute_result"
    }
   ],
   "source": [
    "a"
   ]
  },
  {
   "cell_type": "code",
   "execution_count": 71,
   "id": "0abd6743-3160-4879-bb49-d3b307c4dab6",
   "metadata": {},
   "outputs": [],
   "source": [
    "a[0] = 101"
   ]
  },
  {
   "cell_type": "code",
   "execution_count": 72,
   "id": "4ea7f95d-71ef-4d18-9421-63ab98295004",
   "metadata": {},
   "outputs": [
    {
     "data": {
      "text/plain": [
       "array([101,   2,   3,   4,   5])"
      ]
     },
     "execution_count": 72,
     "metadata": {},
     "output_type": "execute_result"
    }
   ],
   "source": [
    "a"
   ]
  },
  {
   "cell_type": "code",
   "execution_count": 73,
   "id": "3f2cd13f-0af8-4ac5-bb65-82aec53f5c7d",
   "metadata": {},
   "outputs": [
    {
     "data": {
      "text/plain": [
       "array([101,   2,   3,   4,   5])"
      ]
     },
     "execution_count": 73,
     "metadata": {},
     "output_type": "execute_result"
    }
   ],
   "source": [
    "arr"
   ]
  },
  {
   "cell_type": "markdown",
   "id": "e367265d-a0c8-4a2a-8982-60c7115e6265",
   "metadata": {},
   "source": [
    "### again when we changed variable a[0] value to '101' it's got updated also for variable 'arr'\n",
    "## because we assigned only memory reference of array to both of the variable \n",
    "- so whenerver one gets updated another will also reflect same updated values\n",
    "- because both variable is pointing to same memory location or same address where array is stored"
   ]
  },
  {
   "cell_type": "markdown",
   "id": "55dbdd7e-df02-4816-a1f3-894e4e5a3348",
   "metadata": {},
   "source": [
    "# Deep copy\n",
    "\n",
    "- numpy.copy() won't store memory reference of data/value, \n",
    "This copy is completely a new array and copy owns the data. When we make changes to the copy it does not affect the original array, and when changes are made to the original array it does not affect the copy."
   ]
  },
  {
   "cell_type": "code",
   "execution_count": 74,
   "id": "f4643c14-f3b7-4fe6-b935-8be5ba70f5c1",
   "metadata": {},
   "outputs": [],
   "source": [
    "b = np.copy(arr)"
   ]
  },
  {
   "cell_type": "code",
   "execution_count": 75,
   "id": "ebee237d-3f2e-40d5-8149-61cda2198a27",
   "metadata": {},
   "outputs": [
    {
     "data": {
      "text/plain": [
       "array([101,   2,   3,   4,   5])"
      ]
     },
     "execution_count": 75,
     "metadata": {},
     "output_type": "execute_result"
    }
   ],
   "source": [
    "b"
   ]
  },
  {
   "cell_type": "code",
   "execution_count": 76,
   "id": "fda80f6d-975a-4cea-88b4-d0039a33cda9",
   "metadata": {},
   "outputs": [],
   "source": [
    "b[0] = 234"
   ]
  },
  {
   "cell_type": "code",
   "execution_count": 77,
   "id": "efabf84d-fbf1-4a64-824d-c4413cecdddc",
   "metadata": {},
   "outputs": [
    {
     "data": {
      "text/plain": [
       "array([234,   2,   3,   4,   5])"
      ]
     },
     "execution_count": 77,
     "metadata": {},
     "output_type": "execute_result"
    }
   ],
   "source": [
    "b"
   ]
  },
  {
   "cell_type": "code",
   "execution_count": 79,
   "id": "8c75ad71-67ce-4fef-bc45-12600d36a933",
   "metadata": {},
   "outputs": [
    {
     "data": {
      "text/plain": [
       "array([101,   2,   3,   4,   5])"
      ]
     },
     "execution_count": 79,
     "metadata": {},
     "output_type": "execute_result"
    }
   ],
   "source": [
    "arr #it didn't change"
   ]
  },
  {
   "cell_type": "markdown",
   "id": "9c15629c-14b9-42be-8a6f-5c22ef2880f2",
   "metadata": {},
   "source": [
    "### create different - different kind of array\n",
    "### there are multiple functions to create diffn-diffn kind of array"
   ]
  },
  {
   "cell_type": "code",
   "execution_count": null,
   "id": "54731543-0acb-4e97-973e-c65578301991",
   "metadata": {},
   "outputs": [],
   "source": [
    "np.fromfunction() \n",
    "#it takes function as an argument and based on that function or nature of function it's generate a array/matrix/dataset"
   ]
  },
  {
   "cell_type": "code",
   "execution_count": 83,
   "id": "55020a98-a593-497a-b6d6-6a6ae68c88c4",
   "metadata": {},
   "outputs": [
    {
     "data": {
      "text/plain": [
       "array([[ True, False, False],\n",
       "       [False,  True, False],\n",
       "       [False, False,  True]])"
      ]
     },
     "execution_count": 83,
     "metadata": {},
     "output_type": "execute_result"
    }
   ],
   "source": [
    "np.fromfunction( lambda i,j : i==j, (3,3)) #a data we are generating from given function\n",
    "# here (3,3) is shape of array 3x3 : 3rows and 3 columns"
   ]
  },
  {
   "attachments": {
    "7e69610b-7bf0-47a7-92e9-e7447da3ec80.png": {
     "image/png": "[encoded data removed]"
    }
   },
   "cell_type": "markdown",
   "id": "267c1f4a-decb-4d2c-aec6-a6eea685f6ce",
   "metadata": {},
   "source": [
    "![image.png](attachment:7e69610b-7bf0-47a7-92e9-e7447da3ec80.png)"
   ]
  },
  {
   "cell_type": "markdown",
   "id": "196b67d9-c36c-425d-a60c-52611383cd37",
   "metadata": {},
   "source": [
    "#### using fromfunction(), by writting own condition in it we can generated new kind of arrays"
   ]
  },
  {
   "cell_type": "markdown",
   "id": "e38c1d8e-0358-4276-bb61-2cdf9c51336c",
   "metadata": {},
   "source": [
    "- ### creating array from function"
   ]
  },
  {
   "cell_type": "code",
   "execution_count": 85,
   "id": "df0fdad3-92e7-497c-bf6c-afa1c0cdcea6",
   "metadata": {},
   "outputs": [
    {
     "data": {
      "text/plain": [
       "array([[0., 0., 0.],\n",
       "       [0., 1., 2.],\n",
       "       [0., 2., 4.]])"
      ]
     },
     "execution_count": 85,
     "metadata": {},
     "output_type": "execute_result"
    }
   ],
   "source": [
    "np.fromfunction(lambda i,j : i*j, (3,3))\n",
    "#it'll multiply row index with column index"
   ]
  },
  {
   "cell_type": "markdown",
   "id": "df87e735-9fc0-4659-877e-b52f5cca9412",
   "metadata": {},
   "source": [
    "#"
   ]
  },
  {
   "cell_type": "markdown",
   "id": "28c8905e-55f1-46fe-8720-c1e0442fbdbc",
   "metadata": {},
   "source": [
    "#"
   ]
  },
  {
   "cell_type": "code",
   "execution_count": 89,
   "id": "5728a472-4e48-4520-a609-108a73cab36d",
   "metadata": {},
   "outputs": [
    {
     "data": {
      "text/plain": [
       "<generator object <genexpr> at 0x7f400f6bcf90>"
      ]
     },
     "execution_count": 89,
     "metadata": {},
     "output_type": "execute_result"
    }
   ],
   "source": [
    "# using list comprehension operation\n",
    "(i*i for i in range(5))"
   ]
  },
  {
   "cell_type": "code",
   "execution_count": 91,
   "id": "97e35d0d-7f20-4f10-88de-513413385444",
   "metadata": {},
   "outputs": [
    {
     "data": {
      "text/plain": [
       "[0, 1, 4, 9, 16]"
      ]
     },
     "execution_count": 91,
     "metadata": {},
     "output_type": "execute_result"
    }
   ],
   "source": [
    "list(i*i for i in range(5))"
   ]
  },
  {
   "cell_type": "markdown",
   "id": "925b5acc-8bb0-4890-9bec-87d7759fe3f1",
   "metadata": {},
   "source": [
    "#### now if we want to execute same kind of operation with numpy"
   ]
  },
  {
   "cell_type": "code",
   "execution_count": 93,
   "id": "f8634caa-c917-4cfb-8c2f-042caf884816",
   "metadata": {},
   "outputs": [],
   "source": [
    "iterable = (i*i for i in range(5)) #enclosed inside tuple"
   ]
  },
  {
   "cell_type": "code",
   "execution_count": 94,
   "id": "267c8af1-7ea3-4f2c-b94c-9d9353337ec4",
   "metadata": {},
   "outputs": [
    {
     "ename": "TypeError",
     "evalue": "fromiter() missing required argument 'dtype' (pos 2)",
     "output_type": "error",
     "traceback": [
      "\u001b[0;31m---------------------------------------------------------------------------\u001b[0m",
      "\u001b[0;31mTypeError\u001b[0m                                 Traceback (most recent call last)",
      "Cell \u001b[0;32mIn[94], line 1\u001b[0m\n\u001b[0;32m----> 1\u001b[0m \u001b[43mnp\u001b[49m\u001b[38;5;241;43m.\u001b[39;49m\u001b[43mfromiter\u001b[49m\u001b[43m(\u001b[49m\u001b[43miterable\u001b[49m\u001b[43m)\u001b[49m\n",
      "\u001b[0;31mTypeError\u001b[0m: fromiter() missing required argument 'dtype' (pos 2)"
     ]
    }
   ],
   "source": [
    "np.fromiter(iterable)"
   ]
  },
  {
   "cell_type": "markdown",
   "id": "af677b04-3ebe-450f-9ca5-7dc7e7119e0e",
   "metadata": {},
   "source": [
    "- ### creating array from iterable"
   ]
  },
  {
   "cell_type": "code",
   "execution_count": 95,
   "id": "0ef3acf1-2862-4e57-bb2d-70037b992706",
   "metadata": {},
   "outputs": [
    {
     "data": {
      "text/plain": [
       "array([ 0.,  1.,  4.,  9., 16.])"
      ]
     },
     "execution_count": 95,
     "metadata": {},
     "output_type": "execute_result"
    }
   ],
   "source": [
    "np.fromiter(iterable, float) #have to pass datatype also"
   ]
  },
  {
   "cell_type": "markdown",
   "id": "1422d2f2-b73e-4d21-bf10-3595d22af6f3",
   "metadata": {},
   "source": [
    "- ### creating array from string"
   ]
  },
  {
   "cell_type": "code",
   "execution_count": 97,
   "id": "b1c7a60b-5290-41e5-8748-88449a8065f7",
   "metadata": {},
   "outputs": [
    {
     "data": {
      "text/plain": [
       "array([23., 45., 56.])"
      ]
     },
     "execution_count": 97,
     "metadata": {},
     "output_type": "execute_result"
    }
   ],
   "source": [
    "np.fromstring('23 45 56',sep = ' ') #here seperator is space ' ' "
   ]
  },
  {
   "cell_type": "code",
   "execution_count": 99,
   "id": "3f2dbcfb-e547-4b72-ab45-b82a0999f3ab",
   "metadata": {},
   "outputs": [
    {
     "data": {
      "text/plain": [
       "array([23., 45., 56.])"
      ]
     },
     "execution_count": 99,
     "metadata": {},
     "output_type": "execute_result"
    }
   ],
   "source": [
    "np.fromstring('23,45,56', sep = ',') # seperator is comma ','"
   ]
  },
  {
   "cell_type": "markdown",
   "id": "707961d1-ddf1-4c61-8ee3-958859456730",
   "metadata": {},
   "source": [
    "#"
   ]
  },
  {
   "cell_type": "markdown",
   "id": "ff0f755c-eef7-4878-aa0c-ab9940fe8fad",
   "metadata": {},
   "source": [
    "#"
   ]
  },
  {
   "cell_type": "code",
   "execution_count": 100,
   "id": "6c793cff-97dc-4f6c-a5d4-93906448b1c4",
   "metadata": {},
   "outputs": [
    {
     "data": {
      "text/plain": [
       "array([101,   2,   3,   4,   5])"
      ]
     },
     "execution_count": 100,
     "metadata": {},
     "output_type": "execute_result"
    }
   ],
   "source": [
    "arr"
   ]
  },
  {
   "cell_type": "code",
   "execution_count": 101,
   "id": "e2db34bf-ebfb-438f-8c5d-25228abb24c3",
   "metadata": {},
   "outputs": [
    {
     "data": {
      "text/plain": [
       "array([[1, 2, 3],\n",
       "       [2, 3, 4]])"
      ]
     },
     "execution_count": 101,
     "metadata": {},
     "output_type": "execute_result"
    }
   ],
   "source": [
    "arr1"
   ]
  },
  {
   "cell_type": "markdown",
   "id": "ddd74be0-3d1b-497f-9e5f-d590bdb0c4da",
   "metadata": {},
   "source": [
    "### checking dimension of an array"
   ]
  },
  {
   "cell_type": "code",
   "execution_count": 104,
   "id": "8f635f56-13ca-442b-8b5e-c7f2522b2394",
   "metadata": {},
   "outputs": [
    {
     "data": {
      "text/plain": [
       "1"
      ]
     },
     "execution_count": 104,
     "metadata": {},
     "output_type": "execute_result"
    }
   ],
   "source": [
    "arr.ndim"
   ]
  },
  {
   "cell_type": "code",
   "execution_count": 105,
   "id": "fa65f6c5-67aa-4a85-a16f-8808ea09748e",
   "metadata": {},
   "outputs": [
    {
     "data": {
      "text/plain": [
       "2"
      ]
     },
     "execution_count": 105,
     "metadata": {},
     "output_type": "execute_result"
    }
   ],
   "source": [
    "arr1.ndim"
   ]
  },
  {
   "cell_type": "markdown",
   "id": "007be862-1171-4dd7-a94f-bea92f0fedcc",
   "metadata": {},
   "source": [
    "### checking size of array, size is total no. of element in array"
   ]
  },
  {
   "cell_type": "code",
   "execution_count": 106,
   "id": "dba32c82-ff39-4f04-b583-00f0d8a94cd6",
   "metadata": {},
   "outputs": [
    {
     "data": {
      "text/plain": [
       "5"
      ]
     },
     "execution_count": 106,
     "metadata": {},
     "output_type": "execute_result"
    }
   ],
   "source": [
    "arr.size"
   ]
  },
  {
   "cell_type": "code",
   "execution_count": 107,
   "id": "4ba3970b-fa93-44dc-b710-5e371ee01214",
   "metadata": {},
   "outputs": [
    {
     "data": {
      "text/plain": [
       "6"
      ]
     },
     "execution_count": 107,
     "metadata": {},
     "output_type": "execute_result"
    }
   ],
   "source": [
    "arr1.size"
   ]
  },
  {
   "cell_type": "markdown",
   "id": "315a6e1f-0fcc-4ad6-849d-fff401550178",
   "metadata": {},
   "source": [
    "### checking shape of array, no. of rows and columns\n",
    "#### for single dimension it'll show no. of 'elements,' only"
   ]
  },
  {
   "cell_type": "code",
   "execution_count": 108,
   "id": "3e80d23b-5eea-4f47-aa09-60e5c201f450",
   "metadata": {},
   "outputs": [
    {
     "data": {
      "text/plain": [
       "(5,)"
      ]
     },
     "execution_count": 108,
     "metadata": {},
     "output_type": "execute_result"
    }
   ],
   "source": [
    "arr.shape"
   ]
  },
  {
   "cell_type": "code",
   "execution_count": 109,
   "id": "52bdd6f1-3ae0-490a-8586-19979439075d",
   "metadata": {},
   "outputs": [
    {
     "data": {
      "text/plain": [
       "(2, 3)"
      ]
     },
     "execution_count": 109,
     "metadata": {},
     "output_type": "execute_result"
    }
   ],
   "source": [
    "arr1.shape"
   ]
  },
  {
   "cell_type": "code",
   "execution_count": 110,
   "id": "6b2c7db8-4f51-4bb9-91a0-6090fe36858a",
   "metadata": {},
   "outputs": [
    {
     "data": {
      "text/plain": [
       "array([[1, 2, 3],\n",
       "       [2, 3, 4]])"
      ]
     },
     "execution_count": 110,
     "metadata": {},
     "output_type": "execute_result"
    }
   ],
   "source": [
    "arr1"
   ]
  },
  {
   "cell_type": "markdown",
   "id": "36b6424d-ebc0-4f76-a6d1-1e369ff4a13a",
   "metadata": {},
   "source": [
    "#### checking datatype of array"
   ]
  },
  {
   "cell_type": "code",
   "execution_count": 111,
   "id": "241cd464-1a86-4073-b161-a055395d3771",
   "metadata": {},
   "outputs": [
    {
     "data": {
      "text/plain": [
       "dtype('int64')"
      ]
     },
     "execution_count": 111,
     "metadata": {},
     "output_type": "execute_result"
    }
   ],
   "source": [
    "arr.dtype"
   ]
  },
  {
   "cell_type": "code",
   "execution_count": 112,
   "id": "818b03ab-d81e-4569-ae1f-fa604656944b",
   "metadata": {},
   "outputs": [
    {
     "data": {
      "text/plain": [
       "dtype('int64')"
      ]
     },
     "execution_count": 112,
     "metadata": {},
     "output_type": "execute_result"
    }
   ],
   "source": [
    "arr1.dtype"
   ]
  },
  {
   "cell_type": "code",
   "execution_count": null,
   "id": "06744065-35ab-4ee4-a90f-1ae2f9e945cd",
   "metadata": {},
   "outputs": [],
   "source": []
  },
  {
   "cell_type": "markdown",
   "id": "6db2f6a4-22bb-4a5b-9679-2c42e5eb80cd",
   "metadata": {},
   "source": [
    "# -"
   ]
  },
  {
   "cell_type": "markdown",
   "id": "d9401d94-da82-48c3-955e-7d943fc3b4e1",
   "metadata": {},
   "source": [
    "# -"
   ]
  },
  {
   "cell_type": "markdown",
   "id": "1ce54c7b-0d5a-41f3-8598-012f777d447b",
   "metadata": {},
   "source": [
    "# -"
   ]
  },
  {
   "cell_type": "markdown",
   "id": "38370cbe-05ec-468e-b3b0-ab96a63e33d1",
   "metadata": {},
   "source": [
    "# -"
   ]
  },
  {
   "cell_type": "markdown",
   "id": "11259768-01a9-45f1-ac78-875e90942e38",
   "metadata": {},
   "source": [
    "# -"
   ]
  },
  {
   "cell_type": "markdown",
   "id": "9cb7906d-df9a-4964-a333-99e49932a324",
   "metadata": {},
   "source": [
    "# Part-2"
   ]
  },
  {
   "cell_type": "code",
   "execution_count": 113,
   "id": "f7236ae5-524a-479f-8e32-30719c2d2963",
   "metadata": {},
   "outputs": [],
   "source": [
    "import numpy as np"
   ]
  },
  {
   "cell_type": "code",
   "execution_count": 114,
   "id": "ff808dd5-68c6-4234-84e9-26433250868e",
   "metadata": {},
   "outputs": [
    {
     "data": {
      "text/plain": [
       "range(0, 5)"
      ]
     },
     "execution_count": 114,
     "metadata": {},
     "output_type": "execute_result"
    }
   ],
   "source": [
    "range(5)"
   ]
  },
  {
   "cell_type": "code",
   "execution_count": 115,
   "id": "fe634f8f-fd71-4385-9f76-b5d6d4038c58",
   "metadata": {},
   "outputs": [
    {
     "data": {
      "text/plain": [
       "[0, 1, 2, 3, 4]"
      ]
     },
     "execution_count": 115,
     "metadata": {},
     "output_type": "execute_result"
    }
   ],
   "source": [
    "# passing inside list() create list-data of number from 0 to 1\n",
    "list(range(5))"
   ]
  },
  {
   "cell_type": "code",
   "execution_count": 116,
   "id": "8e859bd8-2402-440a-a219-29cef45fc8b0",
   "metadata": {},
   "outputs": [
    {
     "data": {
      "text/plain": [
       "[0, 1, 2, 3, 4, 5, 6, 7, 8, 9]"
      ]
     },
     "execution_count": 116,
     "metadata": {},
     "output_type": "execute_result"
    }
   ],
   "source": [
    "list(range(0,10))"
   ]
  },
  {
   "cell_type": "markdown",
   "id": "f8e331e1-bfce-4971-a5a7-acbd4edc899d",
   "metadata": {},
   "source": [
    "# numpy.arange()"
   ]
  },
  {
   "cell_type": "markdown",
   "id": "0f1099c4-71ab-46d9-a4b8-0f70db6ee1dc",
   "metadata": {},
   "source": [
    "### for fractional value range() will not create list of fraction values\n",
    "### range() only take/consider integer value"
   ]
  },
  {
   "cell_type": "code",
   "execution_count": 117,
   "id": "49bdc68b-dded-4e91-bef7-82fd484eb037",
   "metadata": {},
   "outputs": [
    {
     "ename": "TypeError",
     "evalue": "'float' object cannot be interpreted as an integer",
     "output_type": "error",
     "traceback": [
      "\u001b[0;31m---------------------------------------------------------------------------\u001b[0m",
      "\u001b[0;31mTypeError\u001b[0m                                 Traceback (most recent call last)",
      "Cell \u001b[0;32mIn[117], line 2\u001b[0m\n\u001b[1;32m      1\u001b[0m \u001b[38;5;66;03m# for fraction\u001b[39;00m\n\u001b[0;32m----> 2\u001b[0m \u001b[38;5;28mlist\u001b[39m(\u001b[38;5;28;43mrange\u001b[39;49m\u001b[43m(\u001b[49m\u001b[38;5;241;43m0.4\u001b[39;49m\u001b[43m,\u001b[49m\u001b[38;5;241;43m10.4\u001b[39;49m\u001b[43m)\u001b[49m)\n",
      "\u001b[0;31mTypeError\u001b[0m: 'float' object cannot be interpreted as an integer"
     ]
    }
   ],
   "source": [
    "# for fraction\n",
    "list(range(0.4,10.4))"
   ]
  },
  {
   "cell_type": "markdown",
   "id": "1fec67e4-4ece-4e58-99e6-131839dd675e",
   "metadata": {},
   "source": [
    "### numpy has arange() function to create range of numbers array, even fraction number"
   ]
  },
  {
   "cell_type": "code",
   "execution_count": 118,
   "id": "7958b047-fd12-47c8-aba5-ff523bb106a4",
   "metadata": {},
   "outputs": [
    {
     "data": {
      "text/plain": [
       "array([0.4, 1.4, 2.4, 3.4, 4.4, 5.4, 6.4, 7.4, 8.4, 9.4])"
      ]
     },
     "execution_count": 118,
     "metadata": {},
     "output_type": "execute_result"
    }
   ],
   "source": [
    "np.arange(.4,10.4)"
   ]
  },
  {
   "cell_type": "code",
   "execution_count": 120,
   "id": "4a095529-9a05-490d-a2e9-f4ee9bc6e739",
   "metadata": {},
   "outputs": [
    {
     "data": {
      "text/plain": [
       "array([0.4, 2.4, 4.4, 6.4, 8.4])"
      ]
     },
     "execution_count": 120,
     "metadata": {},
     "output_type": "execute_result"
    }
   ],
   "source": [
    "np.arange(0.4, 10.4, 2) #2 is for steps\n",
    "# it'll will skip 2 steps and print"
   ]
  },
  {
   "cell_type": "code",
   "execution_count": 122,
   "id": "5dac5d57-9124-4e4b-bb8d-7daef21badb7",
   "metadata": {},
   "outputs": [
    {
     "data": {
      "text/plain": [
       "array([ 0.4,  0.6,  0.8,  1. ,  1.2,  1.4,  1.6,  1.8,  2. ,  2.2,  2.4,\n",
       "        2.6,  2.8,  3. ,  3.2,  3.4,  3.6,  3.8,  4. ,  4.2,  4.4,  4.6,\n",
       "        4.8,  5. ,  5.2,  5.4,  5.6,  5.8,  6. ,  6.2,  6.4,  6.6,  6.8,\n",
       "        7. ,  7.2,  7.4,  7.6,  7.8,  8. ,  8.2,  8.4,  8.6,  8.8,  9. ,\n",
       "        9.2,  9.4,  9.6,  9.8, 10. , 10.2])"
      ]
     },
     "execution_count": 122,
     "metadata": {},
     "output_type": "execute_result"
    }
   ],
   "source": [
    "np.arange(.4 , 10.4, 0.2)\n",
    "# printing after 0.2 steps"
   ]
  },
  {
   "cell_type": "markdown",
   "id": "70031383-a063-4095-b960-3a189c4eadf1",
   "metadata": {},
   "source": [
    "## converting array to a list"
   ]
  },
  {
   "cell_type": "code",
   "execution_count": 123,
   "id": "591272af-10db-4f5a-a6cc-0510645cefb6",
   "metadata": {},
   "outputs": [
    {
     "data": {
      "text/plain": [
       "[0.4,\n",
       " 0.6000000000000001,\n",
       " 0.8000000000000002,\n",
       " 1.0000000000000002,\n",
       " 1.2000000000000002,\n",
       " 1.4000000000000004,\n",
       " 1.6000000000000005,\n",
       " 1.8000000000000003,\n",
       " 2.0000000000000004,\n",
       " 2.2000000000000006,\n",
       " 2.400000000000001,\n",
       " 2.6000000000000005,\n",
       " 2.8000000000000007,\n",
       " 3.000000000000001,\n",
       " 3.2000000000000006,\n",
       " 3.400000000000001,\n",
       " 3.600000000000001,\n",
       " 3.800000000000001,\n",
       " 4.000000000000002,\n",
       " 4.200000000000001,\n",
       " 4.400000000000002,\n",
       " 4.600000000000001,\n",
       " 4.800000000000002,\n",
       " 5.000000000000002,\n",
       " 5.200000000000002,\n",
       " 5.400000000000002,\n",
       " 5.600000000000002,\n",
       " 5.8000000000000025,\n",
       " 6.000000000000002,\n",
       " 6.200000000000002,\n",
       " 6.400000000000002,\n",
       " 6.600000000000002,\n",
       " 6.8000000000000025,\n",
       " 7.000000000000003,\n",
       " 7.200000000000003,\n",
       " 7.400000000000003,\n",
       " 7.600000000000003,\n",
       " 7.8000000000000025,\n",
       " 8.000000000000002,\n",
       " 8.200000000000003,\n",
       " 8.400000000000004,\n",
       " 8.600000000000003,\n",
       " 8.800000000000002,\n",
       " 9.000000000000004,\n",
       " 9.200000000000003,\n",
       " 9.400000000000004,\n",
       " 9.600000000000003,\n",
       " 9.800000000000004,\n",
       " 10.000000000000004,\n",
       " 10.200000000000003]"
      ]
     },
     "execution_count": 123,
     "metadata": {},
     "output_type": "execute_result"
    }
   ],
   "source": [
    "list(np.arange( .4, 10.4, 0.2))"
   ]
  },
  {
   "cell_type": "markdown",
   "id": "98546aac-635c-40a0-a466-ce029d8bc2f9",
   "metadata": {},
   "source": [
    "# numpy.linspace()\n",
    "- Return evenly spaced numbers over a specified interval.\n",
    "- The numpy.linspace() function is used to create an array of evenly spaced numbers within a specified range. The range is defined by the start and end points of the sequence, and the number of evenly spaced points to be generated between them."
   ]
  },
  {
   "cell_type": "code",
   "execution_count": 126,
   "id": "5cddb839-8391-4fbb-bf6b-bafb41866041",
   "metadata": {},
   "outputs": [
    {
     "data": {
      "text/plain": [
       "array([1.        , 1.21052632, 1.42105263, 1.63157895, 1.84210526,\n",
       "       2.05263158, 2.26315789, 2.47368421, 2.68421053, 2.89473684,\n",
       "       3.10526316, 3.31578947, 3.52631579, 3.73684211, 3.94736842,\n",
       "       4.15789474, 4.36842105, 4.57894737, 4.78947368, 5.        ])"
      ]
     },
     "execution_count": 126,
     "metadata": {},
     "output_type": "execute_result"
    }
   ],
   "source": [
    "#in a scale of 1 to 5,  create 20 such data\n",
    "# it'll divide 1 to 5 in 20 division equally to generate 20 number of data\n",
    "np.linspace(1,5, 20)\n",
    "#it'll create array between 1 to 5, with equal step tobe of 20 numbers\n"
   ]
  },
  {
   "cell_type": "markdown",
   "id": "563168e9-e68d-4ac0-9e6b-c99a3e9affad",
   "metadata": {},
   "source": [
    "# numpy.logspace()\n",
    "The numpy.logspace() function returns an array with numbers that are evenly spaced on a logarithmic scale. It is similar to linspace() but instead of linearly spaced values, logspace() returns values spaced logarithmically."
   ]
  },
  {
   "cell_type": "code",
   "execution_count": 127,
   "id": "5ad023ea-ce4e-4881-bd56-00afd96e8da9",
   "metadata": {},
   "outputs": [
    {
     "data": {
      "text/plain": [
       "array([1.00000000e+01, 2.78255940e+01, 7.74263683e+01, 2.15443469e+02,\n",
       "       5.99484250e+02, 1.66810054e+03, 4.64158883e+03, 1.29154967e+04,\n",
       "       3.59381366e+04, 1.00000000e+05])"
      ]
     },
     "execution_count": 127,
     "metadata": {},
     "output_type": "execute_result"
    }
   ],
   "source": [
    "np.logspace(1,5, 10)"
   ]
  },
  {
   "attachments": {
    "13021709-7806-428c-9de9-a00d4f4a43b3.png": {
     "image/png": "[encoded data removed]"
    }
   },
   "cell_type": "markdown",
   "id": "3f492e05-ba3e-454e-a225-75438fdd252f",
   "metadata": {},
   "source": [
    "![image.png](attachment:13021709-7806-428c-9de9-a00d4f4a43b3.png)"
   ]
  },
  {
   "cell_type": "markdown",
   "id": "7686a2f7-646c-4d59-abc4-5494dd8a25e6",
   "metadata": {},
   "source": [
    "### can define base also, bydefault it's 10"
   ]
  },
  {
   "cell_type": "code",
   "execution_count": 129,
   "id": "474550bc-72a0-4d16-94d7-38039762e320",
   "metadata": {},
   "outputs": [
    {
     "data": {
      "text/plain": [
       "array([1.00000000e+01, 2.78255940e+01, 7.74263683e+01, 2.15443469e+02,\n",
       "       5.99484250e+02, 1.66810054e+03, 4.64158883e+03, 1.29154967e+04,\n",
       "       3.59381366e+04, 1.00000000e+05])"
      ]
     },
     "execution_count": 129,
     "metadata": {},
     "output_type": "execute_result"
    }
   ],
   "source": [
    "np.logspace(1,5, 10, base=10)"
   ]
  },
  {
   "cell_type": "code",
   "execution_count": 130,
   "id": "73b671f6-a270-4d41-9692-13e41ad76d97",
   "metadata": {},
   "outputs": [
    {
     "data": {
      "text/plain": [
       "array([ 2.        ,  2.72158   ,  3.70349885,  5.0396842 ,  6.85795186,\n",
       "        9.33223232, 12.69920842, 17.28095582, 23.51575188, 32.        ])"
      ]
     },
     "execution_count": 130,
     "metadata": {},
     "output_type": "execute_result"
    }
   ],
   "source": [
    "np.logspace(1,5, 10, base=2) # now base of log is 2"
   ]
  },
  {
   "cell_type": "markdown",
   "id": "8922726d-9764-496b-8a7b-30325e736e3b",
   "metadata": {},
   "source": [
    "# numpy.zeros()\n",
    "generate array or matrix with zeros with n-rows and n-columns"
   ]
  },
  {
   "cell_type": "code",
   "execution_count": 138,
   "id": "93e22991-7f5e-4d67-b503-16dc1197aa3c",
   "metadata": {},
   "outputs": [
    {
     "data": {
      "text/plain": [
       "array([0., 0., 0., 0., 0.])"
      ]
     },
     "execution_count": 138,
     "metadata": {},
     "output_type": "execute_result"
    }
   ],
   "source": [
    "# it'll createllll 5 data with all zero\n",
    "np.zeros(5)"
   ]
  },
  {
   "cell_type": "code",
   "execution_count": 139,
   "id": "c3fa1000-8c6d-42cd-a1cd-6db61eb934f8",
   "metadata": {},
   "outputs": [
    {
     "data": {
      "text/plain": [
       "array([[0., 0., 0., 0.],\n",
       "       [0., 0., 0., 0.],\n",
       "       [0., 0., 0., 0.]])"
      ]
     },
     "execution_count": 139,
     "metadata": {},
     "output_type": "execute_result"
    }
   ],
   "source": [
    "\n",
    "np.zeros((3,4)) #it's no. of rows and columns\n",
    "#basically shape of zeros data"
   ]
  },
  {
   "cell_type": "code",
   "execution_count": 140,
   "id": "ec5816c0-fd02-48f8-a145-65cc7f331378",
   "metadata": {},
   "outputs": [
    {
     "data": {
      "text/plain": [
       "array([[[0., 0.],\n",
       "        [0., 0.],\n",
       "        [0., 0.],\n",
       "        [0., 0.]],\n",
       "\n",
       "       [[0., 0.],\n",
       "        [0., 0.],\n",
       "        [0., 0.],\n",
       "        [0., 0.]],\n",
       "\n",
       "       [[0., 0.],\n",
       "        [0., 0.],\n",
       "        [0., 0.],\n",
       "        [0., 0.]]])"
      ]
     },
     "execution_count": 140,
     "metadata": {},
     "output_type": "execute_result"
    }
   ],
   "source": [
    "np.zeros((3,4,2))\n",
    "#it'll create 3Dimensional data of 3 same copy of 4rows and 2columns "
   ]
  },
  {
   "cell_type": "markdown",
   "id": "f40d330d-3aa3-46c2-be5c-1a02fc6b20f5",
   "metadata": {},
   "source": [
    "#### np.zeros((3,4,2)), create/generate 3 matrix with 4rows and 2columns data"
   ]
  },
  {
   "attachments": {
    "382831d7-fb5c-4929-9221-6b0522e55569.png": {
     "image/png": "[encoded data removed]"
    }
   },
   "cell_type": "markdown",
   "id": "7d35656d-52b1-4c2c-a687-fa5876afe532",
   "metadata": {},
   "source": [
    "#### 3 dimensional data has z axis, (kind a behind 2D plane)\n",
    "\n",
    "![image.png](attachment:382831d7-fb5c-4929-9221-6b0522e55569.png)"
   ]
  },
  {
   "cell_type": "markdown",
   "id": "90c7397d-a2b2-4ee8-a94f-707500855ac2",
   "metadata": {},
   "source": [
    "## numpy.zeros can generate any number of dimensional array but only till 3 dimension we can visualize it"
   ]
  },
  {
   "cell_type": "code",
   "execution_count": 141,
   "id": "a49f0c0c-4405-412b-ae3b-5ef30a233f0b",
   "metadata": {},
   "outputs": [
    {
     "data": {
      "text/plain": [
       "array([[[[0., 0., 0.],\n",
       "         [0., 0., 0.]],\n",
       "\n",
       "        [[0., 0., 0.],\n",
       "         [0., 0., 0.]],\n",
       "\n",
       "        [[0., 0., 0.],\n",
       "         [0., 0., 0.]],\n",
       "\n",
       "        [[0., 0., 0.],\n",
       "         [0., 0., 0.]]],\n",
       "\n",
       "\n",
       "       [[[0., 0., 0.],\n",
       "         [0., 0., 0.]],\n",
       "\n",
       "        [[0., 0., 0.],\n",
       "         [0., 0., 0.]],\n",
       "\n",
       "        [[0., 0., 0.],\n",
       "         [0., 0., 0.]],\n",
       "\n",
       "        [[0., 0., 0.],\n",
       "         [0., 0., 0.]]],\n",
       "\n",
       "\n",
       "       [[[0., 0., 0.],\n",
       "         [0., 0., 0.]],\n",
       "\n",
       "        [[0., 0., 0.],\n",
       "         [0., 0., 0.]],\n",
       "\n",
       "        [[0., 0., 0.],\n",
       "         [0., 0., 0.]],\n",
       "\n",
       "        [[0., 0., 0.],\n",
       "         [0., 0., 0.]]]])"
      ]
     },
     "execution_count": 141,
     "metadata": {},
     "output_type": "execute_result"
    }
   ],
   "source": [
    "\n",
    "np.zeros((3,4,2,3))"
   ]
  },
  {
   "cell_type": "markdown",
   "id": "397aab83-d4f1-4c72-b032-5493c9e49a0c",
   "metadata": {},
   "source": [
    "# numpy.ones()\n",
    "it'll create ndimensional arrays or matrix with 1 values inside"
   ]
  },
  {
   "cell_type": "code",
   "execution_count": 145,
   "id": "6a8508d2-cfe0-43dc-bd68-e96cdbb9832d",
   "metadata": {},
   "outputs": [
    {
     "data": {
      "text/plain": [
       "array([1., 1., 1., 1., 1.])"
      ]
     },
     "execution_count": 145,
     "metadata": {},
     "output_type": "execute_result"
    }
   ],
   "source": [
    "np.ones(5) #generate array of five element with 1,1,1,1,1 in it"
   ]
  },
  {
   "cell_type": "code",
   "execution_count": 147,
   "id": "7b604eef-1398-4dcc-a19a-0d2b1def6ce1",
   "metadata": {},
   "outputs": [
    {
     "data": {
      "text/plain": [
       "array([[1., 1., 1., 1.],\n",
       "       [1., 1., 1., 1.],\n",
       "       [1., 1., 1., 1.]])"
      ]
     },
     "execution_count": 147,
     "metadata": {},
     "output_type": "execute_result"
    }
   ],
   "source": [
    "np.ones((3,4)) # 3rows and 4column"
   ]
  },
  {
   "cell_type": "code",
   "execution_count": 148,
   "id": "88f81103-938d-4104-b69a-0c310b1169da",
   "metadata": {},
   "outputs": [],
   "source": [
    "arr= np.ones((3,4))"
   ]
  },
  {
   "cell_type": "code",
   "execution_count": 149,
   "id": "07971598-415f-47c7-a426-dcdd1aaa2cc5",
   "metadata": {},
   "outputs": [
    {
     "data": {
      "text/plain": [
       "array([[1., 1., 1., 1.],\n",
       "       [1., 1., 1., 1.],\n",
       "       [1., 1., 1., 1.]])"
      ]
     },
     "execution_count": 149,
     "metadata": {},
     "output_type": "execute_result"
    }
   ],
   "source": [
    "arr"
   ]
  },
  {
   "cell_type": "code",
   "execution_count": 151,
   "id": "05ad5cb8-2aaa-4d1a-b122-542f5850d51e",
   "metadata": {},
   "outputs": [
    {
     "data": {
      "text/plain": [
       "array([[6., 6., 6., 6.],\n",
       "       [6., 6., 6., 6.],\n",
       "       [6., 6., 6., 6.]])"
      ]
     },
     "execution_count": 151,
     "metadata": {},
     "output_type": "execute_result"
    }
   ],
   "source": [
    "#adding a array(matrix)\n",
    "arr+5\n",
    "# it'll add 5 in each element"
   ]
  },
  {
   "cell_type": "code",
   "execution_count": 153,
   "id": "3df7fb1a-3448-4175-a87d-a227b59311aa",
   "metadata": {},
   "outputs": [
    {
     "data": {
      "text/plain": [
       "array([[4., 4., 4., 4.],\n",
       "       [4., 4., 4., 4.],\n",
       "       [4., 4., 4., 4.]])"
      ]
     },
     "execution_count": 153,
     "metadata": {},
     "output_type": "execute_result"
    }
   ],
   "source": [
    "arr*4 \n",
    "#multiply 4 with each element and return array"
   ]
  },
  {
   "cell_type": "markdown",
   "id": "99b17419-a021-4d63-bbe5-499602ca7b71",
   "metadata": {},
   "source": [
    "# numpy.empty()"
   ]
  },
  {
   "cell_type": "code",
   "execution_count": 154,
   "id": "86292245-11df-46af-8847-f3336f6d8aa1",
   "metadata": {},
   "outputs": [
    {
     "data": {
      "text/plain": [
       "array([0., 0., 0.])"
      ]
     },
     "execution_count": 154,
     "metadata": {},
     "output_type": "execute_result"
    }
   ],
   "source": [
    "np.empty(3)"
   ]
  },
  {
   "cell_type": "code",
   "execution_count": 155,
   "id": "01eadd91-7451-40a2-bc90-1ed84c254e3e",
   "metadata": {},
   "outputs": [
    {
     "data": {
      "text/plain": [
       "array([[4., 4., 4., 4.],\n",
       "       [4., 4., 4., 4.],\n",
       "       [4., 4., 4., 4.]])"
      ]
     },
     "execution_count": 155,
     "metadata": {},
     "output_type": "execute_result"
    }
   ],
   "source": [
    "np.empty((3,4))"
   ]
  },
  {
   "cell_type": "markdown",
   "id": "941ebfac-d0fa-4b05-bb8e-78b5bf738c9c",
   "metadata": {},
   "source": [
    "\n",
    "# numpy.eye() \n",
    "- it's an identity matrix, because it'll create matrix and '1' will be in diagonally\n",
    "- and determinant of identity matrix is always 1\n",
    "The determinant of the identity matrix is 1; the exchange of two rows (or of two columns) multiplies the determinant by −1; multiplying a row (or a column) by a number multiplies the determinant by this number; and adding to a row (or a column) a multiple of another row (or column) does not change the determinant."
   ]
  },
  {
   "cell_type": "code",
   "execution_count": 158,
   "id": "1643cd19-91a7-4614-bbba-cd66a02a91fc",
   "metadata": {},
   "outputs": [
    {
     "data": {
      "text/plain": [
       "array([[1., 0., 0., 0., 0.],\n",
       "       [0., 1., 0., 0., 0.],\n",
       "       [0., 0., 1., 0., 0.],\n",
       "       [0., 0., 0., 1., 0.],\n",
       "       [0., 0., 0., 0., 1.]])"
      ]
     },
     "execution_count": 158,
     "metadata": {},
     "output_type": "execute_result"
    }
   ],
   "source": [
    "np.eye(5) # it maybe only takes single integer as argument\n",
    "#no. of rows will always be equal to no. of columns"
   ]
  },
  {
   "cell_type": "code",
   "execution_count": 160,
   "id": "0f751e8d-a47b-4815-9ceb-d08d4b60c30b",
   "metadata": {},
   "outputs": [
    {
     "ename": "TypeError",
     "evalue": "'tuple' object cannot be interpreted as an integer",
     "output_type": "error",
     "traceback": [
      "\u001b[0;31m---------------------------------------------------------------------------\u001b[0m",
      "\u001b[0;31mTypeError\u001b[0m                                 Traceback (most recent call last)",
      "Cell \u001b[0;32mIn[160], line 1\u001b[0m\n\u001b[0;32m----> 1\u001b[0m \u001b[43mnp\u001b[49m\u001b[38;5;241;43m.\u001b[39;49m\u001b[43meye\u001b[49m\u001b[43m(\u001b[49m\u001b[43m(\u001b[49m\u001b[38;5;241;43m3\u001b[39;49m\u001b[43m,\u001b[49m\u001b[38;5;241;43m4\u001b[39;49m\u001b[43m)\u001b[49m\u001b[43m)\u001b[49m\u001b[38;5;66;03m# identity matrix always be a square matrix,\u001b[39;00m\n\u001b[1;32m      2\u001b[0m \u001b[38;5;66;03m#no. of rows will always be equal to no. of columns\u001b[39;00m\n",
      "File \u001b[0;32m/opt/conda/lib/python3.10/site-packages/numpy/lib/twodim_base.py:215\u001b[0m, in \u001b[0;36meye\u001b[0;34m(N, M, k, dtype, order, like)\u001b[0m\n\u001b[1;32m    213\u001b[0m \u001b[38;5;28;01mif\u001b[39;00m M \u001b[38;5;129;01mis\u001b[39;00m \u001b[38;5;28;01mNone\u001b[39;00m:\n\u001b[1;32m    214\u001b[0m     M \u001b[38;5;241m=\u001b[39m N\n\u001b[0;32m--> 215\u001b[0m m \u001b[38;5;241m=\u001b[39m \u001b[43mzeros\u001b[49m\u001b[43m(\u001b[49m\u001b[43m(\u001b[49m\u001b[43mN\u001b[49m\u001b[43m,\u001b[49m\u001b[43m \u001b[49m\u001b[43mM\u001b[49m\u001b[43m)\u001b[49m\u001b[43m,\u001b[49m\u001b[43m \u001b[49m\u001b[43mdtype\u001b[49m\u001b[38;5;241;43m=\u001b[39;49m\u001b[43mdtype\u001b[49m\u001b[43m,\u001b[49m\u001b[43m \u001b[49m\u001b[43morder\u001b[49m\u001b[38;5;241;43m=\u001b[39;49m\u001b[43morder\u001b[49m\u001b[43m)\u001b[49m\n\u001b[1;32m    216\u001b[0m \u001b[38;5;28;01mif\u001b[39;00m k \u001b[38;5;241m>\u001b[39m\u001b[38;5;241m=\u001b[39m M:\n\u001b[1;32m    217\u001b[0m     \u001b[38;5;28;01mreturn\u001b[39;00m m\n",
      "\u001b[0;31mTypeError\u001b[0m: 'tuple' object cannot be interpreted as an integer"
     ]
    }
   ],
   "source": [
    "np.eye((3,4))# identity matrix always be a square matrix,\n",
    "#no. of rows will always be equal to no. of columns"
   ]
  },
  {
   "cell_type": "code",
   "execution_count": 163,
   "id": "b9f7d4d7-ea5a-45d3-952e-9a8f3516f8b1",
   "metadata": {},
   "outputs": [],
   "source": []
  },
  {
   "cell_type": "markdown",
   "id": "2d1c96e1-46c4-44db-b340-80413e4820a2",
   "metadata": {},
   "source": [
    "# converting numpy created data to pandas DataFrame"
   ]
  },
  {
   "cell_type": "code",
   "execution_count": 165,
   "id": "cd7fe552-97c0-4393-919a-223987971c1b",
   "metadata": {},
   "outputs": [
    {
     "data": {
      "text/html": [
       "<div>\n",
       "<style scoped>\n",
       "    .dataframe tbody tr th:only-of-type {\n",
       "        vertical-align: middle;\n",
       "    }\n",
       "\n",
       "    .dataframe tbody tr th {\n",
       "        vertical-align: top;\n",
       "    }\n",
       "\n",
       "    .dataframe thead th {\n",
       "        text-align: right;\n",
       "    }\n",
       "</style>\n",
       "<table border=\"1\" class=\"dataframe\">\n",
       "  <thead>\n",
       "    <tr style=\"text-align: right;\">\n",
       "      <th></th>\n",
       "      <th>0</th>\n",
       "      <th>1</th>\n",
       "      <th>2</th>\n",
       "      <th>3</th>\n",
       "      <th>4</th>\n",
       "    </tr>\n",
       "  </thead>\n",
       "  <tbody>\n",
       "    <tr>\n",
       "      <th>0</th>\n",
       "      <td>1.0</td>\n",
       "      <td>0.0</td>\n",
       "      <td>0.0</td>\n",
       "      <td>0.0</td>\n",
       "      <td>0.0</td>\n",
       "    </tr>\n",
       "    <tr>\n",
       "      <th>1</th>\n",
       "      <td>0.0</td>\n",
       "      <td>1.0</td>\n",
       "      <td>0.0</td>\n",
       "      <td>0.0</td>\n",
       "      <td>0.0</td>\n",
       "    </tr>\n",
       "    <tr>\n",
       "      <th>2</th>\n",
       "      <td>0.0</td>\n",
       "      <td>0.0</td>\n",
       "      <td>1.0</td>\n",
       "      <td>0.0</td>\n",
       "      <td>0.0</td>\n",
       "    </tr>\n",
       "    <tr>\n",
       "      <th>3</th>\n",
       "      <td>0.0</td>\n",
       "      <td>0.0</td>\n",
       "      <td>0.0</td>\n",
       "      <td>1.0</td>\n",
       "      <td>0.0</td>\n",
       "    </tr>\n",
       "    <tr>\n",
       "      <th>4</th>\n",
       "      <td>0.0</td>\n",
       "      <td>0.0</td>\n",
       "      <td>0.0</td>\n",
       "      <td>0.0</td>\n",
       "      <td>1.0</td>\n",
       "    </tr>\n",
       "  </tbody>\n",
       "</table>\n",
       "</div>"
      ],
      "text/plain": [
       "     0    1    2    3    4\n",
       "0  1.0  0.0  0.0  0.0  0.0\n",
       "1  0.0  1.0  0.0  0.0  0.0\n",
       "2  0.0  0.0  1.0  0.0  0.0\n",
       "3  0.0  0.0  0.0  1.0  0.0\n",
       "4  0.0  0.0  0.0  0.0  1.0"
      ]
     },
     "execution_count": 165,
     "metadata": {},
     "output_type": "execute_result"
    }
   ],
   "source": [
    "import pandas as pd\n",
    "\n",
    "arr1 = np.eye(5)\n",
    "pd.DataFrame(arr1)"
   ]
  },
  {
   "cell_type": "markdown",
   "id": "a3e15961-149e-49df-bcff-15dbab42f9cd",
   "metadata": {},
   "source": [
    "# numpy.random.rand()"
   ]
  },
  {
   "cell_type": "code",
   "execution_count": 167,
   "id": "2bec0f6e-f5a1-4fb7-8822-85d012651d40",
   "metadata": {},
   "outputs": [
    {
     "data": {
      "text/plain": [
       "array([[0.26466688, 0.78166358, 0.26152883],\n",
       "       [0.64904497, 0.44117883, 0.32094182]])"
      ]
     },
     "execution_count": 167,
     "metadata": {},
     "output_type": "execute_result"
    }
   ],
   "source": [
    "np.random.rand(2,3) # it'll generate a data with randon number of 2rows and 3columns\n",
    "#it'll generate data where mean(), standard deviation can be any thing"
   ]
  },
  {
   "cell_type": "markdown",
   "id": "ff4445f9-733b-40fb-850f-f58ccb14afa3",
   "metadata": {},
   "source": [
    "# numpy.random.randn()"
   ]
  },
  {
   "cell_type": "code",
   "execution_count": 170,
   "id": "77e60175-edd5-4804-9507-59d2c18a6f50",
   "metadata": {},
   "outputs": [
    {
     "data": {
      "text/plain": [
       "array([[ 0.94902541, -0.16057205, -1.89077257],\n",
       "       [ 0.91514816, -0.43859375, -1.90192781]])"
      ]
     },
     "execution_count": 170,
     "metadata": {},
     "output_type": "execute_result"
    }
   ],
   "source": [
    "np.random.randn(2,3) # it'll also generate a data with randon number of 2rows and 3columns\n",
    "# it'll generate a data with standard normal distribution\n",
    "# where means=0 and standard deviation=1\n",
    "\n",
    "#will use it when perform some statistical operation"
   ]
  },
  {
   "cell_type": "markdown",
   "id": "c536eef7-5600-4c03-81f8-2e4f81c6e8ed",
   "metadata": {},
   "source": [
    "# np.random.randint()"
   ]
  },
  {
   "cell_type": "code",
   "execution_count": 171,
   "id": "12f0f0d2-22d3-429e-83dd-ba3597c0ab17",
   "metadata": {},
   "outputs": [
    {
     "data": {
      "text/plain": [
       "array([[4, 1, 2, 1],\n",
       "       [2, 2, 1, 2],\n",
       "       [2, 2, 3, 4]])"
      ]
     },
     "execution_count": 171,
     "metadata": {},
     "output_type": "execute_result"
    }
   ],
   "source": [
    "np.random.randint(1,5, (3,4)) #range from 1to5, and shape is (3,4)-3rows and 4columns"
   ]
  },
  {
   "cell_type": "markdown",
   "id": "187d979d-0e52-46c6-9aac-f27d8eb9b82a",
   "metadata": {},
   "source": [
    "#### will use for data manipulation and many statistical operation where we need random number/data of any size and any shape"
   ]
  },
  {
   "cell_type": "code",
   "execution_count": 172,
   "id": "3c6885b7-ef7d-43e1-aa20-a675be54024b",
   "metadata": {},
   "outputs": [],
   "source": [
    "arr2 = np.random.randint(1,5, (3,4))"
   ]
  },
  {
   "cell_type": "code",
   "execution_count": 173,
   "id": "aab26362-2eaa-4d40-aec7-3f370cb8a2b9",
   "metadata": {},
   "outputs": [
    {
     "data": {
      "text/plain": [
       "array([[4, 1, 1, 3],\n",
       "       [1, 2, 2, 1],\n",
       "       [1, 3, 4, 4]])"
      ]
     },
     "execution_count": 173,
     "metadata": {},
     "output_type": "execute_result"
    }
   ],
   "source": [
    "arr2"
   ]
  },
  {
   "cell_type": "code",
   "execution_count": 174,
   "id": "18dac6e4-a2c7-4efe-b559-8cb10c88ae4f",
   "metadata": {},
   "outputs": [
    {
     "data": {
      "text/plain": [
       "12"
      ]
     },
     "execution_count": 174,
     "metadata": {},
     "output_type": "execute_result"
    }
   ],
   "source": [
    "arr2.size"
   ]
  },
  {
   "cell_type": "code",
   "execution_count": 175,
   "id": "35a2bfa3-21e6-4c15-9499-68396653aa66",
   "metadata": {},
   "outputs": [
    {
     "data": {
      "text/plain": [
       "(3, 4)"
      ]
     },
     "execution_count": 175,
     "metadata": {},
     "output_type": "execute_result"
    }
   ],
   "source": [
    "arr2.shape"
   ]
  },
  {
   "cell_type": "markdown",
   "id": "42645511-41b3-4549-b19f-867454af7b69",
   "metadata": {},
   "source": [
    "# numpy.reshape()\n",
    "## changing shape of array/matrix"
   ]
  },
  {
   "cell_type": "code",
   "execution_count": 177,
   "id": "fbce57b1-2a30-41cc-8195-7abe99036152",
   "metadata": {},
   "outputs": [
    {
     "ename": "ValueError",
     "evalue": "cannot reshape array of size 12 into shape (4,5)",
     "output_type": "error",
     "traceback": [
      "\u001b[0;31m---------------------------------------------------------------------------\u001b[0m",
      "\u001b[0;31mValueError\u001b[0m                                Traceback (most recent call last)",
      "Cell \u001b[0;32mIn[177], line 2\u001b[0m\n\u001b[1;32m      1\u001b[0m \u001b[38;5;66;03m#when giving new shape, the no. of data/element should not be change\u001b[39;00m\n\u001b[0;32m----> 2\u001b[0m \u001b[43marr2\u001b[49m\u001b[38;5;241;43m.\u001b[39;49m\u001b[43mreshape\u001b[49m\u001b[43m(\u001b[49m\u001b[38;5;241;43m4\u001b[39;49m\u001b[43m,\u001b[49m\u001b[38;5;241;43m5\u001b[39;49m\u001b[43m)\u001b[49m \n\u001b[1;32m      3\u001b[0m \u001b[38;5;66;03m#because 4x5 array/matrix has more than 12 elements so it won't work\u001b[39;00m\n",
      "\u001b[0;31mValueError\u001b[0m: cannot reshape array of size 12 into shape (4,5)"
     ]
    }
   ],
   "source": [
    "#when giving new shape, the no. of data/element should not be change\n",
    "arr2.reshape(4,5) \n",
    "#because 4x5 array/matrix has more than 12 elements so it won't work\n"
   ]
  },
  {
   "cell_type": "code",
   "execution_count": 178,
   "id": "f6f7ab05-d99e-45be-83cd-dddfe2e192cb",
   "metadata": {},
   "outputs": [
    {
     "data": {
      "text/plain": [
       "array([[4, 1, 1],\n",
       "       [3, 1, 2],\n",
       "       [2, 1, 1],\n",
       "       [3, 4, 4]])"
      ]
     },
     "execution_count": 178,
     "metadata": {},
     "output_type": "execute_result"
    }
   ],
   "source": [
    "arr2.reshape(4,3)"
   ]
  },
  {
   "cell_type": "code",
   "execution_count": 179,
   "id": "25b4fb23-1feb-4a88-8faa-b922d1a48283",
   "metadata": {},
   "outputs": [
    {
     "data": {
      "text/plain": [
       "array([[4, 1, 1, 3],\n",
       "       [1, 2, 2, 1],\n",
       "       [1, 3, 4, 4]])"
      ]
     },
     "execution_count": 179,
     "metadata": {},
     "output_type": "execute_result"
    }
   ],
   "source": [
    "arr2"
   ]
  },
  {
   "cell_type": "code",
   "execution_count": 180,
   "id": "a2a0a650-13e9-40a2-8d09-dc1db5ebad66",
   "metadata": {},
   "outputs": [
    {
     "data": {
      "text/plain": [
       "array([[4, 1, 1, 3, 1, 2],\n",
       "       [2, 1, 1, 3, 4, 4]])"
      ]
     },
     "execution_count": 180,
     "metadata": {},
     "output_type": "execute_result"
    }
   ],
   "source": [
    "arr2.reshape(2,6)"
   ]
  },
  {
   "cell_type": "code",
   "execution_count": 184,
   "id": "f2dc2479-a62e-4662-8007-95ceb767daba",
   "metadata": {},
   "outputs": [
    {
     "data": {
      "text/plain": [
       "array([[4, 1],\n",
       "       [1, 3],\n",
       "       [1, 2],\n",
       "       [2, 1],\n",
       "       [1, 3],\n",
       "       [4, 4]])"
      ]
     },
     "execution_count": 184,
     "metadata": {},
     "output_type": "execute_result"
    }
   ],
   "source": [
    "arr2.reshape(6,2)"
   ]
  },
  {
   "cell_type": "code",
   "execution_count": 183,
   "id": "84e5a9c8-5dfe-4dc5-8ff8-7983248f0371",
   "metadata": {},
   "outputs": [
    {
     "ename": "ValueError",
     "evalue": "cannot reshape array of size 12 into shape (2,4)",
     "output_type": "error",
     "traceback": [
      "\u001b[0;31m---------------------------------------------------------------------------\u001b[0m",
      "\u001b[0;31mValueError\u001b[0m                                Traceback (most recent call last)",
      "Cell \u001b[0;32mIn[183], line 1\u001b[0m\n\u001b[0;32m----> 1\u001b[0m \u001b[43marr2\u001b[49m\u001b[38;5;241;43m.\u001b[39;49m\u001b[43mreshape\u001b[49m\u001b[43m(\u001b[49m\u001b[38;5;241;43m2\u001b[39;49m\u001b[43m,\u001b[49m\u001b[38;5;241;43m4\u001b[39;49m\u001b[43m)\u001b[49m\u001b[38;5;66;03m#again no. of elements will not be same as is arr2\u001b[39;00m\n",
      "\u001b[0;31mValueError\u001b[0m: cannot reshape array of size 12 into shape (2,4)"
     ]
    }
   ],
   "source": [
    "arr2.reshape(2,4)#again no. of elements will not be same as is arr2\n"
   ]
  },
  {
   "cell_type": "code",
   "execution_count": 185,
   "id": "11632a40-fa8f-47e1-8860-a33a0771164f",
   "metadata": {},
   "outputs": [
    {
     "data": {
      "text/plain": [
       "array([[4, 1, 1],\n",
       "       [3, 1, 2],\n",
       "       [2, 1, 1],\n",
       "       [3, 4, 4]])"
      ]
     },
     "execution_count": 185,
     "metadata": {},
     "output_type": "execute_result"
    }
   ],
   "source": [
    "arr2.reshape(4,-1) \n",
    "#it understood 4rows so column calculate by it self"
   ]
  },
  {
   "cell_type": "code",
   "execution_count": 188,
   "id": "806477cd-b573-4af7-a927-26aa95ce2a5c",
   "metadata": {},
   "outputs": [
    {
     "data": {
      "text/plain": [
       "array([[4, 1, 1],\n",
       "       [3, 1, 2],\n",
       "       [2, 1, 1],\n",
       "       [3, 4, 4]])"
      ]
     },
     "execution_count": 188,
     "metadata": {},
     "output_type": "execute_result"
    }
   ],
   "source": [
    "arr2.reshape(4,-1324346378469836) \n",
    "# can give any negative number \n",
    "#but it'll reshape what ever column is needed to complete/reshape\n",
    "#the array/matrix"
   ]
  },
  {
   "cell_type": "markdown",
   "id": "a46cafa9-4ed0-4763-ba2b-ae940d3bc9b7",
   "metadata": {},
   "source": [
    "### can reshape to any number of dimension"
   ]
  },
  {
   "cell_type": "code",
   "execution_count": 191,
   "id": "6d756ad9-109a-4822-8955-e0850d2a8274",
   "metadata": {},
   "outputs": [
    {
     "data": {
      "text/plain": [
       "array([[[4, 1, 1],\n",
       "        [3, 1, 2]],\n",
       "\n",
       "       [[2, 1, 1],\n",
       "        [3, 4, 4]]])"
      ]
     },
     "execution_count": 191,
     "metadata": {},
     "output_type": "execute_result"
    }
   ],
   "source": [
    "arr2.reshape(2,2,3)\n",
    "#2x2x3 = 12\n",
    "# created 3 dimensional array with 12 no. of element"
   ]
  },
  {
   "cell_type": "code",
   "execution_count": 193,
   "id": "e5ffe3c3-f713-412b-8d14-6ca6ada29975",
   "metadata": {},
   "outputs": [
    {
     "data": {
      "text/plain": [
       "array([[[[[[4]]],\n",
       "\n",
       "\n",
       "         [[[1]]],\n",
       "\n",
       "\n",
       "         [[[1]]]],\n",
       "\n",
       "\n",
       "\n",
       "        [[[[3]]],\n",
       "\n",
       "\n",
       "         [[[1]]],\n",
       "\n",
       "\n",
       "         [[[2]]]]],\n",
       "\n",
       "\n",
       "\n",
       "\n",
       "       [[[[[2]]],\n",
       "\n",
       "\n",
       "         [[[1]]],\n",
       "\n",
       "\n",
       "         [[[1]]]],\n",
       "\n",
       "\n",
       "\n",
       "        [[[[3]]],\n",
       "\n",
       "\n",
       "         [[[4]]],\n",
       "\n",
       "\n",
       "         [[[4]]]]]])"
      ]
     },
     "execution_count": 193,
     "metadata": {},
     "output_type": "execute_result"
    }
   ],
   "source": [
    "arr2.reshape(2,2,3,1,1,1) \n",
    "# it can generate n number of n-dimensional array"
   ]
  },
  {
   "cell_type": "code",
   "execution_count": 194,
   "id": "3d6f8706-0289-4814-93f9-d8a52b07bd91",
   "metadata": {},
   "outputs": [],
   "source": [
    "arr1 = np.random.randint(1,10, (5,6))"
   ]
  },
  {
   "cell_type": "code",
   "execution_count": 195,
   "id": "efd5ee98-5ce2-435a-af87-0ae4ac2cb72a",
   "metadata": {},
   "outputs": [
    {
     "data": {
      "text/plain": [
       "array([[2, 9, 7, 9, 1, 2],\n",
       "       [8, 1, 1, 7, 7, 2],\n",
       "       [8, 8, 7, 8, 9, 5],\n",
       "       [7, 8, 8, 4, 6, 7],\n",
       "       [5, 4, 3, 1, 3, 9]])"
      ]
     },
     "execution_count": 195,
     "metadata": {},
     "output_type": "execute_result"
    }
   ],
   "source": [
    "arr1"
   ]
  },
  {
   "cell_type": "code",
   "execution_count": 198,
   "id": "afa019d5-3a4b-4a3e-9278-325f98e18472",
   "metadata": {},
   "outputs": [
    {
     "data": {
      "text/plain": [
       "array([[False,  True, False,  True, False, False],\n",
       "       [False, False, False, False, False, False],\n",
       "       [False, False, False, False,  True, False],\n",
       "       [False, False, False, False, False, False],\n",
       "       [False, False, False, False, False,  True]])"
      ]
     },
     "execution_count": 198,
     "metadata": {},
     "output_type": "execute_result"
    }
   ],
   "source": [
    "# filtering which element of array is greater than 8\n",
    "arr1>8\n",
    "# where element is greater than 8 it'll return True or otherwise False\n"
   ]
  },
  {
   "cell_type": "code",
   "execution_count": 199,
   "id": "88f07f7a-3ba8-442b-8099-fb1830b2cef3",
   "metadata": {},
   "outputs": [
    {
     "data": {
      "text/plain": [
       "array([9, 9, 9, 9])"
      ]
     },
     "execution_count": 199,
     "metadata": {},
     "output_type": "execute_result"
    }
   ],
   "source": [
    "#print only where arr1>8\n",
    "arr1[arr1>8]"
   ]
  },
  {
   "cell_type": "code",
   "execution_count": 200,
   "id": "df1850ac-7480-4a72-9755-a1c971982037",
   "metadata": {},
   "outputs": [
    {
     "data": {
      "text/plain": [
       "array([[2, 9, 7, 9, 1, 2],\n",
       "       [8, 1, 1, 7, 7, 2],\n",
       "       [8, 8, 7, 8, 9, 5],\n",
       "       [7, 8, 8, 4, 6, 7],\n",
       "       [5, 4, 3, 1, 3, 9]])"
      ]
     },
     "execution_count": 200,
     "metadata": {},
     "output_type": "execute_result"
    }
   ],
   "source": [
    "arr1"
   ]
  },
  {
   "cell_type": "code",
   "execution_count": 202,
   "id": "2d9cefef-1a83-4261-a866-17b93c4e45b0",
   "metadata": {},
   "outputs": [
    {
     "data": {
      "text/plain": [
       "array([2, 9])"
      ]
     },
     "execution_count": 202,
     "metadata": {},
     "output_type": "execute_result"
    }
   ],
   "source": [
    "arr1[0,0:2] # only extracting value of 1st row's column1 and column2\n",
    "# extracting subset of data by default index given by python"
   ]
  },
  {
   "cell_type": "code",
   "execution_count": 203,
   "id": "5c3a41be-5e58-4af5-99b2-36f57e35f10d",
   "metadata": {},
   "outputs": [
    {
     "data": {
      "text/plain": [
       "array([2, 9, 7, 9, 1, 2])"
      ]
     },
     "execution_count": 203,
     "metadata": {},
     "output_type": "execute_result"
    }
   ],
   "source": [
    "arr1[0]"
   ]
  },
  {
   "cell_type": "code",
   "execution_count": 205,
   "id": "9c8e9501-077d-46be-87c3-65bdb9e00e0d",
   "metadata": {},
   "outputs": [
    {
     "data": {
      "text/plain": [
       "array([2, 9])"
      ]
     },
     "execution_count": 205,
     "metadata": {},
     "output_type": "execute_result"
    }
   ],
   "source": [
    "arr1[0,[0,1]] #first row and inside it, first and second column\n",
    "# or arr1[0,0:2]"
   ]
  },
  {
   "cell_type": "code",
   "execution_count": 208,
   "id": "f562dc2d-33df-4770-b32a-daa78f928773",
   "metadata": {},
   "outputs": [
    {
     "data": {
      "text/plain": [
       "array([[7, 8],\n",
       "       [8, 4]])"
      ]
     },
     "execution_count": 208,
     "metadata": {},
     "output_type": "execute_result"
    }
   ],
   "source": [
    "arr1[2:4 ,[2,3]]"
   ]
  },
  {
   "cell_type": "markdown",
   "id": "067f4dea-8396-466f-9109-956400054196",
   "metadata": {},
   "source": [
    "- ### so it's same as list slicing and indexing"
   ]
  },
  {
   "cell_type": "code",
   "execution_count": null,
   "id": "43f7cb34-5c0c-41ed-b329-f4857bbf6292",
   "metadata": {},
   "outputs": [],
   "source": []
  },
  {
   "cell_type": "code",
   "execution_count": 211,
   "id": "25b381d2-219a-4004-9c85-2071ec5ac8c0",
   "metadata": {},
   "outputs": [],
   "source": [
    "arr1 = np.random.randint(1,3, (3,3))\n",
    "arr2 = np.random.randint(1,3, (3,3))"
   ]
  },
  {
   "cell_type": "code",
   "execution_count": 212,
   "id": "7356d6b9-51b0-4844-ad72-7cb24bd342ca",
   "metadata": {},
   "outputs": [
    {
     "data": {
      "text/plain": [
       "array([[1, 1, 2],\n",
       "       [1, 2, 2],\n",
       "       [1, 1, 1]])"
      ]
     },
     "execution_count": 212,
     "metadata": {},
     "output_type": "execute_result"
    }
   ],
   "source": [
    "arr1"
   ]
  },
  {
   "cell_type": "code",
   "execution_count": 213,
   "id": "b9957e3f-0b95-4ba0-9650-dc4e1dd8364d",
   "metadata": {},
   "outputs": [
    {
     "data": {
      "text/plain": [
       "array([[2, 2, 1],\n",
       "       [1, 1, 2],\n",
       "       [1, 2, 1]])"
      ]
     },
     "execution_count": 213,
     "metadata": {},
     "output_type": "execute_result"
    }
   ],
   "source": [
    "arr2"
   ]
  },
  {
   "cell_type": "code",
   "execution_count": 217,
   "id": "ea3ca58c-807b-421d-b53b-5638c7d8caca",
   "metadata": {},
   "outputs": [
    {
     "data": {
      "text/plain": [
       "array([[3, 3, 3],\n",
       "       [2, 3, 4],\n",
       "       [2, 3, 2]])"
      ]
     },
     "execution_count": 217,
     "metadata": {},
     "output_type": "execute_result"
    }
   ],
   "source": [
    "# it'll perform index wise addition between both arrays/matrix\n",
    "# it's not matrix wise operation\n",
    "arr1 + arr2"
   ]
  },
  {
   "cell_type": "code",
   "execution_count": 215,
   "id": "91514381-6ec8-4308-a810-318031d0d6fb",
   "metadata": {},
   "outputs": [
    {
     "data": {
      "text/plain": [
       "array([[-1, -1,  1],\n",
       "       [ 0,  1,  0],\n",
       "       [ 0, -1,  0]])"
      ]
     },
     "execution_count": 215,
     "metadata": {},
     "output_type": "execute_result"
    }
   ],
   "source": [
    "arr1 - arr2"
   ]
  },
  {
   "cell_type": "code",
   "execution_count": 216,
   "id": "844764f0-7465-49b7-9f53-cbe2407b36c3",
   "metadata": {},
   "outputs": [
    {
     "data": {
      "text/plain": [
       "array([[2, 2, 2],\n",
       "       [1, 2, 4],\n",
       "       [1, 2, 1]])"
      ]
     },
     "execution_count": 216,
     "metadata": {},
     "output_type": "execute_result"
    }
   ],
   "source": [
    "arr1*arr2"
   ]
  },
  {
   "cell_type": "markdown",
   "id": "97dd0241-67ff-4688-8378-378213a1b5d8",
   "metadata": {},
   "source": [
    "### so add,sub, multiply, will perform index-wise addition....\n",
    "### it's not matrix-wise"
   ]
  },
  {
   "cell_type": "markdown",
   "id": "1d5d8dbb-9264-4387-8fb4-d05bc5fda080",
   "metadata": {},
   "source": [
    "# matrix multiplication\n",
    "- should be same rows and columns\n",
    "- and perform between rows and columns\n",
    "> multiply row 1st row with 1st column and add all to get a element"
   ]
  },
  {
   "cell_type": "code",
   "execution_count": 219,
   "id": "38a6d529-ede9-4ce0-a98e-0039f2d7e866",
   "metadata": {},
   "outputs": [
    {
     "data": {
      "text/plain": [
       "array([[1, 1, 2],\n",
       "       [1, 2, 2],\n",
       "       [1, 1, 1]])"
      ]
     },
     "execution_count": 219,
     "metadata": {},
     "output_type": "execute_result"
    }
   ],
   "source": [
    "arr1"
   ]
  },
  {
   "cell_type": "code",
   "execution_count": 220,
   "id": "2f55e675-22eb-4857-8a33-d7503a551ea5",
   "metadata": {},
   "outputs": [
    {
     "data": {
      "text/plain": [
       "array([[2, 2, 1],\n",
       "       [1, 1, 2],\n",
       "       [1, 2, 1]])"
      ]
     },
     "execution_count": 220,
     "metadata": {},
     "output_type": "execute_result"
    }
   ],
   "source": [
    "arr2"
   ]
  },
  {
   "cell_type": "code",
   "execution_count": 221,
   "id": "dd5f234b-0032-47f8-9360-4f434ee6a0cd",
   "metadata": {},
   "outputs": [
    {
     "data": {
      "text/plain": [
       "array([[5, 7, 5],\n",
       "       [6, 8, 7],\n",
       "       [4, 5, 4]])"
      ]
     },
     "execution_count": 221,
     "metadata": {},
     "output_type": "execute_result"
    }
   ],
   "source": [
    "arr1@arr2 # matrix multiplication"
   ]
  },
  {
   "cell_type": "code",
   "execution_count": null,
   "id": "225e1c63-01ed-40e0-beeb-3961b7dc39ec",
   "metadata": {},
   "outputs": [],
   "source": []
  },
  {
   "cell_type": "code",
   "execution_count": 222,
   "id": "23b4db17-e4a9-45c2-8559-e17091151308",
   "metadata": {},
   "outputs": [
    {
     "data": {
      "text/plain": [
       "array([[0.5, 0.5, 2. ],\n",
       "       [1. , 2. , 1. ],\n",
       "       [1. , 0.5, 1. ]])"
      ]
     },
     "execution_count": 222,
     "metadata": {},
     "output_type": "execute_result"
    }
   ],
   "source": [
    "arr1/arr2"
   ]
  },
  {
   "cell_type": "code",
   "execution_count": 224,
   "id": "d045ee8b-3c07-4a85-9417-614f41f8c4b6",
   "metadata": {},
   "outputs": [
    {
     "name": "stderr",
     "output_type": "stream",
     "text": [
      "/tmp/ipykernel_154/2405269321.py:1: RuntimeWarning: divide by zero encountered in divide\n",
      "  arr/0 #divide by 0 does exist inside numpy but not in python core\n"
     ]
    },
    {
     "data": {
      "text/plain": [
       "array([[inf, inf, inf],\n",
       "       [inf, inf, inf],\n",
       "       [inf, inf, inf]])"
      ]
     },
     "execution_count": 224,
     "metadata": {},
     "output_type": "execute_result"
    }
   ],
   "source": [
    "arr/0 #divide by 0 does exist inside numpy but not in python core\n",
    "#because it's returning infinite:'inf'"
   ]
  },
  {
   "cell_type": "markdown",
   "id": "87a88324-9280-48a5-b519-212bc81e206a",
   "metadata": {},
   "source": [
    "# Broadcasting operation"
   ]
  },
  {
   "cell_type": "code",
   "execution_count": 226,
   "id": "e252cd9b-f75b-48f2-adf1-d993396caf11",
   "metadata": {},
   "outputs": [],
   "source": [
    "arr = np.zeros((3,4))"
   ]
  },
  {
   "cell_type": "code",
   "execution_count": 227,
   "id": "929be580-fb01-4e64-b157-078701edb674",
   "metadata": {},
   "outputs": [
    {
     "data": {
      "text/plain": [
       "array([[0., 0., 0., 0.],\n",
       "       [0., 0., 0., 0.],\n",
       "       [0., 0., 0., 0.]])"
      ]
     },
     "execution_count": 227,
     "metadata": {},
     "output_type": "execute_result"
    }
   ],
   "source": [
    "arr"
   ]
  },
  {
   "cell_type": "code",
   "execution_count": 230,
   "id": "c5612947-bfaf-487c-8c64-2ce516147867",
   "metadata": {},
   "outputs": [
    {
     "data": {
      "text/plain": [
       "array([[5., 5., 5., 5.],\n",
       "       [5., 5., 5., 5.],\n",
       "       [5., 5., 5., 5.]])"
      ]
     },
     "execution_count": 230,
     "metadata": {},
     "output_type": "execute_result"
    }
   ],
   "source": [
    "arr+5 #giving 1 value but it's using/putting in each element inside array\n"
   ]
  },
  {
   "cell_type": "markdown",
   "id": "02a45ffb-762d-437c-af0d-4713f99aea8a",
   "metadata": {},
   "source": [
    "### adding (3,4)array  with 1D array\n",
    "- column wise addition"
   ]
  },
  {
   "cell_type": "code",
   "execution_count": 233,
   "id": "e49989cf-49e9-4912-b69e-c3ec6ea3e440",
   "metadata": {},
   "outputs": [],
   "source": [
    "a = np.array([1,2,3,4])"
   ]
  },
  {
   "cell_type": "code",
   "execution_count": 234,
   "id": "1ee01799-9272-4afa-97d8-1af711014c07",
   "metadata": {},
   "outputs": [
    {
     "data": {
      "text/plain": [
       "array([1, 2, 3, 4])"
      ]
     },
     "execution_count": 234,
     "metadata": {},
     "output_type": "execute_result"
    }
   ],
   "source": [
    "a"
   ]
  },
  {
   "cell_type": "code",
   "execution_count": 236,
   "id": "18dcc405-beea-4d7a-992a-0736c2c57afd",
   "metadata": {},
   "outputs": [
    {
     "data": {
      "text/plain": [
       "array([[1., 2., 3., 4.],\n",
       "       [1., 2., 3., 4.],\n",
       "       [1., 2., 3., 4.]])"
      ]
     },
     "execution_count": 236,
     "metadata": {},
     "output_type": "execute_result"
    }
   ],
   "source": [
    "arr+a #arr has zeros and it's adding column wise in array"
   ]
  },
  {
   "cell_type": "markdown",
   "id": "c9b02ae9-7b98-46af-beb6-099cee158bfb",
   "metadata": {},
   "source": [
    "- row-wise addition"
   ]
  },
  {
   "cell_type": "code",
   "execution_count": 244,
   "id": "4bb0d012-658f-48f0-90ca-8f21a7ee5911",
   "metadata": {},
   "outputs": [],
   "source": [
    "b = np.array([3,4,5])"
   ]
  },
  {
   "cell_type": "code",
   "execution_count": 245,
   "id": "737f7f6b-06ab-4199-a959-3827e1c299a6",
   "metadata": {},
   "outputs": [
    {
     "data": {
      "text/plain": [
       "array([3, 4, 5])"
      ]
     },
     "execution_count": 245,
     "metadata": {},
     "output_type": "execute_result"
    }
   ],
   "source": [
    "b"
   ]
  },
  {
   "cell_type": "code",
   "execution_count": 246,
   "id": "3af34841-aeac-4336-a665-5f30160450f2",
   "metadata": {},
   "outputs": [
    {
     "ename": "ValueError",
     "evalue": "operands could not be broadcast together with shapes (3,4) (3,) ",
     "output_type": "error",
     "traceback": [
      "\u001b[0;31m---------------------------------------------------------------------------\u001b[0m",
      "\u001b[0;31mValueError\u001b[0m                                Traceback (most recent call last)",
      "Cell \u001b[0;32mIn[246], line 1\u001b[0m\n\u001b[0;32m----> 1\u001b[0m \u001b[43marr\u001b[49m\u001b[38;5;241;43m+\u001b[39;49m\u001b[43mb\u001b[49m\n",
      "\u001b[0;31mValueError\u001b[0m: operands could not be broadcast together with shapes (3,4) (3,) "
     ]
    }
   ],
   "source": [
    "arr+b"
   ]
  },
  {
   "cell_type": "code",
   "execution_count": 247,
   "id": "718677e3-7a6d-4b0d-a429-63eab180db48",
   "metadata": {},
   "outputs": [
    {
     "ename": "ValueError",
     "evalue": "operands could not be broadcast together with shapes (3,4) (3,) ",
     "output_type": "error",
     "traceback": [
      "\u001b[0;31m---------------------------------------------------------------------------\u001b[0m",
      "\u001b[0;31mValueError\u001b[0m                                Traceback (most recent call last)",
      "Cell \u001b[0;32mIn[247], line 1\u001b[0m\n\u001b[0;32m----> 1\u001b[0m \u001b[43marr\u001b[49m\u001b[38;5;241;43m+\u001b[39;49m\u001b[43mb\u001b[49m\u001b[38;5;241;43m.\u001b[39;49m\u001b[43mT\u001b[49m\n",
      "\u001b[0;31mValueError\u001b[0m: operands could not be broadcast together with shapes (3,4) (3,) "
     ]
    }
   ],
   "source": [
    "arr+b.T"
   ]
  },
  {
   "cell_type": "code",
   "execution_count": 248,
   "id": "0b12c1b0-6061-41a4-a12c-3f239cc40414",
   "metadata": {},
   "outputs": [
    {
     "data": {
      "text/plain": [
       "1"
      ]
     },
     "execution_count": 248,
     "metadata": {},
     "output_type": "execute_result"
    }
   ],
   "source": [
    "b.ndim"
   ]
  },
  {
   "cell_type": "code",
   "execution_count": 249,
   "id": "cf363159-092b-4881-8d69-a5cccf1a4bbd",
   "metadata": {},
   "outputs": [],
   "source": [
    "b = np.array([[3,4,5]])"
   ]
  },
  {
   "cell_type": "code",
   "execution_count": 251,
   "id": "8a5b5f2e-ecb5-488b-a592-7d1e8128e03b",
   "metadata": {},
   "outputs": [
    {
     "data": {
      "text/plain": [
       "array([[3, 4, 5]])"
      ]
     },
     "execution_count": 251,
     "metadata": {},
     "output_type": "execute_result"
    }
   ],
   "source": [
    "b"
   ]
  },
  {
   "cell_type": "code",
   "execution_count": 252,
   "id": "47924cfb-bdff-4e69-9d0e-3cc148313da1",
   "metadata": {},
   "outputs": [
    {
     "data": {
      "text/plain": [
       "2"
      ]
     },
     "execution_count": 252,
     "metadata": {},
     "output_type": "execute_result"
    }
   ],
   "source": [
    "b.ndim"
   ]
  },
  {
   "cell_type": "code",
   "execution_count": 255,
   "id": "c724d07b-e001-40ae-92a9-22ad4f9efb7a",
   "metadata": {},
   "outputs": [
    {
     "data": {
      "text/plain": [
       "array([[3],\n",
       "       [4],\n",
       "       [5]])"
      ]
     },
     "execution_count": 255,
     "metadata": {},
     "output_type": "execute_result"
    }
   ],
   "source": [
    "b.T #transposing b array column to row"
   ]
  },
  {
   "cell_type": "code",
   "execution_count": 256,
   "id": "269e032b-c856-4ff1-a9fb-e983b9add643",
   "metadata": {},
   "outputs": [
    {
     "data": {
      "text/plain": [
       "array([[3., 3., 3., 3.],\n",
       "       [4., 4., 4., 4.],\n",
       "       [5., 5., 5., 5.]])"
      ]
     },
     "execution_count": 256,
     "metadata": {},
     "output_type": "execute_result"
    }
   ],
   "source": [
    "arr+b.T #transposing b array column to row"
   ]
  },
  {
   "cell_type": "code",
   "execution_count": null,
   "id": "a85a6acf-eba1-419c-8558-744c4f6843d5",
   "metadata": {},
   "outputs": [],
   "source": []
  },
  {
   "cell_type": "code",
   "execution_count": 257,
   "id": "783d876e-eb68-4e4b-88d4-f4c67573977b",
   "metadata": {},
   "outputs": [],
   "source": [
    "arr1 = arr+b.T "
   ]
  },
  {
   "cell_type": "code",
   "execution_count": 258,
   "id": "9db73a0a-87aa-4783-aec9-9840b7f8cd2a",
   "metadata": {},
   "outputs": [
    {
     "data": {
      "text/plain": [
       "array([[3., 3., 3., 3.],\n",
       "       [4., 4., 4., 4.],\n",
       "       [5., 5., 5., 5.]])"
      ]
     },
     "execution_count": 258,
     "metadata": {},
     "output_type": "execute_result"
    }
   ],
   "source": [
    "arr1"
   ]
  },
  {
   "cell_type": "markdown",
   "id": "e1c77c7c-75a0-40a2-b5e5-f6f3f7254013",
   "metadata": {},
   "source": [
    "### numpy sqrt() :square root of array"
   ]
  },
  {
   "cell_type": "code",
   "execution_count": 260,
   "id": "823e38f7-d4d9-4362-85f3-2473d17bc069",
   "metadata": {},
   "outputs": [
    {
     "data": {
      "text/plain": [
       "array([[1.73205081, 1.73205081, 1.73205081, 1.73205081],\n",
       "       [2.        , 2.        , 2.        , 2.        ],\n",
       "       [2.23606798, 2.23606798, 2.23606798, 2.23606798]])"
      ]
     },
     "execution_count": 260,
     "metadata": {},
     "output_type": "execute_result"
    }
   ],
   "source": [
    "np.sqrt(arr1) #for every element it'll do square_root"
   ]
  },
  {
   "cell_type": "markdown",
   "id": "dedf2a70-cb4a-48cc-a7d9-e230aa5c13c5",
   "metadata": {},
   "source": [
    "### numpy log10()"
   ]
  },
  {
   "cell_type": "code",
   "execution_count": 262,
   "id": "baae9dfe-0a92-4289-99f4-f85ad8de578c",
   "metadata": {},
   "outputs": [
    {
     "data": {
      "text/plain": [
       "array([[0.47712125, 0.47712125, 0.47712125, 0.47712125],\n",
       "       [0.60205999, 0.60205999, 0.60205999, 0.60205999],\n",
       "       [0.69897   , 0.69897   , 0.69897   , 0.69897   ]])"
      ]
     },
     "execution_count": 262,
     "metadata": {},
     "output_type": "execute_result"
    }
   ],
   "source": [
    "np.log10(arr1) # return log of base 10 of every element"
   ]
  },
  {
   "cell_type": "markdown",
   "id": "d05d0df2-aab6-41f6-8017-810de4ea783f",
   "metadata": {},
   "source": [
    "### numpy exponent()"
   ]
  },
  {
   "cell_type": "code",
   "execution_count": 264,
   "id": "5dfdfae6-94a6-4b68-8c9e-d7f0bbbc2545",
   "metadata": {},
   "outputs": [
    {
     "data": {
      "text/plain": [
       "array([[ 20.08553692,  20.08553692,  20.08553692,  20.08553692],\n",
       "       [ 54.59815003,  54.59815003,  54.59815003,  54.59815003],\n",
       "       [148.4131591 , 148.4131591 , 148.4131591 , 148.4131591 ]])"
      ]
     },
     "execution_count": 264,
     "metadata": {},
     "output_type": "execute_result"
    }
   ],
   "source": [
    "np.exp(arr1)"
   ]
  },
  {
   "cell_type": "markdown",
   "id": "542deea5-cc22-46e6-85de-5ea9fc8c2ee1",
   "metadata": {},
   "source": [
    "### numpy min() minimum"
   ]
  },
  {
   "cell_type": "code",
   "execution_count": 265,
   "id": "3dafbf5f-52cf-49a9-875e-d106c1929d44",
   "metadata": {},
   "outputs": [
    {
     "data": {
      "text/plain": [
       "3.0"
      ]
     },
     "execution_count": 265,
     "metadata": {},
     "output_type": "execute_result"
    }
   ],
   "source": [
    "np.min(arr1)"
   ]
  },
  {
   "cell_type": "markdown",
   "id": "686f56d4-21ff-4a72-967c-de0da03492fa",
   "metadata": {},
   "source": [
    "### numpy max() maximum"
   ]
  },
  {
   "cell_type": "code",
   "execution_count": 266,
   "id": "12910dea-30bc-4c92-85a8-87ddb2284227",
   "metadata": {},
   "outputs": [
    {
     "data": {
      "text/plain": [
       "5.0"
      ]
     },
     "execution_count": 266,
     "metadata": {},
     "output_type": "execute_result"
    }
   ],
   "source": [
    "np.max(arr1)"
   ]
  },
  {
   "cell_type": "markdown",
   "id": "8159ef6b-573c-44ca-bbeb-4ce7daf9c9cd",
   "metadata": {},
   "source": [
    "# -"
   ]
  },
  {
   "cell_type": "markdown",
   "id": "506a50df-bf96-4318-aa8a-6a3c69c91b1b",
   "metadata": {},
   "source": [
    "# -"
   ]
  },
  {
   "cell_type": "markdown",
   "id": "710a5449-77d4-442c-b6e2-7268b417f8bb",
   "metadata": {},
   "source": [
    "# -"
   ]
  },
  {
   "cell_type": "markdown",
   "id": "3f516a0e-2f17-4642-ac00-372d1c3501a7",
   "metadata": {},
   "source": [
    "# -"
   ]
  },
  {
   "cell_type": "markdown",
   "id": "3dc518f1-9b04-4a45-9632-c94ce43d5c5c",
   "metadata": {},
   "source": [
    "# -"
   ]
  },
  {
   "cell_type": "markdown",
   "id": "26a73d0e-a698-4cff-a1ff-2c147b5d6228",
   "metadata": {},
   "source": [
    "# Part-3"
   ]
  },
  {
   "cell_type": "code",
   "execution_count": 2,
   "id": "708b5b1e-3c1a-4840-a23d-3ffd4f52c0c9",
   "metadata": {},
   "outputs": [],
   "source": [
    "import numpy as np"
   ]
  },
  {
   "cell_type": "markdown",
   "id": "00e14eb8-c9ee-4461-b07e-64fb6a4725f4",
   "metadata": {},
   "source": [
    "# Numpy - Array Manipulation."
   ]
  },
  {
   "cell_type": "code",
   "execution_count": 3,
   "id": "a1e13751-3859-4f54-b970-00faf3e55cd1",
   "metadata": {},
   "outputs": [],
   "source": [
    "arr = np.random.randint(1,10, (4,4))"
   ]
  },
  {
   "cell_type": "code",
   "execution_count": 4,
   "id": "3f58e698-4942-4af2-805a-7b1781909fa8",
   "metadata": {},
   "outputs": [
    {
     "data": {
      "text/plain": [
       "array([[9, 1, 9, 5],\n",
       "       [6, 7, 6, 6],\n",
       "       [2, 8, 7, 2],\n",
       "       [5, 8, 9, 8]])"
      ]
     },
     "execution_count": 4,
     "metadata": {},
     "output_type": "execute_result"
    }
   ],
   "source": [
    "arr"
   ]
  },
  {
   "cell_type": "code",
   "execution_count": 5,
   "id": "ccd4a25a-210f-404b-bd5e-ead572ad8f01",
   "metadata": {},
   "outputs": [
    {
     "data": {
      "text/plain": [
       "array([[9, 1],\n",
       "       [9, 5],\n",
       "       [6, 7],\n",
       "       [6, 6],\n",
       "       [2, 8],\n",
       "       [7, 2],\n",
       "       [5, 8],\n",
       "       [9, 8]])"
      ]
     },
     "execution_count": 5,
     "metadata": {},
     "output_type": "execute_result"
    }
   ],
   "source": [
    "arr.reshape(8,2)"
   ]
  },
  {
   "cell_type": "code",
   "execution_count": 6,
   "id": "1fdc252b-7226-494a-9ab9-baef11c49e86",
   "metadata": {},
   "outputs": [
    {
     "data": {
      "text/plain": [
       "array([[9, 1, 9, 5],\n",
       "       [6, 7, 6, 6],\n",
       "       [2, 8, 7, 2],\n",
       "       [5, 8, 9, 8]])"
      ]
     },
     "execution_count": 6,
     "metadata": {},
     "output_type": "execute_result"
    }
   ],
   "source": [
    "arr"
   ]
  },
  {
   "cell_type": "code",
   "execution_count": 7,
   "id": "f7acfc7f-c22e-42e9-b777-b2ca1bc5ed5c",
   "metadata": {},
   "outputs": [
    {
     "data": {
      "text/plain": [
       "array([[9, 6, 2, 5],\n",
       "       [1, 7, 8, 8],\n",
       "       [9, 6, 7, 9],\n",
       "       [5, 6, 2, 8]])"
      ]
     },
     "execution_count": 7,
     "metadata": {},
     "output_type": "execute_result"
    }
   ],
   "source": [
    "arr.T #tranpose"
   ]
  },
  {
   "cell_type": "code",
   "execution_count": 15,
   "id": "b490a165-002a-4b55-a0e5-b05a6b467276",
   "metadata": {},
   "outputs": [
    {
     "data": {
      "text/plain": [
       "array([9, 1, 9, 5, 6, 7, 6, 6, 2, 8, 7, 2, 5, 8, 9, 8])"
      ]
     },
     "execution_count": 15,
     "metadata": {},
     "output_type": "execute_result"
    }
   ],
   "source": [
    "arr.flatten() # convert it into single list/1D array"
   ]
  },
  {
   "cell_type": "code",
   "execution_count": 16,
   "id": "33937083-deb1-42af-8f90-0a7179ab9348",
   "metadata": {},
   "outputs": [
    {
     "data": {
      "text/plain": [
       "numpy.ndarray"
      ]
     },
     "execution_count": 16,
     "metadata": {},
     "output_type": "execute_result"
    }
   ],
   "source": [
    "type(arr.flatten())"
   ]
  },
  {
   "cell_type": "code",
   "execution_count": 17,
   "id": "8816f993-4891-4f16-84ee-63775f149ef4",
   "metadata": {},
   "outputs": [
    {
     "data": {
      "text/plain": [
       "numpy.ndarray"
      ]
     },
     "execution_count": 17,
     "metadata": {},
     "output_type": "execute_result"
    }
   ],
   "source": [
    "type(arr)"
   ]
  },
  {
   "cell_type": "code",
   "execution_count": 18,
   "id": "b91ceacd-37e6-4087-967f-7c3d04f4636c",
   "metadata": {},
   "outputs": [
    {
     "data": {
      "text/plain": [
       "array([[9, 1, 9, 5],\n",
       "       [6, 7, 6, 6],\n",
       "       [2, 8, 7, 2],\n",
       "       [5, 8, 9, 8]])"
      ]
     },
     "execution_count": 18,
     "metadata": {},
     "output_type": "execute_result"
    }
   ],
   "source": [
    "arr"
   ]
  },
  {
   "cell_type": "code",
   "execution_count": 19,
   "id": "73ac9961-a4c6-4592-b54b-d912cc058640",
   "metadata": {},
   "outputs": [
    {
     "ename": "TypeError",
     "evalue": "_expand_dims_dispatcher() missing 1 required positional argument: 'axis'",
     "output_type": "error",
     "traceback": [
      "\u001b[0;31m---------------------------------------------------------------------------\u001b[0m",
      "\u001b[0;31mTypeError\u001b[0m                                 Traceback (most recent call last)",
      "Cell \u001b[0;32mIn[19], line 1\u001b[0m\n\u001b[0;32m----> 1\u001b[0m \u001b[43mnp\u001b[49m\u001b[38;5;241;43m.\u001b[39;49m\u001b[43mexpand_dims\u001b[49m\u001b[43m(\u001b[49m\u001b[43marr\u001b[49m\u001b[43m)\u001b[49m\n",
      "File \u001b[0;32m<__array_function__ internals>:179\u001b[0m, in \u001b[0;36mexpand_dims\u001b[0;34m(*args, **kwargs)\u001b[0m\n",
      "\u001b[0;31mTypeError\u001b[0m: _expand_dims_dispatcher() missing 1 required positional argument: 'axis'"
     ]
    }
   ],
   "source": [
    "np.expand_dims(arr)"
   ]
  },
  {
   "cell_type": "code",
   "execution_count": 22,
   "id": "6ec08f62-deed-43c5-b3ce-0d37d28a4731",
   "metadata": {},
   "outputs": [
    {
     "data": {
      "text/plain": [
       "array([[[9, 1, 9, 5]],\n",
       "\n",
       "       [[6, 7, 6, 6]],\n",
       "\n",
       "       [[2, 8, 7, 2]],\n",
       "\n",
       "       [[5, 8, 9, 8]]])"
      ]
     },
     "execution_count": 22,
     "metadata": {},
     "output_type": "execute_result"
    }
   ],
   "source": [
    "np.expand_dims(arr, axis=1) #expanded dimension from 2D to 3D\n",
    "#from 2-dimension to  3-dimension\n",
    "#across column it's expanded dimension, because axis=1"
   ]
  },
  {
   "cell_type": "code",
   "execution_count": 24,
   "id": "ac166d13-db77-4f83-89d4-b07b6efb3594",
   "metadata": {},
   "outputs": [
    {
     "data": {
      "text/plain": [
       "array([[[9, 1, 9, 5],\n",
       "        [6, 7, 6, 6],\n",
       "        [2, 8, 7, 2],\n",
       "        [5, 8, 9, 8]]])"
      ]
     },
     "execution_count": 24,
     "metadata": {},
     "output_type": "execute_result"
    }
   ],
   "source": [
    "np.expand_dims(arr, axis=0)\n",
    "# expanded dimension across rows, because axis=0"
   ]
  },
  {
   "cell_type": "code",
   "execution_count": 3,
   "id": "8f861437-c6e9-4818-ab41-0ac679cff602",
   "metadata": {},
   "outputs": [],
   "source": [
    "data = np.array([[1],[2],[3]])"
   ]
  },
  {
   "cell_type": "code",
   "execution_count": 4,
   "id": "b6610018-3432-46a8-890f-c3db69ddc54a",
   "metadata": {},
   "outputs": [
    {
     "data": {
      "text/plain": [
       "array([[1],\n",
       "       [2],\n",
       "       [3]])"
      ]
     },
     "execution_count": 4,
     "metadata": {},
     "output_type": "execute_result"
    }
   ],
   "source": [
    "data"
   ]
  },
  {
   "cell_type": "code",
   "execution_count": 6,
   "id": "13ab98ff-6d2f-466b-9c08-a6ce71d6374c",
   "metadata": {},
   "outputs": [
    {
     "data": {
      "text/plain": [
       "array([1, 2, 3])"
      ]
     },
     "execution_count": 6,
     "metadata": {},
     "output_type": "execute_result"
    }
   ],
   "source": [
    "np.squeeze(data) #from 2D to 1D"
   ]
  },
  {
   "cell_type": "code",
   "execution_count": 11,
   "id": "19646aba-22c1-43c6-bb42-a0156c3e18ce",
   "metadata": {},
   "outputs": [
    {
     "data": {
      "text/plain": [
       "array([1, 1, 2, 2, 3, 3])"
      ]
     },
     "execution_count": 11,
     "metadata": {},
     "output_type": "execute_result"
    }
   ],
   "source": [
    "np.repeat(data,2) #repeat data how many times we want"
   ]
  },
  {
   "cell_type": "code",
   "execution_count": 12,
   "id": "4ce607c0-cc70-4df8-b1d4-c311b69d67c5",
   "metadata": {},
   "outputs": [
    {
     "data": {
      "text/plain": [
       "array([1, 1, 1, 2, 2, 2, 3, 3, 3])"
      ]
     },
     "execution_count": 12,
     "metadata": {},
     "output_type": "execute_result"
    }
   ],
   "source": [
    "np.repeat(data,3)"
   ]
  },
  {
   "cell_type": "code",
   "execution_count": 15,
   "id": "aa05de86-91ba-403b-9d12-94f142553cc2",
   "metadata": {},
   "outputs": [
    {
     "data": {
      "text/plain": [
       "array([[3],\n",
       "       [1],\n",
       "       [2]])"
      ]
     },
     "execution_count": 15,
     "metadata": {},
     "output_type": "execute_result"
    }
   ],
   "source": [
    "np.roll(data,1)"
   ]
  },
  {
   "cell_type": "code",
   "execution_count": 17,
   "id": "67186fe4-07ac-4ec9-bcaf-d25ac57af11b",
   "metadata": {},
   "outputs": [
    {
     "data": {
      "text/plain": [
       "array([[2],\n",
       "       [3],\n",
       "       [1]])"
      ]
     },
     "execution_count": 17,
     "metadata": {},
     "output_type": "execute_result"
    }
   ],
   "source": [
    "np.roll(data,2)\n",
    "#roll data to 2 step further, now 1 is 2 step further from pervious position"
   ]
  },
  {
   "cell_type": "code",
   "execution_count": 20,
   "id": "9cd50c83-59f3-4d5f-a352-db28d90d7789",
   "metadata": {},
   "outputs": [
    {
     "data": {
      "text/plain": [
       "array([[1, 0, 0, 0],\n",
       "       [0, 2, 0, 0],\n",
       "       [0, 0, 3, 0],\n",
       "       [0, 0, 0, 4]])"
      ]
     },
     "execution_count": 20,
     "metadata": {},
     "output_type": "execute_result"
    }
   ],
   "source": [
    "np.diag(np.array([1,2,3,4]) ) # in a 2D square matrix it'll place data diagonally"
   ]
  },
  {
   "cell_type": "markdown",
   "id": "d2aaeed4-2aed-4fa4-a2a5-037938701944",
   "metadata": {},
   "source": [
    "# numpy- Binary Operations.\n",
    "\n",
    "- addition, substraction, multiplication"
   ]
  },
  {
   "cell_type": "code",
   "execution_count": 23,
   "id": "817af725-b0ba-4d00-9f11-c4d1ef84a888",
   "metadata": {},
   "outputs": [],
   "source": [
    "arr1 = np.random.randint(1,10, (3,4))\n",
    "arr2 = np.random.randint(1,10, (3,4))"
   ]
  },
  {
   "cell_type": "code",
   "execution_count": 24,
   "id": "7200b93e-8039-4e38-b23b-9e44bee1b40a",
   "metadata": {},
   "outputs": [
    {
     "data": {
      "text/plain": [
       "array([[8, 8, 5, 7],\n",
       "       [1, 4, 4, 6],\n",
       "       [9, 7, 7, 6]])"
      ]
     },
     "execution_count": 24,
     "metadata": {},
     "output_type": "execute_result"
    }
   ],
   "source": [
    "arr1"
   ]
  },
  {
   "cell_type": "code",
   "execution_count": 25,
   "id": "1d8e39d8-3eb1-4ca8-b9c6-fb8986a9db20",
   "metadata": {},
   "outputs": [
    {
     "data": {
      "text/plain": [
       "array([[8, 1, 8, 3],\n",
       "       [1, 8, 6, 7],\n",
       "       [9, 1, 6, 1]])"
      ]
     },
     "execution_count": 25,
     "metadata": {},
     "output_type": "execute_result"
    }
   ],
   "source": [
    "arr2"
   ]
  },
  {
   "cell_type": "markdown",
   "id": "2b507c3c-6947-4bb6-b023-a978a9bb8077",
   "metadata": {},
   "source": [
    "## index-wise operations"
   ]
  },
  {
   "cell_type": "code",
   "execution_count": 27,
   "id": "8684d54e-5ad0-45a3-93da-977d60f2438a",
   "metadata": {},
   "outputs": [
    {
     "data": {
      "text/plain": [
       "array([[16,  9, 13, 10],\n",
       "       [ 2, 12, 10, 13],\n",
       "       [18,  8, 13,  7]])"
      ]
     },
     "execution_count": 27,
     "metadata": {},
     "output_type": "execute_result"
    }
   ],
   "source": [
    "arr1+arr2 #index-wise summation operation"
   ]
  },
  {
   "cell_type": "code",
   "execution_count": 28,
   "id": "9f9972bf-4758-4a42-898f-875a3b9ca3e3",
   "metadata": {},
   "outputs": [
    {
     "data": {
      "text/plain": [
       "array([[64,  8, 40, 21],\n",
       "       [ 1, 32, 24, 42],\n",
       "       [81,  7, 42,  6]])"
      ]
     },
     "execution_count": 28,
     "metadata": {},
     "output_type": "execute_result"
    }
   ],
   "source": [
    "arr1*arr2"
   ]
  },
  {
   "cell_type": "code",
   "execution_count": 29,
   "id": "f315bf26-791b-403c-a0e1-a8ea3abaebf0",
   "metadata": {},
   "outputs": [
    {
     "data": {
      "text/plain": [
       "array([[1.        , 8.        , 0.625     , 2.33333333],\n",
       "       [1.        , 0.5       , 0.66666667, 0.85714286],\n",
       "       [1.        , 7.        , 1.16666667, 6.        ]])"
      ]
     },
     "execution_count": 29,
     "metadata": {},
     "output_type": "execute_result"
    }
   ],
   "source": [
    "arr1/arr2"
   ]
  },
  {
   "cell_type": "code",
   "execution_count": 30,
   "id": "5ef332ed-1e60-4847-9198-b209ed807862",
   "metadata": {},
   "outputs": [
    {
     "data": {
      "text/plain": [
       "array([[ 0,  7, -3,  4],\n",
       "       [ 0, -4, -2, -1],\n",
       "       [ 0,  6,  1,  5]])"
      ]
     },
     "execution_count": 30,
     "metadata": {},
     "output_type": "execute_result"
    }
   ],
   "source": [
    "arr1-arr2"
   ]
  },
  {
   "cell_type": "code",
   "execution_count": 31,
   "id": "17e7e085-c70b-4810-9927-0f12451cf2b3",
   "metadata": {},
   "outputs": [
    {
     "data": {
      "text/plain": [
       "array([[ 16777216,         8,    390625,       343],\n",
       "       [        1,     65536,      4096,    279936],\n",
       "       [387420489,         7,    117649,         6]])"
      ]
     },
     "execution_count": 31,
     "metadata": {},
     "output_type": "execute_result"
    }
   ],
   "source": [
    "arr1**arr2"
   ]
  },
  {
   "cell_type": "markdown",
   "id": "d59ff6d5-056e-455e-ab89-cce53055f4f2",
   "metadata": {},
   "source": [
    "#### negation of array(convert into negative numbers)"
   ]
  },
  {
   "cell_type": "code",
   "execution_count": 34,
   "id": "4a0561e2-f118-4409-bc28-2a1691e769af",
   "metadata": {},
   "outputs": [
    {
     "data": {
      "text/plain": [
       "array([[ -9,  -9,  -6,  -8],\n",
       "       [ -2,  -5,  -5,  -7],\n",
       "       [-10,  -8,  -8,  -7]])"
      ]
     },
     "execution_count": 34,
     "metadata": {},
     "output_type": "execute_result"
    }
   ],
   "source": [
    "~arr1 #binary negation operation with '~'"
   ]
  },
  {
   "cell_type": "code",
   "execution_count": 35,
   "id": "36b0db07-f4c7-4ed7-b7f8-d7d1a41f2692",
   "metadata": {},
   "outputs": [
    {
     "data": {
      "text/plain": [
       "array([[8, 8, 5, 7],\n",
       "       [1, 4, 4, 6],\n",
       "       [9, 7, 7, 6]])"
      ]
     },
     "execution_count": 35,
     "metadata": {},
     "output_type": "execute_result"
    }
   ],
   "source": [
    "arr1"
   ]
  },
  {
   "cell_type": "code",
   "execution_count": 36,
   "id": "cd59693f-731f-4a51-b714-c2f5974673c1",
   "metadata": {},
   "outputs": [
    {
     "data": {
      "text/plain": [
       "array([[False,  True, False,  True],\n",
       "       [False, False, False, False],\n",
       "       [False,  True,  True,  True]])"
      ]
     },
     "execution_count": 36,
     "metadata": {},
     "output_type": "execute_result"
    }
   ],
   "source": [
    "arr1>arr2"
   ]
  },
  {
   "cell_type": "markdown",
   "id": "860551ff-3b7f-4f8e-b2c0-60459286224b",
   "metadata": {},
   "source": [
    "# numpy- String Operations\n",
    "it has all string operations that we use in python\n",
    "> upper, lower, capitalize, title"
   ]
  },
  {
   "cell_type": "code",
   "execution_count": 37,
   "id": "ddfaf800-046c-45d0-a54b-267b1201caf1",
   "metadata": {},
   "outputs": [],
   "source": [
    "arr = np.array([\"resheph\", \"RR\"])"
   ]
  },
  {
   "cell_type": "code",
   "execution_count": 38,
   "id": "946f1e08-bf8f-42e9-b2d1-66d7650e9d5a",
   "metadata": {},
   "outputs": [
    {
     "data": {
      "text/plain": [
       "array(['resheph', 'RR'], dtype='<U7')"
      ]
     },
     "execution_count": 38,
     "metadata": {},
     "output_type": "execute_result"
    }
   ],
   "source": [
    "arr"
   ]
  },
  {
   "cell_type": "markdown",
   "id": "04428aef-db01-476f-a797-ab8623b520cf",
   "metadata": {},
   "source": [
    "#### turning numpy array string into upper character"
   ]
  },
  {
   "cell_type": "code",
   "execution_count": 39,
   "id": "3e71589b-3b31-4a56-a550-50862cf34435",
   "metadata": {},
   "outputs": [
    {
     "data": {
      "text/plain": [
       "array(['RESHEPH', 'RR'], dtype='<U7')"
      ]
     },
     "execution_count": 39,
     "metadata": {},
     "output_type": "execute_result"
    }
   ],
   "source": [
    "np.char.upper(arr)"
   ]
  },
  {
   "cell_type": "code",
   "execution_count": 40,
   "id": "1605785f-88ad-4db4-b74d-e0e77718cfe0",
   "metadata": {},
   "outputs": [
    {
     "data": {
      "text/plain": [
       "array(['Resheph', 'Rr'], dtype='<U7')"
      ]
     },
     "execution_count": 40,
     "metadata": {},
     "output_type": "execute_result"
    }
   ],
   "source": [
    "np.char.capitalize(arr)"
   ]
  },
  {
   "cell_type": "code",
   "execution_count": 42,
   "id": "e94ca16f-1285-46df-9b52-43f6b2881cb3",
   "metadata": {},
   "outputs": [
    {
     "data": {
      "text/plain": [
       "array(['Resheph', 'Rr'], dtype='<U7')"
      ]
     },
     "execution_count": 42,
     "metadata": {},
     "output_type": "execute_result"
    }
   ],
   "source": [
    "np.char.title(arr)"
   ]
  },
  {
   "cell_type": "markdown",
   "id": "55ef1a2f-13c8-4b01-858a-407068e15525",
   "metadata": {},
   "source": [
    "# numpy- Mathematical Functions."
   ]
  },
  {
   "cell_type": "code",
   "execution_count": 43,
   "id": "4d53800f-ae5c-48bd-a048-69324003e960",
   "metadata": {},
   "outputs": [
    {
     "data": {
      "text/plain": [
       "array([[8, 8, 5, 7],\n",
       "       [1, 4, 4, 6],\n",
       "       [9, 7, 7, 6]])"
      ]
     },
     "execution_count": 43,
     "metadata": {},
     "output_type": "execute_result"
    }
   ],
   "source": [
    "arr1"
   ]
  },
  {
   "cell_type": "code",
   "execution_count": 47,
   "id": "20440219-e402-48ed-8504-b06853c50ba2",
   "metadata": {},
   "outputs": [
    {
     "data": {
      "text/plain": [
       "array([[ 0.98935825,  0.98935825, -0.95892427,  0.6569866 ],\n",
       "       [ 0.84147098, -0.7568025 , -0.7568025 , -0.2794155 ],\n",
       "       [ 0.41211849,  0.6569866 ,  0.6569866 , -0.2794155 ]])"
      ]
     },
     "execution_count": 47,
     "metadata": {},
     "output_type": "execute_result"
    }
   ],
   "source": [
    "np.sin(arr1) #find sin"
   ]
  },
  {
   "cell_type": "code",
   "execution_count": 45,
   "id": "7a9e9b0d-c11f-45be-a3f3-b7935902bd74",
   "metadata": {},
   "outputs": [
    {
     "data": {
      "text/plain": [
       "array([[-0.14550003, -0.14550003,  0.28366219,  0.75390225],\n",
       "       [ 0.54030231, -0.65364362, -0.65364362,  0.96017029],\n",
       "       [-0.91113026,  0.75390225,  0.75390225,  0.96017029]])"
      ]
     },
     "execution_count": 45,
     "metadata": {},
     "output_type": "execute_result"
    }
   ],
   "source": [
    "np.cos(arr1)"
   ]
  },
  {
   "cell_type": "code",
   "execution_count": 46,
   "id": "ddfcfc15-21ae-4301-a4fb-c067d0151629",
   "metadata": {},
   "outputs": [
    {
     "data": {
      "text/plain": [
       "array([[-6.79971146, -6.79971146, -3.38051501,  0.87144798],\n",
       "       [ 1.55740772,  1.15782128,  1.15782128, -0.29100619],\n",
       "       [-0.45231566,  0.87144798,  0.87144798, -0.29100619]])"
      ]
     },
     "execution_count": 46,
     "metadata": {},
     "output_type": "execute_result"
    }
   ],
   "source": [
    "np.tan(arr1)"
   ]
  },
  {
   "cell_type": "code",
   "execution_count": 48,
   "id": "078c4a12-1eb9-478f-98a9-d57da53d67c1",
   "metadata": {},
   "outputs": [
    {
     "data": {
      "text/plain": [
       "array([[0.90308999, 0.90308999, 0.69897   , 0.84509804],\n",
       "       [0.        , 0.60205999, 0.60205999, 0.77815125],\n",
       "       [0.95424251, 0.84509804, 0.84509804, 0.77815125]])"
      ]
     },
     "execution_count": 48,
     "metadata": {},
     "output_type": "execute_result"
    }
   ],
   "source": [
    "np.log10(arr1)"
   ]
  },
  {
   "cell_type": "code",
   "execution_count": 49,
   "id": "c55558d5-263d-4a90-ade5-080047c1ac9a",
   "metadata": {},
   "outputs": [
    {
     "data": {
      "text/plain": [
       "array([[3.        , 3.        , 2.32192809, 2.80735492],\n",
       "       [0.        , 2.        , 2.        , 2.5849625 ],\n",
       "       [3.169925  , 2.80735492, 2.80735492, 2.5849625 ]])"
      ]
     },
     "execution_count": 49,
     "metadata": {},
     "output_type": "execute_result"
    }
   ],
   "source": [
    "np.log2(arr1)"
   ]
  },
  {
   "cell_type": "code",
   "execution_count": 52,
   "id": "c53a3bf3-af5b-4e51-b5b5-52181b4282ac",
   "metadata": {},
   "outputs": [
    {
     "data": {
      "text/plain": [
       "array([[2.98095799e+03, 2.98095799e+03, 1.48413159e+02, 1.09663316e+03],\n",
       "       [2.71828183e+00, 5.45981500e+01, 5.45981500e+01, 4.03428793e+02],\n",
       "       [8.10308393e+03, 1.09663316e+03, 1.09663316e+03, 4.03428793e+02]])"
      ]
     },
     "execution_count": 52,
     "metadata": {},
     "output_type": "execute_result"
    }
   ],
   "source": [
    "np.exp(arr1) # find exponent of data"
   ]
  },
  {
   "cell_type": "code",
   "execution_count": 55,
   "id": "638c4b57-6a78-4a54-b9ee-769676f85300",
   "metadata": {},
   "outputs": [
    {
     "data": {
      "text/plain": [
       "array([[64, 64, 25, 49],\n",
       "       [ 1, 16, 16, 36],\n",
       "       [81, 49, 49, 36]])"
      ]
     },
     "execution_count": 55,
     "metadata": {},
     "output_type": "execute_result"
    }
   ],
   "source": [
    "np.power(arr1,2) # find power of 2, we can put any interger to find power\n"
   ]
  },
  {
   "cell_type": "code",
   "execution_count": 57,
   "id": "111267cc-525a-4b74-824f-6b56fd5ebb41",
   "metadata": {},
   "outputs": [
    {
     "data": {
      "text/plain": [
       "6.0"
      ]
     },
     "execution_count": 57,
     "metadata": {},
     "output_type": "execute_result"
    }
   ],
   "source": [
    "np.mean(arr1) #calculate average of whole array"
   ]
  },
  {
   "cell_type": "code",
   "execution_count": 59,
   "id": "963264e1-c16f-4296-a867-809da19a7b8a",
   "metadata": {},
   "outputs": [
    {
     "data": {
      "text/plain": [
       "6.5"
      ]
     },
     "execution_count": 59,
     "metadata": {},
     "output_type": "execute_result"
    }
   ],
   "source": [
    "np.median(arr1) # find middle value of entire array"
   ]
  },
  {
   "cell_type": "code",
   "execution_count": 63,
   "id": "b9504003-9b73-40b4-a355-4856b6f96996",
   "metadata": {},
   "outputs": [
    {
     "ename": "AttributeError",
     "evalue": "module 'numpy' has no attribute 'mode'",
     "output_type": "error",
     "traceback": [
      "\u001b[0;31m---------------------------------------------------------------------------\u001b[0m",
      "\u001b[0;31mAttributeError\u001b[0m                            Traceback (most recent call last)",
      "Cell \u001b[0;32mIn[63], line 1\u001b[0m\n\u001b[0;32m----> 1\u001b[0m \u001b[43mnp\u001b[49m\u001b[38;5;241;43m.\u001b[39;49m\u001b[43mmode\u001b[49m(arr1) \u001b[38;5;66;03m#numpy doesn't has mode() function\u001b[39;00m\n",
      "File \u001b[0;32m/opt/conda/lib/python3.10/site-packages/numpy/__init__.py:311\u001b[0m, in \u001b[0;36m__getattr__\u001b[0;34m(attr)\u001b[0m\n\u001b[1;32m    308\u001b[0m     \u001b[38;5;28;01mfrom\u001b[39;00m \u001b[38;5;21;01m.\u001b[39;00m\u001b[38;5;21;01mtesting\u001b[39;00m \u001b[38;5;28;01mimport\u001b[39;00m Tester\n\u001b[1;32m    309\u001b[0m     \u001b[38;5;28;01mreturn\u001b[39;00m Tester\n\u001b[0;32m--> 311\u001b[0m \u001b[38;5;28;01mraise\u001b[39;00m \u001b[38;5;167;01mAttributeError\u001b[39;00m(\u001b[38;5;124m\"\u001b[39m\u001b[38;5;124mmodule \u001b[39m\u001b[38;5;132;01m{!r}\u001b[39;00m\u001b[38;5;124m has no attribute \u001b[39m\u001b[38;5;124m\"\u001b[39m\n\u001b[1;32m    312\u001b[0m                      \u001b[38;5;124m\"\u001b[39m\u001b[38;5;132;01m{!r}\u001b[39;00m\u001b[38;5;124m\"\u001b[39m\u001b[38;5;241m.\u001b[39mformat(\u001b[38;5;18m__name__\u001b[39m, attr))\n",
      "\u001b[0;31mAttributeError\u001b[0m: module 'numpy' has no attribute 'mode'"
     ]
    }
   ],
   "source": [
    "np.mode(arr1) #numpy doesn't has mode() function"
   ]
  },
  {
   "cell_type": "code",
   "execution_count": 65,
   "id": "e6e65ee9-7aa2-4f56-b548-ee60d5e82c68",
   "metadata": {},
   "outputs": [
    {
     "data": {
      "text/plain": [
       "2.1213203435596424"
      ]
     },
     "execution_count": 65,
     "metadata": {},
     "output_type": "execute_result"
    }
   ],
   "source": [
    "np.std(arr1) # find standard deviation"
   ]
  },
  {
   "cell_type": "code",
   "execution_count": 67,
   "id": "3d329105-6422-4a4f-812c-899ccf4af56e",
   "metadata": {},
   "outputs": [
    {
     "data": {
      "text/plain": [
       "4.5"
      ]
     },
     "execution_count": 67,
     "metadata": {},
     "output_type": "execute_result"
    }
   ],
   "source": [
    "np.var(arr1) # find variance"
   ]
  },
  {
   "cell_type": "code",
   "execution_count": 68,
   "id": "7f0dfbc8-f873-4dce-825a-7cd20085310a",
   "metadata": {},
   "outputs": [
    {
     "data": {
      "text/plain": [
       "1"
      ]
     },
     "execution_count": 68,
     "metadata": {},
     "output_type": "execute_result"
    }
   ],
   "source": [
    "np.min(arr1)"
   ]
  },
  {
   "cell_type": "code",
   "execution_count": 69,
   "id": "bf6df05c-5cfd-431a-987e-93068a2189bb",
   "metadata": {},
   "outputs": [
    {
     "data": {
      "text/plain": [
       "9"
      ]
     },
     "execution_count": 69,
     "metadata": {},
     "output_type": "execute_result"
    }
   ],
   "source": [
    "np.max(arr1)"
   ]
  },
  {
   "cell_type": "markdown",
   "id": "c4311ab2-051f-46ec-8309-8047b8006829",
   "metadata": {},
   "source": [
    "# numpy- Arithmetic Operations.\n",
    "> subtract, addition, modulus.."
   ]
  },
  {
   "cell_type": "code",
   "execution_count": 71,
   "id": "c8ce39cd-b8bd-49d2-9434-48a56fd6e2ad",
   "metadata": {},
   "outputs": [
    {
     "data": {
      "text/plain": [
       "array([[8, 8, 5, 7],\n",
       "       [1, 4, 4, 6],\n",
       "       [9, 7, 7, 6]])"
      ]
     },
     "execution_count": 71,
     "metadata": {},
     "output_type": "execute_result"
    }
   ],
   "source": [
    "arr1"
   ]
  },
  {
   "cell_type": "code",
   "execution_count": 72,
   "id": "1f12f21a-329e-49d1-be07-f08dc82ea3e0",
   "metadata": {},
   "outputs": [
    {
     "data": {
      "text/plain": [
       "array([[8, 1, 8, 3],\n",
       "       [1, 8, 6, 7],\n",
       "       [9, 1, 6, 1]])"
      ]
     },
     "execution_count": 72,
     "metadata": {},
     "output_type": "execute_result"
    }
   ],
   "source": [
    "arr2"
   ]
  },
  {
   "cell_type": "code",
   "execution_count": 75,
   "id": "4aa9fc1c-149f-4613-b864-7ed75f422230",
   "metadata": {},
   "outputs": [
    {
     "data": {
      "text/plain": [
       "array([[ 0,  7, -3,  4],\n",
       "       [ 0, -4, -2, -1],\n",
       "       [ 0,  6,  1,  5]])"
      ]
     },
     "execution_count": 75,
     "metadata": {},
     "output_type": "execute_result"
    }
   ],
   "source": [
    "arr1-arr2"
   ]
  },
  {
   "cell_type": "code",
   "execution_count": 76,
   "id": "fce5c014-1ec5-48a7-98cf-63b650097f35",
   "metadata": {},
   "outputs": [
    {
     "data": {
      "text/plain": [
       "array([[ 0,  7, -3,  4],\n",
       "       [ 0, -4, -2, -1],\n",
       "       [ 0,  6,  1,  5]])"
      ]
     },
     "execution_count": 76,
     "metadata": {},
     "output_type": "execute_result"
    }
   ],
   "source": [
    "np.subtract(arr1, arr2) # both are same either '-' or 'numpy.substract()'"
   ]
  },
  {
   "cell_type": "code",
   "execution_count": 77,
   "id": "3ecbd0bc-36a9-4d87-8326-9ba956ae360c",
   "metadata": {},
   "outputs": [
    {
     "data": {
      "text/plain": [
       "array([[64,  8, 40, 21],\n",
       "       [ 1, 32, 24, 42],\n",
       "       [81,  7, 42,  6]])"
      ]
     },
     "execution_count": 77,
     "metadata": {},
     "output_type": "execute_result"
    }
   ],
   "source": [
    "arr1*arr2"
   ]
  },
  {
   "cell_type": "code",
   "execution_count": 78,
   "id": "03e919be-46ef-4ed7-a985-c03da35ce0e3",
   "metadata": {},
   "outputs": [
    {
     "data": {
      "text/plain": [
       "array([[64,  8, 40, 21],\n",
       "       [ 1, 32, 24, 42],\n",
       "       [81,  7, 42,  6]])"
      ]
     },
     "execution_count": 78,
     "metadata": {},
     "output_type": "execute_result"
    }
   ],
   "source": [
    "np.multiply(arr1,arr2)"
   ]
  },
  {
   "cell_type": "code",
   "execution_count": 81,
   "id": "c200305d-3462-44c1-a5f2-a5ae074911d4",
   "metadata": {},
   "outputs": [
    {
     "data": {
      "text/plain": [
       "array([[0, 0, 5, 1],\n",
       "       [0, 4, 4, 6],\n",
       "       [0, 0, 1, 0]])"
      ]
     },
     "execution_count": 81,
     "metadata": {},
     "output_type": "execute_result"
    }
   ],
   "source": [
    "arr1%arr2 #return remainder after divide\n"
   ]
  },
  {
   "cell_type": "code",
   "execution_count": 82,
   "id": "7189d526-40e5-47b6-8d37-adcb77012b9c",
   "metadata": {},
   "outputs": [
    {
     "data": {
      "text/plain": [
       "array([[0, 0, 5, 1],\n",
       "       [0, 4, 4, 6],\n",
       "       [0, 0, 1, 0]])"
      ]
     },
     "execution_count": 82,
     "metadata": {},
     "output_type": "execute_result"
    }
   ],
   "source": [
    "np.mod(arr1,arr2)"
   ]
  },
  {
   "cell_type": "code",
   "execution_count": 84,
   "id": "d9de8c92-eecc-4058-81f6-1a8fc7737f9f",
   "metadata": {},
   "outputs": [
    {
     "data": {
      "text/plain": [
       "array([[ 16777216,         8,    390625,       343],\n",
       "       [        1,     65536,      4096,    279936],\n",
       "       [387420489,         7,    117649,         6]])"
      ]
     },
     "execution_count": 84,
     "metadata": {},
     "output_type": "execute_result"
    }
   ],
   "source": [
    "arr1**arr2"
   ]
  },
  {
   "cell_type": "code",
   "execution_count": 83,
   "id": "43404d92-bf1f-485d-8fc5-c27b59ac9013",
   "metadata": {},
   "outputs": [
    {
     "data": {
      "text/plain": [
       "array([[ 16777216,         8,    390625,       343],\n",
       "       [        1,     65536,      4096,    279936],\n",
       "       [387420489,         7,    117649,         6]])"
      ]
     },
     "execution_count": 83,
     "metadata": {},
     "output_type": "execute_result"
    }
   ],
   "source": [
    "np.power(arr1,arr2)"
   ]
  },
  {
   "cell_type": "code",
   "execution_count": 86,
   "id": "b026a517-8f4e-4c8c-84f9-511c2a5a1cfa",
   "metadata": {},
   "outputs": [
    {
     "data": {
      "text/plain": [
       "array([[2.82842712, 2.82842712, 2.23606798, 2.64575131],\n",
       "       [1.        , 2.        , 2.        , 2.44948974],\n",
       "       [3.        , 2.64575131, 2.64575131, 2.44948974]])"
      ]
     },
     "execution_count": 86,
     "metadata": {},
     "output_type": "execute_result"
    }
   ],
   "source": [
    "np.sqrt(arr1) #square root"
   ]
  },
  {
   "cell_type": "markdown",
   "id": "0b828514-cf61-4a33-b461-c235a62a0d9c",
   "metadata": {},
   "source": [
    "# numpy- Statistical Functions.\n",
    "> mean, median, mode"
   ]
  },
  {
   "cell_type": "code",
   "execution_count": 87,
   "id": "dccb7df9-396c-4116-9511-000e5d3ef21c",
   "metadata": {},
   "outputs": [
    {
     "data": {
      "text/plain": [
       "array([[8, 8, 5, 7],\n",
       "       [1, 4, 4, 6],\n",
       "       [9, 7, 7, 6]])"
      ]
     },
     "execution_count": 87,
     "metadata": {},
     "output_type": "execute_result"
    }
   ],
   "source": [
    "arr1"
   ]
  },
  {
   "cell_type": "code",
   "execution_count": 88,
   "id": "11b24d7a-4335-4dff-8f1b-739e1fb31b83",
   "metadata": {},
   "outputs": [
    {
     "data": {
      "text/plain": [
       "6.0"
      ]
     },
     "execution_count": 88,
     "metadata": {},
     "output_type": "execute_result"
    }
   ],
   "source": [
    "np.mean(arr1)"
   ]
  },
  {
   "cell_type": "code",
   "execution_count": 89,
   "id": "45f58850-ffd0-45df-a18e-3524eda53a0a",
   "metadata": {},
   "outputs": [
    {
     "data": {
      "text/plain": [
       "2.1213203435596424"
      ]
     },
     "execution_count": 89,
     "metadata": {},
     "output_type": "execute_result"
    }
   ],
   "source": [
    "np.std(arr1) #dispersion from the mean"
   ]
  },
  {
   "cell_type": "code",
   "execution_count": 90,
   "id": "c632a244-b964-4a65-aa12-619f3abdc62c",
   "metadata": {},
   "outputs": [
    {
     "data": {
      "text/plain": [
       "6.5"
      ]
     },
     "execution_count": 90,
     "metadata": {},
     "output_type": "execute_result"
    }
   ],
   "source": [
    "np.median(arr1)"
   ]
  },
  {
   "cell_type": "markdown",
   "id": "8d9e895b-fbf9-410c-8e47-7a1b92f55cdb",
   "metadata": {},
   "source": [
    "# -"
   ]
  },
  {
   "cell_type": "markdown",
   "id": "51bc930d-4f16-4783-a295-451392b8a377",
   "metadata": {},
   "source": [
    "# -"
   ]
  },
  {
   "cell_type": "markdown",
   "id": "9c306816-f0b9-4a79-905a-5cc01c8652f7",
   "metadata": {},
   "source": [
    "# -"
   ]
  },
  {
   "cell_type": "markdown",
   "id": "1328aadd-31d2-4e0f-81c4-8d6906927e9a",
   "metadata": {},
   "source": [
    "# -"
   ]
  },
  {
   "cell_type": "markdown",
   "id": "ebdc8a9e-1e88-4df9-a76e-46096a4f0fe6",
   "metadata": {},
   "source": [
    "# -"
   ]
  },
  {
   "cell_type": "markdown",
   "id": "38a6c1c7-dbea-474d-a9de-8d500d82a150",
   "metadata": {},
   "source": [
    "# Part-4"
   ]
  },
  {
   "cell_type": "code",
   "execution_count": 91,
   "id": "256b4f78-af61-4568-9604-2dea7ab7572e",
   "metadata": {},
   "outputs": [],
   "source": [
    "import numpy as np"
   ]
  },
  {
   "cell_type": "markdown",
   "id": "c70074d9-dc78-4391-b3f2-afe7062792ca",
   "metadata": {},
   "source": [
    "### Sort, Search  & Counting Functions."
   ]
  },
  {
   "cell_type": "code",
   "execution_count": 100,
   "id": "b8cf153c-bb26-42e7-b5c6-45eb056e25bd",
   "metadata": {},
   "outputs": [],
   "source": [
    "arr = np.array([4,2,8,5,3,9,12,56])"
   ]
  },
  {
   "cell_type": "code",
   "execution_count": 101,
   "id": "6a56d52e-2465-464b-8529-9798867ae07d",
   "metadata": {},
   "outputs": [
    {
     "data": {
      "text/plain": [
       "array([ 4,  2,  8,  5,  3,  9, 12, 56])"
      ]
     },
     "execution_count": 101,
     "metadata": {},
     "output_type": "execute_result"
    }
   ],
   "source": [
    "arr"
   ]
  },
  {
   "cell_type": "code",
   "execution_count": 102,
   "id": "c5677214-3229-471c-8cef-c5b8fed002d6",
   "metadata": {},
   "outputs": [
    {
     "name": "stdout",
     "output_type": "stream",
     "text": [
      "None\n"
     ]
    }
   ],
   "source": [
    "print(arr.sort())"
   ]
  },
  {
   "cell_type": "code",
   "execution_count": 104,
   "id": "dbf0fba8-8865-4d66-a90c-89b3ad7aa600",
   "metadata": {},
   "outputs": [
    {
     "data": {
      "text/plain": [
       "array([ 2,  3,  4,  5,  8,  9, 12, 56])"
      ]
     },
     "execution_count": 104,
     "metadata": {},
     "output_type": "execute_result"
    }
   ],
   "source": [
    "np.sort(arr) # sort in ascending order"
   ]
  },
  {
   "cell_type": "code",
   "execution_count": 105,
   "id": "a2e8b16c-08cd-4a84-82ba-8a3b46a2dd1e",
   "metadata": {},
   "outputs": [
    {
     "data": {
      "text/plain": [
       "<function numpy.sort(a, axis=-1, kind=None, order=None)>"
      ]
     },
     "execution_count": 105,
     "metadata": {},
     "output_type": "execute_result"
    }
   ],
   "source": [
    "np.sort"
   ]
  },
  {
   "cell_type": "code",
   "execution_count": 106,
   "id": "b1a40b26-2599-4e2c-8b04-a03904557733",
   "metadata": {},
   "outputs": [
    {
     "data": {
      "text/plain": [
       "4"
      ]
     },
     "execution_count": 106,
     "metadata": {},
     "output_type": "execute_result"
    }
   ],
   "source": [
    "np.searchsorted(arr,6) # it'll search index where we can put given data in\n",
    "# in which place of array it can put data to maintain"
   ]
  },
  {
   "cell_type": "code",
   "execution_count": 108,
   "id": "f7aef2e0-3eb7-4f99-a9e8-697c657ecd67",
   "metadata": {},
   "outputs": [],
   "source": [
    "arr1 = np.array([0,324,645,65,6,6,0,0,0,234])"
   ]
  },
  {
   "cell_type": "code",
   "execution_count": 109,
   "id": "22036535-a393-4d48-86b0-5df0a168226b",
   "metadata": {},
   "outputs": [
    {
     "data": {
      "text/plain": [
       "array([  0, 324, 645,  65,   6,   6,   0,   0,   0, 234])"
      ]
     },
     "execution_count": 109,
     "metadata": {},
     "output_type": "execute_result"
    }
   ],
   "source": [
    "arr1"
   ]
  },
  {
   "cell_type": "code",
   "execution_count": 111,
   "id": "17d6cdb0-0310-4f63-8a75-f90757d24953",
   "metadata": {},
   "outputs": [
    {
     "data": {
      "text/plain": [
       "6"
      ]
     },
     "execution_count": 111,
     "metadata": {},
     "output_type": "execute_result"
    }
   ],
   "source": [
    "np.count_nonzero(arr1) # how many element doesn't have zero"
   ]
  },
  {
   "cell_type": "code",
   "execution_count": 113,
   "id": "0e89528e-6639-4121-83b0-9cb816bdf0cf",
   "metadata": {},
   "outputs": [
    {
     "data": {
      "text/plain": [
       "(array([1, 2, 3, 4, 5, 9]),)"
      ]
     },
     "execution_count": 113,
     "metadata": {},
     "output_type": "execute_result"
    }
   ],
   "source": [
    "np.where(arr1>0) # it'll return indices(index) where data is greater than 0\n",
    "#return indices"
   ]
  },
  {
   "cell_type": "code",
   "execution_count": 115,
   "id": "55260f79-ab06-4dc2-bab8-a5f5d417b575",
   "metadata": {},
   "outputs": [
    {
     "data": {
      "text/plain": [
       "array([324, 645,  65,   6,   6, 234])"
      ]
     },
     "execution_count": 115,
     "metadata": {},
     "output_type": "execute_result"
    }
   ],
   "source": [
    "np.extract(arr1>2, arr1) #extract  dataset which is equal to or True for given condition"
   ]
  },
  {
   "cell_type": "markdown",
   "id": "c01fb1df-e45c-4f95-8de4-6912f1a0d105",
   "metadata": {},
   "source": [
    "# numpy- Byte Swapping.\n",
    "- represent data in internal byte order"
   ]
  },
  {
   "cell_type": "code",
   "execution_count": 116,
   "id": "bc3c8d57-845d-422a-99f5-e7042cf741aa",
   "metadata": {},
   "outputs": [
    {
     "data": {
      "text/plain": [
       "array([  0, 324, 645,  65,   6,   6,   0,   0,   0, 234])"
      ]
     },
     "execution_count": 116,
     "metadata": {},
     "output_type": "execute_result"
    }
   ],
   "source": [
    "arr1"
   ]
  },
  {
   "cell_type": "code",
   "execution_count": 119,
   "id": "9136e3d6-a7d5-4095-9174-0eb37a858f88",
   "metadata": {},
   "outputs": [
    {
     "data": {
      "text/plain": [
       "array([                   0,  4900197869555810304, -8862521116711714816,\n",
       "        4683743612465315840,   432345564227567616,   432345564227567616,\n",
       "                          0,                    0,                    0,\n",
       "       -1585267068834414592])"
      ]
     },
     "execution_count": 119,
     "metadata": {},
     "output_type": "execute_result"
    }
   ],
   "source": [
    "arr1.byteswap() # return data in byte, how it's stored inside system\n",
    "# passing True will update data in place"
   ]
  },
  {
   "cell_type": "code",
   "execution_count": 120,
   "id": "372615de-8512-4e19-8ff5-51609c9a7599",
   "metadata": {},
   "outputs": [
    {
     "data": {
      "text/plain": [
       "array([  0, 324, 645,  65,   6,   6,   0,   0,   0, 234])"
      ]
     },
     "execution_count": 120,
     "metadata": {},
     "output_type": "execute_result"
    }
   ],
   "source": [
    "arr1"
   ]
  },
  {
   "cell_type": "code",
   "execution_count": 121,
   "id": "1382b58a-ff0f-4057-8cd2-f18a30c1167a",
   "metadata": {},
   "outputs": [
    {
     "data": {
      "text/plain": [
       "array([                   0,  4900197869555810304, -8862521116711714816,\n",
       "        4683743612465315840,   432345564227567616,   432345564227567616,\n",
       "                          0,                    0,                    0,\n",
       "       -1585267068834414592])"
      ]
     },
     "execution_count": 121,
     "metadata": {},
     "output_type": "execute_result"
    }
   ],
   "source": [
    "arr1.byteswap(True)"
   ]
  },
  {
   "cell_type": "code",
   "execution_count": 122,
   "id": "3e09c92b-daae-44c2-bd16-d344beefc87f",
   "metadata": {},
   "outputs": [
    {
     "data": {
      "text/plain": [
       "array([                   0,  4900197869555810304, -8862521116711714816,\n",
       "        4683743612465315840,   432345564227567616,   432345564227567616,\n",
       "                          0,                    0,                    0,\n",
       "       -1585267068834414592])"
      ]
     },
     "execution_count": 122,
     "metadata": {},
     "output_type": "execute_result"
    }
   ],
   "source": [
    "arr1"
   ]
  },
  {
   "cell_type": "markdown",
   "id": "4daded9b-39b1-4557-988d-013e235419ac",
   "metadata": {},
   "source": [
    "# numpy- Copies & Views\n",
    "- numpy.copy() ,create deep copy\n",
    "- numpy.view() , create shallow copy"
   ]
  },
  {
   "cell_type": "code",
   "execution_count": 125,
   "id": "f96e253b-bfb4-4906-811a-b3b8c996d8f2",
   "metadata": {},
   "outputs": [],
   "source": [
    "arr1 = np.array([0,324,645,65,6,6,0,0,0,234])"
   ]
  },
  {
   "cell_type": "code",
   "execution_count": 126,
   "id": "076ecd99-3675-483d-bc9c-26d6c7272576",
   "metadata": {},
   "outputs": [
    {
     "data": {
      "text/plain": [
       "array([  0, 324, 645,  65,   6,   6,   0,   0,   0, 234])"
      ]
     },
     "execution_count": 126,
     "metadata": {},
     "output_type": "execute_result"
    }
   ],
   "source": [
    "arr1"
   ]
  },
  {
   "cell_type": "code",
   "execution_count": 127,
   "id": "dffbedf3-dc9e-4730-806d-ab0abbd5684e",
   "metadata": {},
   "outputs": [],
   "source": [
    "a = np.copy(arr1) # it'll create deep copy"
   ]
  },
  {
   "cell_type": "code",
   "execution_count": 128,
   "id": "8cb90df5-2341-4c8e-888a-fc6416c7ecab",
   "metadata": {},
   "outputs": [
    {
     "data": {
      "text/plain": [
       "array([  0, 324, 645,  65,   6,   6,   0,   0,   0, 234])"
      ]
     },
     "execution_count": 128,
     "metadata": {},
     "output_type": "execute_result"
    }
   ],
   "source": [
    "a"
   ]
  },
  {
   "cell_type": "code",
   "execution_count": 138,
   "id": "958c4a93-7bb1-480a-bf29-78b284b8aeea",
   "metadata": {},
   "outputs": [],
   "source": [
    "b = arr1.view() # create shallow copy\n",
    "      #or\n",
    "#b = arr1\n",
    "#both are same"
   ]
  },
  {
   "cell_type": "code",
   "execution_count": 133,
   "id": "4cea3045-cefb-4136-a122-63e5e30bfe65",
   "metadata": {},
   "outputs": [
    {
     "data": {
      "text/plain": [
       "array([  0, 324, 645,  65,   6,   6,   0,   0,   0, 234])"
      ]
     },
     "execution_count": 133,
     "metadata": {},
     "output_type": "execute_result"
    }
   ],
   "source": [
    "b"
   ]
  },
  {
   "cell_type": "code",
   "execution_count": 134,
   "id": "86089915-d21d-4424-88b7-cac93337d6d8",
   "metadata": {},
   "outputs": [],
   "source": [
    "b[0] = 234"
   ]
  },
  {
   "cell_type": "code",
   "execution_count": 135,
   "id": "8544750b-bc9b-4668-af44-d0b3595a4e52",
   "metadata": {},
   "outputs": [
    {
     "data": {
      "text/plain": [
       "array([234, 324, 645,  65,   6,   6,   0,   0,   0, 234])"
      ]
     },
     "execution_count": 135,
     "metadata": {},
     "output_type": "execute_result"
    }
   ],
   "source": [
    "b"
   ]
  },
  {
   "cell_type": "code",
   "execution_count": 136,
   "id": "55c13d94-745e-4871-beb2-f993f1835987",
   "metadata": {},
   "outputs": [
    {
     "data": {
      "text/plain": [
       "array([234, 324, 645,  65,   6,   6,   0,   0,   0, 234])"
      ]
     },
     "execution_count": 136,
     "metadata": {},
     "output_type": "execute_result"
    }
   ],
   "source": [
    "arr1"
   ]
  },
  {
   "cell_type": "markdown",
   "id": "b120c83d-0baa-434f-b448-109c3f4c5c64",
   "metadata": {},
   "source": [
    "# numpy- Matrix Library"
   ]
  },
  {
   "cell_type": "code",
   "execution_count": 139,
   "id": "cfff1c6e-daaa-4747-a19b-6c8a3f7bfc64",
   "metadata": {},
   "outputs": [],
   "source": [
    "import numpy.matlib as nm"
   ]
  },
  {
   "cell_type": "code",
   "execution_count": 142,
   "id": "4adcf66f-6de2-4b5c-9384-25531f961e9e",
   "metadata": {},
   "outputs": [
    {
     "data": {
      "text/plain": [
       "matrix([[0., 0., 0., 0., 0.]])"
      ]
     },
     "execution_count": 142,
     "metadata": {},
     "output_type": "execute_result"
    }
   ],
   "source": [
    "nm.zeros(5) # matrix is subset of array so it perform same as array"
   ]
  },
  {
   "cell_type": "code",
   "execution_count": 143,
   "id": "f18ad71b-dcde-4a8f-a5f7-219c26a46db8",
   "metadata": {},
   "outputs": [
    {
     "data": {
      "text/plain": [
       "matrix([[1., 1., 1., 1.],\n",
       "        [1., 1., 1., 1.],\n",
       "        [1., 1., 1., 1.]])"
      ]
     },
     "execution_count": 143,
     "metadata": {},
     "output_type": "execute_result"
    }
   ],
   "source": [
    "nm.ones((3,4))"
   ]
  },
  {
   "cell_type": "code",
   "execution_count": 145,
   "id": "e77277c1-1704-4479-96c1-93a49ab6f4bd",
   "metadata": {},
   "outputs": [
    {
     "data": {
      "text/plain": [
       "matrix([[1., 0., 0., 0.],\n",
       "        [0., 1., 0., 0.],\n",
       "        [0., 0., 1., 0.],\n",
       "        [0., 0., 0., 1.]])"
      ]
     },
     "execution_count": 145,
     "metadata": {},
     "output_type": "execute_result"
    }
   ],
   "source": [
    "nm.eye(4) # same as numpy.eye() , create identity matrix"
   ]
  },
  {
   "cell_type": "markdown",
   "id": "d37dc21c-443f-40b7-b172-1f1fc2599ea9",
   "metadata": {},
   "source": [
    "# numpy- Linear Algebra"
   ]
  },
  {
   "cell_type": "code",
   "execution_count": 148,
   "id": "5541f6dc-7666-491b-9fc2-d04313257817",
   "metadata": {},
   "outputs": [],
   "source": [
    "arr1 = np.random.randint([[2,3] , [4,5]])"
   ]
  },
  {
   "cell_type": "code",
   "execution_count": 149,
   "id": "7781cb7e-3521-4186-bb57-cd3bd29e9e44",
   "metadata": {},
   "outputs": [
    {
     "data": {
      "text/plain": [
       "array([[1, 0],\n",
       "       [2, 3]])"
      ]
     },
     "execution_count": 149,
     "metadata": {},
     "output_type": "execute_result"
    }
   ],
   "source": [
    "arr1"
   ]
  },
  {
   "cell_type": "code",
   "execution_count": null,
   "id": "0c331d7e-4106-4d02-867f-d4c05a8011ea",
   "metadata": {},
   "outputs": [],
   "source": []
  },
  {
   "cell_type": "code",
   "execution_count": 152,
   "id": "6d5d3f70-4211-4ac0-add1-7cc8c7e88a68",
   "metadata": {},
   "outputs": [],
   "source": [
    "arr2 = np.random.randint([[5,3] , [2,5]])"
   ]
  },
  {
   "cell_type": "code",
   "execution_count": 153,
   "id": "7fe442f2-7949-430d-9bf9-d05f17b66767",
   "metadata": {},
   "outputs": [
    {
     "data": {
      "text/plain": [
       "array([[2, 1],\n",
       "       [1, 3]])"
      ]
     },
     "execution_count": 153,
     "metadata": {},
     "output_type": "execute_result"
    }
   ],
   "source": [
    "arr2"
   ]
  },
  {
   "cell_type": "markdown",
   "id": "7e1ca6e6-63cd-4414-a11f-6bf7eb90f3c9",
   "metadata": {},
   "source": [
    "### matrix multiplication"
   ]
  },
  {
   "cell_type": "code",
   "execution_count": 156,
   "id": "45c2a7c7-b243-40c8-aad4-60eddc714286",
   "metadata": {},
   "outputs": [
    {
     "data": {
      "text/plain": [
       "array([[ 2,  1],\n",
       "       [ 7, 11]])"
      ]
     },
     "execution_count": 156,
     "metadata": {},
     "output_type": "execute_result"
    }
   ],
   "source": [
    "np.dot(arr1,arr2)"
   ]
  },
  {
   "cell_type": "code",
   "execution_count": 157,
   "id": "eaf16ec8-0159-4231-ba76-d16f30fdfda9",
   "metadata": {},
   "outputs": [
    {
     "data": {
      "text/plain": [
       "array([[ 2,  1],\n",
       "       [ 7, 11]])"
      ]
     },
     "execution_count": 157,
     "metadata": {},
     "output_type": "execute_result"
    }
   ],
   "source": [
    "arr1@arr2"
   ]
  },
  {
   "cell_type": "code",
   "execution_count": null,
   "id": "07135eb1-28c5-41fc-af9e-254c3c6a9c80",
   "metadata": {},
   "outputs": [],
   "source": []
  }
 ],
 "metadata": {
  "kernelspec": {
   "display_name": "Python 3 (ipykernel)",
   "language": "python",
   "name": "python3"
  },
  "language_info": {
   "codemirror_mode": {
    "name": "ipython",
    "version": 3
   },
   "file_extension": ".py",
   "mimetype": "text/x-python",
   "name": "python",
   "nbconvert_exporter": "python",
   "pygments_lexer": "ipython3",
   "version": "3.10.8"
  }
 },
 "nbformat": 4,
 "nbformat_minor": 5
}
